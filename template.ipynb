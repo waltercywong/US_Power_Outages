{
 "cells": [
  {
   "cell_type": "markdown",
   "metadata": {},
   "source": [
    "# Power Outage Analysis\n",
    "\n",
    "**Name(s)**: Walter Wong, Nathan Ko\n",
    "\n",
    "**Website Link**: https://waltercywong.github.io/US_Power_Outages/"
   ]
  },
  {
   "cell_type": "code",
   "execution_count": 94,
   "metadata": {
    "ExecuteTime": {
     "end_time": "2019-10-31T23:36:28.652554Z",
     "start_time": "2019-10-31T23:36:27.180520Z"
    }
   },
   "outputs": [],
   "source": [
    "import pandas as pd\n",
    "import numpy as np\n",
    "import os\n",
    "\n",
    "import plotly.express as px\n",
    "pd.options.plotting.backend = 'plotly'"
   ]
  },
  {
   "cell_type": "markdown",
   "metadata": {},
   "source": [
    "# Introduction and Question Identification\n",
    "\n",
    "This dataset has major power outage data in the continental U.S. from January 2000 to July 2016, provided by Laboratory for Advancing Sustainable Critical Infrastructure (LASCI)\n",
    "\n",
    "Question: Are power outages worse during the summer? \n",
    "\n",
    "Null hypothesis: The summer months (7, 8, 9) have the same average number of customers affected as the rest of the year.\n",
    "\n",
    "Alternate hypothesis: The summer months have greater power outages than rest of the year.\n",
    "\n",
    "TODO\\\n",
    "We use mean to do permutation test\n",
    "Accounting for outliers of both sets, but outliers are often urban centers which are important\n",
    "\n",
    "\n"
   ]
  },
  {
   "cell_type": "markdown",
   "metadata": {},
   "source": [
    "1534 rows, 54 columns\n",
    "\n",
    "**Relevant columns:**\n",
    "- `U.S._STATE`: Represents all the states in the continental U.S.\n",
    "- `YEAR`: Indicates the year when the outage event occurred\n",
    "- `MONTH`: Indicates the month when the outage event occurred\n",
    "- `CUSTOMERS.AFFECTED`: Number of customers affected by the power outage event\n",
    "- `CLIMATE.REGION`: U.S. Climate regions as specified by National Centers for Environmental Information (nine climatically consistent regions in continental U.S.A.)\n",
    "- `DEMAND.LOSS.MW`: Amount of peak demand lost during an outage event (in Megawatt) [but in many cases, total demand is reported]\n",
    "- `TOTAL.PRICE`: Average monthly electricity price in the U.S. state (cents/kilowatt-hour)\n",
    "- `TOTAL.CUSTOMERS`: Annual number of total customers served in the U.S. state\n",
    "- `POPULATION`: Population in the U.S. state in a year"
   ]
  },
  {
   "cell_type": "code",
   "execution_count": 95,
   "metadata": {},
   "outputs": [],
   "source": [
    "outage_df = pd.read_excel('outage.xlsx')"
   ]
  },
  {
   "cell_type": "markdown",
   "metadata": {},
   "source": [
    "# Data Cleaning"
   ]
  },
  {
   "cell_type": "markdown",
   "metadata": {},
   "source": [
    "In the original data in the excel file, the 5 rows are unwanted as they are just the title and some notes about the data. The dataframe and its columns \"start\" from the 6th row downward. Additionally, below the columns, there is a row to specify the units of the column if necessary. We also removed this columns when cleaning the data as there are no actual observations.\n",
    "\n",
    "At this point, the data being loaded has all the columns and observations in the excel file data. However, the columns ``OUTAGE.START.DATE`` and ``OUTAGE.START.TIME`` can be combined as the first always has a time of \"00:00:00\". The same is true for the restoration date and time. We combined these columns into ``OUTAGE.START`` and ``OUTAGE.RESTORATION``, dropping the original 4."
   ]
  },
  {
   "cell_type": "code",
   "execution_count": 96,
   "metadata": {},
   "outputs": [],
   "source": [
    "a = dict(zip(list(pd.DataFrame(outage_df.iloc[5:, 1:]).columns), outage_df.iloc[4].tolist()[1:]))\n",
    "outage_cleaned = pd.DataFrame(outage_df.iloc[6:, 1:]).rename(columns=a).reset_index().drop(['index'], axis='columns')\n",
    "outage_cleaned['OUTAGE.START'] = (outage_cleaned['OUTAGE.START.DATE'].transform(lambda x: str(x).split(' ')[0]) + ' ' +  outage_cleaned['OUTAGE.START.TIME'].apply(str)).apply(lambda x: np.NAN if 'nan' in x else pd.to_datetime(x).to_pydatetime())\n",
    "outage_cleaned['OUTAGE.RESTORATION'] = (outage_cleaned['OUTAGE.RESTORATION.DATE'].transform(lambda x: str(x).split(' ')[0]) + ' ' +  outage_cleaned['OUTAGE.RESTORATION.TIME'].apply(str)).apply(lambda x: np.NAN if 'nan' in x else pd.to_datetime(x).to_pydatetime())\n",
    "outage_cleaned = outage_cleaned.drop(['OUTAGE.START.DATE', 'OUTAGE.START.TIME', 'OUTAGE.RESTORATION.DATE', 'OUTAGE.RESTORATION.TIME'], axis='columns')"
   ]
  },
  {
   "cell_type": "code",
   "execution_count": 97,
   "metadata": {},
   "outputs": [
    {
     "data": {
      "text/html": [
       "<div>\n",
       "<style scoped>\n",
       "    .dataframe tbody tr th:only-of-type {\n",
       "        vertical-align: middle;\n",
       "    }\n",
       "\n",
       "    .dataframe tbody tr th {\n",
       "        vertical-align: top;\n",
       "    }\n",
       "\n",
       "    .dataframe thead th {\n",
       "        text-align: right;\n",
       "    }\n",
       "</style>\n",
       "<table border=\"1\" class=\"dataframe\">\n",
       "  <thead>\n",
       "    <tr style=\"text-align: right;\">\n",
       "      <th></th>\n",
       "      <th>OBS</th>\n",
       "      <th>YEAR</th>\n",
       "      <th>MONTH</th>\n",
       "      <th>U.S._STATE</th>\n",
       "      <th>POSTAL.CODE</th>\n",
       "      <th>NERC.REGION</th>\n",
       "      <th>CLIMATE.REGION</th>\n",
       "      <th>ANOMALY.LEVEL</th>\n",
       "      <th>CLIMATE.CATEGORY</th>\n",
       "      <th>CAUSE.CATEGORY</th>\n",
       "      <th>...</th>\n",
       "      <th>POPDEN_URBAN</th>\n",
       "      <th>POPDEN_UC</th>\n",
       "      <th>POPDEN_RURAL</th>\n",
       "      <th>AREAPCT_URBAN</th>\n",
       "      <th>AREAPCT_UC</th>\n",
       "      <th>PCT_LAND</th>\n",
       "      <th>PCT_WATER_TOT</th>\n",
       "      <th>PCT_WATER_INLAND</th>\n",
       "      <th>OUTAGE.START</th>\n",
       "      <th>OUTAGE.RESTORATION</th>\n",
       "    </tr>\n",
       "  </thead>\n",
       "  <tbody>\n",
       "    <tr>\n",
       "      <th>0</th>\n",
       "      <td>1</td>\n",
       "      <td>2011</td>\n",
       "      <td>7</td>\n",
       "      <td>Minnesota</td>\n",
       "      <td>MN</td>\n",
       "      <td>MRO</td>\n",
       "      <td>East North Central</td>\n",
       "      <td>-0.3</td>\n",
       "      <td>normal</td>\n",
       "      <td>severe weather</td>\n",
       "      <td>...</td>\n",
       "      <td>2279</td>\n",
       "      <td>1700.5</td>\n",
       "      <td>18.2</td>\n",
       "      <td>2.14</td>\n",
       "      <td>0.6</td>\n",
       "      <td>91.592666</td>\n",
       "      <td>8.407334</td>\n",
       "      <td>5.478743</td>\n",
       "      <td>2011-07-01 17:00:00</td>\n",
       "      <td>2011-07-03 20:00:00</td>\n",
       "    </tr>\n",
       "    <tr>\n",
       "      <th>1</th>\n",
       "      <td>2</td>\n",
       "      <td>2014</td>\n",
       "      <td>5</td>\n",
       "      <td>Minnesota</td>\n",
       "      <td>MN</td>\n",
       "      <td>MRO</td>\n",
       "      <td>East North Central</td>\n",
       "      <td>-0.1</td>\n",
       "      <td>normal</td>\n",
       "      <td>intentional attack</td>\n",
       "      <td>...</td>\n",
       "      <td>2279</td>\n",
       "      <td>1700.5</td>\n",
       "      <td>18.2</td>\n",
       "      <td>2.14</td>\n",
       "      <td>0.6</td>\n",
       "      <td>91.592666</td>\n",
       "      <td>8.407334</td>\n",
       "      <td>5.478743</td>\n",
       "      <td>2014-05-11 18:38:00</td>\n",
       "      <td>2014-05-11 18:39:00</td>\n",
       "    </tr>\n",
       "    <tr>\n",
       "      <th>2</th>\n",
       "      <td>3</td>\n",
       "      <td>2010</td>\n",
       "      <td>10</td>\n",
       "      <td>Minnesota</td>\n",
       "      <td>MN</td>\n",
       "      <td>MRO</td>\n",
       "      <td>East North Central</td>\n",
       "      <td>-1.5</td>\n",
       "      <td>cold</td>\n",
       "      <td>severe weather</td>\n",
       "      <td>...</td>\n",
       "      <td>2279</td>\n",
       "      <td>1700.5</td>\n",
       "      <td>18.2</td>\n",
       "      <td>2.14</td>\n",
       "      <td>0.6</td>\n",
       "      <td>91.592666</td>\n",
       "      <td>8.407334</td>\n",
       "      <td>5.478743</td>\n",
       "      <td>2010-10-26 20:00:00</td>\n",
       "      <td>2010-10-28 22:00:00</td>\n",
       "    </tr>\n",
       "    <tr>\n",
       "      <th>3</th>\n",
       "      <td>4</td>\n",
       "      <td>2012</td>\n",
       "      <td>6</td>\n",
       "      <td>Minnesota</td>\n",
       "      <td>MN</td>\n",
       "      <td>MRO</td>\n",
       "      <td>East North Central</td>\n",
       "      <td>-0.1</td>\n",
       "      <td>normal</td>\n",
       "      <td>severe weather</td>\n",
       "      <td>...</td>\n",
       "      <td>2279</td>\n",
       "      <td>1700.5</td>\n",
       "      <td>18.2</td>\n",
       "      <td>2.14</td>\n",
       "      <td>0.6</td>\n",
       "      <td>91.592666</td>\n",
       "      <td>8.407334</td>\n",
       "      <td>5.478743</td>\n",
       "      <td>2012-06-19 04:30:00</td>\n",
       "      <td>2012-06-20 23:00:00</td>\n",
       "    </tr>\n",
       "    <tr>\n",
       "      <th>4</th>\n",
       "      <td>5</td>\n",
       "      <td>2015</td>\n",
       "      <td>7</td>\n",
       "      <td>Minnesota</td>\n",
       "      <td>MN</td>\n",
       "      <td>MRO</td>\n",
       "      <td>East North Central</td>\n",
       "      <td>1.2</td>\n",
       "      <td>warm</td>\n",
       "      <td>severe weather</td>\n",
       "      <td>...</td>\n",
       "      <td>2279</td>\n",
       "      <td>1700.5</td>\n",
       "      <td>18.2</td>\n",
       "      <td>2.14</td>\n",
       "      <td>0.6</td>\n",
       "      <td>91.592666</td>\n",
       "      <td>8.407334</td>\n",
       "      <td>5.478743</td>\n",
       "      <td>2015-07-18 02:00:00</td>\n",
       "      <td>2015-07-19 07:00:00</td>\n",
       "    </tr>\n",
       "  </tbody>\n",
       "</table>\n",
       "<p>5 rows × 54 columns</p>\n",
       "</div>"
      ],
      "text/plain": [
       "  OBS  YEAR MONTH U.S._STATE POSTAL.CODE NERC.REGION      CLIMATE.REGION  \\\n",
       "0   1  2011     7  Minnesota          MN         MRO  East North Central   \n",
       "1   2  2014     5  Minnesota          MN         MRO  East North Central   \n",
       "2   3  2010    10  Minnesota          MN         MRO  East North Central   \n",
       "3   4  2012     6  Minnesota          MN         MRO  East North Central   \n",
       "4   5  2015     7  Minnesota          MN         MRO  East North Central   \n",
       "\n",
       "  ANOMALY.LEVEL CLIMATE.CATEGORY      CAUSE.CATEGORY  ... POPDEN_URBAN  \\\n",
       "0          -0.3           normal      severe weather  ...         2279   \n",
       "1          -0.1           normal  intentional attack  ...         2279   \n",
       "2          -1.5             cold      severe weather  ...         2279   \n",
       "3          -0.1           normal      severe weather  ...         2279   \n",
       "4           1.2             warm      severe weather  ...         2279   \n",
       "\n",
       "  POPDEN_UC POPDEN_RURAL AREAPCT_URBAN AREAPCT_UC   PCT_LAND PCT_WATER_TOT  \\\n",
       "0    1700.5         18.2          2.14        0.6  91.592666      8.407334   \n",
       "1    1700.5         18.2          2.14        0.6  91.592666      8.407334   \n",
       "2    1700.5         18.2          2.14        0.6  91.592666      8.407334   \n",
       "3    1700.5         18.2          2.14        0.6  91.592666      8.407334   \n",
       "4    1700.5         18.2          2.14        0.6  91.592666      8.407334   \n",
       "\n",
       "  PCT_WATER_INLAND        OUTAGE.START  OUTAGE.RESTORATION  \n",
       "0         5.478743 2011-07-01 17:00:00 2011-07-03 20:00:00  \n",
       "1         5.478743 2014-05-11 18:38:00 2014-05-11 18:39:00  \n",
       "2         5.478743 2010-10-26 20:00:00 2010-10-28 22:00:00  \n",
       "3         5.478743 2012-06-19 04:30:00 2012-06-20 23:00:00  \n",
       "4         5.478743 2015-07-18 02:00:00 2015-07-19 07:00:00  \n",
       "\n",
       "[5 rows x 54 columns]"
      ]
     },
     "execution_count": 97,
     "metadata": {},
     "output_type": "execute_result"
    }
   ],
   "source": [
    "outage_cleaned.head()"
   ]
  },
  {
   "cell_type": "markdown",
   "metadata": {},
   "source": [
    "# Univariate Analysis\n"
   ]
  },
  {
   "cell_type": "markdown",
   "metadata": {},
   "source": [
    "## Power Outages by Region"
   ]
  },
  {
   "cell_type": "code",
   "execution_count": 98,
   "metadata": {},
   "outputs": [
    {
     "data": {
      "application/vnd.plotly.v1+json": {
       "config": {
        "plotlyServerURL": "https://plot.ly"
       },
       "data": [
        {
         "alignmentgroup": "True",
         "bingroup": "x",
         "hovertemplate": "variable=Power Outage<br>value=%{x}<br>count=%{y}<extra></extra>",
         "legendgroup": "Power Outage",
         "marker": {
          "color": "#636efa",
          "pattern": {
           "shape": ""
          }
         },
         "name": "Power Outage",
         "offsetgroup": "Power Outage",
         "orientation": "v",
         "showlegend": true,
         "type": "histogram",
         "x": [
          "East North Central",
          "East North Central",
          "East North Central",
          "East North Central",
          "East North Central",
          "East North Central",
          "East North Central",
          "East North Central",
          "East North Central",
          "East North Central",
          "East North Central",
          "East North Central",
          "East North Central",
          "East North Central",
          "East North Central",
          "Central",
          "Central",
          "Central",
          "Central",
          "Central",
          "Central",
          "Central",
          "Central",
          "Central",
          "Central",
          "Central",
          "Central",
          "Central",
          "Central",
          "Central",
          "Central",
          "Central",
          "Central",
          "Central",
          "Central",
          "Central",
          "Central",
          "Central",
          "Central",
          "Central",
          "Central",
          "Central",
          "Central",
          "Central",
          "Central",
          "Central",
          "Central",
          "Central",
          "Central",
          "East North Central",
          "East North Central",
          "East North Central",
          "East North Central",
          "East North Central",
          "East North Central",
          "East North Central",
          "East North Central",
          "East North Central",
          "East North Central",
          "East North Central",
          "East North Central",
          "East North Central",
          "East North Central",
          "East North Central",
          "East North Central",
          "East North Central",
          "East North Central",
          "East North Central",
          "East North Central",
          "Central",
          "Central",
          "Central",
          "Central",
          "East North Central",
          "East North Central",
          "East North Central",
          "East North Central",
          "East North Central",
          "East North Central",
          "East North Central",
          "East North Central",
          "East North Central",
          "East North Central",
          "East North Central",
          "East North Central",
          "East North Central",
          "East North Central",
          "East North Central",
          "East North Central",
          "East North Central",
          "East North Central",
          "East North Central",
          "East North Central",
          "East North Central",
          "East North Central",
          "East North Central",
          "East North Central",
          "East North Central",
          "East North Central",
          "East North Central",
          "East North Central",
          "East North Central",
          "East North Central",
          "East North Central",
          "East North Central",
          "East North Central",
          "East North Central",
          "East North Central",
          "East North Central",
          "East North Central",
          "East North Central",
          "East North Central",
          "East North Central",
          "East North Central",
          "East North Central",
          "East North Central",
          "East North Central",
          "East North Central",
          "East North Central",
          "East North Central",
          "East North Central",
          "East North Central",
          "East North Central",
          "East North Central",
          "East North Central",
          "East North Central",
          "East North Central",
          "East North Central",
          "East North Central",
          "East North Central",
          "East North Central",
          "East North Central",
          "East North Central",
          "East North Central",
          "East North Central",
          "East North Central",
          "East North Central",
          "East North Central",
          "East North Central",
          "East North Central",
          "East North Central",
          "East North Central",
          "East North Central",
          "East North Central",
          "East North Central",
          "East North Central",
          "East North Central",
          "East North Central",
          "East North Central",
          "East North Central",
          "East North Central",
          "East North Central",
          "East North Central",
          "East North Central",
          "East North Central",
          "East North Central",
          "East North Central",
          "East North Central",
          "East North Central",
          "East North Central",
          "East North Central",
          "East North Central",
          "East North Central",
          "East North Central",
          "East North Central",
          "East North Central",
          "East North Central",
          "East North Central",
          "South",
          "South",
          "South",
          "South",
          "South",
          "South",
          "South",
          "South",
          "South",
          "South",
          "South",
          "South",
          "South",
          "South",
          "South",
          "South",
          "South",
          "South",
          "South",
          "South",
          "South",
          "South",
          "South",
          "South",
          "South",
          "South",
          "South",
          "South",
          "South",
          "South",
          "South",
          "South",
          "South",
          "South",
          "South",
          "South",
          "South",
          "South",
          "South",
          "South",
          "South",
          "South",
          "South",
          "South",
          "South",
          "South",
          "South",
          "South",
          "South",
          "South",
          "South",
          "South",
          "South",
          "South",
          "South",
          "South",
          "South",
          "South",
          "South",
          "South",
          "South",
          "South",
          "South",
          "South",
          "South",
          "South",
          "South",
          "South",
          "South",
          "South",
          "South",
          "South",
          "South",
          "South",
          "South",
          "South",
          "South",
          "South",
          "South",
          "South",
          "South",
          "South",
          "South",
          "South",
          "South",
          "South",
          "South",
          "South",
          "South",
          "South",
          "South",
          "South",
          "South",
          "South",
          "South",
          "South",
          "South",
          "South",
          "South",
          "South",
          "South",
          "South",
          "South",
          "South",
          "South",
          "South",
          "South",
          "South",
          "South",
          "South",
          "South",
          "South",
          "South",
          "South",
          "South",
          "South",
          "South",
          "South",
          "South",
          "South",
          "South",
          "South",
          "South",
          "South",
          "South",
          "South",
          "South",
          "Central",
          "Central",
          "Central",
          "Central",
          "Central",
          "Central",
          "Central",
          "Central",
          "Central",
          "Central",
          "Central",
          "Central",
          "Central",
          "Central",
          "Central",
          "Central",
          "Central",
          "Central",
          "Central",
          "Central",
          "Central",
          "Central",
          "Central",
          "Central",
          "Central",
          "Central",
          "Central",
          "Central",
          "Central",
          "Central",
          "Central",
          "Central",
          "Central",
          "Central",
          "Central",
          "Central",
          "Central",
          "Central",
          "Central",
          "Central",
          "Central",
          "Central",
          "Central",
          "Southeast",
          "Southeast",
          "Southeast",
          "Southeast",
          "Southeast",
          "Southeast",
          "South",
          "South",
          "South",
          "South",
          "Central",
          "Central",
          "Central",
          "Central",
          "Central",
          "Central",
          "Central",
          "Central",
          "Central",
          "Central",
          "Central",
          "Central",
          "Central",
          "Central",
          "Central",
          "Central",
          "Central",
          "Central",
          "Central",
          "Central",
          "Central",
          "Central",
          "Central",
          "Central",
          "Central",
          "Central",
          "Central",
          "Central",
          "Central",
          "Central",
          "Central",
          "Central",
          "Central",
          "Central",
          "Central",
          "Central",
          "Central",
          "Central",
          "Central",
          "Central",
          "Central",
          "Central",
          "Central",
          "Central",
          "Central",
          "Central",
          "Northwest",
          "Northwest",
          "Northwest",
          "Northwest",
          "Northwest",
          "Northwest",
          "Northwest",
          "Northwest",
          "Northwest",
          "Northwest",
          "Northwest",
          "Northwest",
          "Northwest",
          "Northwest",
          "Northwest",
          "Northwest",
          "Northwest",
          "Northwest",
          "Northwest",
          "Northwest",
          "Northwest",
          "Northwest",
          "Northwest",
          "Northwest",
          "Northwest",
          "Northwest",
          "Northwest",
          "Northwest",
          "Northwest",
          "Northwest",
          "Northwest",
          "Northwest",
          "Northwest",
          "Northwest",
          "Northwest",
          "Northwest",
          "Northwest",
          "Northwest",
          "Northwest",
          "Northwest",
          "Northwest",
          "Northwest",
          "Northwest",
          "Northwest",
          "Northwest",
          "Northwest",
          "Northwest",
          "Northwest",
          "Northwest",
          "Northwest",
          "Northwest",
          "Northwest",
          "Northwest",
          "Northwest",
          "Northwest",
          "Northwest",
          "Northwest",
          "Northwest",
          "Northwest",
          "Northwest",
          "Northwest",
          "Northwest",
          "Northwest",
          "Northwest",
          "Northwest",
          "Northwest",
          "Northwest",
          "Northwest",
          "Northwest",
          "Northwest",
          "Northwest",
          "Northwest",
          "Northwest",
          "Northwest",
          "Northwest",
          "Northwest",
          "Northwest",
          "Northwest",
          "Northwest",
          "Northwest",
          "Northwest",
          "Northwest",
          "Northwest",
          "Northwest",
          "Northwest",
          "Northwest",
          "Northwest",
          "Northwest",
          "Northwest",
          "Northwest",
          "Northwest",
          "Northwest",
          "Northwest",
          "Northwest",
          "Northwest",
          "Northwest",
          "Northwest",
          "Southwest",
          "Southwest",
          "Southwest",
          "Southwest",
          "Southwest",
          "Southwest",
          "Southwest",
          "Southwest",
          "Southwest",
          "Southwest",
          "Southwest",
          "Southwest",
          "Southwest",
          "Southwest",
          "Southwest",
          "Southwest",
          "Southwest",
          "Southwest",
          "Southwest",
          "Southwest",
          "Southwest",
          "Southwest",
          "Southwest",
          "Southwest",
          "Southwest",
          "Southwest",
          "Southwest",
          "Southwest",
          "Northeast",
          "Northeast",
          "Northeast",
          "Northeast",
          "Northeast",
          "Northeast",
          "Northeast",
          "Northeast",
          "Northeast",
          "Northeast",
          "Northeast",
          "Northeast",
          "Northeast",
          "Northeast",
          "Northeast",
          "Northeast",
          "Northeast",
          "Northeast",
          "Northeast",
          "Northeast",
          "Northeast",
          "Northeast",
          "Northeast",
          "Northeast",
          "Northeast",
          "Northeast",
          "Northeast",
          "Northeast",
          "Northeast",
          "Northeast",
          "Northeast",
          "Northeast",
          "Northeast",
          "Northeast",
          "Northeast",
          "Northeast",
          "Northeast",
          "Northeast",
          "Northeast",
          "Northeast",
          "Northeast",
          "Northeast",
          "Northeast",
          "Northeast",
          "Northeast",
          "Northeast",
          "Northeast",
          "Northeast",
          "Northeast",
          "Northeast",
          "Northeast",
          "Northeast",
          "Northeast",
          "Northeast",
          "Northeast",
          "Northeast",
          "Northeast",
          "Northeast",
          "Northeast",
          "Northeast",
          "Northeast",
          "Northeast",
          "Northeast",
          "Northeast",
          "Northeast",
          "Northeast",
          "Northeast",
          "Northeast",
          "Northeast",
          "Northeast",
          "Northeast",
          "Northeast",
          "Northeast",
          "Northeast",
          "Northeast",
          "Northeast",
          "Northeast",
          "Northeast",
          "Northeast",
          "Northeast",
          "Northeast",
          "Northeast",
          "Northeast",
          "Northeast",
          "Northeast",
          "Northeast",
          "Northeast",
          "Northeast",
          "Northeast",
          "Northeast",
          "Northeast",
          "Northeast",
          "Northeast",
          "Northeast",
          "Northeast",
          "Northeast",
          "Northeast",
          "Northeast",
          "Northeast",
          "Northeast",
          "Northeast",
          "Northeast",
          "Northeast",
          "Northeast",
          "Northeast",
          "Northeast",
          "Northeast",
          "Northeast",
          "Northeast",
          "Northeast",
          "Northeast",
          "Northeast",
          "Northeast",
          "Northeast",
          "Northeast",
          "Central",
          "Central",
          "Central",
          "Central",
          "Central",
          "Central",
          "Central",
          "Central",
          "Central",
          "Central",
          "Central",
          "Central",
          "Central",
          "Southwest",
          "Southwest",
          "Southwest",
          "Southwest",
          "Southwest",
          "Southwest",
          "Southwest",
          "Southwest",
          "Southwest",
          "Southwest",
          "Southwest",
          "Southwest",
          "Southwest",
          "Southwest",
          "Southwest",
          "Southwest",
          "Southwest",
          "Southwest",
          "Southwest",
          "Southwest",
          "Southwest",
          "Southwest",
          "Southwest",
          "Southwest",
          "Southwest",
          "Southwest",
          "Southwest",
          "Southwest",
          "Southwest",
          "Southwest",
          "Southwest",
          "Southwest",
          "Southwest",
          "Southwest",
          "Southwest",
          "Southwest",
          "Southwest",
          "Southwest",
          "Southwest",
          "Southwest",
          "Southwest",
          "Central",
          "Central",
          "Central",
          "Central",
          "Central",
          "Central",
          "Central",
          "Central",
          "Central",
          "Central",
          "Central",
          "Central",
          "Central",
          "Central",
          "Central",
          "Central",
          "Central",
          "Central",
          "Central",
          "Central",
          "Central",
          "Central",
          "Central",
          "Central",
          "Central",
          "Central",
          "Central",
          "Central",
          "Central",
          "Central",
          "Central",
          "Central",
          "Central",
          "Central",
          "Central",
          "Central",
          "Central",
          "Central",
          "Central",
          "Central",
          "Central",
          "Central",
          "Central",
          "Southeast",
          "Southeast",
          "Southeast",
          "Southeast",
          "Southeast",
          "Southeast",
          "Southeast",
          "Southeast",
          "Southeast",
          "Southeast",
          "Southeast",
          "Southeast",
          "Southeast",
          "Southeast",
          "Southeast",
          "Southeast",
          "Southeast",
          "Southeast",
          "Southeast",
          "Southeast",
          "Southeast",
          "Southeast",
          "Southeast",
          "Southeast",
          "Southeast",
          "Southeast",
          "Southeast",
          "Southeast",
          "Southeast",
          "Southeast",
          "Southeast",
          "Southeast",
          "Southeast",
          "Southeast",
          "Southeast",
          "Southeast",
          "Southeast",
          "Southeast",
          "Southeast",
          "Southeast",
          "Northeast",
          "Northeast",
          "Northeast",
          "Northeast",
          "Northeast",
          "Northeast",
          "Northeast",
          "Northeast",
          "Northeast",
          "Northeast",
          "Northeast",
          "Northeast",
          "Northeast",
          "Northeast",
          "Northeast",
          "Northeast",
          "Northeast",
          "Northeast",
          "Northeast",
          "Northeast",
          "Northeast",
          "Northeast",
          "Northeast",
          "Northeast",
          "Northeast",
          "Northeast",
          "Northeast",
          "Northeast",
          "Northeast",
          "Northeast",
          "Northeast",
          "Northeast",
          "Northeast",
          "Northeast",
          "Northeast",
          "Southeast",
          "Southeast",
          "Southeast",
          "Southeast",
          "Southeast",
          "Southeast",
          "Southeast",
          "Southeast",
          "Northwest",
          "Northwest",
          "Northwest",
          "Northwest",
          "Northwest",
          "Northwest",
          "Northwest",
          "Northwest",
          "Northwest",
          "Northwest",
          "Northwest",
          "Northwest",
          "Northwest",
          "Northwest",
          "Northwest",
          "Northwest",
          "Northwest",
          "Northwest",
          "Northwest",
          "Northwest",
          "Northwest",
          "Northwest",
          "Northwest",
          "Northwest",
          "Northwest",
          "Northwest",
          "Northeast",
          "Northeast",
          "Northeast",
          "Northeast",
          "Northeast",
          "Northeast",
          "Northeast",
          "Northeast",
          "Northeast",
          "Northeast",
          "Central",
          "Central",
          "Central",
          "Central",
          "Central",
          "Central",
          "Central",
          "Central",
          "Central",
          "Central",
          "Central",
          "Central",
          "Central",
          "Central",
          "Central",
          "Central",
          "Central",
          "Northeast",
          "Northeast",
          "Northeast",
          "Northeast",
          "Northeast",
          "Northeast",
          "Northeast",
          "Northeast",
          "Northeast",
          "Northeast",
          "Northeast",
          "Northeast",
          "Northeast",
          "Northeast",
          "Northeast",
          "Northeast",
          "Northeast",
          "Northeast",
          "Northeast",
          "Northeast",
          "Northeast",
          "Northeast",
          "Northeast",
          "Northeast",
          "Northeast",
          "Northeast",
          "Northeast",
          "Northeast",
          "Northeast",
          "Northeast",
          "Northeast",
          "Northeast",
          "Northeast",
          "Northeast",
          "Northeast",
          "Northeast",
          "Northeast",
          "Northeast",
          "Northeast",
          "Northeast",
          "Northeast",
          "East North Central",
          "East North Central",
          "East North Central",
          "East North Central",
          "East North Central",
          "East North Central",
          "East North Central",
          "East North Central",
          "West North Central",
          "West North Central",
          "West North Central",
          "Northeast",
          "Northeast",
          "Northeast",
          "Northeast",
          "Northeast",
          "Northeast",
          "Northeast",
          "Northeast",
          "Northeast",
          "Northeast",
          "Northeast",
          "Northeast",
          "Northeast",
          "Northeast",
          "Northeast",
          "Northeast",
          "Northeast",
          "Northeast",
          "Northeast",
          "Northeast",
          "Northeast",
          "Northeast",
          "Northeast",
          "Northeast",
          "Northeast",
          "Northeast",
          "Northeast",
          "Northeast",
          "Northeast",
          "Northeast",
          "Northeast",
          "Northeast",
          "Northeast",
          "Northeast",
          "Northeast",
          "Northeast",
          "Northeast",
          "Northeast",
          "Northeast",
          "Northeast",
          "Northeast",
          "Northeast",
          "Northeast",
          "Northeast",
          "Northeast",
          "Northeast",
          "Northeast",
          "Northeast",
          "Northeast",
          "Northeast",
          "Northeast",
          "Northeast",
          "Northeast",
          "Northeast",
          "Northeast",
          "Northeast",
          "Northeast",
          "Northeast",
          "Northeast",
          "Northeast",
          "Northeast",
          "Northeast",
          "Northeast",
          "Northeast",
          "Northeast",
          "Northeast",
          "Northeast",
          "Northeast",
          "Northeast",
          "Northeast",
          "Northeast",
          "South",
          "South",
          "South",
          "South",
          "South",
          "South",
          "South",
          "South",
          "South",
          "South",
          "South",
          "South",
          "South",
          "South",
          "South",
          "South",
          "South",
          "South",
          "South",
          "South",
          "South",
          "South",
          "South",
          "South",
          "South",
          "South",
          "South",
          "South",
          "South",
          "South",
          "South",
          "South",
          "South",
          "South",
          "South",
          "South",
          "South",
          "South",
          "South",
          "South",
          "Southeast",
          "Southeast",
          "Southeast",
          "Southeast",
          "Southeast",
          "Southeast",
          "Southeast",
          "Southeast",
          "Southeast",
          "Southeast",
          "Southeast",
          "Southeast",
          "Southeast",
          "Southeast",
          "Southeast",
          "Southeast",
          "Southeast",
          "Southeast",
          "Southeast",
          "Southeast",
          "Southeast",
          "Southeast",
          "Southeast",
          "Southeast",
          "Southeast",
          "Southeast",
          "Southeast",
          "Southeast",
          "Southeast",
          "Southeast",
          "Southeast",
          "Southeast",
          "Southeast",
          "Southeast",
          "Southeast",
          "Southeast",
          "Southeast",
          "Southeast",
          "Southeast",
          "Southeast",
          "Southeast",
          "Southeast",
          "Southeast",
          "Southeast",
          "Southeast",
          "West",
          "West",
          "West",
          "West",
          "West",
          "West",
          "West",
          "West",
          "West",
          "West",
          "West",
          "West",
          "West",
          "West",
          "West",
          "West",
          "West",
          "West",
          "West",
          "West",
          "West",
          "West",
          "West",
          "West",
          "West",
          "West",
          "West",
          "West",
          "West",
          "West",
          "West",
          "West",
          "West",
          "West",
          "West",
          "West",
          "West",
          "West",
          "West",
          "West",
          "West",
          "West",
          "West",
          "West",
          "West",
          "West",
          "West",
          "West",
          "West",
          "West",
          "West",
          "West",
          "West",
          "West",
          "West",
          "West",
          "West",
          "West",
          "West",
          "West",
          "West",
          "West",
          "West",
          "West",
          "West",
          "West",
          "West",
          "West",
          "West",
          "West",
          "West",
          "West",
          "West",
          "West",
          "West",
          "West",
          "West",
          "West",
          "West",
          "West",
          "West",
          "West",
          "West",
          "West",
          "West",
          "West",
          "West",
          "West",
          "West",
          "West",
          "West",
          "West",
          "West",
          "West",
          "West",
          "West",
          "West",
          "West",
          "West",
          "West",
          "West",
          "West",
          "West",
          "West",
          "West",
          "West",
          "West",
          "West",
          "West",
          "West",
          "West",
          "West",
          "West",
          "West",
          "West",
          "West",
          "West",
          "West",
          "West",
          "West",
          "West",
          "West",
          "West",
          "West",
          "West",
          "West",
          "West",
          "West",
          "West",
          "West",
          "West",
          "West",
          "West",
          "West",
          "West",
          "West",
          "West",
          "West",
          "West",
          "West",
          "West",
          "West",
          "West",
          "West",
          "West",
          "West",
          "West",
          "West",
          "West",
          "West",
          "West",
          "West",
          "West",
          "West",
          "West",
          "West",
          "West",
          "West",
          "West",
          "West",
          "West",
          "West",
          "West",
          "West",
          "West",
          "West",
          "West",
          "West",
          "West",
          "West",
          "West",
          "West",
          "West",
          "West",
          "West",
          "West",
          "West",
          "West",
          "West",
          "West",
          "West",
          "West",
          "West",
          "West",
          "West",
          "West",
          "West",
          "West",
          "West",
          "West",
          "West",
          "West",
          "West",
          "West",
          "West",
          "West",
          "West",
          "West",
          "West",
          "West",
          "West",
          "West",
          "West",
          "West",
          "West",
          "West",
          "West",
          "West",
          "West",
          "West",
          "South",
          "South",
          "South",
          "South",
          "South",
          "South",
          "South",
          "South",
          "South",
          "South",
          "South",
          "South",
          "South",
          "South",
          "South",
          "South",
          "South",
          "South",
          "South",
          "South",
          "South",
          "South",
          "South",
          "South",
          "South",
          "Southeast",
          "Southeast",
          "Southeast",
          "Southeast",
          "Southeast",
          "Southeast",
          "Southeast",
          "Southeast",
          "Southeast",
          "Southeast",
          "Southeast",
          "Southeast",
          "Southeast",
          "Southeast",
          "Southeast",
          "Southeast",
          "Southeast",
          "Southeast",
          "Southeast",
          "Southeast",
          "Southeast",
          "Southeast",
          "Southeast",
          "Southeast",
          "Southeast",
          "Southeast",
          "Southeast",
          "Southeast",
          "Southeast",
          "Southeast",
          "Southeast",
          "Southeast",
          "Southeast",
          "Southeast",
          "Southeast",
          "Southeast",
          "Southeast",
          "West North Central",
          "West North Central",
          "West North Central",
          "West North Central",
          "West North Central",
          "West North Central",
          "West North Central",
          "West North Central",
          "West North Central",
          "West North Central",
          "Southwest",
          "Southwest",
          "Southwest",
          "Southwest",
          "Southwest",
          "Southwest",
          "Southwest",
          "Southwest",
          "Northeast",
          "Northeast",
          "Northeast",
          "Northeast",
          "Northeast",
          "Northeast",
          "Northeast",
          "Northeast",
          "Northeast",
          "Southeast",
          "Southeast",
          "Southeast",
          "Southeast",
          "Southeast",
          "Southeast",
          "Southeast",
          "Southeast",
          "Southeast",
          "Southeast",
          "Southeast",
          "Southeast",
          "Southeast",
          "Southeast",
          "Southeast",
          "Southeast",
          "Southeast",
          "Northeast",
          "Northeast",
          "Northeast",
          "Northeast",
          "Northeast",
          "Northeast",
          "Northeast",
          "Northeast",
          "Northeast",
          "Northeast",
          "Northeast",
          "Northeast",
          "Northeast",
          "Northeast",
          "Northeast",
          "Northeast",
          "Northeast",
          "Northeast",
          "South",
          "South",
          "South",
          "South",
          "South",
          "South",
          "South",
          "South",
          "South",
          "South",
          "South",
          "South",
          "South",
          "South",
          "South",
          "South",
          "South",
          "South",
          "South",
          "South",
          "South",
          "South",
          "South",
          "South",
          "Northeast",
          "Northeast",
          "Northeast",
          "Northeast",
          "Northeast",
          "Northeast",
          "Northeast",
          "Northeast",
          "Northeast",
          "Northeast",
          "Northeast",
          "Northeast",
          "Northeast",
          "Northeast",
          "Northeast",
          "Northeast",
          "Northeast",
          "Northeast",
          "Northeast",
          "Northeast",
          "Northeast",
          "Northeast",
          "Northeast",
          "Northeast",
          "Northeast",
          "Northeast",
          "Northeast",
          "Northeast",
          "Northeast",
          "Northeast",
          "Northeast",
          "Northeast",
          "Northeast",
          "Northeast",
          "Northeast",
          "Northeast",
          "Northeast",
          "Northeast",
          "Northeast",
          "Northeast",
          "Northeast",
          "Northeast",
          "Northeast",
          "Northeast",
          "Northeast",
          "Northeast",
          "Northeast",
          "Northeast",
          "Northeast",
          "Northeast",
          "Northeast",
          "West",
          "West",
          "West",
          "West",
          "West",
          "West",
          "West",
          "Southwest",
          "Southwest",
          "Southwest",
          "Southwest",
          "Southwest",
          "Southwest",
          "Southwest",
          "Southwest",
          "Southwest",
          "Southwest",
          "Southwest",
          "Southwest",
          "Southwest",
          "Southwest",
          "Southwest",
          "South",
          "South",
          "South",
          "South",
          "South",
          "South",
          "South",
          "South",
          "South",
          null,
          null,
          null,
          null,
          null,
          "Northwest",
          "Northwest",
          "Northwest",
          "Northwest",
          "Northwest",
          "Northwest",
          "Northwest",
          "Northwest",
          "Northwest",
          "West North Central",
          "West North Central",
          "West North Central",
          "West North Central",
          null
         ],
         "xaxis": "x",
         "yaxis": "y"
        }
       ],
       "layout": {
        "barmode": "relative",
        "legend": {
         "title": {
          "text": "variable"
         },
         "tracegroupgap": 0
        },
        "margin": {
         "t": 60
        },
        "template": {
         "data": {
          "bar": [
           {
            "error_x": {
             "color": "#2a3f5f"
            },
            "error_y": {
             "color": "#2a3f5f"
            },
            "marker": {
             "line": {
              "color": "#E5ECF6",
              "width": 0.5
             },
             "pattern": {
              "fillmode": "overlay",
              "size": 10,
              "solidity": 0.2
             }
            },
            "type": "bar"
           }
          ],
          "barpolar": [
           {
            "marker": {
             "line": {
              "color": "#E5ECF6",
              "width": 0.5
             },
             "pattern": {
              "fillmode": "overlay",
              "size": 10,
              "solidity": 0.2
             }
            },
            "type": "barpolar"
           }
          ],
          "carpet": [
           {
            "aaxis": {
             "endlinecolor": "#2a3f5f",
             "gridcolor": "white",
             "linecolor": "white",
             "minorgridcolor": "white",
             "startlinecolor": "#2a3f5f"
            },
            "baxis": {
             "endlinecolor": "#2a3f5f",
             "gridcolor": "white",
             "linecolor": "white",
             "minorgridcolor": "white",
             "startlinecolor": "#2a3f5f"
            },
            "type": "carpet"
           }
          ],
          "choropleth": [
           {
            "colorbar": {
             "outlinewidth": 0,
             "ticks": ""
            },
            "type": "choropleth"
           }
          ],
          "contour": [
           {
            "colorbar": {
             "outlinewidth": 0,
             "ticks": ""
            },
            "colorscale": [
             [
              0,
              "#0d0887"
             ],
             [
              0.1111111111111111,
              "#46039f"
             ],
             [
              0.2222222222222222,
              "#7201a8"
             ],
             [
              0.3333333333333333,
              "#9c179e"
             ],
             [
              0.4444444444444444,
              "#bd3786"
             ],
             [
              0.5555555555555556,
              "#d8576b"
             ],
             [
              0.6666666666666666,
              "#ed7953"
             ],
             [
              0.7777777777777778,
              "#fb9f3a"
             ],
             [
              0.8888888888888888,
              "#fdca26"
             ],
             [
              1,
              "#f0f921"
             ]
            ],
            "type": "contour"
           }
          ],
          "contourcarpet": [
           {
            "colorbar": {
             "outlinewidth": 0,
             "ticks": ""
            },
            "type": "contourcarpet"
           }
          ],
          "heatmap": [
           {
            "colorbar": {
             "outlinewidth": 0,
             "ticks": ""
            },
            "colorscale": [
             [
              0,
              "#0d0887"
             ],
             [
              0.1111111111111111,
              "#46039f"
             ],
             [
              0.2222222222222222,
              "#7201a8"
             ],
             [
              0.3333333333333333,
              "#9c179e"
             ],
             [
              0.4444444444444444,
              "#bd3786"
             ],
             [
              0.5555555555555556,
              "#d8576b"
             ],
             [
              0.6666666666666666,
              "#ed7953"
             ],
             [
              0.7777777777777778,
              "#fb9f3a"
             ],
             [
              0.8888888888888888,
              "#fdca26"
             ],
             [
              1,
              "#f0f921"
             ]
            ],
            "type": "heatmap"
           }
          ],
          "heatmapgl": [
           {
            "colorbar": {
             "outlinewidth": 0,
             "ticks": ""
            },
            "colorscale": [
             [
              0,
              "#0d0887"
             ],
             [
              0.1111111111111111,
              "#46039f"
             ],
             [
              0.2222222222222222,
              "#7201a8"
             ],
             [
              0.3333333333333333,
              "#9c179e"
             ],
             [
              0.4444444444444444,
              "#bd3786"
             ],
             [
              0.5555555555555556,
              "#d8576b"
             ],
             [
              0.6666666666666666,
              "#ed7953"
             ],
             [
              0.7777777777777778,
              "#fb9f3a"
             ],
             [
              0.8888888888888888,
              "#fdca26"
             ],
             [
              1,
              "#f0f921"
             ]
            ],
            "type": "heatmapgl"
           }
          ],
          "histogram": [
           {
            "marker": {
             "pattern": {
              "fillmode": "overlay",
              "size": 10,
              "solidity": 0.2
             }
            },
            "type": "histogram"
           }
          ],
          "histogram2d": [
           {
            "colorbar": {
             "outlinewidth": 0,
             "ticks": ""
            },
            "colorscale": [
             [
              0,
              "#0d0887"
             ],
             [
              0.1111111111111111,
              "#46039f"
             ],
             [
              0.2222222222222222,
              "#7201a8"
             ],
             [
              0.3333333333333333,
              "#9c179e"
             ],
             [
              0.4444444444444444,
              "#bd3786"
             ],
             [
              0.5555555555555556,
              "#d8576b"
             ],
             [
              0.6666666666666666,
              "#ed7953"
             ],
             [
              0.7777777777777778,
              "#fb9f3a"
             ],
             [
              0.8888888888888888,
              "#fdca26"
             ],
             [
              1,
              "#f0f921"
             ]
            ],
            "type": "histogram2d"
           }
          ],
          "histogram2dcontour": [
           {
            "colorbar": {
             "outlinewidth": 0,
             "ticks": ""
            },
            "colorscale": [
             [
              0,
              "#0d0887"
             ],
             [
              0.1111111111111111,
              "#46039f"
             ],
             [
              0.2222222222222222,
              "#7201a8"
             ],
             [
              0.3333333333333333,
              "#9c179e"
             ],
             [
              0.4444444444444444,
              "#bd3786"
             ],
             [
              0.5555555555555556,
              "#d8576b"
             ],
             [
              0.6666666666666666,
              "#ed7953"
             ],
             [
              0.7777777777777778,
              "#fb9f3a"
             ],
             [
              0.8888888888888888,
              "#fdca26"
             ],
             [
              1,
              "#f0f921"
             ]
            ],
            "type": "histogram2dcontour"
           }
          ],
          "mesh3d": [
           {
            "colorbar": {
             "outlinewidth": 0,
             "ticks": ""
            },
            "type": "mesh3d"
           }
          ],
          "parcoords": [
           {
            "line": {
             "colorbar": {
              "outlinewidth": 0,
              "ticks": ""
             }
            },
            "type": "parcoords"
           }
          ],
          "pie": [
           {
            "automargin": true,
            "type": "pie"
           }
          ],
          "scatter": [
           {
            "fillpattern": {
             "fillmode": "overlay",
             "size": 10,
             "solidity": 0.2
            },
            "type": "scatter"
           }
          ],
          "scatter3d": [
           {
            "line": {
             "colorbar": {
              "outlinewidth": 0,
              "ticks": ""
             }
            },
            "marker": {
             "colorbar": {
              "outlinewidth": 0,
              "ticks": ""
             }
            },
            "type": "scatter3d"
           }
          ],
          "scattercarpet": [
           {
            "marker": {
             "colorbar": {
              "outlinewidth": 0,
              "ticks": ""
             }
            },
            "type": "scattercarpet"
           }
          ],
          "scattergeo": [
           {
            "marker": {
             "colorbar": {
              "outlinewidth": 0,
              "ticks": ""
             }
            },
            "type": "scattergeo"
           }
          ],
          "scattergl": [
           {
            "marker": {
             "colorbar": {
              "outlinewidth": 0,
              "ticks": ""
             }
            },
            "type": "scattergl"
           }
          ],
          "scattermapbox": [
           {
            "marker": {
             "colorbar": {
              "outlinewidth": 0,
              "ticks": ""
             }
            },
            "type": "scattermapbox"
           }
          ],
          "scatterpolar": [
           {
            "marker": {
             "colorbar": {
              "outlinewidth": 0,
              "ticks": ""
             }
            },
            "type": "scatterpolar"
           }
          ],
          "scatterpolargl": [
           {
            "marker": {
             "colorbar": {
              "outlinewidth": 0,
              "ticks": ""
             }
            },
            "type": "scatterpolargl"
           }
          ],
          "scatterternary": [
           {
            "marker": {
             "colorbar": {
              "outlinewidth": 0,
              "ticks": ""
             }
            },
            "type": "scatterternary"
           }
          ],
          "surface": [
           {
            "colorbar": {
             "outlinewidth": 0,
             "ticks": ""
            },
            "colorscale": [
             [
              0,
              "#0d0887"
             ],
             [
              0.1111111111111111,
              "#46039f"
             ],
             [
              0.2222222222222222,
              "#7201a8"
             ],
             [
              0.3333333333333333,
              "#9c179e"
             ],
             [
              0.4444444444444444,
              "#bd3786"
             ],
             [
              0.5555555555555556,
              "#d8576b"
             ],
             [
              0.6666666666666666,
              "#ed7953"
             ],
             [
              0.7777777777777778,
              "#fb9f3a"
             ],
             [
              0.8888888888888888,
              "#fdca26"
             ],
             [
              1,
              "#f0f921"
             ]
            ],
            "type": "surface"
           }
          ],
          "table": [
           {
            "cells": {
             "fill": {
              "color": "#EBF0F8"
             },
             "line": {
              "color": "white"
             }
            },
            "header": {
             "fill": {
              "color": "#C8D4E3"
             },
             "line": {
              "color": "white"
             }
            },
            "type": "table"
           }
          ]
         },
         "layout": {
          "annotationdefaults": {
           "arrowcolor": "#2a3f5f",
           "arrowhead": 0,
           "arrowwidth": 1
          },
          "autotypenumbers": "strict",
          "coloraxis": {
           "colorbar": {
            "outlinewidth": 0,
            "ticks": ""
           }
          },
          "colorscale": {
           "diverging": [
            [
             0,
             "#8e0152"
            ],
            [
             0.1,
             "#c51b7d"
            ],
            [
             0.2,
             "#de77ae"
            ],
            [
             0.3,
             "#f1b6da"
            ],
            [
             0.4,
             "#fde0ef"
            ],
            [
             0.5,
             "#f7f7f7"
            ],
            [
             0.6,
             "#e6f5d0"
            ],
            [
             0.7,
             "#b8e186"
            ],
            [
             0.8,
             "#7fbc41"
            ],
            [
             0.9,
             "#4d9221"
            ],
            [
             1,
             "#276419"
            ]
           ],
           "sequential": [
            [
             0,
             "#0d0887"
            ],
            [
             0.1111111111111111,
             "#46039f"
            ],
            [
             0.2222222222222222,
             "#7201a8"
            ],
            [
             0.3333333333333333,
             "#9c179e"
            ],
            [
             0.4444444444444444,
             "#bd3786"
            ],
            [
             0.5555555555555556,
             "#d8576b"
            ],
            [
             0.6666666666666666,
             "#ed7953"
            ],
            [
             0.7777777777777778,
             "#fb9f3a"
            ],
            [
             0.8888888888888888,
             "#fdca26"
            ],
            [
             1,
             "#f0f921"
            ]
           ],
           "sequentialminus": [
            [
             0,
             "#0d0887"
            ],
            [
             0.1111111111111111,
             "#46039f"
            ],
            [
             0.2222222222222222,
             "#7201a8"
            ],
            [
             0.3333333333333333,
             "#9c179e"
            ],
            [
             0.4444444444444444,
             "#bd3786"
            ],
            [
             0.5555555555555556,
             "#d8576b"
            ],
            [
             0.6666666666666666,
             "#ed7953"
            ],
            [
             0.7777777777777778,
             "#fb9f3a"
            ],
            [
             0.8888888888888888,
             "#fdca26"
            ],
            [
             1,
             "#f0f921"
            ]
           ]
          },
          "colorway": [
           "#636efa",
           "#EF553B",
           "#00cc96",
           "#ab63fa",
           "#FFA15A",
           "#19d3f3",
           "#FF6692",
           "#B6E880",
           "#FF97FF",
           "#FECB52"
          ],
          "font": {
           "color": "#2a3f5f"
          },
          "geo": {
           "bgcolor": "white",
           "lakecolor": "white",
           "landcolor": "#E5ECF6",
           "showlakes": true,
           "showland": true,
           "subunitcolor": "white"
          },
          "hoverlabel": {
           "align": "left"
          },
          "hovermode": "closest",
          "mapbox": {
           "style": "light"
          },
          "paper_bgcolor": "white",
          "plot_bgcolor": "#E5ECF6",
          "polar": {
           "angularaxis": {
            "gridcolor": "white",
            "linecolor": "white",
            "ticks": ""
           },
           "bgcolor": "#E5ECF6",
           "radialaxis": {
            "gridcolor": "white",
            "linecolor": "white",
            "ticks": ""
           }
          },
          "scene": {
           "xaxis": {
            "backgroundcolor": "#E5ECF6",
            "gridcolor": "white",
            "gridwidth": 2,
            "linecolor": "white",
            "showbackground": true,
            "ticks": "",
            "zerolinecolor": "white"
           },
           "yaxis": {
            "backgroundcolor": "#E5ECF6",
            "gridcolor": "white",
            "gridwidth": 2,
            "linecolor": "white",
            "showbackground": true,
            "ticks": "",
            "zerolinecolor": "white"
           },
           "zaxis": {
            "backgroundcolor": "#E5ECF6",
            "gridcolor": "white",
            "gridwidth": 2,
            "linecolor": "white",
            "showbackground": true,
            "ticks": "",
            "zerolinecolor": "white"
           }
          },
          "shapedefaults": {
           "line": {
            "color": "#2a3f5f"
           }
          },
          "ternary": {
           "aaxis": {
            "gridcolor": "white",
            "linecolor": "white",
            "ticks": ""
           },
           "baxis": {
            "gridcolor": "white",
            "linecolor": "white",
            "ticks": ""
           },
           "bgcolor": "#E5ECF6",
           "caxis": {
            "gridcolor": "white",
            "linecolor": "white",
            "ticks": ""
           }
          },
          "title": {
           "x": 0.05
          },
          "xaxis": {
           "automargin": true,
           "gridcolor": "white",
           "linecolor": "white",
           "ticks": "",
           "title": {
            "standoff": 15
           },
           "zerolinecolor": "white",
           "zerolinewidth": 2
          },
          "yaxis": {
           "automargin": true,
           "gridcolor": "white",
           "linecolor": "white",
           "ticks": "",
           "title": {
            "standoff": 15
           },
           "zerolinecolor": "white",
           "zerolinewidth": 2
          }
         }
        },
        "title": {
         "text": "Power Outages by Region"
        },
        "xaxis": {
         "anchor": "y",
         "domain": [
          0,
          1
         ],
         "title": {
          "text": "Climate Regions"
         }
        },
        "yaxis": {
         "anchor": "x",
         "domain": [
          0,
          1
         ],
         "title": {
          "text": "Number"
         }
        }
       }
      }
     },
     "metadata": {},
     "output_type": "display_data"
    }
   ],
   "source": [
    "df = outage_cleaned.copy()\n",
    "df = df.rename(columns={'CLIMATE.REGION': 'Power Outage'})\n",
    "\n",
    "df = df[['Power Outage']]\n",
    "fig = px.histogram(df)\n",
    "fig.update_layout(\n",
    "    title_text=\"Power Outages by Region\",\n",
    "    xaxis_title=\"Climate Regions\",\n",
    "    yaxis_title=\"Number\",\n",
    ")\n",
    "fig.show()"
   ]
  },
  {
   "cell_type": "markdown",
   "metadata": {},
   "source": [
    "### Explanation of Graph: 'Power Outages by Region'\n",
    "This is a graph displaying the distributions of power outages within climate regions in the U.S. \n",
    "\n",
    "It is evident that the Northeast region has the highest number of power outages, totaling 350, while the West North Central region has the least, with fewer than 20 outages. For the most part, the other regions fall between 100 to 250 outages.\n",
    "\n",
    "\n"
   ]
  },
  {
   "cell_type": "code",
   "execution_count": 99,
   "metadata": {},
   "outputs": [],
   "source": [
    "fig.write_html('assets/plot_univar_1.html', include_plotlyjs='cdn')"
   ]
  },
  {
   "cell_type": "markdown",
   "metadata": {},
   "source": [
    "## Power Outages by Month"
   ]
  },
  {
   "cell_type": "code",
   "execution_count": 100,
   "metadata": {},
   "outputs": [
    {
     "data": {
      "application/vnd.plotly.v1+json": {
       "config": {
        "plotlyServerURL": "https://plot.ly"
       },
       "data": [
        {
         "alignmentgroup": "True",
         "hovertemplate": "MONTH=%{x}<br>OBS=%{y}<extra></extra>",
         "legendgroup": "",
         "marker": {
          "color": "#636efa",
          "pattern": {
           "shape": ""
          }
         },
         "name": "",
         "offsetgroup": "",
         "orientation": "v",
         "showlegend": false,
         "textposition": "auto",
         "type": "bar",
         "x": [
          1,
          2,
          3,
          4,
          5,
          6,
          7,
          8,
          9,
          10,
          11,
          12
         ],
         "xaxis": "x",
         "y": [
          136,
          136,
          100,
          111,
          127,
          195,
          181,
          153,
          94,
          109,
          72,
          111
         ],
         "yaxis": "y"
        }
       ],
       "layout": {
        "barmode": "relative",
        "legend": {
         "tracegroupgap": 0
        },
        "margin": {
         "t": 60
        },
        "template": {
         "data": {
          "bar": [
           {
            "error_x": {
             "color": "#2a3f5f"
            },
            "error_y": {
             "color": "#2a3f5f"
            },
            "marker": {
             "line": {
              "color": "#E5ECF6",
              "width": 0.5
             },
             "pattern": {
              "fillmode": "overlay",
              "size": 10,
              "solidity": 0.2
             }
            },
            "type": "bar"
           }
          ],
          "barpolar": [
           {
            "marker": {
             "line": {
              "color": "#E5ECF6",
              "width": 0.5
             },
             "pattern": {
              "fillmode": "overlay",
              "size": 10,
              "solidity": 0.2
             }
            },
            "type": "barpolar"
           }
          ],
          "carpet": [
           {
            "aaxis": {
             "endlinecolor": "#2a3f5f",
             "gridcolor": "white",
             "linecolor": "white",
             "minorgridcolor": "white",
             "startlinecolor": "#2a3f5f"
            },
            "baxis": {
             "endlinecolor": "#2a3f5f",
             "gridcolor": "white",
             "linecolor": "white",
             "minorgridcolor": "white",
             "startlinecolor": "#2a3f5f"
            },
            "type": "carpet"
           }
          ],
          "choropleth": [
           {
            "colorbar": {
             "outlinewidth": 0,
             "ticks": ""
            },
            "type": "choropleth"
           }
          ],
          "contour": [
           {
            "colorbar": {
             "outlinewidth": 0,
             "ticks": ""
            },
            "colorscale": [
             [
              0,
              "#0d0887"
             ],
             [
              0.1111111111111111,
              "#46039f"
             ],
             [
              0.2222222222222222,
              "#7201a8"
             ],
             [
              0.3333333333333333,
              "#9c179e"
             ],
             [
              0.4444444444444444,
              "#bd3786"
             ],
             [
              0.5555555555555556,
              "#d8576b"
             ],
             [
              0.6666666666666666,
              "#ed7953"
             ],
             [
              0.7777777777777778,
              "#fb9f3a"
             ],
             [
              0.8888888888888888,
              "#fdca26"
             ],
             [
              1,
              "#f0f921"
             ]
            ],
            "type": "contour"
           }
          ],
          "contourcarpet": [
           {
            "colorbar": {
             "outlinewidth": 0,
             "ticks": ""
            },
            "type": "contourcarpet"
           }
          ],
          "heatmap": [
           {
            "colorbar": {
             "outlinewidth": 0,
             "ticks": ""
            },
            "colorscale": [
             [
              0,
              "#0d0887"
             ],
             [
              0.1111111111111111,
              "#46039f"
             ],
             [
              0.2222222222222222,
              "#7201a8"
             ],
             [
              0.3333333333333333,
              "#9c179e"
             ],
             [
              0.4444444444444444,
              "#bd3786"
             ],
             [
              0.5555555555555556,
              "#d8576b"
             ],
             [
              0.6666666666666666,
              "#ed7953"
             ],
             [
              0.7777777777777778,
              "#fb9f3a"
             ],
             [
              0.8888888888888888,
              "#fdca26"
             ],
             [
              1,
              "#f0f921"
             ]
            ],
            "type": "heatmap"
           }
          ],
          "heatmapgl": [
           {
            "colorbar": {
             "outlinewidth": 0,
             "ticks": ""
            },
            "colorscale": [
             [
              0,
              "#0d0887"
             ],
             [
              0.1111111111111111,
              "#46039f"
             ],
             [
              0.2222222222222222,
              "#7201a8"
             ],
             [
              0.3333333333333333,
              "#9c179e"
             ],
             [
              0.4444444444444444,
              "#bd3786"
             ],
             [
              0.5555555555555556,
              "#d8576b"
             ],
             [
              0.6666666666666666,
              "#ed7953"
             ],
             [
              0.7777777777777778,
              "#fb9f3a"
             ],
             [
              0.8888888888888888,
              "#fdca26"
             ],
             [
              1,
              "#f0f921"
             ]
            ],
            "type": "heatmapgl"
           }
          ],
          "histogram": [
           {
            "marker": {
             "pattern": {
              "fillmode": "overlay",
              "size": 10,
              "solidity": 0.2
             }
            },
            "type": "histogram"
           }
          ],
          "histogram2d": [
           {
            "colorbar": {
             "outlinewidth": 0,
             "ticks": ""
            },
            "colorscale": [
             [
              0,
              "#0d0887"
             ],
             [
              0.1111111111111111,
              "#46039f"
             ],
             [
              0.2222222222222222,
              "#7201a8"
             ],
             [
              0.3333333333333333,
              "#9c179e"
             ],
             [
              0.4444444444444444,
              "#bd3786"
             ],
             [
              0.5555555555555556,
              "#d8576b"
             ],
             [
              0.6666666666666666,
              "#ed7953"
             ],
             [
              0.7777777777777778,
              "#fb9f3a"
             ],
             [
              0.8888888888888888,
              "#fdca26"
             ],
             [
              1,
              "#f0f921"
             ]
            ],
            "type": "histogram2d"
           }
          ],
          "histogram2dcontour": [
           {
            "colorbar": {
             "outlinewidth": 0,
             "ticks": ""
            },
            "colorscale": [
             [
              0,
              "#0d0887"
             ],
             [
              0.1111111111111111,
              "#46039f"
             ],
             [
              0.2222222222222222,
              "#7201a8"
             ],
             [
              0.3333333333333333,
              "#9c179e"
             ],
             [
              0.4444444444444444,
              "#bd3786"
             ],
             [
              0.5555555555555556,
              "#d8576b"
             ],
             [
              0.6666666666666666,
              "#ed7953"
             ],
             [
              0.7777777777777778,
              "#fb9f3a"
             ],
             [
              0.8888888888888888,
              "#fdca26"
             ],
             [
              1,
              "#f0f921"
             ]
            ],
            "type": "histogram2dcontour"
           }
          ],
          "mesh3d": [
           {
            "colorbar": {
             "outlinewidth": 0,
             "ticks": ""
            },
            "type": "mesh3d"
           }
          ],
          "parcoords": [
           {
            "line": {
             "colorbar": {
              "outlinewidth": 0,
              "ticks": ""
             }
            },
            "type": "parcoords"
           }
          ],
          "pie": [
           {
            "automargin": true,
            "type": "pie"
           }
          ],
          "scatter": [
           {
            "fillpattern": {
             "fillmode": "overlay",
             "size": 10,
             "solidity": 0.2
            },
            "type": "scatter"
           }
          ],
          "scatter3d": [
           {
            "line": {
             "colorbar": {
              "outlinewidth": 0,
              "ticks": ""
             }
            },
            "marker": {
             "colorbar": {
              "outlinewidth": 0,
              "ticks": ""
             }
            },
            "type": "scatter3d"
           }
          ],
          "scattercarpet": [
           {
            "marker": {
             "colorbar": {
              "outlinewidth": 0,
              "ticks": ""
             }
            },
            "type": "scattercarpet"
           }
          ],
          "scattergeo": [
           {
            "marker": {
             "colorbar": {
              "outlinewidth": 0,
              "ticks": ""
             }
            },
            "type": "scattergeo"
           }
          ],
          "scattergl": [
           {
            "marker": {
             "colorbar": {
              "outlinewidth": 0,
              "ticks": ""
             }
            },
            "type": "scattergl"
           }
          ],
          "scattermapbox": [
           {
            "marker": {
             "colorbar": {
              "outlinewidth": 0,
              "ticks": ""
             }
            },
            "type": "scattermapbox"
           }
          ],
          "scatterpolar": [
           {
            "marker": {
             "colorbar": {
              "outlinewidth": 0,
              "ticks": ""
             }
            },
            "type": "scatterpolar"
           }
          ],
          "scatterpolargl": [
           {
            "marker": {
             "colorbar": {
              "outlinewidth": 0,
              "ticks": ""
             }
            },
            "type": "scatterpolargl"
           }
          ],
          "scatterternary": [
           {
            "marker": {
             "colorbar": {
              "outlinewidth": 0,
              "ticks": ""
             }
            },
            "type": "scatterternary"
           }
          ],
          "surface": [
           {
            "colorbar": {
             "outlinewidth": 0,
             "ticks": ""
            },
            "colorscale": [
             [
              0,
              "#0d0887"
             ],
             [
              0.1111111111111111,
              "#46039f"
             ],
             [
              0.2222222222222222,
              "#7201a8"
             ],
             [
              0.3333333333333333,
              "#9c179e"
             ],
             [
              0.4444444444444444,
              "#bd3786"
             ],
             [
              0.5555555555555556,
              "#d8576b"
             ],
             [
              0.6666666666666666,
              "#ed7953"
             ],
             [
              0.7777777777777778,
              "#fb9f3a"
             ],
             [
              0.8888888888888888,
              "#fdca26"
             ],
             [
              1,
              "#f0f921"
             ]
            ],
            "type": "surface"
           }
          ],
          "table": [
           {
            "cells": {
             "fill": {
              "color": "#EBF0F8"
             },
             "line": {
              "color": "white"
             }
            },
            "header": {
             "fill": {
              "color": "#C8D4E3"
             },
             "line": {
              "color": "white"
             }
            },
            "type": "table"
           }
          ]
         },
         "layout": {
          "annotationdefaults": {
           "arrowcolor": "#2a3f5f",
           "arrowhead": 0,
           "arrowwidth": 1
          },
          "autotypenumbers": "strict",
          "coloraxis": {
           "colorbar": {
            "outlinewidth": 0,
            "ticks": ""
           }
          },
          "colorscale": {
           "diverging": [
            [
             0,
             "#8e0152"
            ],
            [
             0.1,
             "#c51b7d"
            ],
            [
             0.2,
             "#de77ae"
            ],
            [
             0.3,
             "#f1b6da"
            ],
            [
             0.4,
             "#fde0ef"
            ],
            [
             0.5,
             "#f7f7f7"
            ],
            [
             0.6,
             "#e6f5d0"
            ],
            [
             0.7,
             "#b8e186"
            ],
            [
             0.8,
             "#7fbc41"
            ],
            [
             0.9,
             "#4d9221"
            ],
            [
             1,
             "#276419"
            ]
           ],
           "sequential": [
            [
             0,
             "#0d0887"
            ],
            [
             0.1111111111111111,
             "#46039f"
            ],
            [
             0.2222222222222222,
             "#7201a8"
            ],
            [
             0.3333333333333333,
             "#9c179e"
            ],
            [
             0.4444444444444444,
             "#bd3786"
            ],
            [
             0.5555555555555556,
             "#d8576b"
            ],
            [
             0.6666666666666666,
             "#ed7953"
            ],
            [
             0.7777777777777778,
             "#fb9f3a"
            ],
            [
             0.8888888888888888,
             "#fdca26"
            ],
            [
             1,
             "#f0f921"
            ]
           ],
           "sequentialminus": [
            [
             0,
             "#0d0887"
            ],
            [
             0.1111111111111111,
             "#46039f"
            ],
            [
             0.2222222222222222,
             "#7201a8"
            ],
            [
             0.3333333333333333,
             "#9c179e"
            ],
            [
             0.4444444444444444,
             "#bd3786"
            ],
            [
             0.5555555555555556,
             "#d8576b"
            ],
            [
             0.6666666666666666,
             "#ed7953"
            ],
            [
             0.7777777777777778,
             "#fb9f3a"
            ],
            [
             0.8888888888888888,
             "#fdca26"
            ],
            [
             1,
             "#f0f921"
            ]
           ]
          },
          "colorway": [
           "#636efa",
           "#EF553B",
           "#00cc96",
           "#ab63fa",
           "#FFA15A",
           "#19d3f3",
           "#FF6692",
           "#B6E880",
           "#FF97FF",
           "#FECB52"
          ],
          "font": {
           "color": "#2a3f5f"
          },
          "geo": {
           "bgcolor": "white",
           "lakecolor": "white",
           "landcolor": "#E5ECF6",
           "showlakes": true,
           "showland": true,
           "subunitcolor": "white"
          },
          "hoverlabel": {
           "align": "left"
          },
          "hovermode": "closest",
          "mapbox": {
           "style": "light"
          },
          "paper_bgcolor": "white",
          "plot_bgcolor": "#E5ECF6",
          "polar": {
           "angularaxis": {
            "gridcolor": "white",
            "linecolor": "white",
            "ticks": ""
           },
           "bgcolor": "#E5ECF6",
           "radialaxis": {
            "gridcolor": "white",
            "linecolor": "white",
            "ticks": ""
           }
          },
          "scene": {
           "xaxis": {
            "backgroundcolor": "#E5ECF6",
            "gridcolor": "white",
            "gridwidth": 2,
            "linecolor": "white",
            "showbackground": true,
            "ticks": "",
            "zerolinecolor": "white"
           },
           "yaxis": {
            "backgroundcolor": "#E5ECF6",
            "gridcolor": "white",
            "gridwidth": 2,
            "linecolor": "white",
            "showbackground": true,
            "ticks": "",
            "zerolinecolor": "white"
           },
           "zaxis": {
            "backgroundcolor": "#E5ECF6",
            "gridcolor": "white",
            "gridwidth": 2,
            "linecolor": "white",
            "showbackground": true,
            "ticks": "",
            "zerolinecolor": "white"
           }
          },
          "shapedefaults": {
           "line": {
            "color": "#2a3f5f"
           }
          },
          "ternary": {
           "aaxis": {
            "gridcolor": "white",
            "linecolor": "white",
            "ticks": ""
           },
           "baxis": {
            "gridcolor": "white",
            "linecolor": "white",
            "ticks": ""
           },
           "bgcolor": "#E5ECF6",
           "caxis": {
            "gridcolor": "white",
            "linecolor": "white",
            "ticks": ""
           }
          },
          "title": {
           "x": 0.05
          },
          "xaxis": {
           "automargin": true,
           "gridcolor": "white",
           "linecolor": "white",
           "ticks": "",
           "title": {
            "standoff": 15
           },
           "zerolinecolor": "white",
           "zerolinewidth": 2
          },
          "yaxis": {
           "automargin": true,
           "gridcolor": "white",
           "linecolor": "white",
           "ticks": "",
           "title": {
            "standoff": 15
           },
           "zerolinecolor": "white",
           "zerolinewidth": 2
          }
         }
        },
        "title": {
         "text": "Power Outages by Month"
        },
        "xaxis": {
         "anchor": "y",
         "domain": [
          0,
          1
         ],
         "title": {
          "text": "Month"
         }
        },
        "yaxis": {
         "anchor": "x",
         "domain": [
          0,
          1
         ],
         "title": {
          "text": "Outage Count"
         }
        }
       }
      }
     },
     "metadata": {},
     "output_type": "display_data"
    }
   ],
   "source": [
    "month_count = outage_cleaned.groupby('MONTH').count()\n",
    "\n",
    "fig = px.bar(month_count, y = 'OBS')\n",
    "fig.update_layout(\n",
    "    title_text=\"Power Outages by Month\",\n",
    "    xaxis_title=\"Month\",\n",
    "    yaxis_title=\"Outage Count\"\n",
    ")\n",
    "fig.show()"
   ]
  },
  {
   "cell_type": "markdown",
   "metadata": {},
   "source": [
    "### Explanation of Graph: 'Power Outages by Month'\n",
    "This is a graph displaying the distributions of power outages within each month.\n",
    "\n",
    "Power outages are most prevalent during the summer, with a noticeable decease compared to the winter months. While there is a significant number of outages in winter, it doesn't compare to the frequency experienced during the summer season.\n",
    "\n",
    "\n",
    "\n",
    "\n",
    "\n"
   ]
  },
  {
   "cell_type": "code",
   "execution_count": 101,
   "metadata": {},
   "outputs": [],
   "source": [
    "fig.write_html('assets/plot_univar_2.html', include_plotlyjs='cdn')"
   ]
  },
  {
   "cell_type": "markdown",
   "metadata": {},
   "source": [
    "# Bivariate Analysis\n"
   ]
  },
  {
   "cell_type": "markdown",
   "metadata": {},
   "source": [
    "## State Proportions of Customers"
   ]
  },
  {
   "cell_type": "code",
   "execution_count": 102,
   "metadata": {},
   "outputs": [
    {
     "data": {
      "application/vnd.plotly.v1+json": {
       "config": {
        "plotlyServerURL": "https://plot.ly"
       },
       "data": [
        {
         "alignmentgroup": "True",
         "hovertemplate": "variable=0<br>U.S._STATE=%{x}<br>value=%{y}<extra></extra>",
         "legendgroup": "0",
         "marker": {
          "color": "#636efa",
          "pattern": {
           "shape": ""
          }
         },
         "name": "0",
         "offsetgroup": "0",
         "orientation": "v",
         "showlegend": true,
         "textposition": "auto",
         "type": "bar",
         "x": [
          "Alabama",
          "Alaska",
          "Arizona",
          "Arkansas",
          "California",
          "Colorado",
          "Connecticut",
          "Delaware",
          "District of Columbia",
          "Florida",
          "Georgia",
          "Hawaii",
          "Idaho",
          "Illinois",
          "Indiana",
          "Iowa",
          "Kansas",
          "Kentucky",
          "Louisiana",
          "Maine",
          "Maryland",
          "Massachusetts",
          "Michigan",
          "Minnesota",
          "Mississippi",
          "Missouri",
          "Montana",
          "Nebraska",
          "Nevada",
          "New Hampshire",
          "New Jersey",
          "New Mexico",
          "New York",
          "North Carolina",
          "North Dakota",
          "Ohio",
          "Oklahoma",
          "Oregon",
          "Pennsylvania",
          "South Carolina",
          "South Dakota",
          "Tennessee",
          "Texas",
          "Utah",
          "Vermont",
          "Virginia",
          "Washington",
          "West Virginia",
          "Wisconsin",
          "Wyoming"
         ],
         "xaxis": "x",
         "y": [
          0.5163967357178695,
          0.43558298816968516,
          0.4425342616651542,
          0.5254757413827795,
          0.3964368567872398,
          0.489478899425941,
          0.4499376514528657,
          0.493462131572365,
          0.40955015547310686,
          0.5142321925929367,
          0.4784376279807926,
          0.3526011151519971,
          0.5041086787958803,
          0.44114993804618435,
          0.47863562054423886,
          0.5097749263119684,
          0.5134766464279313,
          0.5151329792924526,
          0.4933362581591484,
          0.5948525255832772,
          0.42002715680262115,
          0.4648685778077389,
          0.48192608367915674,
          0.48521090024458113,
          0.5023906062430241,
          0.512994538041086,
          0.5809103268272563,
          0.545831091593637,
          0.44922817533718956,
          0.5367349459055764,
          0.4470199142144846,
          0.4830201926837072,
          0.4117451194646207,
          0.5066872737320567,
          0.5697187783761429,
          0.4767584507586189,
          0.5160926311101898,
          0.4867535281153694,
          0.4685755042474092,
          0.5196520251006294,
          0.5405115064796355,
          0.49513241595624047,
          0.4403427380317168,
          0.3840423700234392,
          0.576169745675851,
          0.4511898287767091,
          0.4709274717926174,
          0.5488317042392455,
          0.5157937156210197,
          0.5744460643314026
         ],
         "yaxis": "y"
        }
       ],
       "layout": {
        "barmode": "relative",
        "legend": {
         "title": {
          "text": "variable"
         },
         "tracegroupgap": 0
        },
        "margin": {
         "t": 60
        },
        "template": {
         "data": {
          "bar": [
           {
            "error_x": {
             "color": "#2a3f5f"
            },
            "error_y": {
             "color": "#2a3f5f"
            },
            "marker": {
             "line": {
              "color": "#E5ECF6",
              "width": 0.5
             },
             "pattern": {
              "fillmode": "overlay",
              "size": 10,
              "solidity": 0.2
             }
            },
            "type": "bar"
           }
          ],
          "barpolar": [
           {
            "marker": {
             "line": {
              "color": "#E5ECF6",
              "width": 0.5
             },
             "pattern": {
              "fillmode": "overlay",
              "size": 10,
              "solidity": 0.2
             }
            },
            "type": "barpolar"
           }
          ],
          "carpet": [
           {
            "aaxis": {
             "endlinecolor": "#2a3f5f",
             "gridcolor": "white",
             "linecolor": "white",
             "minorgridcolor": "white",
             "startlinecolor": "#2a3f5f"
            },
            "baxis": {
             "endlinecolor": "#2a3f5f",
             "gridcolor": "white",
             "linecolor": "white",
             "minorgridcolor": "white",
             "startlinecolor": "#2a3f5f"
            },
            "type": "carpet"
           }
          ],
          "choropleth": [
           {
            "colorbar": {
             "outlinewidth": 0,
             "ticks": ""
            },
            "type": "choropleth"
           }
          ],
          "contour": [
           {
            "colorbar": {
             "outlinewidth": 0,
             "ticks": ""
            },
            "colorscale": [
             [
              0,
              "#0d0887"
             ],
             [
              0.1111111111111111,
              "#46039f"
             ],
             [
              0.2222222222222222,
              "#7201a8"
             ],
             [
              0.3333333333333333,
              "#9c179e"
             ],
             [
              0.4444444444444444,
              "#bd3786"
             ],
             [
              0.5555555555555556,
              "#d8576b"
             ],
             [
              0.6666666666666666,
              "#ed7953"
             ],
             [
              0.7777777777777778,
              "#fb9f3a"
             ],
             [
              0.8888888888888888,
              "#fdca26"
             ],
             [
              1,
              "#f0f921"
             ]
            ],
            "type": "contour"
           }
          ],
          "contourcarpet": [
           {
            "colorbar": {
             "outlinewidth": 0,
             "ticks": ""
            },
            "type": "contourcarpet"
           }
          ],
          "heatmap": [
           {
            "colorbar": {
             "outlinewidth": 0,
             "ticks": ""
            },
            "colorscale": [
             [
              0,
              "#0d0887"
             ],
             [
              0.1111111111111111,
              "#46039f"
             ],
             [
              0.2222222222222222,
              "#7201a8"
             ],
             [
              0.3333333333333333,
              "#9c179e"
             ],
             [
              0.4444444444444444,
              "#bd3786"
             ],
             [
              0.5555555555555556,
              "#d8576b"
             ],
             [
              0.6666666666666666,
              "#ed7953"
             ],
             [
              0.7777777777777778,
              "#fb9f3a"
             ],
             [
              0.8888888888888888,
              "#fdca26"
             ],
             [
              1,
              "#f0f921"
             ]
            ],
            "type": "heatmap"
           }
          ],
          "heatmapgl": [
           {
            "colorbar": {
             "outlinewidth": 0,
             "ticks": ""
            },
            "colorscale": [
             [
              0,
              "#0d0887"
             ],
             [
              0.1111111111111111,
              "#46039f"
             ],
             [
              0.2222222222222222,
              "#7201a8"
             ],
             [
              0.3333333333333333,
              "#9c179e"
             ],
             [
              0.4444444444444444,
              "#bd3786"
             ],
             [
              0.5555555555555556,
              "#d8576b"
             ],
             [
              0.6666666666666666,
              "#ed7953"
             ],
             [
              0.7777777777777778,
              "#fb9f3a"
             ],
             [
              0.8888888888888888,
              "#fdca26"
             ],
             [
              1,
              "#f0f921"
             ]
            ],
            "type": "heatmapgl"
           }
          ],
          "histogram": [
           {
            "marker": {
             "pattern": {
              "fillmode": "overlay",
              "size": 10,
              "solidity": 0.2
             }
            },
            "type": "histogram"
           }
          ],
          "histogram2d": [
           {
            "colorbar": {
             "outlinewidth": 0,
             "ticks": ""
            },
            "colorscale": [
             [
              0,
              "#0d0887"
             ],
             [
              0.1111111111111111,
              "#46039f"
             ],
             [
              0.2222222222222222,
              "#7201a8"
             ],
             [
              0.3333333333333333,
              "#9c179e"
             ],
             [
              0.4444444444444444,
              "#bd3786"
             ],
             [
              0.5555555555555556,
              "#d8576b"
             ],
             [
              0.6666666666666666,
              "#ed7953"
             ],
             [
              0.7777777777777778,
              "#fb9f3a"
             ],
             [
              0.8888888888888888,
              "#fdca26"
             ],
             [
              1,
              "#f0f921"
             ]
            ],
            "type": "histogram2d"
           }
          ],
          "histogram2dcontour": [
           {
            "colorbar": {
             "outlinewidth": 0,
             "ticks": ""
            },
            "colorscale": [
             [
              0,
              "#0d0887"
             ],
             [
              0.1111111111111111,
              "#46039f"
             ],
             [
              0.2222222222222222,
              "#7201a8"
             ],
             [
              0.3333333333333333,
              "#9c179e"
             ],
             [
              0.4444444444444444,
              "#bd3786"
             ],
             [
              0.5555555555555556,
              "#d8576b"
             ],
             [
              0.6666666666666666,
              "#ed7953"
             ],
             [
              0.7777777777777778,
              "#fb9f3a"
             ],
             [
              0.8888888888888888,
              "#fdca26"
             ],
             [
              1,
              "#f0f921"
             ]
            ],
            "type": "histogram2dcontour"
           }
          ],
          "mesh3d": [
           {
            "colorbar": {
             "outlinewidth": 0,
             "ticks": ""
            },
            "type": "mesh3d"
           }
          ],
          "parcoords": [
           {
            "line": {
             "colorbar": {
              "outlinewidth": 0,
              "ticks": ""
             }
            },
            "type": "parcoords"
           }
          ],
          "pie": [
           {
            "automargin": true,
            "type": "pie"
           }
          ],
          "scatter": [
           {
            "fillpattern": {
             "fillmode": "overlay",
             "size": 10,
             "solidity": 0.2
            },
            "type": "scatter"
           }
          ],
          "scatter3d": [
           {
            "line": {
             "colorbar": {
              "outlinewidth": 0,
              "ticks": ""
             }
            },
            "marker": {
             "colorbar": {
              "outlinewidth": 0,
              "ticks": ""
             }
            },
            "type": "scatter3d"
           }
          ],
          "scattercarpet": [
           {
            "marker": {
             "colorbar": {
              "outlinewidth": 0,
              "ticks": ""
             }
            },
            "type": "scattercarpet"
           }
          ],
          "scattergeo": [
           {
            "marker": {
             "colorbar": {
              "outlinewidth": 0,
              "ticks": ""
             }
            },
            "type": "scattergeo"
           }
          ],
          "scattergl": [
           {
            "marker": {
             "colorbar": {
              "outlinewidth": 0,
              "ticks": ""
             }
            },
            "type": "scattergl"
           }
          ],
          "scattermapbox": [
           {
            "marker": {
             "colorbar": {
              "outlinewidth": 0,
              "ticks": ""
             }
            },
            "type": "scattermapbox"
           }
          ],
          "scatterpolar": [
           {
            "marker": {
             "colorbar": {
              "outlinewidth": 0,
              "ticks": ""
             }
            },
            "type": "scatterpolar"
           }
          ],
          "scatterpolargl": [
           {
            "marker": {
             "colorbar": {
              "outlinewidth": 0,
              "ticks": ""
             }
            },
            "type": "scatterpolargl"
           }
          ],
          "scatterternary": [
           {
            "marker": {
             "colorbar": {
              "outlinewidth": 0,
              "ticks": ""
             }
            },
            "type": "scatterternary"
           }
          ],
          "surface": [
           {
            "colorbar": {
             "outlinewidth": 0,
             "ticks": ""
            },
            "colorscale": [
             [
              0,
              "#0d0887"
             ],
             [
              0.1111111111111111,
              "#46039f"
             ],
             [
              0.2222222222222222,
              "#7201a8"
             ],
             [
              0.3333333333333333,
              "#9c179e"
             ],
             [
              0.4444444444444444,
              "#bd3786"
             ],
             [
              0.5555555555555556,
              "#d8576b"
             ],
             [
              0.6666666666666666,
              "#ed7953"
             ],
             [
              0.7777777777777778,
              "#fb9f3a"
             ],
             [
              0.8888888888888888,
              "#fdca26"
             ],
             [
              1,
              "#f0f921"
             ]
            ],
            "type": "surface"
           }
          ],
          "table": [
           {
            "cells": {
             "fill": {
              "color": "#EBF0F8"
             },
             "line": {
              "color": "white"
             }
            },
            "header": {
             "fill": {
              "color": "#C8D4E3"
             },
             "line": {
              "color": "white"
             }
            },
            "type": "table"
           }
          ]
         },
         "layout": {
          "annotationdefaults": {
           "arrowcolor": "#2a3f5f",
           "arrowhead": 0,
           "arrowwidth": 1
          },
          "autotypenumbers": "strict",
          "coloraxis": {
           "colorbar": {
            "outlinewidth": 0,
            "ticks": ""
           }
          },
          "colorscale": {
           "diverging": [
            [
             0,
             "#8e0152"
            ],
            [
             0.1,
             "#c51b7d"
            ],
            [
             0.2,
             "#de77ae"
            ],
            [
             0.3,
             "#f1b6da"
            ],
            [
             0.4,
             "#fde0ef"
            ],
            [
             0.5,
             "#f7f7f7"
            ],
            [
             0.6,
             "#e6f5d0"
            ],
            [
             0.7,
             "#b8e186"
            ],
            [
             0.8,
             "#7fbc41"
            ],
            [
             0.9,
             "#4d9221"
            ],
            [
             1,
             "#276419"
            ]
           ],
           "sequential": [
            [
             0,
             "#0d0887"
            ],
            [
             0.1111111111111111,
             "#46039f"
            ],
            [
             0.2222222222222222,
             "#7201a8"
            ],
            [
             0.3333333333333333,
             "#9c179e"
            ],
            [
             0.4444444444444444,
             "#bd3786"
            ],
            [
             0.5555555555555556,
             "#d8576b"
            ],
            [
             0.6666666666666666,
             "#ed7953"
            ],
            [
             0.7777777777777778,
             "#fb9f3a"
            ],
            [
             0.8888888888888888,
             "#fdca26"
            ],
            [
             1,
             "#f0f921"
            ]
           ],
           "sequentialminus": [
            [
             0,
             "#0d0887"
            ],
            [
             0.1111111111111111,
             "#46039f"
            ],
            [
             0.2222222222222222,
             "#7201a8"
            ],
            [
             0.3333333333333333,
             "#9c179e"
            ],
            [
             0.4444444444444444,
             "#bd3786"
            ],
            [
             0.5555555555555556,
             "#d8576b"
            ],
            [
             0.6666666666666666,
             "#ed7953"
            ],
            [
             0.7777777777777778,
             "#fb9f3a"
            ],
            [
             0.8888888888888888,
             "#fdca26"
            ],
            [
             1,
             "#f0f921"
            ]
           ]
          },
          "colorway": [
           "#636efa",
           "#EF553B",
           "#00cc96",
           "#ab63fa",
           "#FFA15A",
           "#19d3f3",
           "#FF6692",
           "#B6E880",
           "#FF97FF",
           "#FECB52"
          ],
          "font": {
           "color": "#2a3f5f"
          },
          "geo": {
           "bgcolor": "white",
           "lakecolor": "white",
           "landcolor": "#E5ECF6",
           "showlakes": true,
           "showland": true,
           "subunitcolor": "white"
          },
          "hoverlabel": {
           "align": "left"
          },
          "hovermode": "closest",
          "mapbox": {
           "style": "light"
          },
          "paper_bgcolor": "white",
          "plot_bgcolor": "#E5ECF6",
          "polar": {
           "angularaxis": {
            "gridcolor": "white",
            "linecolor": "white",
            "ticks": ""
           },
           "bgcolor": "#E5ECF6",
           "radialaxis": {
            "gridcolor": "white",
            "linecolor": "white",
            "ticks": ""
           }
          },
          "scene": {
           "xaxis": {
            "backgroundcolor": "#E5ECF6",
            "gridcolor": "white",
            "gridwidth": 2,
            "linecolor": "white",
            "showbackground": true,
            "ticks": "",
            "zerolinecolor": "white"
           },
           "yaxis": {
            "backgroundcolor": "#E5ECF6",
            "gridcolor": "white",
            "gridwidth": 2,
            "linecolor": "white",
            "showbackground": true,
            "ticks": "",
            "zerolinecolor": "white"
           },
           "zaxis": {
            "backgroundcolor": "#E5ECF6",
            "gridcolor": "white",
            "gridwidth": 2,
            "linecolor": "white",
            "showbackground": true,
            "ticks": "",
            "zerolinecolor": "white"
           }
          },
          "shapedefaults": {
           "line": {
            "color": "#2a3f5f"
           }
          },
          "ternary": {
           "aaxis": {
            "gridcolor": "white",
            "linecolor": "white",
            "ticks": ""
           },
           "baxis": {
            "gridcolor": "white",
            "linecolor": "white",
            "ticks": ""
           },
           "bgcolor": "#E5ECF6",
           "caxis": {
            "gridcolor": "white",
            "linecolor": "white",
            "ticks": ""
           }
          },
          "title": {
           "x": 0.05
          },
          "xaxis": {
           "automargin": true,
           "gridcolor": "white",
           "linecolor": "white",
           "ticks": "",
           "title": {
            "standoff": 15
           },
           "zerolinecolor": "white",
           "zerolinewidth": 2
          },
          "yaxis": {
           "automargin": true,
           "gridcolor": "white",
           "linecolor": "white",
           "ticks": "",
           "title": {
            "standoff": 15
           },
           "zerolinecolor": "white",
           "zerolinewidth": 2
          }
         }
        },
        "title": {
         "text": "State Proportion of Customers"
        },
        "xaxis": {
         "anchor": "y",
         "domain": [
          0,
          1
         ],
         "title": {
          "text": "State"
         }
        },
        "yaxis": {
         "anchor": "x",
         "domain": [
          0,
          1
         ],
         "title": {
          "text": "Proportion of customers"
         }
        }
       }
      }
     },
     "metadata": {},
     "output_type": "display_data"
    }
   ],
   "source": [
    "df = outage_cleaned.copy()\n",
    "state_count = outage_cleaned.groupby('U.S._STATE')['POPULATION'].transform('mean')\n",
    "df['pop_mean'] = state_count\n",
    "state_means = df.groupby('U.S._STATE')['TOTAL.CUSTOMERS'].mean()/df.groupby('U.S._STATE').mean()['pop_mean']  \n",
    "fig = px.bar(state_means)\n",
    "fig.update_layout(\n",
    "    title_text=\"State Proportion of Customers\",\n",
    "    xaxis_title=\"State\",\n",
    "    yaxis_title=\"Proportion of customers\"\n",
    ")\n",
    "fig.show()"
   ]
  },
  {
   "cell_type": "markdown",
   "metadata": {},
   "source": [
    "### Explanation of Graph: 'State Proportions of Customers'\n",
    "This graph displays the proportion of customers to the population mean over the years of each state.\n",
    "\n",
    "There isn't particularly any state that is a significant outlier. Hawaii and Maine have a small customer base while Maine has a surprising amount. \n"
   ]
  },
  {
   "cell_type": "code",
   "execution_count": 103,
   "metadata": {},
   "outputs": [],
   "source": [
    "fig.write_html('assets/plot_bivar_1.html', include_plotlyjs='cdn')"
   ]
  },
  {
   "cell_type": "markdown",
   "metadata": {},
   "source": [
    "# Interesting Aggregates\t"
   ]
  },
  {
   "cell_type": "markdown",
   "metadata": {},
   "source": [
    "## Mean Price vs Mean Customers per State"
   ]
  },
  {
   "cell_type": "code",
   "execution_count": 104,
   "metadata": {},
   "outputs": [
    {
     "data": {
      "application/vnd.plotly.v1+json": {
       "config": {
        "plotlyServerURL": "https://plot.ly"
       },
       "data": [
        {
         "hovertemplate": "TOTAL.PRICE=%{x}<br>TOTAL.CUSTOMERS=%{y}<br>U.S._STATE=%{text}<extra></extra>",
         "legendgroup": "",
         "marker": {
          "color": "#636efa",
          "symbol": "circle"
         },
         "mode": "markers+text",
         "name": "",
         "orientation": "v",
         "showlegend": false,
         "text": [
          "Alabama",
          "Alaska",
          "Arizona",
          "Arkansas",
          "California",
          "Colorado",
          "Connecticut",
          "Delaware",
          "District of Columbia",
          "Florida",
          "Georgia",
          "Hawaii",
          "Idaho",
          "Illinois",
          "Indiana",
          "Iowa",
          "Kansas",
          "Kentucky",
          "Louisiana",
          "Maine",
          "Maryland",
          "Massachusetts",
          "Michigan",
          "Minnesota",
          "Mississippi",
          "Missouri",
          "Montana",
          "Nebraska",
          "Nevada",
          "New Hampshire",
          "New Jersey",
          "New Mexico",
          "New York",
          "North Carolina",
          "North Dakota",
          "Ohio",
          "Oklahoma",
          "Oregon",
          "Pennsylvania",
          "South Carolina",
          "South Dakota",
          "Tennessee",
          "Texas",
          "Utah",
          "Vermont",
          "Virginia",
          "Washington",
          "West Virginia",
          "Wisconsin",
          "Wyoming"
         ],
         "type": "scatter",
         "x": [
          7.994,
          null,
          9.12214285714286,
          7.620799999999998,
          13.088476190476198,
          9.121999999999998,
          16.106666666666666,
          11.14076923076923,
          12.274,
          9.15577777777778,
          8.291764705882352,
          23.919999999999998,
          6.534285714285714,
          8.607111111111113,
          7.771162790697671,
          7.4925000000000015,
          8.97875,
          6.806923076923076,
          7.948000000000002,
          12.974210526315789,
          10.862931034482754,
          13.601111111111113,
          9.449148936170213,
          9.01,
          9.452499999999999,
          8.137058823529411,
          8.376666666666667,
          6.9125000000000005,
          8.547142857142857,
          14.47857142857143,
          14.10085714285714,
          8.7625,
          15.42,
          8.45135135135135,
          7.56,
          8.58279069767442,
          7.4982608695652155,
          8.232399999999998,
          9.900535714285713,
          7.758750000000001,
          7.67,
          9.196363636363639,
          9.091854838709674,
          7.739756097560977,
          14.286666666666665,
          8.223611111111111,
          6.9291666666666645,
          7.9425,
          9.848999999999998,
          6.815
         ],
         "xaxis": "x",
         "y": [
          2400594.3333333335,
          273530,
          2797370.4285714286,
          1536840.32,
          14725657.39047619,
          2500519.6,
          1605949.611111111,
          453606.1219512195,
          254702.6,
          9305542.888888888,
          4495715.411764706,
          468228.4,
          796922.3333333334,
          5629589.978260869,
          3101283.6279069767,
          1561979.75,
          1464591.7777777778,
          2231649.3846153845,
          2241875.95,
          788618.3157894737,
          2437643.275862069,
          3081853.777777778,
          4791431.294736842,
          2598505.7333333334,
          1501798.5,
          3076338.470588235,
          586389.6666666666,
          975463.75,
          1255775.7142857143,
          708128.7142857143,
          3953192.742857143,
          991841.875,
          8012645.563380281,
          4769431.575,
          380215.5,
          5493112.069767442,
          1956267.375,
          1910005.2307692308,
          5940918.175438597,
          2314432.75,
          436229,
          3214631.2352941176,
          11083719.637795275,
          1111385.731707317,
          361019,
          3573552.8378378376,
          3230196.4536082475,
          1016085.75,
          2940780.9,
          328024.5
         ],
         "yaxis": "y"
        }
       ],
       "layout": {
        "legend": {
         "tracegroupgap": 0
        },
        "template": {
         "data": {
          "bar": [
           {
            "error_x": {
             "color": "#2a3f5f"
            },
            "error_y": {
             "color": "#2a3f5f"
            },
            "marker": {
             "line": {
              "color": "#E5ECF6",
              "width": 0.5
             },
             "pattern": {
              "fillmode": "overlay",
              "size": 10,
              "solidity": 0.2
             }
            },
            "type": "bar"
           }
          ],
          "barpolar": [
           {
            "marker": {
             "line": {
              "color": "#E5ECF6",
              "width": 0.5
             },
             "pattern": {
              "fillmode": "overlay",
              "size": 10,
              "solidity": 0.2
             }
            },
            "type": "barpolar"
           }
          ],
          "carpet": [
           {
            "aaxis": {
             "endlinecolor": "#2a3f5f",
             "gridcolor": "white",
             "linecolor": "white",
             "minorgridcolor": "white",
             "startlinecolor": "#2a3f5f"
            },
            "baxis": {
             "endlinecolor": "#2a3f5f",
             "gridcolor": "white",
             "linecolor": "white",
             "minorgridcolor": "white",
             "startlinecolor": "#2a3f5f"
            },
            "type": "carpet"
           }
          ],
          "choropleth": [
           {
            "colorbar": {
             "outlinewidth": 0,
             "ticks": ""
            },
            "type": "choropleth"
           }
          ],
          "contour": [
           {
            "colorbar": {
             "outlinewidth": 0,
             "ticks": ""
            },
            "colorscale": [
             [
              0,
              "#0d0887"
             ],
             [
              0.1111111111111111,
              "#46039f"
             ],
             [
              0.2222222222222222,
              "#7201a8"
             ],
             [
              0.3333333333333333,
              "#9c179e"
             ],
             [
              0.4444444444444444,
              "#bd3786"
             ],
             [
              0.5555555555555556,
              "#d8576b"
             ],
             [
              0.6666666666666666,
              "#ed7953"
             ],
             [
              0.7777777777777778,
              "#fb9f3a"
             ],
             [
              0.8888888888888888,
              "#fdca26"
             ],
             [
              1,
              "#f0f921"
             ]
            ],
            "type": "contour"
           }
          ],
          "contourcarpet": [
           {
            "colorbar": {
             "outlinewidth": 0,
             "ticks": ""
            },
            "type": "contourcarpet"
           }
          ],
          "heatmap": [
           {
            "colorbar": {
             "outlinewidth": 0,
             "ticks": ""
            },
            "colorscale": [
             [
              0,
              "#0d0887"
             ],
             [
              0.1111111111111111,
              "#46039f"
             ],
             [
              0.2222222222222222,
              "#7201a8"
             ],
             [
              0.3333333333333333,
              "#9c179e"
             ],
             [
              0.4444444444444444,
              "#bd3786"
             ],
             [
              0.5555555555555556,
              "#d8576b"
             ],
             [
              0.6666666666666666,
              "#ed7953"
             ],
             [
              0.7777777777777778,
              "#fb9f3a"
             ],
             [
              0.8888888888888888,
              "#fdca26"
             ],
             [
              1,
              "#f0f921"
             ]
            ],
            "type": "heatmap"
           }
          ],
          "heatmapgl": [
           {
            "colorbar": {
             "outlinewidth": 0,
             "ticks": ""
            },
            "colorscale": [
             [
              0,
              "#0d0887"
             ],
             [
              0.1111111111111111,
              "#46039f"
             ],
             [
              0.2222222222222222,
              "#7201a8"
             ],
             [
              0.3333333333333333,
              "#9c179e"
             ],
             [
              0.4444444444444444,
              "#bd3786"
             ],
             [
              0.5555555555555556,
              "#d8576b"
             ],
             [
              0.6666666666666666,
              "#ed7953"
             ],
             [
              0.7777777777777778,
              "#fb9f3a"
             ],
             [
              0.8888888888888888,
              "#fdca26"
             ],
             [
              1,
              "#f0f921"
             ]
            ],
            "type": "heatmapgl"
           }
          ],
          "histogram": [
           {
            "marker": {
             "pattern": {
              "fillmode": "overlay",
              "size": 10,
              "solidity": 0.2
             }
            },
            "type": "histogram"
           }
          ],
          "histogram2d": [
           {
            "colorbar": {
             "outlinewidth": 0,
             "ticks": ""
            },
            "colorscale": [
             [
              0,
              "#0d0887"
             ],
             [
              0.1111111111111111,
              "#46039f"
             ],
             [
              0.2222222222222222,
              "#7201a8"
             ],
             [
              0.3333333333333333,
              "#9c179e"
             ],
             [
              0.4444444444444444,
              "#bd3786"
             ],
             [
              0.5555555555555556,
              "#d8576b"
             ],
             [
              0.6666666666666666,
              "#ed7953"
             ],
             [
              0.7777777777777778,
              "#fb9f3a"
             ],
             [
              0.8888888888888888,
              "#fdca26"
             ],
             [
              1,
              "#f0f921"
             ]
            ],
            "type": "histogram2d"
           }
          ],
          "histogram2dcontour": [
           {
            "colorbar": {
             "outlinewidth": 0,
             "ticks": ""
            },
            "colorscale": [
             [
              0,
              "#0d0887"
             ],
             [
              0.1111111111111111,
              "#46039f"
             ],
             [
              0.2222222222222222,
              "#7201a8"
             ],
             [
              0.3333333333333333,
              "#9c179e"
             ],
             [
              0.4444444444444444,
              "#bd3786"
             ],
             [
              0.5555555555555556,
              "#d8576b"
             ],
             [
              0.6666666666666666,
              "#ed7953"
             ],
             [
              0.7777777777777778,
              "#fb9f3a"
             ],
             [
              0.8888888888888888,
              "#fdca26"
             ],
             [
              1,
              "#f0f921"
             ]
            ],
            "type": "histogram2dcontour"
           }
          ],
          "mesh3d": [
           {
            "colorbar": {
             "outlinewidth": 0,
             "ticks": ""
            },
            "type": "mesh3d"
           }
          ],
          "parcoords": [
           {
            "line": {
             "colorbar": {
              "outlinewidth": 0,
              "ticks": ""
             }
            },
            "type": "parcoords"
           }
          ],
          "pie": [
           {
            "automargin": true,
            "type": "pie"
           }
          ],
          "scatter": [
           {
            "fillpattern": {
             "fillmode": "overlay",
             "size": 10,
             "solidity": 0.2
            },
            "type": "scatter"
           }
          ],
          "scatter3d": [
           {
            "line": {
             "colorbar": {
              "outlinewidth": 0,
              "ticks": ""
             }
            },
            "marker": {
             "colorbar": {
              "outlinewidth": 0,
              "ticks": ""
             }
            },
            "type": "scatter3d"
           }
          ],
          "scattercarpet": [
           {
            "marker": {
             "colorbar": {
              "outlinewidth": 0,
              "ticks": ""
             }
            },
            "type": "scattercarpet"
           }
          ],
          "scattergeo": [
           {
            "marker": {
             "colorbar": {
              "outlinewidth": 0,
              "ticks": ""
             }
            },
            "type": "scattergeo"
           }
          ],
          "scattergl": [
           {
            "marker": {
             "colorbar": {
              "outlinewidth": 0,
              "ticks": ""
             }
            },
            "type": "scattergl"
           }
          ],
          "scattermapbox": [
           {
            "marker": {
             "colorbar": {
              "outlinewidth": 0,
              "ticks": ""
             }
            },
            "type": "scattermapbox"
           }
          ],
          "scatterpolar": [
           {
            "marker": {
             "colorbar": {
              "outlinewidth": 0,
              "ticks": ""
             }
            },
            "type": "scatterpolar"
           }
          ],
          "scatterpolargl": [
           {
            "marker": {
             "colorbar": {
              "outlinewidth": 0,
              "ticks": ""
             }
            },
            "type": "scatterpolargl"
           }
          ],
          "scatterternary": [
           {
            "marker": {
             "colorbar": {
              "outlinewidth": 0,
              "ticks": ""
             }
            },
            "type": "scatterternary"
           }
          ],
          "surface": [
           {
            "colorbar": {
             "outlinewidth": 0,
             "ticks": ""
            },
            "colorscale": [
             [
              0,
              "#0d0887"
             ],
             [
              0.1111111111111111,
              "#46039f"
             ],
             [
              0.2222222222222222,
              "#7201a8"
             ],
             [
              0.3333333333333333,
              "#9c179e"
             ],
             [
              0.4444444444444444,
              "#bd3786"
             ],
             [
              0.5555555555555556,
              "#d8576b"
             ],
             [
              0.6666666666666666,
              "#ed7953"
             ],
             [
              0.7777777777777778,
              "#fb9f3a"
             ],
             [
              0.8888888888888888,
              "#fdca26"
             ],
             [
              1,
              "#f0f921"
             ]
            ],
            "type": "surface"
           }
          ],
          "table": [
           {
            "cells": {
             "fill": {
              "color": "#EBF0F8"
             },
             "line": {
              "color": "white"
             }
            },
            "header": {
             "fill": {
              "color": "#C8D4E3"
             },
             "line": {
              "color": "white"
             }
            },
            "type": "table"
           }
          ]
         },
         "layout": {
          "annotationdefaults": {
           "arrowcolor": "#2a3f5f",
           "arrowhead": 0,
           "arrowwidth": 1
          },
          "autotypenumbers": "strict",
          "coloraxis": {
           "colorbar": {
            "outlinewidth": 0,
            "ticks": ""
           }
          },
          "colorscale": {
           "diverging": [
            [
             0,
             "#8e0152"
            ],
            [
             0.1,
             "#c51b7d"
            ],
            [
             0.2,
             "#de77ae"
            ],
            [
             0.3,
             "#f1b6da"
            ],
            [
             0.4,
             "#fde0ef"
            ],
            [
             0.5,
             "#f7f7f7"
            ],
            [
             0.6,
             "#e6f5d0"
            ],
            [
             0.7,
             "#b8e186"
            ],
            [
             0.8,
             "#7fbc41"
            ],
            [
             0.9,
             "#4d9221"
            ],
            [
             1,
             "#276419"
            ]
           ],
           "sequential": [
            [
             0,
             "#0d0887"
            ],
            [
             0.1111111111111111,
             "#46039f"
            ],
            [
             0.2222222222222222,
             "#7201a8"
            ],
            [
             0.3333333333333333,
             "#9c179e"
            ],
            [
             0.4444444444444444,
             "#bd3786"
            ],
            [
             0.5555555555555556,
             "#d8576b"
            ],
            [
             0.6666666666666666,
             "#ed7953"
            ],
            [
             0.7777777777777778,
             "#fb9f3a"
            ],
            [
             0.8888888888888888,
             "#fdca26"
            ],
            [
             1,
             "#f0f921"
            ]
           ],
           "sequentialminus": [
            [
             0,
             "#0d0887"
            ],
            [
             0.1111111111111111,
             "#46039f"
            ],
            [
             0.2222222222222222,
             "#7201a8"
            ],
            [
             0.3333333333333333,
             "#9c179e"
            ],
            [
             0.4444444444444444,
             "#bd3786"
            ],
            [
             0.5555555555555556,
             "#d8576b"
            ],
            [
             0.6666666666666666,
             "#ed7953"
            ],
            [
             0.7777777777777778,
             "#fb9f3a"
            ],
            [
             0.8888888888888888,
             "#fdca26"
            ],
            [
             1,
             "#f0f921"
            ]
           ]
          },
          "colorway": [
           "#636efa",
           "#EF553B",
           "#00cc96",
           "#ab63fa",
           "#FFA15A",
           "#19d3f3",
           "#FF6692",
           "#B6E880",
           "#FF97FF",
           "#FECB52"
          ],
          "font": {
           "color": "#2a3f5f"
          },
          "geo": {
           "bgcolor": "white",
           "lakecolor": "white",
           "landcolor": "#E5ECF6",
           "showlakes": true,
           "showland": true,
           "subunitcolor": "white"
          },
          "hoverlabel": {
           "align": "left"
          },
          "hovermode": "closest",
          "mapbox": {
           "style": "light"
          },
          "paper_bgcolor": "white",
          "plot_bgcolor": "#E5ECF6",
          "polar": {
           "angularaxis": {
            "gridcolor": "white",
            "linecolor": "white",
            "ticks": ""
           },
           "bgcolor": "#E5ECF6",
           "radialaxis": {
            "gridcolor": "white",
            "linecolor": "white",
            "ticks": ""
           }
          },
          "scene": {
           "xaxis": {
            "backgroundcolor": "#E5ECF6",
            "gridcolor": "white",
            "gridwidth": 2,
            "linecolor": "white",
            "showbackground": true,
            "ticks": "",
            "zerolinecolor": "white"
           },
           "yaxis": {
            "backgroundcolor": "#E5ECF6",
            "gridcolor": "white",
            "gridwidth": 2,
            "linecolor": "white",
            "showbackground": true,
            "ticks": "",
            "zerolinecolor": "white"
           },
           "zaxis": {
            "backgroundcolor": "#E5ECF6",
            "gridcolor": "white",
            "gridwidth": 2,
            "linecolor": "white",
            "showbackground": true,
            "ticks": "",
            "zerolinecolor": "white"
           }
          },
          "shapedefaults": {
           "line": {
            "color": "#2a3f5f"
           }
          },
          "ternary": {
           "aaxis": {
            "gridcolor": "white",
            "linecolor": "white",
            "ticks": ""
           },
           "baxis": {
            "gridcolor": "white",
            "linecolor": "white",
            "ticks": ""
           },
           "bgcolor": "#E5ECF6",
           "caxis": {
            "gridcolor": "white",
            "linecolor": "white",
            "ticks": ""
           }
          },
          "title": {
           "x": 0.05
          },
          "xaxis": {
           "automargin": true,
           "gridcolor": "white",
           "linecolor": "white",
           "ticks": "",
           "title": {
            "standoff": 15
           },
           "zerolinecolor": "white",
           "zerolinewidth": 2
          },
          "yaxis": {
           "automargin": true,
           "gridcolor": "white",
           "linecolor": "white",
           "ticks": "",
           "title": {
            "standoff": 15
           },
           "zerolinecolor": "white",
           "zerolinewidth": 2
          }
         }
        },
        "title": {
         "text": "Mean Price vs Mean Customers per State"
        },
        "xaxis": {
         "anchor": "y",
         "domain": [
          0,
          1
         ],
         "title": {
          "text": "TOTAL.PRICE"
         }
        },
        "yaxis": {
         "anchor": "x",
         "domain": [
          0,
          1
         ],
         "title": {
          "text": "TOTAL.CUSTOMERS"
         }
        }
       }
      }
     },
     "metadata": {},
     "output_type": "display_data"
    }
   ],
   "source": [
    "grouped_df = outage_cleaned.groupby('U.S._STATE').agg({'TOTAL.PRICE': 'mean', 'TOTAL.CUSTOMERS': 'mean'}).reset_index()\n",
    "df = grouped_df.copy()\n",
    "fig = px.scatter(df, x='TOTAL.PRICE', y='TOTAL.CUSTOMERS', text='U.S._STATE', title='Mean Price vs Mean Customers per State')\n",
    "fig.show()"
   ]
  },
  {
   "cell_type": "markdown",
   "metadata": {},
   "source": [
    "### Explanation of Graph: 'Mean Price vs Mean Customers per State'\n",
    "'Mean Price vs Mean Customers per State' reveals the outliers of data set. Hawaii is outlandishly expensive despite have a small number of customers. California has a massively large customer base. "
   ]
  },
  {
   "cell_type": "code",
   "execution_count": 105,
   "metadata": {},
   "outputs": [],
   "source": [
    "fig.write_html('assets/plot_agg_1.html', include_plotlyjs='cdn')"
   ]
  },
  {
   "cell_type": "markdown",
   "metadata": {},
   "source": [
    "# Assessment of Missingness\n"
   ]
  },
  {
   "cell_type": "markdown",
   "metadata": {},
   "source": [
    "## NMAR Analysis\n",
    "Column that we think is NMAR: ``CAUSE.CATEGORY.DETAIL``\n",
    "\n",
    "``CAUSE.CATEGORY.DETAIL`` is a detailed description of the event categories causing the major power outages. It is NMAR because the cause doesnt fit in one of the limited categories due to being a multitude of causes. To possibly collect more data to make it MAR, we can have someone present at the site of the power outage and provide detailed observations of everything going on there. From this text, we can parse it for observations previously present in CAUSE.CATEGORY.DETAIL and count the number of unique observations we see. If the missing is correlated to higher counts of these occurrences, we can say that ``CAUSE.CATEGORY.DETAIL`` is MAR due to not being able to put a certain outage in a single category.\n",
    "\n",
    "\n",
    " "
   ]
  },
  {
   "cell_type": "markdown",
   "metadata": {},
   "source": [
    "## MAR Analysis\n"
   ]
  },
  {
   "cell_type": "markdown",
   "metadata": {},
   "source": [
    "**MAR Question:** Is ``CUSTOMERS.AFFECTED`` missing dependent on ``CLIMATE.CATEGORY``?\n",
    "\n",
    "**Null hypothesis:** ``CUSTOMERS.AFFECTED`` is not missing dependent on ``CLIMATE.CATEGORY``.\\\n",
    "**Alternative hypothesis:** ``CUSTOMERS.AFFECTED`` is missing dependent on ``CLIMATE.CATEGORY``."
   ]
  },
  {
   "cell_type": "code",
   "execution_count": 106,
   "metadata": {},
   "outputs": [
    {
     "name": "stderr",
     "output_type": "stream",
     "text": [
      "/var/folders/75/4b4y2mlx2yv_34rkxb83ydkr0000gn/T/ipykernel_91558/2577924923.py:5: FutureWarning:\n",
      "\n",
      "Indexing with multiple keys (implicitly converted to a tuple of keys) will be deprecated, use a list instead.\n",
      "\n",
      "/var/folders/75/4b4y2mlx2yv_34rkxb83ydkr0000gn/T/ipykernel_91558/2577924923.py:10: FutureWarning:\n",
      "\n",
      "Indexing with multiple keys (implicitly converted to a tuple of keys) will be deprecated, use a list instead.\n",
      "\n"
     ]
    },
    {
     "data": {
      "text/plain": [
       "0.3534"
      ]
     },
     "execution_count": 106,
     "metadata": {},
     "output_type": "execute_result"
    }
   ],
   "source": [
    "#MAR test that is not dependent on\n",
    "mar_test = outage_cleaned.copy()\n",
    "mar_test['missingTrue'] = mar_test['CUSTOMERS.AFFECTED'].isna()\n",
    "mar_test['missingFalse'] = mar_test['CUSTOMERS.AFFECTED'].notna()\n",
    "observed_tvd = (mar_test.groupby('CLIMATE.CATEGORY')['missingTrue', 'missingFalse'].sum() / mar_test.groupby('CLIMATE.CATEGORY')['missingTrue', 'missingFalse'].sum().sum()).T.diff().iloc[-1].abs().sum()/2\n",
    "\n",
    "tvds = []\n",
    "for _ in range(10000):\n",
    "    mar_test['CLIMATE.CATEGORY'] = np.random.permutation(mar_test['CLIMATE.CATEGORY'])\n",
    "    perm_tvd = (mar_test.groupby('CLIMATE.CATEGORY')['missingTrue', 'missingFalse'].sum() / mar_test.groupby('CLIMATE.CATEGORY')['missingTrue', 'missingFalse'].sum().sum()).T.diff().iloc[-1].abs().sum()/2\n",
    "    tvds.append(perm_tvd)\n",
    "p_value = np.mean(tvds > observed_tvd)\n",
    "p_value\n"
   ]
  },
  {
   "cell_type": "markdown",
   "metadata": {},
   "source": [
    "Working with a significance level of 5% ($\\alpha$ = 0.05), we cannot reject the null hypothesis because the p_value above is signifcantly higher than $\\alpha$. As a result, we cannot make a conclusion on whether the missingness of ``CUSTOMERS.AFFECTED`` is dependent on ``CLIMATE.CATEGORY``."
   ]
  },
  {
   "cell_type": "markdown",
   "metadata": {},
   "source": [
    "**MAR Question:** Is ``CUSTOMERS.AFFECTED`` missing dependent on ``U.S._STATE``?\n",
    "\n",
    "**Null hypothesis:** ``CUSTOMERS.AFFECTED`` is not missing dependent on ``U.S._STATE``.\\\n",
    "**Alternative hypothesis:** ``CUSTOMERS.AFFECTED`` is missing dependent on ``U.S._STATE``."
   ]
  },
  {
   "cell_type": "code",
   "execution_count": 107,
   "metadata": {},
   "outputs": [
    {
     "name": "stderr",
     "output_type": "stream",
     "text": [
      "/var/folders/75/4b4y2mlx2yv_34rkxb83ydkr0000gn/T/ipykernel_91558/2981418078.py:5: FutureWarning:\n",
      "\n",
      "Indexing with multiple keys (implicitly converted to a tuple of keys) will be deprecated, use a list instead.\n",
      "\n",
      "/var/folders/75/4b4y2mlx2yv_34rkxb83ydkr0000gn/T/ipykernel_91558/2981418078.py:10: FutureWarning:\n",
      "\n",
      "Indexing with multiple keys (implicitly converted to a tuple of keys) will be deprecated, use a list instead.\n",
      "\n"
     ]
    },
    {
     "data": {
      "text/plain": [
       "0.0"
      ]
     },
     "execution_count": 107,
     "metadata": {},
     "output_type": "execute_result"
    }
   ],
   "source": [
    "#MAR test that is dependent on\n",
    "mar_test = outage_cleaned.copy()\n",
    "mar_test['missingTrue'] = mar_test['CUSTOMERS.AFFECTED'].isna()\n",
    "mar_test['missingFalse'] = mar_test['CUSTOMERS.AFFECTED'].notna()\n",
    "observed_tvd = (mar_test.groupby('U.S._STATE')['missingTrue', 'missingFalse'].sum() / mar_test.groupby('U.S._STATE')['missingTrue', 'missingFalse'].sum().sum()).T.diff().iloc[-1].abs().sum()/2\n",
    "\n",
    "tvds = []\n",
    "for _ in range(10000):\n",
    "    mar_test['U.S._STATE'] = np.random.permutation(mar_test['U.S._STATE'])\n",
    "    perm_tvd = (mar_test.groupby('U.S._STATE')['missingTrue', 'missingFalse'].sum() / mar_test.groupby('U.S._STATE')['missingTrue', 'missingFalse'].sum().sum()).T.diff().iloc[-1].abs().sum()/2\n",
    "    tvds.append(perm_tvd)\n",
    "p_value = np.mean(tvds > observed_tvd)\n",
    "p_value"
   ]
  },
  {
   "cell_type": "markdown",
   "metadata": {},
   "source": [
    "### Distributions of US States, Missing vs Not for Customers Affected "
   ]
  },
  {
   "cell_type": "code",
   "execution_count": 108,
   "metadata": {},
   "outputs": [
    {
     "data": {
      "application/vnd.plotly.v1+json": {
       "config": {
        "plotlyServerURL": "https://plot.ly"
       },
       "data": [
        {
         "alignmentgroup": "True",
         "hovertemplate": "MISSING=False<br>U.S._STATE=%{x}<br>OBS=%{y}<extra></extra>",
         "legendgroup": "False",
         "marker": {
          "color": "#636efa",
          "pattern": {
           "shape": ""
          }
         },
         "name": "False",
         "offsetgroup": "False",
         "orientation": "v",
         "showlegend": true,
         "textposition": "auto",
         "type": "bar",
         "x": [
          "Alabama",
          "Alaska",
          "Arizona",
          "Arkansas",
          "California",
          "Colorado",
          "Connecticut",
          "Delaware",
          "District of Columbia",
          "Florida",
          "Georgia",
          "Hawaii",
          "Idaho",
          "Illinois",
          "Indiana",
          "Iowa",
          "Kansas",
          "Kentucky",
          "Louisiana",
          "Maine",
          "Maryland",
          "Massachusetts",
          "Michigan",
          "Minnesota",
          "Mississippi",
          "Missouri",
          "Nebraska",
          "Nevada",
          "New Hampshire",
          "New Jersey",
          "New Mexico",
          "New York",
          "North Carolina",
          "North Dakota",
          "Ohio",
          "Oklahoma",
          "Oregon",
          "Pennsylvania",
          "South Carolina",
          "Tennessee",
          "Texas",
          "Utah",
          "Vermont",
          "Virginia",
          "Washington",
          "West Virginia",
          "Wisconsin",
          "Wyoming"
         ],
         "xaxis": "x",
         "y": [
          5,
          1,
          9,
          13,
          127,
          11,
          13,
          24,
          9,
          44,
          16,
          5,
          6,
          44,
          34,
          4,
          7,
          10,
          20,
          17,
          45,
          15,
          90,
          14,
          2,
          13,
          3,
          5,
          11,
          31,
          3,
          45,
          36,
          1,
          36,
          19,
          12,
          51,
          8,
          17,
          94,
          22,
          5,
          34,
          44,
          3,
          10,
          3
         ],
         "yaxis": "y"
        },
        {
         "alignmentgroup": "True",
         "hovertemplate": "MISSING=True<br>U.S._STATE=%{x}<br>OBS=%{y}<extra></extra>",
         "legendgroup": "True",
         "marker": {
          "color": "#EF553B",
          "pattern": {
           "shape": ""
          }
         },
         "name": "True",
         "offsetgroup": "True",
         "orientation": "v",
         "showlegend": true,
         "textposition": "auto",
         "type": "bar",
         "x": [
          "Alabama",
          "Arizona",
          "Arkansas",
          "California",
          "Colorado",
          "Connecticut",
          "Delaware",
          "District of Columbia",
          "Florida",
          "Georgia",
          "Idaho",
          "Illinois",
          "Indiana",
          "Iowa",
          "Kansas",
          "Kentucky",
          "Louisiana",
          "Maine",
          "Maryland",
          "Massachusetts",
          "Michigan",
          "Minnesota",
          "Mississippi",
          "Missouri",
          "Montana",
          "Nebraska",
          "Nevada",
          "New Hampshire",
          "New Jersey",
          "New Mexico",
          "New York",
          "North Carolina",
          "North Dakota",
          "Ohio",
          "Oklahoma",
          "Oregon",
          "Pennsylvania",
          "South Dakota",
          "Tennessee",
          "Texas",
          "Utah",
          "Vermont",
          "Virginia",
          "Washington",
          "West Virginia",
          "Wisconsin",
          "Wyoming"
         ],
         "xaxis": "x",
         "y": [
          1,
          19,
          12,
          83,
          4,
          5,
          17,
          1,
          1,
          1,
          3,
          2,
          9,
          4,
          2,
          3,
          20,
          2,
          13,
          3,
          5,
          1,
          2,
          4,
          3,
          1,
          2,
          3,
          4,
          5,
          26,
          4,
          1,
          7,
          5,
          14,
          6,
          2,
          17,
          33,
          19,
          4,
          3,
          53,
          1,
          10,
          3
         ],
         "yaxis": "y"
        }
       ],
       "layout": {
        "barmode": "group",
        "legend": {
         "title": {
          "text": "MISSING"
         },
         "tracegroupgap": 0
        },
        "margin": {
         "t": 60
        },
        "template": {
         "data": {
          "bar": [
           {
            "error_x": {
             "color": "#2a3f5f"
            },
            "error_y": {
             "color": "#2a3f5f"
            },
            "marker": {
             "line": {
              "color": "#E5ECF6",
              "width": 0.5
             },
             "pattern": {
              "fillmode": "overlay",
              "size": 10,
              "solidity": 0.2
             }
            },
            "type": "bar"
           }
          ],
          "barpolar": [
           {
            "marker": {
             "line": {
              "color": "#E5ECF6",
              "width": 0.5
             },
             "pattern": {
              "fillmode": "overlay",
              "size": 10,
              "solidity": 0.2
             }
            },
            "type": "barpolar"
           }
          ],
          "carpet": [
           {
            "aaxis": {
             "endlinecolor": "#2a3f5f",
             "gridcolor": "white",
             "linecolor": "white",
             "minorgridcolor": "white",
             "startlinecolor": "#2a3f5f"
            },
            "baxis": {
             "endlinecolor": "#2a3f5f",
             "gridcolor": "white",
             "linecolor": "white",
             "minorgridcolor": "white",
             "startlinecolor": "#2a3f5f"
            },
            "type": "carpet"
           }
          ],
          "choropleth": [
           {
            "colorbar": {
             "outlinewidth": 0,
             "ticks": ""
            },
            "type": "choropleth"
           }
          ],
          "contour": [
           {
            "colorbar": {
             "outlinewidth": 0,
             "ticks": ""
            },
            "colorscale": [
             [
              0,
              "#0d0887"
             ],
             [
              0.1111111111111111,
              "#46039f"
             ],
             [
              0.2222222222222222,
              "#7201a8"
             ],
             [
              0.3333333333333333,
              "#9c179e"
             ],
             [
              0.4444444444444444,
              "#bd3786"
             ],
             [
              0.5555555555555556,
              "#d8576b"
             ],
             [
              0.6666666666666666,
              "#ed7953"
             ],
             [
              0.7777777777777778,
              "#fb9f3a"
             ],
             [
              0.8888888888888888,
              "#fdca26"
             ],
             [
              1,
              "#f0f921"
             ]
            ],
            "type": "contour"
           }
          ],
          "contourcarpet": [
           {
            "colorbar": {
             "outlinewidth": 0,
             "ticks": ""
            },
            "type": "contourcarpet"
           }
          ],
          "heatmap": [
           {
            "colorbar": {
             "outlinewidth": 0,
             "ticks": ""
            },
            "colorscale": [
             [
              0,
              "#0d0887"
             ],
             [
              0.1111111111111111,
              "#46039f"
             ],
             [
              0.2222222222222222,
              "#7201a8"
             ],
             [
              0.3333333333333333,
              "#9c179e"
             ],
             [
              0.4444444444444444,
              "#bd3786"
             ],
             [
              0.5555555555555556,
              "#d8576b"
             ],
             [
              0.6666666666666666,
              "#ed7953"
             ],
             [
              0.7777777777777778,
              "#fb9f3a"
             ],
             [
              0.8888888888888888,
              "#fdca26"
             ],
             [
              1,
              "#f0f921"
             ]
            ],
            "type": "heatmap"
           }
          ],
          "heatmapgl": [
           {
            "colorbar": {
             "outlinewidth": 0,
             "ticks": ""
            },
            "colorscale": [
             [
              0,
              "#0d0887"
             ],
             [
              0.1111111111111111,
              "#46039f"
             ],
             [
              0.2222222222222222,
              "#7201a8"
             ],
             [
              0.3333333333333333,
              "#9c179e"
             ],
             [
              0.4444444444444444,
              "#bd3786"
             ],
             [
              0.5555555555555556,
              "#d8576b"
             ],
             [
              0.6666666666666666,
              "#ed7953"
             ],
             [
              0.7777777777777778,
              "#fb9f3a"
             ],
             [
              0.8888888888888888,
              "#fdca26"
             ],
             [
              1,
              "#f0f921"
             ]
            ],
            "type": "heatmapgl"
           }
          ],
          "histogram": [
           {
            "marker": {
             "pattern": {
              "fillmode": "overlay",
              "size": 10,
              "solidity": 0.2
             }
            },
            "type": "histogram"
           }
          ],
          "histogram2d": [
           {
            "colorbar": {
             "outlinewidth": 0,
             "ticks": ""
            },
            "colorscale": [
             [
              0,
              "#0d0887"
             ],
             [
              0.1111111111111111,
              "#46039f"
             ],
             [
              0.2222222222222222,
              "#7201a8"
             ],
             [
              0.3333333333333333,
              "#9c179e"
             ],
             [
              0.4444444444444444,
              "#bd3786"
             ],
             [
              0.5555555555555556,
              "#d8576b"
             ],
             [
              0.6666666666666666,
              "#ed7953"
             ],
             [
              0.7777777777777778,
              "#fb9f3a"
             ],
             [
              0.8888888888888888,
              "#fdca26"
             ],
             [
              1,
              "#f0f921"
             ]
            ],
            "type": "histogram2d"
           }
          ],
          "histogram2dcontour": [
           {
            "colorbar": {
             "outlinewidth": 0,
             "ticks": ""
            },
            "colorscale": [
             [
              0,
              "#0d0887"
             ],
             [
              0.1111111111111111,
              "#46039f"
             ],
             [
              0.2222222222222222,
              "#7201a8"
             ],
             [
              0.3333333333333333,
              "#9c179e"
             ],
             [
              0.4444444444444444,
              "#bd3786"
             ],
             [
              0.5555555555555556,
              "#d8576b"
             ],
             [
              0.6666666666666666,
              "#ed7953"
             ],
             [
              0.7777777777777778,
              "#fb9f3a"
             ],
             [
              0.8888888888888888,
              "#fdca26"
             ],
             [
              1,
              "#f0f921"
             ]
            ],
            "type": "histogram2dcontour"
           }
          ],
          "mesh3d": [
           {
            "colorbar": {
             "outlinewidth": 0,
             "ticks": ""
            },
            "type": "mesh3d"
           }
          ],
          "parcoords": [
           {
            "line": {
             "colorbar": {
              "outlinewidth": 0,
              "ticks": ""
             }
            },
            "type": "parcoords"
           }
          ],
          "pie": [
           {
            "automargin": true,
            "type": "pie"
           }
          ],
          "scatter": [
           {
            "fillpattern": {
             "fillmode": "overlay",
             "size": 10,
             "solidity": 0.2
            },
            "type": "scatter"
           }
          ],
          "scatter3d": [
           {
            "line": {
             "colorbar": {
              "outlinewidth": 0,
              "ticks": ""
             }
            },
            "marker": {
             "colorbar": {
              "outlinewidth": 0,
              "ticks": ""
             }
            },
            "type": "scatter3d"
           }
          ],
          "scattercarpet": [
           {
            "marker": {
             "colorbar": {
              "outlinewidth": 0,
              "ticks": ""
             }
            },
            "type": "scattercarpet"
           }
          ],
          "scattergeo": [
           {
            "marker": {
             "colorbar": {
              "outlinewidth": 0,
              "ticks": ""
             }
            },
            "type": "scattergeo"
           }
          ],
          "scattergl": [
           {
            "marker": {
             "colorbar": {
              "outlinewidth": 0,
              "ticks": ""
             }
            },
            "type": "scattergl"
           }
          ],
          "scattermapbox": [
           {
            "marker": {
             "colorbar": {
              "outlinewidth": 0,
              "ticks": ""
             }
            },
            "type": "scattermapbox"
           }
          ],
          "scatterpolar": [
           {
            "marker": {
             "colorbar": {
              "outlinewidth": 0,
              "ticks": ""
             }
            },
            "type": "scatterpolar"
           }
          ],
          "scatterpolargl": [
           {
            "marker": {
             "colorbar": {
              "outlinewidth": 0,
              "ticks": ""
             }
            },
            "type": "scatterpolargl"
           }
          ],
          "scatterternary": [
           {
            "marker": {
             "colorbar": {
              "outlinewidth": 0,
              "ticks": ""
             }
            },
            "type": "scatterternary"
           }
          ],
          "surface": [
           {
            "colorbar": {
             "outlinewidth": 0,
             "ticks": ""
            },
            "colorscale": [
             [
              0,
              "#0d0887"
             ],
             [
              0.1111111111111111,
              "#46039f"
             ],
             [
              0.2222222222222222,
              "#7201a8"
             ],
             [
              0.3333333333333333,
              "#9c179e"
             ],
             [
              0.4444444444444444,
              "#bd3786"
             ],
             [
              0.5555555555555556,
              "#d8576b"
             ],
             [
              0.6666666666666666,
              "#ed7953"
             ],
             [
              0.7777777777777778,
              "#fb9f3a"
             ],
             [
              0.8888888888888888,
              "#fdca26"
             ],
             [
              1,
              "#f0f921"
             ]
            ],
            "type": "surface"
           }
          ],
          "table": [
           {
            "cells": {
             "fill": {
              "color": "#EBF0F8"
             },
             "line": {
              "color": "white"
             }
            },
            "header": {
             "fill": {
              "color": "#C8D4E3"
             },
             "line": {
              "color": "white"
             }
            },
            "type": "table"
           }
          ]
         },
         "layout": {
          "annotationdefaults": {
           "arrowcolor": "#2a3f5f",
           "arrowhead": 0,
           "arrowwidth": 1
          },
          "autotypenumbers": "strict",
          "coloraxis": {
           "colorbar": {
            "outlinewidth": 0,
            "ticks": ""
           }
          },
          "colorscale": {
           "diverging": [
            [
             0,
             "#8e0152"
            ],
            [
             0.1,
             "#c51b7d"
            ],
            [
             0.2,
             "#de77ae"
            ],
            [
             0.3,
             "#f1b6da"
            ],
            [
             0.4,
             "#fde0ef"
            ],
            [
             0.5,
             "#f7f7f7"
            ],
            [
             0.6,
             "#e6f5d0"
            ],
            [
             0.7,
             "#b8e186"
            ],
            [
             0.8,
             "#7fbc41"
            ],
            [
             0.9,
             "#4d9221"
            ],
            [
             1,
             "#276419"
            ]
           ],
           "sequential": [
            [
             0,
             "#0d0887"
            ],
            [
             0.1111111111111111,
             "#46039f"
            ],
            [
             0.2222222222222222,
             "#7201a8"
            ],
            [
             0.3333333333333333,
             "#9c179e"
            ],
            [
             0.4444444444444444,
             "#bd3786"
            ],
            [
             0.5555555555555556,
             "#d8576b"
            ],
            [
             0.6666666666666666,
             "#ed7953"
            ],
            [
             0.7777777777777778,
             "#fb9f3a"
            ],
            [
             0.8888888888888888,
             "#fdca26"
            ],
            [
             1,
             "#f0f921"
            ]
           ],
           "sequentialminus": [
            [
             0,
             "#0d0887"
            ],
            [
             0.1111111111111111,
             "#46039f"
            ],
            [
             0.2222222222222222,
             "#7201a8"
            ],
            [
             0.3333333333333333,
             "#9c179e"
            ],
            [
             0.4444444444444444,
             "#bd3786"
            ],
            [
             0.5555555555555556,
             "#d8576b"
            ],
            [
             0.6666666666666666,
             "#ed7953"
            ],
            [
             0.7777777777777778,
             "#fb9f3a"
            ],
            [
             0.8888888888888888,
             "#fdca26"
            ],
            [
             1,
             "#f0f921"
            ]
           ]
          },
          "colorway": [
           "#636efa",
           "#EF553B",
           "#00cc96",
           "#ab63fa",
           "#FFA15A",
           "#19d3f3",
           "#FF6692",
           "#B6E880",
           "#FF97FF",
           "#FECB52"
          ],
          "font": {
           "color": "#2a3f5f"
          },
          "geo": {
           "bgcolor": "white",
           "lakecolor": "white",
           "landcolor": "#E5ECF6",
           "showlakes": true,
           "showland": true,
           "subunitcolor": "white"
          },
          "hoverlabel": {
           "align": "left"
          },
          "hovermode": "closest",
          "mapbox": {
           "style": "light"
          },
          "paper_bgcolor": "white",
          "plot_bgcolor": "#E5ECF6",
          "polar": {
           "angularaxis": {
            "gridcolor": "white",
            "linecolor": "white",
            "ticks": ""
           },
           "bgcolor": "#E5ECF6",
           "radialaxis": {
            "gridcolor": "white",
            "linecolor": "white",
            "ticks": ""
           }
          },
          "scene": {
           "xaxis": {
            "backgroundcolor": "#E5ECF6",
            "gridcolor": "white",
            "gridwidth": 2,
            "linecolor": "white",
            "showbackground": true,
            "ticks": "",
            "zerolinecolor": "white"
           },
           "yaxis": {
            "backgroundcolor": "#E5ECF6",
            "gridcolor": "white",
            "gridwidth": 2,
            "linecolor": "white",
            "showbackground": true,
            "ticks": "",
            "zerolinecolor": "white"
           },
           "zaxis": {
            "backgroundcolor": "#E5ECF6",
            "gridcolor": "white",
            "gridwidth": 2,
            "linecolor": "white",
            "showbackground": true,
            "ticks": "",
            "zerolinecolor": "white"
           }
          },
          "shapedefaults": {
           "line": {
            "color": "#2a3f5f"
           }
          },
          "ternary": {
           "aaxis": {
            "gridcolor": "white",
            "linecolor": "white",
            "ticks": ""
           },
           "baxis": {
            "gridcolor": "white",
            "linecolor": "white",
            "ticks": ""
           },
           "bgcolor": "#E5ECF6",
           "caxis": {
            "gridcolor": "white",
            "linecolor": "white",
            "ticks": ""
           }
          },
          "title": {
           "x": 0.05
          },
          "xaxis": {
           "automargin": true,
           "gridcolor": "white",
           "linecolor": "white",
           "ticks": "",
           "title": {
            "standoff": 15
           },
           "zerolinecolor": "white",
           "zerolinewidth": 2
          },
          "yaxis": {
           "automargin": true,
           "gridcolor": "white",
           "linecolor": "white",
           "ticks": "",
           "title": {
            "standoff": 15
           },
           "zerolinecolor": "white",
           "zerolinewidth": 2
          }
         }
        },
        "xaxis": {
         "anchor": "y",
         "domain": [
          0,
          1
         ],
         "title": {
          "text": "U.S._STATE"
         }
        },
        "yaxis": {
         "anchor": "x",
         "domain": [
          0,
          1
         ],
         "title": {
          "text": "OBS"
         }
        }
       }
      }
     },
     "metadata": {},
     "output_type": "display_data"
    }
   ],
   "source": [
    "mar_df = outage_cleaned.copy()\n",
    "mar_df['MISSING'] = mar_df['CUSTOMERS.AFFECTED'].isna()\n",
    "mar_df = mar_df.groupby(['U.S._STATE', 'MISSING'])['OBS'].count().reset_index()\n",
    "px.bar(mar_df, x='U.S._STATE', y='OBS', color='MISSING', barmode=\"group\")"
   ]
  },
  {
   "cell_type": "code",
   "execution_count": 109,
   "metadata": {},
   "outputs": [],
   "source": [
    "fig.write_html('assets/plot_mar_1.html', include_plotlyjs='cdn')"
   ]
  },
  {
   "cell_type": "markdown",
   "metadata": {},
   "source": [
    "### Empirical Distribution of Test Statistics"
   ]
  },
  {
   "cell_type": "code",
   "execution_count": 110,
   "metadata": {},
   "outputs": [
    {
     "data": {
      "application/vnd.plotly.v1+json": {
       "config": {
        "plotlyServerURL": "https://plot.ly"
       },
       "data": [
        {
         "alignmentgroup": "True",
         "bingroup": "x",
         "hovertemplate": "variable=0<br>value=%{x}<br>count=%{y}<extra></extra>",
         "legendgroup": "0",
         "marker": {
          "color": "#636efa",
          "pattern": {
           "shape": ""
          }
         },
         "name": "0",
         "offsetgroup": "0",
         "orientation": "v",
         "showlegend": true,
         "type": "histogram",
         "x": [
          0.13472635745365838,
          0.13925551350780963,
          0.12048506868219973,
          0.1626089097541345,
          0.16946368088588554,
          0.12461903569736382,
          0.13817339901885528,
          0.16460761452723183,
          0.15568172178277848,
          0.11482414087765072,
          0.16440277832377775,
          0.16541247597312714,
          0.11463378804211763,
          0.11861257611527108,
          0.16815190156275545,
          0.12300517470045291,
          0.11127985384212716,
          0.1534430069127046,
          0.1423218494019404,
          0.12431695402358307,
          0.13469739071781642,
          0.14438883290952242,
          0.1453840471909508,
          0.12309828206565931,
          0.13879204573433782,
          0.1427170384409275,
          0.11441033036562229,
          0.1043857707117334,
          0.15104911310062008,
          0.1405238427271768,
          0.13970863601848077,
          0.16471106715523895,
          0.1230341414362949,
          0.13750509504192934,
          0.13185451250018104,
          0.12592046975769325,
          0.11939260893044466,
          0.13573605510300776,
          0.14879591486262525,
          0.15755835245482744,
          0.11876361695216145,
          0.1590294488250885,
          0.13513602986056655,
          0.13506775112608183,
          0.14479436721131025,
          0.16047364751206775,
          0.1551789420106639,
          0.16667459803481385,
          0.16230682808035374,
          0.11346891145075758,
          0.13695886516605182,
          0.1353305208012199,
          0.12702327477224903,
          0.13810925838949087,
          0.14224943256233538,
          0.12023678237498267,
          0.10526925615491411,
          0.13935275897813632,
          0.16488072946517063,
          0.13698369379677353,
          0.13191244597186502,
          0.11556072358906135,
          0.13575467657604906,
          0.137310604101276,
          0.1502690802854465,
          0.13119655378605585,
          0.1183104944414903,
          0.14675375998576487,
          0.14396053902957298,
          0.14364811209299153,
          0.16788913188761734,
          0.14713860376195137,
          0.15304367976859717,
          0.12479490516497592,
          0.10701346746311396,
          0.12170374064012351,
          0.1349311936571125,
          0.1657869744865129,
          0.1536478431161587,
          0.15064978595651263,
          0.14649512841574713,
          0.13947483307918476,
          0.1683960497648522,
          0.1433749971550527,
          0.15329196607581425,
          0.1633061804669024,
          0.16279512448454728,
          0.14018658715987367,
          0.1373437089422383,
          0.13052824980912991,
          0.1404990140964551,
          0.15444235929925326,
          0.13312697982466848,
          0.13632987318776862,
          0.14905040832752275,
          0.14843589971716054,
          0.13226418490708922,
          0.13108896305292844,
          0.1353160374332989,
          0.1396010452853534,
          0.10479544311864154,
          0.1354132829036256,
          0.13901136530571287,
          0.1585618429464964,
          0.13360493096606132,
          0.11262059990109928,
          0.13646643065673797,
          0.11772495256697006,
          0.11344408282003589,
          0.1223472159863277,
          0.17114582061728115,
          0.11267853337278327,
          0.14937111147434481,
          0.12258101892562377,
          0.17651915011597036,
          0.1191298392553066,
          0.14285773401501714,
          0.12924129911672147,
          0.13036686370943884,
          0.14887040075479036,
          0.14455435711433376,
          0.12326380627047066,
          0.15240434252751325,
          0.13752992367265104,
          0.15139050677304355,
          0.1407079884050295,
          0.10516580352690699,
          0.1596687860661724,
          0.11446826383730627,
          0.13669609549091377,
          0.15810872043582525,
          0.13757337377641407,
          0.14085489113679955,
          0.0911872844305864,
          0.14322395631816237,
          0.12389279824875392,
          0.1624971809158868,
          0.14784621973751996,
          0.13534500416914091,
          0.13761268577505675,
          0.15247262126199795,
          0.12262033092426648,
          0.12480525042777665,
          0.11735459215870461,
          0.12267412629083015,
          0.12609220112018504,
          0.14902144159168074,
          0.13988864359121314,
          0.1477096622685506,
          0.12714948697841771,
          0.12873438123948666,
          0.143087398849193,
          0.12393211024739662,
          0.15729558277968939,
          0.11549244485457665,
          0.14745103069853283,
          0.13672092412163545,
          0.12849437114251014,
          0.12449696159631544,
          0.13274213604848203,
          0.1256577000825552,
          0.14430607080711674,
          0.11768150246320705,
          0.1494993927330736,
          0.1406210881975035,
          0.13026548013399183,
          0.1045616401793455,
          0.12793986505639204,
          0.15505686790961556,
          0.14128318501674897,
          0.11546347811873466,
          0.11794013403322484,
          0.10731554913689476,
          0.1549637605444091,
          0.14544198066263475,
          0.1197919360745521,
          0.1134647733456373,
          0.1450178248878056,
          0.16779188641729065,
          0.1378858007129955,
          0.12868058587292294,
          0.12824608483529307,
          0.14632960421093577,
          0.1190222485221792,
          0.14014313705611064,
          0.1495573262047576,
          0.12529768493709048,
          0.11537037075352824,
          0.11204540328937976,
          0.13664230012435005,
          0.12182581474117188,
          0.15807975369998326,
          0.17610947770906224,
          0.1297047668901933,
          0.11698009364531887,
          0.13808029165364888,
          0.11925605146147526,
          0.1467972100895279,
          0.14238599003130475,
          0.1495718095726786,
          0.14259496433987912,
          0.1550568679096155,
          0.17916546834039224,
          0.13695886516605182,
          0.10977358357834366,
          0.15965016459313114,
          0.1388168743650595,
          0.12609633922530533,
          0.118422223279738,
          0.15590517945927382,
          0.11273232873934697,
          0.11874499547912018,
          0.1428287672791752,
          0.14404330113197863,
          0.11733597068566333,
          0.15708453941855482,
          0.10488855048384793,
          0.12866610250500196,
          0.13457945472188831,
          0.15817699917030995,
          0.17262312414522266,
          0.12099198655943455,
          0.11872016684839846,
          0.14512127751581275,
          0.13552501174187326,
          0.13833892322366664,
          0.12607151059458366,
          0.12220238230711775,
          0.1680256893565867,
          0.12843229956570587,
          0.1293385445870481,
          0.1380906369164496,
          0.14802208920513207,
          0.12033402784530936,
          0.14105972734025363,
          0.12532665167293244,
          0.10539546836108277,
          0.1524291711582349,
          0.14808002267681605,
          0.16416897538448172,
          0.14664203114751725,
          0.14687169598169306,
          0.15906876082373117,
          0.1435115546240221,
          0.14130801364747073,
          0.134633250088452,
          0.20668800549540361,
          0.13090895548019607,
          0.15231744231998728,
          0.15297540103411247,
          0.15637278533786594,
          0.1422639159302564,
          0.13011857740222174,
          0.13777820997986812,
          0.11798358413698784,
          0.14415502997022636,
          0.1101584273545301,
          0.15507135127753652,
          0.162238549345869,
          0.13025513487119114,
          0.1532816208130135,
          0.15148775224337024,
          0.14006037495370496,
          0.13209245354459742,
          0.12428798728774107,
          0.11795461740114584,
          0.1353843161677836,
          0.14526197308990244,
          0.14346810452025913,
          0.1496007763085206,
          0.15061047395786997,
          0.136394013817133,
          0.1398451934874502,
          0.11048533765903255,
          0.1420590797268023,
          0.1474613759613336,
          0.12344381384320308,
          0.147002046292982,
          0.14170320268645784,
          0.13581881720541344,
          0.15093738426237244,
          0.15617829439721262,
          0.14847521171580322,
          0.09161764736309597,
          0.1396651859147178,
          0.13749061167400836,
          0.12671084783566758,
          0.10672173105213391,
          0.14988423650926,
          0.12333208500495538,
          0.11293302683768076,
          0.13263454531535462,
          0.1503518423878522,
          0.1523753757916712,
          0.1518829412823574,
          0.13659885002058708,
          0.1322497015391682,
          0.12434592075942506,
          0.11740424942014803,
          0.16353998340619846,
          0.14081557913815684,
          0.13851479269127873,
          0.12122165139361035,
          0.14098110334296818,
          0.17167756712523766,
          0.14232184940194034,
          0.12918750375015778,
          0.13527672543465621,
          0.10951495200832587,
          0.12736880654979277,
          0.14159561195333048,
          0.13199106996915044,
          0.14816278477922176,
          0.118320839704291,
          0.10585893613455463,
          0.11641317324383992,
          0.11888569105320984,
          0.1405134974643761,
          0.16456416442346883,
          0.15235054716094953,
          0.12240514945801169,
          0.12357623320705219,
          0.14668134314615994,
          0.15664176217068437,
          0.10929977054207109,
          0.10973427157970093,
          0.16177094346727688,
          0.1387051455268118,
          0.1273832899177138,
          0.14349707125610112,
          0.1123619683310815,
          0.15981982690306282,
          0.12751984738668315,
          0.13651608791818137,
          0.14074730040367217,
          0.1414052591177974,
          0.14842141634923953,
          0.13613538224711524,
          0.1690933204776201,
          0.12528320156916947,
          0.1404741854657334,
          0.15872322904618744,
          0.14570061223265254,
          0.12808056063048168,
          0.1474944808022958,
          0.11744769952391103,
          0.15055667859130628,
          0.12284999575844227,
          0.129830979096362,
          0.12955372605330295,
          0.1540182035244241,
          0.11992849354352149,
          0.14338534241785345,
          0.13049928307328792,
          0.12334656837287639,
          0.13962173581095477,
          0.1567534910089321,
          0.12680809330599424,
          0.1421956371957717,
          0.1479434652078467,
          0.1456571621288896,
          0.1666166645631299,
          0.13363389770190331,
          0.16082952455241217,
          0.14836762098267584,
          0.10909079623349674,
          0.13759820240713577,
          0.1510925632043831,
          0.11877396221496216,
          0.13358010233533965,
          0.1813896998425451,
          0.1558948341964731,
          0.1159021172614848,
          0.13126483252054053,
          0.13641263529017428,
          0.1600060416334756,
          0.14455021900921347,
          0.13322422529499517,
          0.1650276321969407,
          0.12947510205601753,
          0.13282489815088772,
          0.13732922557431726,
          0.159283942289986,
          0.1503228756520102,
          0.13526224206673523,
          0.15619277776513357,
          0.10644861611419515,
          0.13365872633262502,
          0.1332056038219539,
          0.14499920341476435,
          0.15833838527000102,
          0.14914765379784944,
          0.12640876616188682,
          0.13572570984020704,
          0.13576915994397004,
          0.1822235280242824,
          0.13110344642084945,
          0.12617496322259072,
          0.11610695346493888,
          0.15887426988307782,
          0.12454248075263857,
          0.15312644187100288,
          0.13274213604848206,
          0.1411280060747383,
          0.1418976936271112,
          0.12911922501567308,
          0.14692962945337704,
          0.11553589495833966,
          0.15171741707754605,
          0.13510085596704413,
          0.15437408056476856,
          0.1609412533906599,
          0.11392203396142875,
          0.1208119789867022,
          0.1363691851864113,
          0.17911788013150898,
          0.12018712511353925,
          0.14390674366300926,
          0.11804151760867179,
          0.13896791520194993,
          0.1322890135378109,
          0.13862652152952643,
          0.1389141198353862,
          0.11936364219460267,
          0.15207329411789047,
          0.14017210379195266,
          0.1238245195142692,
          0.15048839985682155,
          0.11874913358424044,
          0.20063809580954783,
          0.1456178501302469,
          0.1347263574536584,
          0.12098784845431429,
          0.14264875970644286,
          0.12774537411573864,
          0.1332200871898749,
          0.14408675123574166,
          0.1395182831829477,
          0.1993987333260227,
          0.12286447912636325,
          0.1291047416477521,
          0.12612530596114735,
          0.14229288266609835,
          0.15069323606027563,
          0.1158772886307631,
          0.1306503239101783,
          0.15351128564718927,
          0.13688024116876643,
          0.11485931477117313,
          0.12746191391499917,
          0.13844651395679405,
          0.13175726702985438,
          0.13850030932335775,
          0.14198045572951692,
          0.16377378634549458,
          0.1282419467301728,
          0.10445404944621808,
          0.10717485356280507,
          0.1313662160959875,
          0.14534473519230812,
          0.14433089943783844,
          0.11282543610455335,
          0.14776345763511428,
          0.15674314574613138,
          0.11716010121805123,
          0.1509125556316507,
          0.1386906621588908,
          0.11877396221496217,
          0.12379969088354753,
          0.1712720328234498,
          0.1398162267516082,
          0.139348620873016,
          0.12098164129663388,
          0.15538377821411797,
          0.14986975314133905,
          0.1611998849606777,
          0.1479144984720047,
          0.1452868017206241,
          0.11343994471491559,
          0.13473049555877867,
          0.13666712875507175,
          0.15996672963483294,
          0.10722864892936876,
          0.15653417143755702,
          0.1335407903366969,
          0.13683265295988317,
          0.1546471955027074,
          0.14619304674196637,
          0.15519342537858488,
          0.16675322203209927,
          0.12702741287736935,
          0.1323717756402166,
          0.16046330224926705,
          0.13599882477814587,
          0.12116785602704666,
          0.15307264650443916,
          0.20637144045370184,
          0.1370768011619799,
          0.142098391725445,
          0.10552168056725145,
          0.13289317688537244,
          0.16035157341101935,
          0.12022643711218195,
          0.12211341304703165,
          0.1568714270048602,
          0.13602779151398783,
          0.128899905444298,
          0.14151284985092477,
          0.135491906900911,
          0.13805132491780686,
          0.1412935302795497,
          0.15490582707272513,
          0.15426235172652092,
          0.1323034969057319,
          0.13518361806944984,
          0.11394686259215044,
          0.1608543531831339,
          0.1558906960913528,
          0.14265910496924353,
          0.1077893621731673,
          0.13546707827018928,
          0.13985967685537115,
          0.1494890474702729,
          0.12479904327009621,
          0.11318131314489782,
          0.1279295197935913,
          0.12015815837769726,
          0.15988810563754752,
          0.13692989843020983,
          0.12291827449292694,
          0.15683211500621752,
          0.12112854402840395,
          0.15219536821893884,
          0.13328836592435955,
          0.1232493229025497,
          0.15676797437685308,
          0.13695472706093154,
          0.11231851822731853,
          0.15379888395304908,
          0.14250185697467274,
          0.14105352018257322,
          0.12867644776780265,
          0.11870568348047744,
          0.10740451839698084,
          0.13251247121430623,
          0.11516139644495388,
          0.14717791576059408,
          0.14247289023883075,
          0.12914405364639478,
          0.1124985258000509,
          0.13352216886365564,
          0.1339649461115261,
          0.1455888833944049,
          0.16126816369516236,
          0.10595618160488132,
          0.13973346464920247,
          0.1607074504513638,
          0.10384988609865654,
          0.12678947183295297,
          0.14586199833234365,
          0.13961139054815414,
          0.14362949061995026,
          0.1543885639326896,
          0.12293275786084794,
          0.15118567056958948,
          0.12114302739632493,
          0.13676437422539844,
          0.13490636502639078,
          0.15798664633477685,
          0.1586301216809811,
          0.15303333450579648,
          0.11656007597561,
          0.15125394930407418,
          0.14363362872507052,
          0.1257694289208029,
          0.12240101135289139,
          0.15104911310062008,
          0.11858360937942908,
          0.11670697870738009,
          0.12561838808391249,
          0.1389286032033072,
          0.12714948697841774,
          0.13965484065191708,
          0.1484648664530025,
          0.13415529894705916,
          0.1240872891894073,
          0.13668575022811302,
          0.15058564532714827,
          0.14104938207745288,
          0.11162124751455063,
          0.13206969396643584,
          0.13185865060530133,
          0.15225743979574313,
          0.16577249111859188,
          0.1247307645356115,
          0.12451144496423644,
          0.1553444662154753,
          0.12925164437952213,
          0.1297089049953136,
          0.13116137989253343,
          0.1251218154694784,
          0.1453840471909508,
          0.12456110222567986,
          0.14625098021365038,
          0.1371885300002276,
          0.1272322490808234,
          0.130762052748426,
          0.1281053892612034,
          0.14109283218121588,
          0.14315567758367762,
          0.12137683033562102,
          0.1439501937667723,
          0.14643719494406318,
          0.13536983279986264,
          0.12541355188045844,
          0.12774951222085898,
          0.1478069077388773,
          0.13859755479368444,
          0.13742647104464392,
          0.0944894923165733,
          0.14825589214442814,
          0.14979112914405363,
          0.13891411983538618,
          0.17240380457384757,
          0.11539519938424994,
          0.1230196580683739,
          0.1408838578726415,
          0.11624764903902855,
          0.1116357308824716,
          0.14159561195333048,
          0.14088385787264157,
          0.1348091195560641,
          0.13400425811016878,
          0.13003995340493638,
          0.1375154403047301,
          0.16944919751796456,
          0.13422357768154386,
          0.12115751076424595,
          0.14979112914405368,
          0.09703856507066849,
          0.17378386263146242,
          0.14842555445435981,
          0.13439944714915594,
          0.14333568515641001,
          0.1724575999404113,
          0.14489161268163694,
          0.13088412684947437,
          0.12915853701431576,
          0.10162151649138342,
          0.141210768177144,
          0.1347553241895004,
          0.11626213240694956,
          0.1239362483525169,
          0.15379888395304905,
          0.16271650048726186,
          0.11598487936389049,
          0.15077186005756107,
          0.11049982102695355,
          0.15241882589543423,
          0.15079048153060232,
          0.12985994583220398,
          0.15458305487334295,
          0.12085542909046519,
          0.13400425811016878,
          0.13715956326438558,
          0.12307345343493759,
          0.13437048041331393,
          0.1021780916300617,
          0.15206294885508978,
          0.17370110052905674,
          0.1404493568350117,
          0.152662974097531,
          0.16025846604581298,
          0.1525119332606406,
          0.11623316567110756,
          0.14277497191261151,
          0.12118233939496767,
          0.1144248137335433,
          0.13754854514569237,
          0.14556405476368317,
          0.12828539683393578,
          0.1445791857450555,
          0.16497797493549726,
          0.1552472207451486,
          0.150800826793403,
          0.122278937251843,
          0.14538404719095077,
          0.13805132491780692,
          0.12100646992735557,
          0.1411714561785013,
          0.1459447604347493,
          0.1413038755423504,
          0.15884530314723586,
          0.11552141159041862,
          0.1191836346218703,
          0.1246335190652848,
          0.13423392294434455,
          0.11523381328455888,
          0.14850004034652492,
          0.13887066973162318,
          0.13560363573915868,
          0.14054246420021807,
          0.14394605566165197,
          0.130718602644663,
          0.13011443929710143,
          0.1330338724594621,
          0.14673927661784394,
          0.12248377345529708,
          0.14802622731025236,
          0.11768150246320708,
          0.1384258234311926,
          0.1207188716214958,
          0.16031226141237667,
          0.12855437366675426,
          0.11462964993699734,
          0.1266136023653409,
          0.14957180957267857,
          0.16132195906172608,
          0.11957261650317702,
          0.1427170384409275,
          0.1495035308381939,
          0.14865521928853556,
          0.12909025827983112,
          0.14433089943783842,
          0.12088439582630717,
          0.18916106125843915,
          0.11553589495833964,
          0.1380120129191642,
          0.1536726717468804,
          0.11598487936389049,
          0.15360853111751596,
          0.15724592551824598,
          0.13932379224229433,
          0.13181520050153833,
          0.12856885703467527,
          0.12212789641495264,
          0.1290074961774254,
          0.11877396221496214,
          0.13433116841467124,
          0.15570034325581975,
          0.13275661941640304,
          0.12071887162149583,
          0.15630036849826098,
          0.14504265351852733,
          0.14568612886473156,
          0.11643800187456162,
          0.1558513840927101,
          0.15284298167026336,
          0.14975181714541097,
          0.15958602396376675,
          0.11921673946283257,
          0.12384934814499095,
          0.1157510764245944,
          0.17206241090142413,
          0.09865242606757937,
          0.1388603244688225,
          0.11114329637315778,
          0.14320947295024136,
          0.12849023303738985,
          0.09543918744167856,
          0.1404597020978124,
          0.14637926147237915,
          0.11916294409626887,
          0.14824554688162742,
          0.1173690755266256,
          0.15115670383374746,
          0.1715844597600313,
          0.11204540328937976,
          0.11783254330009746,
          0.12973787173115559,
          0.1273253564460298,
          0.14113214417985862,
          0.14735792333332642,
          0.133687693068467,
          0.14980561251197466,
          0.12464386432808552,
          0.15567137651997776,
          0.13738302094088095,
          0.118393256543896,
          0.13810925838949087,
          0.14289290790853962,
          0.13011857740222177,
          0.15348231891134728,
          0.13766648114162044,
          0.14683238398305035,
          0.1296364881557086,
          0.12021195374426097,
          0.1369050697994881,
          0.13683679106500343,
          0.13563260247500067,
          0.130747569380505,
          0.1478855317361627,
          0.14573992423129525,
          0.13415116084193887,
          0.13345389012917094,
          0.128026765263918,
          0.14211701319848627,
          0.13965070254679682,
          0.11460482130627564,
          0.15030839228408918,
          0.1504346044902579,
          0.11438550173490059,
          0.15929842565790697,
          0.15662727880276342,
          0.1455206046599202,
          0.14846072834788224,
          0.1292268157488005,
          0.1475731047995812,
          0.1560272535603222,
          0.14497437478404265,
          0.1588846151458786,
          0.14884557212406868,
          0.12609633922530536,
          0.13854375942712074,
          0.15734317098857264,
          0.16024398267789197,
          0.1354236281664263,
          0.1356822597364441,
          0.14650547367854785,
          0.1323759137453369,
          0.14958629294059955,
          0.16486624609724962,
          0.13826029922638125,
          0.13737888283576066,
          0.1271639703463387,
          0.10657482832036382,
          0.16422277075104538,
          0.16115643485691467,
          0.13518982522713024,
          0.1552223921144269,
          0.13033375886847653,
          0.13618917761367894,
          0.15717764678376125,
          0.14438469480440214,
          0.10448301618206007,
          0.1411714561785013,
          0.14567164549681053,
          0.12205961768046796,
          0.15159534297649763,
          0.16854709060174256,
          0.1222396252532003,
          0.13252695458222727,
          0.14644133304918344,
          0.15213122758957445,
          0.12070438825357481,
          0.12972338836323458,
          0.10039249927065899,
          0.1208119789867022,
          0.12783227432326463,
          0.1265308402629352,
          0.16768429568416326,
          0.13828512785710295,
          0.1317531289247341,
          0.14221012056369267,
          0.10730106576897372,
          0.12903646291326737,
          0.1141227320597625,
          0.12746605202011946,
          0.13937758760885802,
          0.15621760639585527,
          0.10318158212173065,
          0.15621760639585527,
          0.1197774527066311,
          0.12252722355906008,
          0.14174665279022083,
          0.13872376699985314,
          0.14716343239267307,
          0.11729665868702062,
          0.1617854268351979,
          0.13084067674571137,
          0.13910861077603956,
          0.14729585175652218,
          0.15718799204656198,
          0.14958629294059958,
          0.13833892322366667,
          0.16059572161311617,
          0.1429260127495019,
          0.15612036092552858,
          0.12792538168847103,
          0.12855851177187455,
          0.15359404774959498,
          0.14396467713469327,
          0.129773045624678,
          0.16819121356139807,
          0.16691874623691066,
          0.15303333450579643,
          0.1281343559970454,
          0.12207410104838894,
          0.13850444742847803,
          0.1476558669019869,
          0.1264915282642925,
          0.1525408999964826,
          0.1269984461415274,
          0.1133426992445889,
          0.12837850419914215,
          0.13858307142576343,
          0.14236116140058308,
          0.14213149656640728,
          0.15181466254787274,
          0.15750455708826372,
          0.14356948809570608,
          0.1378071767157101,
          0.1356326024750007,
          0.12628669206083845,
          0.13174692176705366,
          0.12805159389463971,
          0.14498885815196363,
          0.10419127977108002,
          0.1401327917933099,
          0.15663141690788374,
          0.09762410694518873,
          0.15531549947963327,
          0.1494497354716302,
          0.14476953858058858,
          0.14666065262055852,
          0.10988117431147106,
          0.13315594656051052,
          0.1526381454668093,
          0.12761295475188958,
          0.11018739409037207,
          0.13835340659158765,
          0.13458979998468903,
          0.16035157341101935,
          0.1058196241359119,
          0.1838953224928773,
          0.1425018569746727,
          0.12590598638977227,
          0.12542803524837942,
          0.13545259490226833,
          0.1380078748140439,
          0.1468903174547343,
          0.1429363580123026,
          0.12412660118805,
          0.09704891033346921,
          0.15488099844200345,
          0.14168871931853685,
          0.1427025550730065,
          0.12317069890526429,
          0.1326635120511966,
          0.14602752253715498,
          0.12293689596596824,
          0.15063530258859165,
          0.1492304159002551,
          0.14942076873578822,
          0.13033375886847656,
          0.12895783891598198,
          0.128972322283903,
          0.1214740758059477,
          0.16769877905208425,
          0.13939207097677905,
          0.15797216296685584,
          0.09794067198689048,
          0.10226499183758767,
          0.13620366098159992,
          0.13989898885401383,
          0.12615013459186905,
          0.1437991529298819,
          0.11589177199868407,
          0.11854015927566608,
          0.09695580296826281,
          0.12386383151291193,
          0.12906129154398907,
          0.11407307479831909,
          0.13416564420985985,
          0.15613898239856988,
          0.14089834124056252,
          0.1591618681889376,
          0.12025126574290368,
          0.1219809936831825,
          0.13641263529017428,
          0.11699871511836016,
          0.12865161913708095,
          0.13646643065673797,
          0.13845685921959477,
          0.11973400260286812,
          0.148704876549979,
          0.1354236281664263,
          0.10899355076317004,
          0.14332120178848903,
          0.14535921856022913,
          0.1608543531831339,
          0.12222100378015902,
          0.15485203170616146,
          0.15047805459402083,
          0.13379942190671473,
          0.1747976983859321,
          0.14380949819268257,
          0.12796883179223403,
          0.11857326411662837,
          0.13894308657122817,
          0.11524415854735959,
          0.16315513963001202,
          0.14810485130753778,
          0.1331373250874692,
          0.1596501645931312,
          0.1626089097541345,
          0.12779916948230235,
          0.1420487344640016,
          0.13765199777369944,
          0.13048479970536692,
          0.12697361751080563,
          0.14400398913333595,
          0.12587701965393028,
          0.11149917341350224,
          0.13055307843985162,
          0.15609967039992717,
          0.1471779157605941,
          0.14121490628226432,
          0.12011470827393428,
          0.12664256910118288,
          0.16229234471243273,
          0.1472172277592368,
          0.14018658715987364,
          0.13281041478296673,
          0.11304061757080816,
          0.12107474866184026,
          0.14415089186510607,
          0.11652076397696731,
          0.15381336732097006,
          0.13277110278432402,
          0.14903592495960175,
          0.1414838831150828,
          0.14581234107090024,
          0.12784675769118564,
          0.13420909431362285,
          0.13307318445810482,
          0.13130414451918324,
          0.10770660007076162,
          0.14262393107572113,
          0.1379106293437172,
          0.14965457167508425,
          0.1372030133681486,
          0.18126762574149674,
          0.16379861497621626,
          0.15896737724828428,
          0.131591742825043,
          0.11215713212762743,
          0.1307289479074637,
          0.15141947350888557,
          0.12367347867737884,
          0.14588061980538494,
          0.15154154760993394,
          0.1328973149904927,
          0.15189742465027842,
          0.13551052837395228,
          0.1690209036380151,
          0.1370126605326155,
          0.1583280400072003,
          0.1098604837858696,
          0.13720715147326887,
          0.12925578248464245,
          0.13105999631708645,
          0.13610641551127323,
          0.14512541562093303,
          0.13508223449400286,
          0.1277536503259792,
          0.12465834769600653,
          0.14799726057441034,
          0.14319498958232038,
          0.12557493798014951,
          0.15431614709308458,
          0.11412687016488281,
          0.15526170411306958,
          0.14727516123092074,
          0.15721695878240394,
          0.12959717615706592,
          0.13816305375605456,
          0.1593232542886287,
          0.13449255451436234,
          0.1363981519222533,
          0.15557826915477135,
          0.13038755423504023,
          0.1730617632879728,
          0.12263481429218749,
          0.14395019376677226,
          0.13747612830608735,
          0.15040563775441587,
          0.11502483897598449,
          0.1265204950001345,
          0.1287095526087649,
          0.1361891776136789,
          0.15747559035242173,
          0.1419804557295169,
          0.16550972144345383,
          0.13333181602812258,
          0.15723558025544523,
          0.13230349690573187,
          0.11795461740114585,
          0.13664230012435002,
          0.11058258312935924,
          0.14676410524856562,
          0.10654586158452184,
          0.17397835357211577,
          0.17423698514213357,
          0.12753019264948387,
          0.1501035560806351,
          0.10652103295380011,
          0.15819148253823093,
          0.1365450546540234,
          0.12139131370354202,
          0.12203478904974624,
          0.14444262827608612,
          0.14057143093606006,
          0.11676491217906407,
          0.16460761452723185,
          0.12397556035115959,
          0.15326299933997223,
          0.14472608847682558,
          0.13829547311990364,
          0.14855797381820887,
          0.13991347222193484,
          0.17756195260628205,
          0.1459447604347493,
          0.15635416386482467,
          0.14382398156060358,
          0.12814470125984612,
          0.10054354010754936,
          0.15969361469689416,
          0.15954257386000376,
          0.13820236575469727,
          0.12815918462776713,
          0.14017210379195263,
          0.1272860444473871,
          0.12215686315079463,
          0.15370577658784268,
          0.14636891620957845,
          0.14083006250607788,
          0.14822071825090577,
          0.11889603631601053,
          0.1568507364792588,
          0.11425928952873189,
          0.14669582651408095,
          0.13442841388499793,
          0.15579758872614638,
          0.13593468414878143,
          0.14786484121056126,
          0.1504739164889006,
          0.146070972640918,
          0.13695886516605182,
          0.1381589156509343,
          0.11093846016970371,
          0.15415476099339354,
          0.1525408999964826,
          0.12112854402840395,
          0.1281591846277671,
          0.13134759462294618,
          0.14651995704646886,
          0.1516387930802606,
          0.12171822400804447,
          0.15219536821893886,
          0.13424840631226556,
          0.1198167647052738,
          0.1300606439305378,
          0.16612423005381605,
          0.13526224206673523,
          0.14685100545609162,
          0.1344035852542762,
          0.14895316285719606,
          0.10712105819624136,
          0.15925911365926426,
          0.19519234947125363,
          0.13554984037259496,
          0.13433116841467121,
          0.16527591850415776,
          0.1357112264722861,
          0.13786097208227382,
          0.1225375688218608,
          0.15596932008863823,
          0.14419434196886902,
          0.16321307310169603,
          0.1557396552544624,
          0.14914351569272916,
          0.13776786471706742,
          0.1294564805829763,
          0.12887093870845603,
          0.13377045517087272,
          0.11130468247284887,
          0.16600215595276765,
          0.11910501062458492,
          0.12888128397125673,
          0.16217027061138434,
          0.11568279769010974,
          0.14668548125128023,
          0.12721776571290241,
          0.13022616813534915,
          0.1443702114364811,
          0.13690093169436782,
          0.12597012701913668,
          0.12749088065084116,
          0.13991347222193484,
          0.16052744287863144,
          0.13634021845056932,
          0.14729998986164247,
          0.1424439235029888,
          0.1410100700788102,
          0.12939233995361185,
          0.1427460051767695,
          0.15249744989271963,
          0.15857218820929708,
          0.12188374821285586,
          0.10216360826214069,
          0.14988423650926003,
          0.11863740474599277,
          0.16055640961447346,
          0.11309855104249214,
          0.1133323539817882,
          0.143087398849193,
          0.15511066327617923,
          0.15401820352442416,
          0.1606536550848001,
          0.09940763025203128,
          0.12534113504085345,
          0.1255645927173488,
          0.1504346044902579,
          0.11899741989145751,
          0.09855518059725271,
          0.13557880710843698,
          0.13994243895777686,
          0.1418832102591902,
          0.11222127275699184,
          0.11378547649245933,
          0.13753406177777136,
          0.15541274494995996,
          0.16508556566862467,
          0.12456524033080013,
          0.14152733321884575,
          0.1198415933359955,
          0.12234307788120743,
          0.14598407243339204,
          0.13213797270092054,
          0.15752938571898542,
          0.1559196628271948,
          0.147889669841283,
          0.13508223449400286,
          0.16500280356621902,
          0.1322786682750102,
          0.15478375297167674,
          0.15305816313651818,
          0.10981703368210663,
          0.11658904271145201,
          0.14230322792889907,
          0.11477034551108702,
          0.10944667327384117,
          0.14250185697467274,
          0.12717431560913942,
          0.11932433019595998,
          0.13486291492262778,
          0.1492014491644131,
          0.12974821699395628,
          0.1503621876506529,
          0.15236089242375025,
          0.14295084138022357,
          0.15000631061030845,
          0.1292661277474432,
          0.14098110334296823,
          0.1168290528084285,
          0.12305483196189633,
          0.11822359423396434,
          0.12299069133253192,
          0.12372313593882225,
          0.11728631342421991,
          0.16207302514105767,
          0.11835394454525328,
          0.1282564300980938,
          0.14736413049100688,
          0.10638033737971045,
          0.16163852410342783,
          0.14042039009916968,
          0.1491766205336914,
          0.11554624022114035,
          0.12237204461704942,
          0.14815864667410145,
          0.1379292508167585,
          0.129830979096362,
          0.15880599114859317,
          0.1143027396324949,
          0.1174373542611103,
          0.12698396277360635,
          0.16522212313759407,
          0.12070438825357481,
          0.1371637013695059,
          0.1299675365653314,
          0.18762996236393395,
          0.13743681630744464,
          0.14092730797640451,
          0.14182527678750625,
          0.1397231193864018,
          0.1350139557595182,
          0.13278144804712474,
          0.1232493229025497,
          0.1324586758477426,
          0.13059652854361462,
          0.13088412684947437,
          0.17375489589562043,
          0.12182581474117186,
          0.11898293652353648,
          0.1780254203797539,
          0.11845119001557997,
          0.13414081557913815,
          0.12758812612116788,
          0.13271730741776033,
          0.15460374539894436,
          0.1410928321812159,
          0.14477367668570884,
          0.1566603836437257,
          0.1255211426135858,
          0.12497491273770828,
          0.11874499547912015,
          0.13929896361157262,
          0.16232131144827475,
          0.1314986354598366,
          0.14650547367854785,
          0.16931677815411547,
          0.129787528992599,
          0.15236089242375023,
          0.12732535644602982,
          0.13760234051225603,
          0.11680422417770678,
          0.13430220167882922,
          0.1378071767157101,
          0.132537299845028,
          0.14656340715023186,
          0.16898159163937243,
          0.14952835946891557,
          0.15698729394822816,
          0.11903259378497993,
          0.14230736603401933,
          0.13493533176223277,
          0.14136594711915468,
          0.13178623376569634,
          0.11088466480313999,
          0.15107394173134178,
          0.15273125283201572,
          0.1420052843602386,
          0.147831736369599,
          0.1586011549451391,
          0.11375650975661734,
          0.16025432794069264,
          0.1420590797268023,
          0.14998148197958674,
          0.1779426582773482,
          0.13981622675160818,
          0.1314013899895099,
          0.1265204950001345,
          0.11557106885186204,
          0.13683265295988314,
          0.15284918882794377,
          0.12828539683393578,
          0.16305789415968536,
          0.1429653247481446,
          0.1452516278271017,
          0.14379915292988193,
          0.15945981175759807,
          0.16341377120002978,
          0.16720220643765019,
          0.14435986617368043,
          0.1515415476099339,
          0.14279980054333322,
          0.14039142336332772,
          0.1478855317361627,
          0.1313082826243035,
          0.1550858346454575,
          0.1237748622528258,
          0.1313082826243035,
          0.13948517834198543,
          0.12818815136360912,
          0.13094826747883875,
          0.1200753962752916,
          0.13237591374533686,
          0.1405714309360601,
          0.11405859143039809,
          0.15494513907136784,
          0.1598984509003482,
          0.15875219578202945,
          0.11134399447149157,
          0.12847574966946887,
          0.16534419723864247,
          0.13496016039295447,
          0.140381078100527,
          0.1239652150883589,
          0.13896791520194987,
          0.12612116785602703,
          0.1338532172732784,
          0.12796883179223403,
          0.1461351132702824,
          0.1380120129191642,
          0.15061047395786997,
          0.12936337321776986,
          0.14386743166436658,
          0.1541795896241152,
          0.1445502190092135,
          0.12044575668355703,
          0.12807642252536142,
          0.16567110754314487,
          0.14091282460848356,
          0.14921593253233414,
          0.1308406767457114,
          0.11207437002522176,
          0.1362222824546412,
          0.12378520751562652,
          0.13576915994397004,
          0.1731983207569422,
          0.1339608080064058,
          0.16429104948553008,
          0.15121463730543147,
          0.13303387245946208,
          0.1502939089161682,
          0.14026934926227932,
          0.12861230713843821,
          0.14552060465992017,
          0.14565716212888957,
          0.16906435374177808,
          0.1442915874391957,
          0.1207043882535748,
          0.10375677873345017,
          0.12516526557324134,
          0.11839325654389599,
          0.13597399614742417,
          0.1455744000264839,
          0.13124000388981882,
          0.1387196288947328,
          0.13174278366193337,
          0.15695832721238617,
          0.14823106351370643,
          0.14762690016614496,
          0.13937758760885802,
          0.15054633332850553,
          0.13611055361639354,
          0.12104578192599827,
          0.12527285630636875,
          0.15753766192922597,
          0.15311609660820216,
          0.16476900062692293,
          0.15061461206299026,
          0.11792978877042415,
          0.13467670019221495,
          0.1264811830014918,
          0.14077212903439387,
          0.1092563204383081,
          0.16123919695932037,
          0.16133644242964704,
          0.12186926484493488,
          0.12896818417878272,
          0.11486759098141369,
          0.14316602284647836,
          0.12121130613080966,
          0.15130774467063787,
          0.13648091402465895,
          0.15221398969198016,
          0.14797243194368867,
          0.13285386488672973,
          0.16204819651033595,
          0.10138771355208737,
          0.13684713632780413,
          0.13255178321294894,
          0.14216046330224927,
          0.12768123348637425,
          0.14864487402573487,
          0.1182711824428476,
          0.1395575951815904,
          0.15944946649479735,
          0.16995197729007908,
          0.10016904159416362,
          0.11397582932799243,
          0.1397624313850445,
          0.08840440873719516,
          0.1581625158023889,
          0.14398950576541497,
          0.14979112914405365,
          0.12703775814017004,
          0.12832470883257852,
          0.1189974198914575,
          0.14965043356996396,
          0.1557975887261464,
          0.13758785714433505,
          0.15016148955231906,
          0.14673927661784392,
          0.15273125283201572,
          0.12281068375979953,
          0.14899661296095904,
          0.12915853701431576,
          0.19089699635639845,
          0.11776840267073305,
          0.12047472341939902,
          0.12230790398768498,
          0.14339982578577443,
          0.13834926848646736,
          0.11327855861522453,
          0.1428287672791752,
          0.12337139700359809,
          0.16541247597312714,
          0.13529120880257722,
          0.14476953858058858,
          0.16627527089070646,
          0.13634021845056932,
          0.15989845090034824,
          0.15355059764583204,
          0.14641236631334145,
          0.12150924969947013,
          0.13330284929228056,
          0.12058231415252646,
          0.1410493820774529,
          0.1378216600836311,
          0.09868139280342139,
          0.12961165952498693,
          0.18976522460600068,
          0.1633454924655451,
          0.1290612915439891,
          0.1478710483682417,
          0.1175304616263167,
          0.16359377877276216,
          0.14118593954642228,
          0.13184002913226003,
          0.11758425699288037,
          0.1459199318040276,
          0.12461903569736382,
          0.11845119001557995,
          0.13007926540357906,
          0.13773475987610515,
          0.12506388199779436,
          0.13189382449882375,
          0.1348773982905488,
          0.12583770765528757,
          0.15750455708826375,
          0.17341764032831727,
          0.15899634398412624,
          0.15167396697378305,
          0.1510491131006201,
          0.11591660062940579,
          0.12391762687947563,
          0.14105972734025365,
          0.1311862085232551,
          0.11828152770564831,
          0.17846405952250408,
          0.14056729283093977,
          0.17415422303972788,
          0.1381878823867763,
          0.1299923651960531,
          0.15177121244410974,
          0.14817726814714274,
          0.13825616112126096,
          0.1633599758334661,
          0.1214699377008274,
          0.12077266698805948,
          0.16155990010614243,
          0.15620726113305458,
          0.14232184940194037,
          0.12349760920976677,
          0.13178623376569637,
          0.13742233293952366,
          0.1411466275477796,
          0.1337125216991887,
          0.11959744513389872,
          0.1305572165449719,
          0.14983044114269634,
          0.15742179498585804,
          0.18285665810768595,
          0.1323572922722956,
          0.15698729394822816,
          0.12461489759224355,
          0.12540941377533812,
          0.1273646684446725,
          0.14177561952606285,
          0.14014313705611067,
          0.13446772588364064,
          0.14447780216960854,
          0.14768483363782892,
          0.10982737894490732,
          0.13355113559949766,
          0.13865135016024813,
          0.14697307955713998,
          0.1379975295512432,
          0.13407253684465348,
          0.13765199777369946,
          0.1620585417731367,
          0.14929455652961954,
          0.15477961486655645,
          0.15340369491406192,
          0.1361105536163935,
          0.1371885300002276,
          0.12364865004665716,
          0.13590571741293944,
          0.13428771831090824,
          0.11786151003593945,
          0.13992381748473554,
          0.11635523977215594,
          0.17681088652695046,
          0.16815810872043588,
          0.1248383552687389,
          0.14720688249643607,
          0.12988477446292568,
          0.13403943200369117,
          0.14570061223265257,
          0.121333380231858,
          0.14170734079157812,
          0.10505407468865932,
          0.15559275252269236,
          0.13592020078086042,
          0.14475919331778786,
          0.1599667296348329,
          0.15419821109715653,
          0.1626089097541345,
          0.19871180787605552,
          0.13442841388499793,
          0.1234003637394401,
          0.1888196675860157,
          0.12940268521641257,
          0.13110344642084948,
          0.1379251127116382,
          0.13898239856987088,
          0.1544133925634113,
          0.12524388957052676,
          0.15737213772441463,
          0.13702714390053652,
          0.12707707013881275,
          0.14716343239267307,
          0.12810538926120335,
          0.16207716324617796,
          0.15143395687680655,
          0.15329196607581422,
          0.14607097264091803,
          0.15710936804927655,
          0.1233424302677561,
          0.14167837405573616,
          0.14058177619886078,
          0.15238985915959222,
          0.1454523259254355,
          0.14613925137540268,
          0.12254791408466148,
          0.13332147076532186,
          0.12907577491191008,
          0.17072166484245202,
          0.101207705979355,
          0.1356863978415644,
          0.1447798838433893,
          0.10943218990592019,
          0.12408728918940731,
          0.1429363580123026,
          0.1370912845299009,
          0.14970836704164797,
          0.14026521115715898,
          0.12090922445702887,
          0.12427350391982006,
          0.12355140457633046,
          0.14871315276021957,
          0.17668467432078178,
          0.14671444798712224,
          0.1399920962192202,
          0.1632523851003387,
          0.15164913834306135,
          0.17451010008007234,
          0.11080190270073431,
          0.11580487179115811,
          0.13262006194743367,
          0.12933440648192787,
          0.13522293006809252,
          0.154467187929975,
          0.15493479380856715,
          0.14985526977341804,
          0.1339856366371275,
          0.14179010289398383,
          0.12375624077978455,
          0.16203371314241496,
          0.1551582514850625,
          0.14483781731507325,
          0.1525222785234413,
          0.1304454877067242,
          0.10371332862968718,
          0.1616199026303865,
          0.15036218765065293,
          0.1560272535603222,
          0.13351182360085492,
          0.15548102368444466,
          0.10966185474009596,
          0.14704135829162465,
          0.14411571797158362,
          0.1363153898198476,
          0.10932046106767249,
          0.1438384649285246,
          0.14489161268163694,
          0.12543838051118014,
          0.14404330113197866,
          0.1085011162538562,
          0.12162097853771779,
          0.16765946705344156,
          0.11286474810319608,
          0.14746551406645386,
          0.119266396724276,
          0.14854762855540818,
          0.14911868706200745,
          0.13385321727327837,
          0.10802316511246335,
          0.1453695638230298,
          0.1434143091536954,
          0.14061074293470274,
          0.13913343940676126,
          0.1600681132102799,
          0.1363050445570469,
          0.14836762098267584,
          0.1568507364792588,
          0.1397727766478452,
          0.11226058475563455,
          0.14000657958714127,
          0.12735018507675153,
          0.10556099256589416,
          0.14977664577613267,
          0.11887120768528883,
          0.14563233349816784,
          0.16560282880866023,
          0.12847574966946887,
          0.14283911254197593,
          0.14735378522820616,
          0.11262059990109931,
          0.11619385367246488,
          0.13319525855915318,
          0.10666793568557022,
          0.13457531661676803,
          0.1484938331888445,
          0.14190803888991194,
          0.1417032026864578,
          0.14404743923709895,
          0.14912282516712774,
          0.12934888984984888,
          0.11328476577290492,
          0.14084454587399886,
          0.124083151084287,
          0.1470268749237037,
          0.14348258788818014,
          0.14584751496442266,
          0.1324441924798216,
          0.15167810507890334,
          0.14702687492370367,
          0.1335697570725389,
          0.14148388311508275,
          0.13095654368907933,
          0.155369294846197,
          0.11488828150701512,
          0.14195148899367493,
          0.11714561785013024,
          0.1435115546240221,
          0.13781752197851085,
          0.13353665223157662,
          0.13853962132200043,
          0.14736413049100688,
          0.1198809053346382,
          0.134676700192215,
          0.13456083324884704,
          0.1323076350108522,
          0.14745103069853283,
          0.13817753712397557,
          0.17127823998113023,
          0.15709488468135555,
          0.14353638325474383,
          0.13251247121430626,
          0.13842168532607235,
          0.14738275196404813,
          0.13405391537161218,
          0.14593441517194863,
          0.15296505577131175,
          0.13407253684465345,
          0.14739723533196913,
          0.13195175797050776,
          0.1633165257297031,
          0.1920908396836005,
          0.13851893079639901,
          0.1085155996217772,
          0.13393597937568408,
          0.13909412740811852,
          0.15838183537376402,
          0.1395969071802331,
          0.11900776515425822,
          0.15922600881830198,
          0.12500387947355027,
          0.13918723477332495,
          0.11958296176597774,
          0.11850498538214368,
          0.12579839565664488,
          0.12631152069156013,
          0.11768150246320708,
          0.1625551143875708,
          0.1673429020117398,
          0.14939180199994623,
          0.13777820997986812,
          0.12772468359013725,
          0.14582268633370096,
          0.1454130139267928,
          0.14542749729471377,
          0.10751624723522851,
          0.16300823689824193,
          0.1143172230004159,
          0.16054192624655245,
          0.12523354430772607,
          0.14242944013506778,
          0.14649512841574713,
          0.13661747149362838,
          0.12304034859397532,
          0.12035264931835063,
          0.148820743493347,
          0.14758758816750223,
          0.14555991665856288,
          0.13104551294916544,
          0.16041571404038377,
          0.1445936691129765,
          0.11796910076906683,
          0.13249798784638528,
          0.12846126630154786,
          0.13826029922638122,
          0.11119709173972146,
          0.16359377877276213,
          0.13653470939122267,
          0.1166676667087374,
          0.1321317655432401,
          0.16204819651033597,
          0.14639374484030016,
          0.13219590617260454,
          0.10937425643423622,
          0.12453627359495814,
          0.11107501763867308,
          0.14824554688162744,
          0.14002106295506225,
          0.13595951277950316,
          0.14386743166436658,
          0.13578364331189105,
          0.15319885871060784,
          0.12103543666319756,
          0.1306110119115356,
          0.09832551576307694,
          0.12676878130735153,
          0.11892500305185251,
          0.10658517358316452,
          0.13349734023293394,
          0.11723872521533665,
          0.14567164549681058,
          0.14716343239267307,
          0.15802595833341956,
          0.13768510261466174,
          0.13648091402465898,
          0.16607043468725238,
          0.14717377765547376,
          0.15639761396858767,
          0.1690540084789774,
          0.13167864303256896,
          0.15108842509926282,
          0.1304703163374459,
          0.13286834825465071,
          0.12354726647121017,
          0.1583425233751213,
          0.12104578192599827,
          0.1488993674906324,
          0.15189742465027842,
          0.1149317316107781,
          0.1683815663969312,
          0.1513180899334386,
          0.153608531117516,
          0.17362247653177135,
          0.15331679470653595,
          0.12509698683875667,
          0.15734317098857264,
          0.1185153306449444,
          0.15150223561129125,
          0.1404990140964551,
          0.1563396804969037,
          0.12768123348637425,
          0.15151258087409195,
          0.14427710407127473,
          0.11620419893526554,
          0.1265308402629352,
          0.14113214417985856,
          0.12779296232462192,
          0.13016202750598477,
          0.1399238174847356,
          0.11410824869184152,
          0.16984438655695172,
          0.12786124105910662,
          0.1615661072638228,
          0.11639455177079863,
          0.15123532783103288,
          0.1353884542729039,
          0.11488828150701513,
          0.12899301280950443,
          0.14317016095159865,
          0.15416924436131454,
          0.12223962525320033,
          0.14067902166918747,
          0.13072274074978327,
          0.16953195962037027,
          0.11795461740114585,
          0.1379685628154012,
          0.1337849385387937,
          0.11882775758152582,
          0.1380409796550062,
          0.1544133925634113,
          0.16036191867382008,
          0.11623316567110756,
          0.14097696523784792,
          0.12185478147701387,
          0.1640179345475913,
          0.13984519348745017,
          0.12507215820803494,
          0.1440867512357417,
          0.10661414031900653,
          0.1389534318340289,
          0.12881714334189232,
          0.16723531127861244,
          0.13435599704539294,
          0.13402908674089048,
          0.14636891620957848,
          0.1377244146133044,
          0.09963729508620708,
          0.15838183537376402,
          0.13908998930299823,
          0.12772054548501693,
          0.10618584643905711,
          0.14388191503228753,
          0.1410245534467312,
          0.1102515347197365,
          0.13980174338368717,
          0.1379582175526005,
          0.13676851233051876,
          0.13050962833608865,
          0.15511066327617923,
          0.15246848315687764,
          0.13038134707735985,
          0.13810512028437058,
          0.12714948697841771,
          0.15264849072960998,
          0.1410886940760956,
          0.12015402027257699,
          0.12264929766010847,
          0.10156772112481975,
          0.11315234640905583,
          0.14899661296095906,
          0.1280909058932824,
          0.1699954273938421,
          0.14653444041438984,
          0.14557440002648384,
          0.14108869407609562,
          0.1390217105685136,
          0.13021168476742814,
          0.10906182949765472,
          0.13889963646746517,
          0.12292241259804725,
          0.12288310059940455,
          0.12272792165739385,
          0.09342599930066023,
          0.1013442634483244,
          0.11240128032972423,
          0.1233858803715191,
          0.15164913834306132,
          0.11484896950837241,
          0.1361933157187992,
          0.15135119477440084,
          0.12591633165257296,
          0.1461640800061244,
          0.13687610306364614,
          0.11951468303149305,
          0.13686161969572516,
          0.12386383151291191,
          0.16847881186725785,
          0.13169312640048994,
          0.13226418490708922,
          0.15534446621547526,
          0.15533412095267454,
          0.11897879841841622,
          0.14214184182920797,
          0.12184029810909286,
          0.13009995592918047,
          0.14192666036295323,
          0.13676437422539844,
          0.13151311882775757,
          0.1322248729084465,
          0.15597345819375846,
          0.13422357768154386,
          0.14263841444364214,
          0.14241909487226706,
          0.1522098515868599,
          0.14194114373087421,
          0.14336051378713174,
          0.14804071067817337,
          0.12143062570218473,
          0.1175408068891174,
          0.11822773233908464,
          0.15016148955231912,
          0.1257652908156826,
          0.12861230713843824,
          0.14293635801230262,
          0.12332794689983512,
          0.15215605622029615,
          0.11111432963731578,
          0.1422101205636927,
          0.13673540748955645,
          0.111714354879757,
          0.15630036849826098,
          0.14081557913815687,
          0.1486117691847726,
          0.15618243250233285,
          0.11947537103285036,
          0.13244419247982156,
          0.12425902055189908,
          0.14010796316258822,
          0.12353278310328918,
          0.12524802767564705,
          0.14888902222783165,
          0.11882775758152583,
          0.15322368734132952,
          0.11558555221978303,
          0.10517201068458742,
          0.14701239155578266,
          0.17460320744527874,
          0.13296559372497743,
          0.13958242381231212,
          0.11299096030936473,
          0.17156997639211027,
          0.15059599058994896,
          0.1085942236190626,
          0.16211647524482067,
          0.1774543618731547,
          0.09033483477580781,
          0.13420909431362285,
          0.13048479970536692,
          0.13825616112126093,
          0.1143523968939383,
          0.1419080388899119,
          0.13580847194261278,
          0.12809504399840269,
          0.12271757639459314,
          0.15749007372034274,
          0.13348699497013325,
          0.1402403825264373,
          0.16926918994523216,
          0.14011830842538894,
          0.12349347110464648,
          0.12780744569254293,
          0.15960050733168776,
          0.15817699917030995,
          0.1542954565674832,
          0.11761322372872236,
          0.11473724067012475,
          0.13279593141504573,
          0.1151613964449539,
          0.1488414340189484,
          0.13245453774262228,
          0.15505272980449522,
          0.12564735481975448,
          0.11429239436969417,
          0.15458926203102336,
          0.12259136418842446,
          0.11851533064494438,
          0.13001719382677476,
          0.15637278533786597,
          0.16489107472797132,
          0.1368512744329244,
          0.1297627003618773,
          0.11859809274735006,
          0.12877783134324963,
          0.13099585568772204,
          0.1340146033729695,
          0.13996312948337825,
          0.1340187414780898,
          0.14549163792407818,
          0.12995719130253067,
          0.13888515309954416,
          0.1142634276338522,
          0.14339982578577445,
          0.14105972734025363,
          0.1394748330791847,
          0.14427710407127473,
          0.11755942836215869,
          0.13905067730435555,
          0.13731474220639628,
          0.12914819175151507,
          0.13083033148291068,
          0.15101600825965783,
          0.12349760920976677,
          0.16544558081408942,
          0.13977691475296547,
          0.13609607024847253,
          0.1601612205754863,
          0.1283495374633002,
          0.11073362396624963,
          0.17802542037975388,
          0.15905013935068993,
          0.1517567290761887,
          0.1413328422781924,
          0.14328809694752676,
          0.15887426988307787,
          0.12691568403912162,
          0.14701239155578266,
          0.1321669394367625,
          0.14866556455133628,
          0.1446433263744199,
          0.1528822936689061,
          0.13677885759331945,
          0.14130801364747067,
          0.11220058223139043,
          0.11987056007183752,
          0.15902117261484794,
          0.13196624133842874,
          0.13457531661676803,
          0.12430247065566208,
          0.12634462553252238,
          0.13159588093016325,
          0.12080163372390149,
          0.14270669317812681,
          0.14796829383856838,
          0.10809144384694805,
          0.14757310479958125,
          0.13155656893152057,
          0.15167810507890334,
          0.17668467432078178,
          0.14504679162364761,
          0.13836788995950863,
          0.17141893555521992,
          0.10480992648656254,
          0.10887147666212167,
          0.164988320198298,
          0.13330698739740088,
          0.11676491217906407,
          0.14584751496442264,
          0.13357596423021936,
          0.15463271213478635,
          0.1407328170357512,
          0.16045916414414677,
          0.15067875269235464,
          0.14836762098267584,
          0.1282709134660148,
          0.1397334646492025,
          0.16938091878347983,
          0.11033843492726245,
          0.1388168743650595,
          0.1331766370861119,
          0.16401793454759128,
          0.13564708584292168,
          0.14096248186992694,
          0.14141560438059808,
          0.11026601808765751,
          0.12321001090390699,
          0.14683238398305035,
          0.1410307606044116,
          0.1549596224392888,
          0.15584724598758984,
          0.12304448669909562,
          0.1683277710303675,
          0.15873357430898816,
          0.12441419949390976,
          0.14603786779995573,
          0.1438094981926826,
          0.12869506924084392,
          0.1708582223114214,
          0.14576889096713724,
          0.13386356253607912,
          0.10075458346868386,
          0.1314200114625512,
          0.13523327533089324,
          0.15002493208334974,
          0.1691222872134621,
          0.15407199889098788,
          0.13509671786192384,
          0.14330671842056805,
          0.11326407524730353,
          0.1314551853560736,
          0.1389534318340289,
          0.13187934113090274,
          0.13981622675160818,
          0.13754440704057205,
          0.12512181546947837,
          0.12062162615116911,
          0.11835394454525329,
          0.12939233995361182,
          0.13082619337779036,
          0.12065059288701112,
          0.12634048742740212,
          0.1445357356412925,
          0.1175739117300797,
          0.14248323550163144,
          0.11675042881114307,
          0.12378934562074678,
          0.14088385787264154,
          0.16468623852451722,
          0.1674546308499875,
          0.11334683734970921,
          0.11446826383730625,
          0.1388892912046645,
          0.14033348989164374,
          0.13389252927192113,
          0.12442454475671046,
          0.16033709004309837,
          0.1503083922840892,
          0.1274226019163565,
          0.1272281109757031,
          0.11226058475563454,
          0.1361208988791942,
          0.1355105283739523,
          0.1618433603068819,
          0.12359071657497316,
          0.16014673720756525,
          0.13223521817124723,
          0.10176841922315355,
          0.13999623432434058,
          0.12778882421950163,
          0.11567245242730903,
          0.13941069244982035,
          0.14133698038331272,
          0.12836402083122117,
          0.11405445332527783,
          0.1323614303774159,
          0.1403624566274857,
          0.13398563663712748,
          0.11307992956945087,
          0.12873438123948663,
          0.14304394874542997,
          0.1536581883789594,
          0.14256599760403713,
          0.14465780974234088,
          0.09767790231175244,
          0.1534181782819829,
          0.13360493096606132,
          0.16306203226480565,
          0.14456470237713448,
          0.10809144384694805,
          0.1461495966382034,
          0.1168331909135488,
          0.12185064337189358,
          0.14330671842056805,
          0.1396072524430338,
          0.13426288968018657,
          0.15794733433613414,
          0.14084454587399886,
          0.13660298812570737,
          0.1301040940343008,
          0.12590598638977227,
          0.15238985915959222,
          0.15667072890652645,
          0.13371665980430897,
          0.1323324636415739,
          0.12639842089908612,
          0.1388603244688225,
          0.14976216240821166,
          0.16716289443900745,
          0.11936364219460266,
          0.13352216886365562,
          0.10908665812837645,
          0.12297620796461092,
          0.1453302518243871,
          0.13784235060923253,
          0.11847601864630165,
          0.1401286536881896,
          0.11434618973625787,
          0.13271316931264004,
          0.12112854402840398,
          0.13067929064602032,
          0.1419121769950322,
          0.1083686968900071,
          0.14029831599812131,
          0.14247289023883072,
          0.1322786682750102,
          0.1561100156627279,
          0.12636531605812384,
          0.13512154649264554,
          0.11719320605901354,
          0.15732868762065166,
          0.14676410524856565,
          0.12841160904010449,
          0.10166082849002614,
          0.14493506278539992,
          0.1391086107760395,
          0.15487686033688314,
          0.11524829665247988,
          0.12462938096016456,
          0.09390395044205307,
          0.13282489815088774,
          0.11297647694144375,
          0.1416100953212514,
          0.14078661240231485,
          0.11309855104249214,
          0.12223548714808004,
          0.15768456466099612,
          0.15737213772441463,
          0.1615164500023794,
          0.14503230825572666,
          0.10325606801389577,
          0.13388839116680082,
          0.13365872633262504,
          0.1388023909971385,
          0.12704810340297076,
          0.12716397034633875,
          0.12388245298595321,
          0.11250887106285161,
          0.16085849128825422,
          0.13603813677678853,
          0.14707653218514707,
          0.15144430213960727,
          0.1353843161677836,
          0.1451005869902113,
          0.11943192092908737,
          0.15995224626691193,
          0.1446619478474612,
          0.13203038196779313,
          0.136437463920896,
          0.14418399670606832,
          0.16247235228516513,
          0.15288229366890607,
          0.13021168476742817,
          0.15244365452615594,
          0.12523354430772604,
          0.12338588037151907,
          0.13923068487708795,
          0.1313910447267092,
          0.161073672754509,
          0.12788606968982832,
          0.12054300215388372,
          0.14022589915851633,
          0.16412552528071872,
          0.14330258031544776,
          0.1528533269330641,
          0.16121436832859867,
          0.12416591318669269,
          0.12381003614634824,
          0.1413183589102714,
          0.16516418966591007,
          0.14994216998094406,
          0.14135146375123367,
          0.13310215119394678,
          0.14014313705611064,
          0.1299489150922901,
          0.13334216129092327,
          0.13522913722577296,
          0.16712358244036474,
          0.13728991357567455,
          0.11874913358424044,
          0.15026908028544653,
          0.14111352270681735,
          0.13234280890437464,
          0.1353987995357046,
          0.1292268157488005,
          0.1493814567371455,
          0.13750509504192934,
          0.11739804226246763,
          0.13536983279986262,
          0.11609247009701787,
          0.12769571685429526,
          0.1313227659922245,
          0.13149863545983662,
          0.1134792567135583,
          0.17984825568523916,
          0.13015788940086445,
          0.15683625311133778,
          0.14672479324992294,
          0.14056729283093977,
          0.15984465553378455,
          0.14957180957267857,
          0.12785710295398636,
          0.12193754357941955,
          0.17835646878937667,
          0.1331766370861119,
          0.14868418602437758,
          0.12612116785602703,
          0.11382478849110206,
          0.16447105705826248,
          0.15457891676822266,
          0.11160676414662961,
          0.12092370782494989,
          0.1371450798964646,
          0.11473103351244432,
          0.11268887863558398,
          0.13590571741293944,
          0.12663222383838216,
          0.11372754302077535,
          0.17846405952250405,
          0.10966599284521625,
          0.14523300635406042,
          0.13781752197851083,
          0.13359044759814034,
          0.13333181602812258,
          0.14734343996540544,
          0.13557466900331672,
          0.1232927730063127,
          0.1329904223556991,
          0.11248404243212991,
          0.15783560549788647,
          0.14923041590025513,
          0.14308326074407268,
          0.15051322848754325,
          0.13008961066637972,
          0.14724619449507875,
          0.13296145561985712,
          0.111743321615599,
          0.14735378522820614,
          0.13423392294434455,
          0.140308661260922,
          0.1615847287368641,
          0.1609267700227389,
          0.13077239801122667,
          0.11040671366174715,
          0.1191008725194646,
          0.12104992003111856,
          0.19191083211086812,
          0.12512595357459866,
          0.15123946593615314,
          0.15970809806481515,
          0.15552447378820763,
          0.12460455232944283,
          0.13520430859505123,
          0.1321710775418828,
          0.12445351149255245,
          0.11993883880632221,
          0.12583770765528757,
          0.12034851121323036,
          0.1213664850728203,
          0.1608440079203332,
          0.11893948641977353,
          0.15374508858648536,
          0.1542478683585999,
          0.1341118488432962,
          0.13606710351263052,
          0.12431695402358306,
          0.15085462215996673,
          0.15306850839931885,
          0.129773045624678,
          0.12762743811981056,
          0.1414052591177974,
          0.14749034269717556,
          0.11005083662140272,
          0.14608545600883902,
          0.1340187414780898,
          0.15973706480065714,
          0.13967966928263878,
          0.14231771129682008,
          0.13700231526981477,
          0.13480911955606406,
          0.14249358076443214,
          0.15086910552788774,
          0.14008934168954695,
          0.14031279936604232,
          0.15567137651997776,
          0.1292268157488005,
          0.1233217397421547,
          0.13831409459294494,
          0.1357505384709288,
          0.1444674569068078,
          0.13040617570808152,
          0.11969469060422544,
          0.16567110754314493,
          0.12435626602222576,
          0.10913010823213942,
          0.14427710407127475,
          0.15881633641139387,
          0.1388458411009015,
          0.15560309778549306,
          0.11550692822249764,
          0.12977718372979832,
          0.1277784789567009,
          0.15345335217550532,
          0.14385708640156586,
          0.15864046694378178,
          0.14409709649854235,
          0.13814857038813358,
          0.14319498958232038,
          0.11795047929602556,
          0.14671444798712224,
          0.1558906960913528,
          0.13486291492262778,
          0.16203371314241496,
          0.15281401493442134,
          0.1633785973065074,
          0.14826003024954845,
          0.15261952399376802,
          0.1486697026564566,
          0.14731447322956345,
          0.14689031745473433,
          0.120503690155241,
          0.1229658627018102,
          0.12089474108910789,
          0.1519119080181994,
          0.13643746392089598,
          0.1387920457343378,
          0.12754467601740488,
          0.13230349690573187,
          0.13835340659158768,
          0.12932406121912718,
          0.12070852635869511,
          0.14296532474814458,
          0.14991320324510204,
          0.10896458402732806,
          0.12439557802086848,
          0.1542768350944419,
          0.1241224630829297,
          0.12702741287736935,
          0.11491724824285712,
          0.15055667859130628,
          0.14977664577613267,
          0.1378858007129955,
          0.15884530314723586,
          0.11650628060904632,
          0.13285386488672968,
          0.11416618216352549,
          0.12300517470045291,
          0.135520873636753,
          0.13130414451918324,
          0.14489161268163697,
          0.1479434652078467,
          0.1426528978115631,
          0.15755835245482744,
          0.1365595380219444,
          0.1496256049392423,
          0.1273646684446725,
          0.12909439638495138,
          0.1267646432022313,
          0.16728910664517613,
          0.16136127106036874,
          0.1423218494019404,
          0.1550858346454575,
          0.11044188755526957,
          0.13337112802676526,
          0.1284074709349842,
          0.13170347166329066,
          0.1511711872016685,
          0.12036299458115135,
          0.13126897062566079,
          0.15954257386000376,
          0.13821684912261828,
          0.13383459580023713,
          0.14364811209299153,
          0.13416564420985985,
          0.10459060691518746,
          0.1552472207451486,
          0.13649125928745967,
          0.13590571741293944,
          0.13008547256125946,
          0.12197271747294196,
          0.12251274019113909,
          0.1352477586988142,
          0.1454709473984768,
          0.1512436040412735,
          0.13814857038813358,
          0.14502817015060634,
          0.1125668045345356,
          0.11917328935906958,
          0.12348312584184577,
          0.13757337377641404,
          0.11906569862594218,
          0.13415116084193887,
          0.1282274633622518,
          0.1505277118554643,
          0.14745103069853283,
          0.14828485888027013,
          0.17028302569970186,
          0.13437048041331395,
          0.15391061279129675,
          0.09552194954408427,
          0.15669555753724815,
          0.13608158688055152,
          0.11531657538696458,
          0.1429073912764606,
          0.12088439582630717,
          0.13536983279986262,
          0.14552060465992017,
          0.13686161969572516,
          0.15726040888616696,
          0.15869426231034547,
          0.13836788995950866,
          0.12297620796461092,
          0.10710243672320008,
          0.12473697169329193,
          0.16041985214550405,
          0.1283640208312212,
          0.12576942892080287,
          0.12511147020667765,
          0.11237231359388222,
          0.1626627051206982,
          0.14263841444364214,
          0.1330338724594621,
          0.1576555979251541,
          0.12998201993325237,
          0.12686188867255796,
          0.15874805767690914,
          0.14342465441649613,
          0.14148388311508278,
          0.12806607726256072,
          0.13925551350780963,
          0.12072921688429653,
          0.14210252983056526,
          0.1651352229300681,
          0.1445791857450555,
          0.10850111625385621,
          0.13977691475296547,
          0.12781779095534362,
          0.15369129321992167,
          0.12776399558877993,
          0.1160241913625332,
          0.11219230602114985,
          0.13348285686501293,
          0.12992408646156836,
          0.13694438179813082,
          0.13928034213853138,
          0.12849023303738985,
          0.14339982578577443,
          0.15187259601955672,
          0.14395019376677226,
          0.13191244597186502,
          0.14413020133950463,
          0.15463271213478633,
          0.13114275841949213,
          0.12107474866184029,
          0.1322497015391682,
          0.1191981179897913,
          0.16337445920138707,
          0.15466167887062834,
          0.11879258368800344,
          0.1527312528320157,
          0.13245453774262228,
          0.12877783134324963,
          0.14482333394715222,
          0.11615040356870188,
          0.12773502885293794,
          0.17002025602456378,
          0.1340104652678492,
          0.12190857684357756,
          0.12305897006701665,
          0.12382865761938949,
          0.12784675769118564,
          0.16963955035349762,
          0.14611028463956072,
          0.15082979352924503,
          0.12710603687465474,
          0.1460523511678767,
          0.10821351794799644,
          0.12423419192117738,
          0.13577950520677076,
          0.1463833995774995,
          0.15256572862720433,
          0.11002186988556069,
          0.13622848961232165,
          0.17868337909387916,
          0.1386554882653684,
          0.13498498902367617,
          0.1456861288647316,
          0.14176113615814187,
          0.12235756124912839,
          0.14680755535232856,
          0.13676851233051873,
          0.14415502997022633,
          0.14891385085855338,
          0.13492084839431176,
          0.1559444914579165,
          0.13694438179813076,
          0.1455930214995252,
          0.15129739940783715,
          0.15213122758957448,
          0.14780690773887728,
          0.13192692933978603,
          0.11107501763867308,
          0.12700879140432803,
          0.14843589971716054,
          0.13825616112126093,
          0.16257994301829248,
          0.1379685628154012,
          0.15526170411306958,
          0.15066840742955395,
          0.1315131188277576,
          0.14999182724238744,
          0.1207581836201385,
          0.1217182240080445,
          0.15330231133861494,
          0.1535112856471893,
          0.14274600517676947,
          0.08583464545749855,
          0.12524802767564705,
          0.14105972734025363,
          0.16675322203209927,
          0.15887013177795756,
          0.12839298756706316,
          0.1361395203522355,
          0.12185478147701387,
          0.11324959187938252,
          0.13428771831090824,
          0.10760314744275451,
          0.13755889040849306,
          0.1418397601554272,
          0.15645140933515136,
          0.1438094981926826,
          0.15801147496549853,
          0.1543740805647686,
          0.13614986561503623,
          0.14403295586917794,
          0.15635830196994494,
          0.14368742409163418,
          0.1191050106245849,
          0.13743267820232435,
          0.14405778449989964,
          0.12148855917386872,
          0.13882721962786024,
          0.1701319848628115,
          0.14493506278539997,
          0.12798331516015504,
          0.12339001847663937,
          0.11495035308381939,
          0.1436191453571495,
          0.1581625158023889,
          0.1442915874391957,
          0.137397504308802,
          0.12264929766010846,
          0.11095294353762471,
          0.12531630641013175,
          0.15820596590615194,
          0.12780330758742264,
          0.14201976772815958,
          0.14099144860576893,
          0.11650214250392602,
          0.1375588904084931,
          0.13218556090980377,
          0.13753406177777133,
          0.14362328346226982,
          0.11845119001557997,
          0.10533753488939879,
          0.13323457055779586,
          0.16746911421790847,
          0.14502817015060634,
          0.1330152509864208,
          0.10899355076317005,
          0.1322683230122095,
          0.15213122758957445,
          0.1418149315247055,
          0.1389244650981869,
          0.13492084839431173,
          0.12339001847663936,
          0.13103516768636475,
          0.1346829073498954,
          0.1625406310196498,
          0.12764192148773154,
          0.12457558559360085,
          0.12506802010291468,
          0.15144430213960725,
          0.12709155350673373,
          0.14820209677786444,
          0.14025486589435832,
          0.1314593234611939,
          0.14293635801230262,
          0.1190512152580212,
          0.168640197966949,
          0.15188294128235738,
          0.15394578668481917,
          0.12040644468491432,
          0.1568900484779015,
          0.1454088758216725,
          0.1625261476517288,
          0.120168503640498,
          0.12181546947837117,
          0.11401100322151486,
          0.11061154986520123,
          0.14171768605437887,
          0.13563260247500067,
          0.141196284809223,
          0.14724619449507878,
          0.13788993881811581,
          0.14827451361746943,
          0.11256266642941531,
          0.13934862087301605,
          0.14434538280575943,
          0.14069350503710848,
          0.11371305965285437,
          0.13351182360085495,
          0.13318491329635246,
          0.13318077519123217,
          0.11040257555662687,
          0.13906516067227656,
          0.19582134144953686,
          0.11041705892454784,
          0.12108923202976124,
          0.1182029037083629,
          0.11225023949283383,
          0.13301525098642084,
          0.17733228777210627,
          0.12347898773672548,
          0.12701292950944834,
          0.12460455232944284,
          0.11542416612009196,
          0.13788993881811581,
          0.13351182360085492,
          0.13939207097677903,
          0.1345504879860463,
          0.12198720084086295,
          0.11980641944247311,
          0.15432028519820487,
          0.14512127751581275,
          0.13444289725291894,
          0.16313031099929032,
          0.14577923622993796,
          0.14567578360193084,
          0.15285332693306408,
          0.14940628536786718,
          0.12092370782494988,
          0.1412149062822643,
          0.13787131734507452,
          0.1461102846395607,
          0.12371692878114184,
          0.10233327057207234,
          0.12937785658569084,
          0.09284045742614,
          0.15336024481029892,
          0.12696947940568534,
          0.11891465778905182,
          0.1608978032868969,
          0.12177201937460819,
          0.11600970799461219,
          0.14611028463956072,
          0.11767115720040637,
          0.14574406233641554,
          0.15282849830234238,
          0.10738382787137943,
          0.11144123994181827,
          0.16172128620583348,
          0.1452764564578234,
          0.14350741651890184,
          0.135549840372595,
          0.13907550593507725,
          0.12219617514943731,
          0.13969415265055982,
          0.13340009476260722,
          0.1276419214877315,
          0.16004949173723862,
          0.15639347586346736,
          0.1370912845299009,
          0.11257714979733632,
          0.0937922216038054,
          0.11400479606383443,
          0.15460374539894436,
          0.134589799984689,
          0.12348726394696605,
          0.14913730853504872,
          0.12490249589810332,
          0.1571921301516823,
          0.15218502295613814,
          0.11322476324866078,
          0.13185451250018107,
          0.1250825034708357,
          0.14476953858058858,
          0.1398948507488936,
          0.15255124525928335,
          0.12274240502531487,
          0.16804017272450775,
          0.1379437341846795,
          0.1551685967478632,
          0.12453627359495814,
          0.1197774527066311,
          0.15917635155685858,
          0.11820290370836292,
          0.13304835582738309,
          0.12812401073424468,
          0.12344381384320305,
          0.12075818362013852,
          0.11543864948801294,
          0.128870938708456,
          0.12864127387428023,
          0.14435572806856015,
          0.12208858441630993,
          0.13462911198333172,
          0.1305820451756936,
          0.12873438123948663,
          0.15630036849826098,
          0.11167504288111431,
          0.13292214362121443,
          0.15522653021954716,
          0.13291800551609412,
          0.1434867259933004,
          0.15487686033688317,
          0.14054246420021807,
          0.15723558025544526,
          0.13365872633262504,
          0.140381078100527,
          0.15941015449615467,
          0.15396440815786044,
          0.12787158632190734,
          0.10885699329420066,
          0.1698299031890307,
          0.14567164549681058,
          0.15606035840128446,
          0.1454233591895935,
          0.11305510093872914,
          0.14731447322956348,
          0.1044250827103761,
          0.13590157930781915,
          0.11026601808765749,
          0.13192692933978603,
          0.135549840372595,
          0.12753019264948387,
          0.12415556792389199,
          0.14820209677786444,
          0.1404990140964551,
          0.11602419136253318,
          0.13097723421468077,
          0.142141841829208,
          0.14665651451543826,
          0.12376658604258525,
          0.13327802066155886,
          0.13454634988092604,
          0.11122605847556345,
          0.11976296933871013,
          0.11708147722076583,
          0.14102041534161094,
          0.13262006194743367,
          0.13624711108536292,
          0.16144403316277448,
          0.13486291492262778,
          0.10840387078352952,
          0.1420590797268023,
          0.16554903344209654,
          0.1264915282642925,
          0.12397556035115961,
          0.12356588794425144,
          0.16705530370588006,
          0.11893948641977353,
          0.14237564476850406,
          0.1321959061726045,
          0.13264902868327566,
          0.11102122227210937,
          0.1483427923519541,
          0.14591993180402762,
          0.17277416498211304,
          0.11117226310899977,
          0.12044161857843676,
          0.1276957168542953,
          0.13274213604848206,
          0.10420576313900103,
          0.1504780545940209,
          0.13584778394125546,
          0.1740714609373222,
          0.11560003558770404,
          0.13076205274842598,
          0.13335664465884425,
          0.11286474810319605,
          0.13691541506228885,
          0.1404452187298914,
          0.1274184638112362,
          0.11532692064976525,
          0.1586011549451391,
          0.12452179022703713,
          0.14520817772333872,
          0.11524415854735959,
          0.15657348343619973,
          0.14143008774851906,
          0.14523300635406042,
          0.13071446453954272,
          0.14306257021847124,
          0.14731447322956348,
          0.18182833898529524,
          0.16045916414414674,
          0.15338921154614094,
          0.15965016459313114,
          0.16869813143863296,
          0.14642684968126246,
          0.12790055305774933,
          0.17546600236285803,
          0.14502817015060632,
          0.1247411097984122,
          0.12926612774744317,
          0.12143062570218471,
          0.14238599003130478,
          0.13817339901885525,
          0.1346725620870947,
          0.15723144215032492,
          0.15273125283201566,
          0.1569438438444652,
          0.14695859618921903,
          0.10606377233800869,
          0.15120015393751046,
          0.1397624313850445,
          0.1263839375311651,
          0.13012892266502246,
          0.138504447428478,
          0.16910780384554108,
          0.14330671842056802,
          0.11939260893044469,
          0.1376519977736995,
          0.1102225679838945,
          0.10329951811765875,
          0.14645581641710445,
          0.13379942190671468,
          0.10393264820106227,
          0.13473670271645913,
          0.11670697870738012,
          0.16229234471243273,
          0.1741687064076489,
          0.13501395575951813,
          0.1428349744368556,
          0.14924076116305582,
          0.11381030512318105,
          0.1429508413802236,
          0.1518291459157937,
          0.1348773982905488,
          0.13689058643156712,
          0.12478042179705491,
          0.12039196131699334,
          0.11644834713736235,
          0.1386306596346467,
          0.1569831558431079,
          0.14294670327510328,
          0.15732868762065164,
          0.13672506222675576,
          0.11293302683768078,
          0.13091309358531633,
          0.16748359758582945,
          0.15315540860684482,
          0.1355539784777153,
          0.15219950632405915,
          0.13616434898295723,
          0.13087998874435408,
          0.12263067618706719,
          0.14159561195333045,
          0.12833919220049944,
          0.1413369803833127,
          0.1533892115461409,
          0.12212375830983235,
          0.1323221183787732,
          0.12821297999433082,
          0.18851758591223494,
          0.16121436832859865,
          0.15227813032134457,
          0.14588682696306537,
          0.13282489815088772,
          0.13193727460258672,
          0.12902611765046668,
          0.1175739117300797,
          0.127110174979775,
          0.12834333030561978,
          0.1551003180133785,
          0.11937398745740338,
          0.1395969071802331,
          0.09818482018898725,
          0.13723198010399057,
          0.12907577491191008,
          0.1329862842505788,
          0.1110170841669891,
          0.13088826495459466,
          0.16746911421790847,
          0.14331706368336875,
          0.12140165896634272,
          0.14736826859612714,
          0.1230879368028586,
          0.14768069553270863,
          0.120125053536735,
          0.1567245242730901,
          0.13556018563539568,
          0.15106359646854114,
          0.12957234752634422,
          0.12772054548501693,
          0.16125368032724136,
          0.13850858553359832,
          0.12445351149255245,
          0.16815190156275542,
          0.13283938151880872,
          0.1660166393206887,
          0.16916159921210477,
          0.14586613643746396,
          0.1353987995357046,
          0.13188347923602303,
          0.14562819539304755,
          0.13413667747401786,
          0.1649345248317343,
          0.12635083269020284,
          0.13556018563539568,
          0.12851919977323184,
          0.1156972810580307,
          0.10456164017934548,
          0.13742647104464395,
          0.1347449789266997,
          0.14504679162364764,
          0.14868004791925732,
          0.13290766025329342,
          0.1829249368421706,
          0.1463833995774995,
          0.12337139700359807,
          0.13296145561985714,
          0.11797944603186755,
          0.12130855160113632,
          0.1304992830732879,
          0.1028650170800289,
          0.11624764903902854,
          0.12406866771636599,
          0.13919758003612565,
          0.14494954615332092,
          0.1321317655432401,
          0.12192306021149857,
          0.1445605642720142,
          0.1332883659243596,
          0.11138744457525454,
          0.15787491749652915,
          0.12367347867737882,
          0.1503228756520102,
          0.1134937400814793,
          0.12330725637423369,
          0.15266297409753102,
          0.12208444631118966,
          0.14508196551717,
          0.1505277118554643,
          0.10549271383140946,
          0.13901136530571284,
          0.1257942575515246,
          0.12631152069156013,
          0.1305634237026523,
          0.13024065150327016,
          0.11315648451417612,
          0.17378386263146242,
          0.14161009532125143,
          0.11576555979251543,
          0.1569831558431079,
          0.12471214306257022,
          0.12855851177187455,
          0.16601663932068866,
          0.12981235762332072,
          0.1447405718447466,
          0.17263346940802335,
          0.14446745690680785,
          0.15024425165472477,
          0.1642869113804098,
          0.14376604808891963,
          0.14653444041438987,
          0.1518829412823574,
          0.18363669092285953,
          0.13447807114644136,
          0.12672533120358856,
          0.1362905611891259,
          0.1354525949022683,
          0.1363691851864113,
          0.1437308741953972,
          0.1427170384409275,
          0.14560336676232588,
          0.10223188699662536,
          0.1403334898916437,
          0.12457972369872111,
          0.15814803243446793,
          0.15365198122127896,
          0.12410177255732827,
          0.13026548013399183,
          0.12971925025811432,
          0.11925605146147528,
          0.15742593309097833,
          0.14035211136468498,
          0.13701266053261552,
          0.1406107429347028,
          0.1295433807905022,
          0.17345695232695993,
          0.1395182831829477,
          0.12028023247874566,
          0.16856157396966356,
          0.1464516783119842,
          0.1371347346336639,
          0.17155549302418932,
          0.12941716858433355,
          0.150844276897166,
          0.10636585401178947,
          0.13282489815088774,
          0.14891385085855335,
          0.13162070956088498,
          0.11609660820213816,
          0.13024065150327016,
          0.1357546765760491,
          0.122249970516001,
          0.1386989383691314,
          0.17172101722900068,
          0.14962560493924226,
          0.15935222102447072,
          0.1470951536581884,
          0.14591579369890734,
          0.1157945265283574,
          0.14725653975787947,
          0.1580300964385398,
          0.12449696159631546,
          0.1413224970153917,
          0.13931965413717406,
          0.13856238090016199,
          0.15907910608653192,
          0.13695472706093156,
          0.1513615400372016,
          0.14563233349816784,
          0.13844651395679405,
          0.152720907569215,
          0.1148882815070151,
          0.13749061167400836,
          0.1398058814888075,
          0.14720688249643607,
          0.14613925137540268,
          0.14217080856504996,
          0.1520339821192478,
          0.11779323130145475,
          0.12996753656533136,
          0.13676437422539847,
          0.1349705056557552,
          0.1510491131006201,
          0.1524871046299189,
          0.12698396277360635,
          0.14880626012542597,
          0.13464359535125267,
          0.1257404621849609,
          0.12033402784530936,
          0.14231771129682008,
          0.11969055249910512,
          0.14434538280575943,
          0.15637278533786594,
          0.1067796645238179,
          0.13910447267091927,
          0.14293635801230262,
          0.12096715792871288,
          0.14568612886473156,
          0.12057196888972574,
          0.1593956711282337,
          0.12642738763492808,
          0.15984465553378452,
          0.1597908601672208,
          0.14218115382785068,
          0.13679334096124046,
          0.12099198655943458,
          0.1550816965403372,
          0.13965484065191708,
          0.13421943957642357,
          0.1625799430182925,
          0.14484816257787397,
          0.13052411170400963,
          0.13644160202601627,
          0.1577776720262025,
          0.11561451895562504,
          0.16706564896868073,
          0.13001098666909433,
          0.1306648072780993,
          0.12181546947837117,
          0.14338534241785345,
          0.14565716212888957,
          0.1263839375311651,
          0.1430977441119937,
          0.10749141860450681,
          0.1132889038780252,
          0.1304744544425662,
          0.12880265997397133,
          0.1285543736667543,
          0.12606737248946334,
          0.1717748125955644,
          0.13683679106500343,
          0.16997059876312037,
          0.15768456466099606,
          0.1308944721122751,
          0.12441006138878948,
          0.16396413918102765,
          0.1437846695619609,
          0.15931290902582798,
          0.12802262715879772,
          0.13042065907600253,
          0.14338534241785345,
          0.15035184238785218,
          0.11766701909528607,
          0.12797296989735432,
          0.15399958205138287,
          0.12671084783566758,
          0.12129406823321534,
          0.12036299458115134,
          0.16051709761583072,
          0.16599181068996696,
          0.13767061924674073,
          0.16121436832859867,
          0.11190884582041039,
          0.11394272448703013,
          0.13767682640442117,
          0.10899355076317006,
          0.12148442106874842,
          0.11357650218388499,
          0.13731474220639628,
          0.12716397034633872,
          0.13823133249053926,
          0.12394659361531761,
          0.14656340715023183,
          0.1379002840809165,
          0.14328809694752676,
          0.1585183928427334,
          0.14561371202512657,
          0.1257259788170399,
          0.12647704489637152,
          0.15373060521856438,
          0.1158917719986841,
          0.16307651563272663,
          0.13910447267091924,
          0.11367788575933194,
          0.14876694812678326,
          0.12933854458704816,
          0.10493200058761093,
          0.14345362115233815,
          0.14593027706682835,
          0.13952862844574843,
          0.12122165139361035,
          0.12783227432326463,
          0.13593054604366117,
          0.11676491217906411,
          0.11822773233908462,
          0.16157024536894313,
          0.15235054716094953,
          0.13542362816642634,
          0.14586613643746396,
          0.14240461150434605,
          0.1517215551826663,
          0.1451792109874967,
          0.13751957840985032,
          0.11464413330491836,
          0.11557520695698231,
          0.15156637624065564,
          0.13883135773298047,
          0.13911895603884025,
          0.12016850364049798,
          0.125916331652573,
          0.12761295475188955,
          0.14252668560539447,
          0.12999650330117338,
          0.13509671786192387,
          0.15279953156650042,
          0.16691874623691066,
          0.16007845847308058,
          0.1207871503559805,
          0.17098443451759002,
          0.13993830085265657,
          0.1561100156627279,
          0.17676743642318749,
          0.15961085259448846,
          0.11207023192010149,
          0.12758398801604756,
          0.11653524734488832,
          0.1403479732595647,
          0.11260611653317829,
          0.14349707125610114,
          0.12997788182813208,
          0.1486014239219719,
          0.13833892322366664,
          0.14606683453579772,
          0.13746164493816637,
          0.13093378411091777,
          0.15188294128235738,
          0.12026574911082466,
          0.14317016095159868,
          0.15397475342066114,
          0.09417706537999186,
          0.1109922555362674,
          0.14419434196886907,
          0.1689712463765717,
          0.13270282404983932,
          0.13679334096124043,
          0.1362864230840056,
          0.12346864247392475,
          0.1273791518125935,
          0.13984519348745017,
          0.12871989787156563,
          0.15460788350406462,
          0.14152733321884575,
          0.14564681686608885,
          0.1561100156627279,
          0.16289650805999425,
          0.11728217531909964,
          0.14000657958714124,
          0.12041678994771504,
          0.13964035728399607,
          0.1795172072756164,
          0.12447834012327415,
          0.15790388423237114,
          0.11226472286075484,
          0.13786097208227382,
          0.12313759406430201,
          0.1350822344940028,
          0.12980201236051997,
          0.13879204573433782,
          0.14678272672160692,
          0.12662808573326187,
          0.14392122703093027,
          0.12497077463258799,
          0.12952889742258125,
          0.14586199833234365,
          0.14003140821786297,
          0.15865495031170276,
          0.13817339901885528,
          0.12049955205012072,
          0.13938172571397833,
          0.09732202527140799,
          0.12512181546947837,
          0.1387920457343378,
          0.15974741006345783,
          0.12469765969464924,
          0.1633061804669024,
          0.16286754132415227,
          0.18317322314938764,
          0.16106332749170826,
          0.14379915292988188,
          0.14970836704164797,
          0.12796883179223403,
          0.09910141047313026,
          0.14887453885991064,
          0.14824554688162744,
          0.12264515955498817,
          0.13405805347673244,
          0.13345389012917094,
          0.1380513249178069,
          0.1435653499905858,
          0.13394218653336448,
          0.16289650805999428,
          0.11385375522694405,
          0.1537699172172071,
          0.1317717503977754,
          0.1602543279406927,
          0.1349167102891915,
          0.14338948052297373,
          0.1616240407355068,
          0.1525553833644036,
          0.14837796624547656,
          0.11137709931245385,
          0.13731474220639628,
          0.14818761340994346,
          0.13556432374051597,
          0.10900803413109103,
          0.14097696523784792,
          0.12698810087872664,
          0.16925884468243146,
          0.12892887218014,
          0.12468731443184852,
          0.142185291932971,
          0.13574019320812805,
          0.1405962595667818,
          0.1350822344940029,
          0.1453985305588718,
          0.13258074994879096,
          0.12615013459186905,
          0.15721695878240396,
          0.12085542909046519,
          0.12738328991771378,
          0.14302325821982856,
          0.13818788238677626,
          0.1311717251553341,
          0.13883135773298053,
          0.13322422529499517,
          0.09688752423377812,
          0.14677858861648663,
          0.1141227320597625,
          0.1884782739135922,
          0.11232886349011925,
          0.12780744569254296,
          0.1151117391835105,
          0.20041877623817278,
          0.1370912845299009,
          0.12392176498459591,
          0.1549885891751308,
          0.13426288968018654,
          0.15454995003238067,
          0.11534554212280657,
          0.13263040721023436,
          0.1493131780026608,
          0.13884584110090148,
          0.1500538988191917,
          0.1649634915675763,
          0.13773475987610515,
          0.13161036429808426,
          0.13198693186403015,
          0.1264087661618868,
          0.1369981771646945,
          0.16177508157239714,
          0.14738275196404818,
          0.1438384649285246,
          0.14397088429237365,
          0.13928034213853135,
          0.12943579005737482,
          0.14047832357085366,
          0.1378609720822738,
          0.17470459102072572,
          0.15825976127271563,
          0.12223962525320031,
          0.1471489490247521,
          0.1406355715654245,
          0.1272467324487444,
          0.1601322538396443,
          0.13838237332742961,
          0.11174745972071928,
          0.1305675618077726,
          0.13449669261948263,
          0.1265453236308562,
          0.14891385085855335,
          0.15002493208334974,
          0.1140834200611198,
          0.13565743110572237,
          0.15363749785335795,
          0.15227813032134455,
          0.1575583524548274,
          0.12384934814499092,
          0.14842141634923955,
          0.14734343996540544,
          0.1444281449081651,
          0.11309855104249213,
          0.1649241795689336,
          0.1314841520919156,
          0.167680157579043,
          0.141312151752591,
          0.1529505724033908,
          0.14930903989754055,
          0.14255151423611614,
          0.13010409403430076,
          0.1256577000825552,
          0.14546680929335648,
          0.14412606323438434,
          0.12696947940568534,
          0.1109922555362674,
          0.13944586634334272,
          0.0921824987120148,
          0.13943138297542174,
          0.11238679696180325,
          0.147933119945046,
          0.11961192850181974,
          0.11702354374908187,
          0.14433089943783844,
          0.1410307606044116,
          0.15159948108161792,
          0.1584935642120117,
          0.11959330702877845,
          0.12698396277360632,
          0.15573965525446246,
          0.1248921506353026,
          0.14347224262537941,
          0.1231562155373433,
          0.1445895310078562,
          0.1361498656150362,
          0.13909412740811855,
          0.16029777804445566,
          0.16059985971823643,
          0.14833865424683387,
          0.1447116051089046,
          0.1417714814209425,
          0.13100206284540247,
          0.1388272196278602,
          0.1207437002522175,
          0.13086964348155336,
          0.14931317800266083,
          0.1392699968757306,
          0.18382704375839257,
          0.14678272672160692,
          0.1417363075274201,
          0.1290364629132674,
          0.1452868017206241,
          0.1550610060147358,
          0.1332490539257169,
          0.15361887638031668,
          0.14515438235677502,
          0.11877810032008243,
          0.15656313817339904,
          0.13313732508746917,
          0.1370271439005365,
          0.13281041478296673,
          0.13418012757778083,
          0.13980174338368717,
          0.13428771831090827,
          0.13835340659158768,
          0.14832417087891286,
          0.12546320914190184,
          0.1405569475681391,
          0.10682932178526133,
          0.12449282349119514,
          0.14058177619886078,
          0.11953951166221474,
          0.13810925838949087,
          0.15546654031652365,
          0.1462716707392518,
          0.17021474696521718,
          0.13355113559949763,
          0.1535899096444747,
          0.1396010452853534,
          0.15957154059584572,
          0.13991347222193487,
          0.14786070310544097,
          0.1239465936153176,
          0.1184180851746177,
          0.1477138003736709,
          0.14057143093606006,
          0.10869146908938929,
          0.13118207041813484,
          0.1189787984184162,
          0.11721389658461494,
          0.11527312528320155,
          0.11205574855218046,
          0.12720328234498143,
          0.1515953429764976,
          0.1347801528202221,
          0.11371305965285436,
          0.13913343940676123,
          0.13437048041331398,
          0.17460734555039906,
          0.11924156809355427,
          0.13175726702985438,
          0.1403769399954067,
          0.16426622085480838,
          0.16428691138040982,
          0.18444155236875479,
          0.1452764564578234,
          0.11283578136735406,
          0.1363298731877686,
          0.10743348513282283,
          0.1149317316107781,
          0.13923068487708795,
          0.14312671084783568,
          0.17328108285934787,
          0.15577896725310514,
          0.13526224206673523,
          0.1354670782701893,
          0.12367347867737882,
          0.13227866827501017,
          0.15916186818893763,
          0.1519119080181994,
          0.11796910076906683,
          0.15807975369998326,
          0.14188321025919023,
          0.13574019320812805,
          0.13489188165846977,
          0.11847601864630167,
          0.1223037658825647,
          0.14398950576541494,
          0.1264666996335708,
          0.1520339821192478,
          0.14267358833716454,
          0.13412219410609688,
          0.11540968275217095,
          0.14800139867953066,
          0.13821684912261825,
          0.1379830461833222,
          0.14991320324510204,
          0.14838210435059682,
          0.1101687726173308,
          0.12042092805283534,
          0.1387527337356951,
          0.14151284985092477,
          0.14606683453579772,
          0.11869120011255646,
          0.14077212903439384,
          0.13215659417396178,
          0.13063170243713698,
          0.13684713632780413,
          0.11852981401286537,
          0.15320920397340856,
          0.1462323587406091,
          0.12490249589810329,
          0.12273826692019459,
          0.14230322792889907,
          0.14430193270199643,
          0.12274654313043515,
          0.1150000103452628,
          0.12906956775422965,
          0.13992381748473556,
          0.1371595632643856,
          0.1399238174847356,
          0.14367294072371323,
          0.14081557913815684,
          0.12946061868809655,
          0.14595924380267034,
          0.11443929710146429,
          0.11863740474599277,
          0.1450861036222903,
          0.10989565767939204,
          0.10872043582523128,
          0.14258048097195813,
          0.15554930241892936,
          0.13968380738775907,
          0.13888515309954422,
          0.11508277244766849,
          0.13817753712397554,
          0.1314407019881526,
          0.13341457813052826,
          0.13175726702985435,
          0.15576862199030445,
          0.15680728637549582,
          0.1207871503559805,
          0.11751597825839571,
          0.14117559428362159,
          0.15221398969198013,
          0.1289681841787827,
          0.15382785068889107,
          0.12592667691537368,
          0.13439944714915592,
          0.1379437341846795,
          0.148762810021663,
          0.15189328654515813,
          0.1299096030936474,
          0.17750815723971836,
          0.10875354066619353,
          0.11437101836697958,
          0.12379969088354752,
          0.15279953156650042,
          0.11731114205494161,
          0.1330442177222628,
          0.15003941545127072,
          0.14556405476368314,
          0.13964035728399607,
          0.1541547609933935,
          0.15818734443311067,
          0.15340369491406192,
          0.1443453828057594,
          0.13548156163811031,
          0.11929536346011796,
          0.1362326277174419,
          0.12708120824393304,
          0.09327909656889016,
          0.11377099312453834,
          0.14821658014578545,
          0.12594529838841495,
          0.13687610306364614,
          0.11874913358424045,
          0.13026961823911215,
          0.14414054660230533,
          0.13867617879096983,
          0.1567679743768531,
          0.12196651031526157,
          0.16278891732686687,
          0.15617829439721256,
          0.16603112268860962,
          0.12393624835251689,
          0.18017516598974165,
          0.13781752197851083,
          0.12522319904492532,
          0.11007566525212442,
          0.1347263574536584,
          0.17368661716113573,
          0.12587701965393028,
          0.11958296176597774,
          0.14080109577023586,
          0.12523354430772607,
          0.12911922501567308,
          0.15169258844682432,
          0.18248629769942046,
          0.157494211825463,
          0.15464719550270736,
          0.15809423706790424,
          0.13406839873953316,
          0.176426042750764,
          0.10181186932691652,
          0.1471241203940304,
          0.15884944125235617,
          0.16066400034760084,
          0.15710936804927658,
          0.1693271234169162,
          0.16999542739384207,
          0.15323817070925053,
          0.18013171588597865,
          0.12686188867255796,
          0.1077210834386826,
          0.13642298055297497,
          0.14890350559575266,
          0.12786124105910665,
          0.1276419214877316,
          0.14240047339922576,
          0.11609247009701788,
          0.11725320858325763,
          0.11644834713736234,
          0.16754773821519392,
          0.13677885759331945,
          0.13657815949498567,
          0.13880239099713848,
          0.15022563018168353,
          0.13178623376569637,
          0.13201589859987214,
          0.14011830842538894,
          0.1455206046599202,
          0.1414052591177974,
          0.12377072414770554,
          0.15967913132897316,
          0.13014340603294347,
          0.14196597236159592,
          0.13854375942712074,
          0.14521852298613944,
          0.1205719688897257,
          0.12758812612116785,
          0.13327802066155886,
          0.1599812130027539,
          0.1601074252089226,
          0.13292214362121443,
          0.1387196288947328,
          0.14549163792407818,
          0.12326380627047068,
          0.12066507625493211,
          0.146958596189219,
          0.11699871511836016,
          0.1306399786473776,
          0.14914765379784944,
          0.14635857094677773,
          0.13259109521159168,
          0.13664230012435005,
          0.13490636502639078,
          0.19567443871776674,
          0.14601303916923403,
          0.14216667045992967,
          0.14600269390643333,
          0.1311675870502138,
          0.13379942190671473,
          0.13513602986056655,
          0.1564514093351513,
          0.12785710295398633,
          0.13407253684465348,
          0.1461930467419664,
          0.11522967517943859,
          0.1354277662715466,
          0.12585219102320855,
          0.13005029866773707,
          0.13364424296470404,
          0.14941042347298747,
          0.13022616813534912,
          0.140337627996764,
          0.13532638269609962,
          0.14489161268163697,
          0.13668161212299276,
          0.17523633752868226,
          0.13062135717433632,
          0.12019747037633996,
          0.10929563243695078,
          0.16285305795623128,
          0.11802703424075082,
          0.11881741231872515,
          0.12785710295398633,
          0.11349374008147929,
          0.15147326887544924,
          0.12920198711807876,
          0.11208885339314273,
          0.10391816483314126,
          0.13758371903921476,
          0.1573824829872153,
          0.14158526669052973,
          0.14146319258948137,
          0.13847548069263602,
          0.1561782943972126,
          0.15219950632405918,
          0.12918750375015778,
          0.1503518423878522,
          0.12151338780459041,
          0.14961112157132128,
          0.1530043677699545,
          0.12296172459668993,
          0.14750482606509652,
          0.10874940256107328,
          0.14847107361068296,
          0.18393877259664027,
          0.15590517945927382,
          0.11891465778905182,
          0.14616408000612435,
          0.14556405476368314,
          0.12943579005737482,
          0.17169205049315867,
          0.12506802010291468,
          0.13742233293952366,
          0.1480945060447371,
          0.13845065206191434,
          0.13446772588364062,
          0.16960023835485494,
          0.1446722931102619,
          0.15890323661891986,
          0.1051906321576287,
          0.14630063747509378,
          0.12398590561396033,
          0.14490609604955793,
          0.16620699215622173,
          0.12676464320223127,
          0.14917662053369143,
          0.16169231946999146,
          0.12803711052671868,
          0.12751984738668318,
          0.1380947750215699,
          0.12096301982359256,
          0.15539826158203898,
          0.10636999211690974,
          0.13508223449400286,
          0.13223935627636751,
          0.15382785068889107,
          0.12969442162739261,
          0.13335664465884425,
          0.1503621876506529,
          0.13205934870363512,
          0.130660669172979,
          0.14150871174580448,
          0.13241936384909989,
          0.10981289557698633,
          0.13176140513497467,
          0.15354025238303132,
          0.1617605982044762,
          0.13175726702985432,
          0.13040617570808152,
          0.13613538224711522,
          0.13868031689609012,
          0.11789668392946187,
          0.1354091447985053,
          0.11944226619188811,
          0.14555991665856288,
          0.16412552528071872,
          0.10708174619759864,
          0.14242944013506778,
          0.1272860444473871,
          0.1322062514354052,
          0.14808002267681605,
          0.1264729067912512,
          0.1517712124441097,
          0.12748674254572087,
          0.11878844558288315,
          0.13670023359603406,
          0.14939594010506646,
          0.12623289669427476,
          0.10461543554590919,
          0.16437381158793576,
          0.1332345705577959,
          0.13534500416914091,
          0.1409955867108892,
          0.10262086887793212,
          0.11427377289665289,
          0.16500280356621902,
          0.13205934870363514,
          0.12300103659533262,
          0.1493235232654615,
          0.1524871046299189,
          0.12526251104356806,
          0.13616434898295723,
          0.12392176498459591,
          0.12755502128020557,
          0.1379830461833222,
          0.11568279769010975,
          0.136379530449212,
          0.11962641186974073,
          0.0953667706020736,
          0.12327828963839169,
          0.132785586152245,
          0.13856858805784245,
          0.1411321441798586,
          0.13965484065191705,
          0.11024118945693576,
          0.11308406767457113,
          0.1272570777115451,
          0.1372609468398326,
          0.13340009476260725,
          0.16144403316277442,
          0.13838237332742964,
          0.16136540916548903,
          0.1165207639769673,
          0.14248323550163144,
          0.16082952455241223,
          0.16290064616511452,
          0.13286421014953043,
          0.12070025014845451,
          0.16746083800766795,
          0.12145545433290642,
          0.12210306778423091,
          0.12605288912154236,
          0.15267745746545203,
          0.13688644832644684,
          0.11721803468973521,
          0.12465834769600652,
          0.12438523275806776,
          0.1290509462811884,
          0.11372754302077534,
          0.1545499500323807,
          0.12379555277842726,
          0.1377678647170674,
          0.15583690072478912,
          0.15392095805409745,
          0.11464413330491834,
          0.17442733797766666,
          0.13661747149362832,
          0.12593081502049397,
          0.1475337928009385,
          0.14849383318884452,
          0.1321814228046835,
          0.14155216184956748,
          0.14140112101267713,
          0.1372174967360696,
          0.1380658082857279,
          0.13252695458222727,
          0.12058231415252643,
          0.14011830842538894,
          0.13078688137914765,
          0.13668575022811305,
          0.13586226730917644,
          0.12533078977805273,
          0.1372319801039906,
          0.13713473463366388,
          0.1582349326419939,
          0.13847548069263604,
          0.1469834248199407,
          0.1486800479192573,
          0.1348918816584698,
          0.11599522462669118,
          0.1166573214459367,
          0.10947150190456287,
          0.12608599396250464,
          0.1462902922122931,
          0.13105999631708648,
          0.11400065795871413,
          0.1324690211105433,
          0.12777847895670097,
          0.1510739417313418,
          0.14876694812678326,
          0.12595564365121567,
          0.12853989029883328,
          0.12190443873845727,
          0.13735405420503896,
          0.12946475679321678,
          0.12971925025811432,
          0.12145959243802672,
          0.1339214960077631,
          0.15747972845754205,
          0.15687556510998052,
          0.16356895014204045,
          0.12850471640531086,
          0.17202309890278142,
          0.12188374821285586,
          0.13420495620850253,
          0.14999596534750775,
          0.13597399614742411,
          0.11696974838251817,
          0.1258190861822463,
          0.15392095805409747,
          0.12862679050635922,
          0.14195148899367493,
          0.1593377376565497,
          0.13560363573915865,
          0.11282129799943308,
          0.15493479380856712,
          0.14884557212406865,
          0.14808002267681605,
          0.1323179802736529,
          0.1380513249178069,
          0.1347946361881431,
          0.13446772588364062,
          0.11115364163595849,
          0.13010409403430076,
          0.1240148723498023,
          0.15110290846718377,
          0.1485041784516452,
          0.11864154285111306,
          0.15114222046582648,
          0.12328863490119238,
          0.14294049611742285,
          0.16471520526035918,
          0.1627165004872619,
          0.12993856982948937,
          0.1471489490247521,
          0.15156637624065564,
          0.13903619393643454,
          0.1444281449081651,
          0.11406893669319884,
          0.13182554576433908,
          0.12484870053153964,
          0.12352657594560877,
          0.13755889040849303,
          0.11523381328455888,
          0.12197685557806226,
          0.13210279880739811,
          0.12323483953462869,
          0.11546761622385496,
          0.10446853281413908,
          0.13847548069263602,
          0.14182527678750625,
          0.13430220167882928,
          0.14420468723166974,
          0.12805159389463971,
          0.14194735088855462,
          0.12631152069156013,
          0.12457558559360082,
          0.15092703899957172,
          0.1592156635555013,
          0.130747569380505,
          0.14568199075961127,
          0.12423419192117738,
          0.11864775000879348,
          0.13579398857469174,
          0.14337499715505275,
          0.13188347923602303,
          0.14974767904029065,
          0.11495656024149982,
          0.15311609660820216,
          0.15513963001202122,
          0.13371665980430902,
          0.14781725300167797,
          0.15980534353514184,
          0.12456524033080014,
          0.1413038755423504,
          0.16553455007417556,
          0.20099397284989232,
          0.15067461458723436,
          0.12895370081086172,
          0.14449228553752952,
          0.1393817257139783,
          0.13412633221121714,
          0.13228280638013046,
          0.13237177564021657,
          0.15007458934479315,
          0.12269895492155186,
          0.14088799597776183,
          0.12846126630154786,
          0.12594943649353527,
          0.12364865004665714,
          0.1191588059911486,
          0.11943192092908736,
          0.13556432374051597,
          0.12418039655461367,
          0.13189382449882375,
          0.12656394510389748,
          0.12296172459668993,
          0.12792951979359135,
          0.14021555389571563,
          0.13547742353299,
          0.15099531773405636,
          0.12615013459186902,
          0.1348484315547068,
          0.11282543610455338,
          0.12602392238570037,
          0.12568252871327693,
          0.13743681630744467,
          0.13023030624046944,
          0.14332120178848906,
          0.14876694812678326,
          0.15153740950481365,
          0.09808757471866059,
          0.14916213716577045,
          0.11884637905456714,
          0.1389823985698709,
          0.1272032823449814,
          0.10797971500870038,
          0.135535357004674,
          0.135506390268832,
          0.1323076350108522,
          0.16426622085480838,
          0.17217000163455154,
          0.1218899553705363,
          0.13914792277468224,
          0.1282522919929735,
          0.13464773345637301,
          0.13579398857469174,
          0.1541009656268298,
          0.1456426787609686,
          0.13489188165846977,
          0.14229288266609838,
          0.1468510054560916,
          0.14409709649854235,
          0.12607151059458366,
          0.1387382503677741,
          0.12394659361531762,
          0.15130774467063787,
          0.1552368754823479,
          0.1358333005733345,
          0.13749061167400836,
          0.14787518647336198,
          0.15732868762065164,
          0.14839244961339756,
          0.14499920341476435,
          0.14053832609509778,
          0.1544423592992533,
          0.15972258143273613,
          0.14791449847200472,
          0.14579371959785895,
          0.12499974136843,
          0.13085516011363238,
          0.13593054604366117,
          0.11854015927566611,
          0.13426288968018657,
          0.1058920409755169,
          0.1363153898198476,
          0.11168538814391502,
          0.13177175039777533,
          0.13173243839913265,
          0.15689004847790153,
          0.15645140933515136,
          0.13493119365711248,
          0.14231771129682008,
          0.16005983700003928,
          0.12881714334189232,
          0.11792978877042415,
          0.12397556035115961,
          0.13426288968018657,
          0.14954284283683658,
          0.13419461094570184,
          0.1116502142503926,
          0.11992435543840121,
          0.1406355715654245,
          0.15307264650443914,
          0.13552501174187329,
          0.12582322428736656,
          0.09965177845412809,
          0.14057143093606006,
          0.11914018451810732,
          0.11631178966839298,
          0.1034836637955114,
          0.15163465497514034,
          0.1036843618938452,
          0.16087297465617517,
          0.13172830029401233,
          0.15337472817821993,
          0.11542416612009196,
          0.1494745641023519,
          0.10456164017934547,
          0.13114275841949213,
          0.1398307101195292,
          0.11273232873934697,
          0.16853260723382155,
          0.13267385731399733,
          0.14813795614850003,
          0.13724646347191158,
          0.12534113504085345,
          0.1410059319736899,
          0.16530488523999978,
          0.12713500361049673,
          0.14535921856022907,
          0.1414735378522821,
          0.1493814567371455,
          0.12645221626564979,
          0.1453592185602291,
          0.16400345117967033,
          0.15412579425755155,
          0.17604533707969786,
          0.13085516011363238,
          0.15171741707754605,
          0.14248737360675173,
          0.14509644888509104,
          0.1300358152998161,
          0.14680755535232862,
          0.11122605847556347,
          0.14657375241303255,
          0.13214211080604082,
          0.13995692232569784,
          0.14825589214442814,
          0.12203065094462595,
          0.13753406177777133,
          0.12043127331563604,
          0.12431695402358306,
          0.1166428380780157,
          0.13923068487708792,
          0.15479409823447743,
          0.15183949117859444,
          0.12346864247392475,
          0.1511856705695895,
          0.1323469470094949,
          0.14473022658194584,
          0.12790055305774933,
          0.12187961010773556,
          0.11870568348047747,
          0.12441419949390975,
          0.14835727571987511,
          0.13320974192707416,
          0.14174251468510055,
          0.14292187464438164,
          0.1078183289090093,
          0.11167504288111432,
          0.13494567702503346,
          0.1666021811952089,
          0.11271370726630568,
          0.13748026641120767,
          0.1342525444173859,
          0.14075764566647286,
          0.16654838582864523,
          0.14154181658676676,
          0.1308013647470687,
          0.12609633922530533,
          0.1427604885446905,
          0.11073362396624963,
          0.14426262070335374,
          0.1241659131866927,
          0.11307372241177044,
          0.12536596367157515,
          0.11309855104249214,
          0.11773529782977078,
          0.15751904045618473,
          0.1807213958656192,
          0.12798331516015501,
          0.1165352473448883,
          0.1536333597482377,
          0.12445351149255246,
          0.14439917817232314,
          0.10993496967803475,
          0.15054219522338524,
          0.11923122283075357,
          0.15954257386000378,
          0.1215133878045904,
          0.1379292508167585,
          0.13281455288808702,
          0.13815891565093427,
          0.17133617345281424,
          0.13248350447846427,
          0.15119601583239017,
          0.1542809731995622,
          0.1615309333703004,
          0.11916915125394928,
          0.13122552052189784,
          0.15098083436613544,
          0.168917451010008,
          0.1301040940343008,
          0.15333127807445693,
          0.14573992423129525,
          0.14139077574987635,
          0.18425119953322175,
          0.15477340770887604,
          0.14761655490334422,
          0.13646229255161768,
          0.15396440815786047,
          0.15750869519338404,
          0.11317717503977755,
          0.10393678630618255,
          0.13292214362121443,
          0.1108019027007343,
          0.12431695402358309,
          0.12586253628600927,
          0.14984492451061732,
          0.11993470070120194,
          0.1353408660640206,
          0.13052824980912991,
          0.14098110334296823,
          0.14248323550163144,
          0.141283185016749,
          0.1501821800779205,
          0.16025846604581298,
          0.11822773233908462,
          0.1305923904384943,
          0.15055667859130625,
          0.11357650218388497,
          0.1118653957166474,
          0.14739723533196913,
          0.13779269334778912,
          0.16897124637657174,
          0.14886005549198966,
          0.11566831432218871,
          0.1293633732177699,
          0.12020160848146025,
          0.13626159445328392,
          0.14478402194850956,
          0.15873357430898818,
          0.11466896193564005,
          0.1511422204658265,
          0.14545232592543547,
          0.12153821643531211,
          0.14248323550163147,
          0.12379969088354753,
          0.1199388388063222,
          0.15805078696414127,
          0.14501782488780562,
          0.10540995172900378,
          0.12580874091944558,
          0.1355891523712377,
          0.16025432794069266,
          0.12971925025811432,
          0.1660849180551734,
          0.1533167947065359,
          0.14501368678268534,
          0.14481298868435155,
          0.14622822063548882,
          0.1649200414638133,
          0.12099198655943458,
          0.12181133137325087,
          0.12278171702395757,
          0.1315379474584793,
          0.12874886460740761,
          0.1454378425575145,
          0.15259469536304632,
          0.10721416556144778,
          0.1447405718447466,
          0.1421604633022493,
          0.13267385731399736,
          0.11383513375390274,
          0.17345695232695996,
          0.10447887807693979,
          0.15227813032134457,
          0.1447798838433893,
          0.1191732893590696,
          0.1291295702784738,
          0.14698342481994073,
          0.12470179779976949,
          0.1332780206615589,
          0.1884927572815132,
          0.11854015927566608,
          0.12520871567700434,
          0.13618917761367894,
          0.13372700506710972,
          0.11701940564396159,
          0.1494352521037092,
          0.12766261201333298,
          0.14742206396269084,
          0.13024065150327013,
          0.1168145694405075,
          0.13988864359121317,
          0.15302919640067614,
          0.10326434422413633,
          0.16319445162865473,
          0.12500387947355027,
          0.1339608080064058,
          0.12934888984984888,
          0.1485579738182089,
          0.12375210267466424,
          0.11635937787727624,
          0.11078741933281332,
          0.12672533120358856,
          0.15549550705236564,
          0.10936391117143549,
          0.15307264650443916,
          0.11406893669319881,
          0.16289650805999425,
          0.16275995059102488,
          0.11182608371800469,
          0.1109094934338617,
          0.12672533120358856,
          0.13361941433398233,
          0.13438496378123493,
          0.14254116897331542,
          0.15466167887062837,
          0.14848969508372425,
          0.13319112045403292,
          0.11182194561288439,
          0.1177352978297708,
          0.14495989141612164,
          0.1036843618938452,
          0.10924183707038707,
          0.12691568403912165,
          0.12414729171365141,
          0.17143341892314093,
          0.13792925081675847,
          0.14258048097195813,
          0.14045970209781236,
          0.17098029641246976,
          0.13241522574397957,
          0.12787572442702763,
          0.1395865619174324,
          0.16565662417522395,
          0.1298847744629257,
          0.1206505928870111,
          0.12052438068084245,
          0.1290074961774254,
          0.14400398913333598,
          0.14741792585757055,
          0.11212816539178543,
          0.1749342558549015,
          0.13911895603884025,
          0.13290766025329345,
          0.11606350336117591,
          0.15511480138129952,
          0.12876334797532862,
          0.11059706649728024,
          0.1470806702902674,
          0.1206650762549321,
          0.14507162025436934,
          0.14612476800748167,
          0.14907937506336472,
          0.17415422303972788,
          0.16052744287863147,
          0.14364811209299153,
          0.11323510851146151,
          0.13670023359603403,
          0.12066507625493209,
          0.12753433075460416,
          0.11304061757080815,
          0.14092730797640454,
          0.1427356599139688,
          0.12188374821285584,
          0.16273098385518292,
          0.10252362340760543,
          0.1257901194464043,
          0.13136207799086724,
          0.13888929120466448,
          0.12000711754080687,
          0.14122525154506502,
          0.11717458458597224,
          0.11989538870255921,
          0.11687664101731175,
          0.12608185585738435,
          0.1673429020117398,
          0.12956820942122396,
          0.19250051209050864,
          0.14171768605437884,
          0.14735378522820614,
          0.17182860796212807,
          0.1311282750515711,
          0.14552060465992017,
          0.14841107108643878,
          0.14891385085855338,
          0.13281041478296673,
          0.14253703086819516,
          0.110855698067298,
          0.13703748916333722,
          0.1241369464508507,
          0.1314593234611939,
          0.10812041058279004,
          0.1215671831711541,
          0.16137575442828972,
          0.15679694111269513,
          0.16295030342655795,
          0.12430247065566205,
          0.18088692007043056,
          0.16054606435167273,
          0.12682878383159568,
          0.13068963590882102,
          0.15630036849826098,
          0.1354670782701893,
          0.13911895603884025,
          0.16810845145899242,
          0.14977664577613267,
          0.12772468359013722,
          0.11040671366174715,
          0.1537119837455231,
          0.13837823522230933,
          0.11982710996807452,
          0.14757310479958122,
          0.14394605566165197,
          0.12256653555770278,
          0.13667126686019207,
          0.1199781508049649,
          0.1394996617099064,
          0.14101007007881022,
          0.1264522162656498,
          0.14240047339922576,
          0.1297771837297983,
          0.1295578641584232,
          0.16835673776620946,
          0.11930570872291868,
          0.15132222803855888,
          0.1315524308264003,
          0.1331124964567475,
          0.17442733797766666,
          0.1191298392553066,
          0.11049568292183326,
          0.13570088120948537,
          0.11080190270073431,
          0.13558915237123767,
          0.1347304955587787,
          0.14613511327028242,
          0.13568225973644407,
          0.1567928030075748,
          0.12346864247392476,
          0.14713860376195137,
          0.13493119365711248,
          0.13519396333225053,
          0.1288067980790916,
          0.15710936804927655,
          0.1290364629132674,
          0.14547715455615717,
          0.12141200422914344,
          0.12196237221014128,
          0.14996699861166574,
          0.1150289770811048,
          0.13431254694162997,
          0.13962587391607506,
          0.13562846436988038,
          0.1657538696455506,
          0.11357650218388499,
          0.1135371901852423,
          0.12242997808873343,
          0.1641979421203237,
          0.13880239099713848,
          0.16178542683519787,
          0.12590184828465198,
          0.11396134596007142,
          0.13410150358049544,
          0.12665705246910386,
          0.09847241849484703,
          0.15667072890652642,
          0.1397334646492025,
          0.16366205750724686,
          0.13682230769708245,
          0.1673325567489391,
          0.13932379224229433,
          0.15336024481029892,
          0.15997086773995323,
          0.1185008472770234,
          0.13446772588364064,
          0.14483781731507325,
          0.14434538280575943,
          0.1484793498209235,
          0.1207871503559805,
          0.12370244541322084,
          0.15993155574131046,
          0.12989925783084666,
          0.1332097419270742,
          0.1463689162095785,
          0.12357623320705215,
          0.14088385787264157,
          0.11364891902348997,
          0.14045556399269213,
          0.11975883123358982,
          0.12690120067120067,
          0.12764192148773157,
          0.12557493798014951,
          0.14968353841092627,
          0.14099144860576895,
          0.16453519768762684,
          0.14777794100303532,
          0.11076879785977205,
          0.13358010233533962,
          0.11305510093872914,
          0.16088745802409624,
          0.11656007597561001,
          0.1274370852842775,
          0.1142096322672885,
          0.1411031774440166,
          0.15036632575577316,
          0.14034797325956472,
          0.15794319623101385,
          0.12940268521641254,
          0.1197236573400674,
          0.1557396552544624,
          0.16288616279719353,
          0.16088331991897592,
          0.11495656024149983,
          0.1197919360745521,
          0.1361395203522355,
          0.12221065851735831,
          0.12981649572844098,
          0.1707899435769367,
          0.1382065038598176,
          0.15303333450579645,
          0.13731474220639625,
          0.13819202049189655,
          0.1421666704599297,
          0.12799779852807602,
          0.13690093169436784,
          0.12106026529391925,
          0.13912930130164097,
          0.11665732144593668,
          0.11353719018524228,
          0.15655900006827872,
          0.1543016637251636,
          0.1428784245406186,
          0.14408675123574163,
          0.13914792277468221,
          0.16977610782246702,
          0.14058177619886078,
          0.17077546020901568,
          0.1521705395882172,
          0.14210252983056532,
          0.13008961066637975,
          0.1512394659361532,
          0.1414052591177974,
          0.11531243728184426,
          0.1304310043388032,
          0.1537016384827224,
          0.12535561840877443,
          0.14483781731507325,
          0.1373002588384753,
          0.1290364629132674,
          0.1781661159538436,
          0.13266351205119664,
          0.1333462993960436,
          0.12630117542875943,
          0.12935302795496914,
          0.1388313577329805,
          0.1438529482964456,
          0.14267358833716454,
          0.1290612915439891,
          0.13289731499049273,
          0.12865161913708092,
          0.16285305795623128,
          0.1567679743768531,
          0.1462716707392518,
          0.12008987964321258,
          0.1289392174429407,
          0.10349400905831212,
          0.15229261368926555,
          0.14783173636959898,
          0.13817339901885528,
          0.13976243138504446,
          0.12789641495262907,
          0.1517360385505873,
          0.17445630471350865,
          0.15537343295131728,
          0.14144457111644004,
          0.14203425109608062,
          0.18027241146006834,
          0.13930930887437332,
          0.15210226085373246,
          0.11391789585630846,
          0.14500334151988467,
          0.13298628425057882,
          0.13930930887437334,
          0.10217809163006168,
          0.09981730265893944,
          0.15320920397340854,
          0.13276075752152336,
          0.15362301448543697,
          0.13718853000022763,
          0.11707733911564557,
          0.13006478203565805,
          0.11191919108321109,
          0.10640516601043216,
          0.14497437478404263,
          0.10790109101141498,
          0.16510004903654568,
          0.16113160622619296,
          0.14410123460366267,
          0.11641317324383992,
          0.14256599760403715,
          0.13374562654015099,
          0.10847628762313449,
          0.12086577435326591,
          0.14370190745955522,
          0.14408675123574166,
          0.12112854402840395,
          0.13605262014470956,
          0.15958602396376675,
          0.12655980699877722,
          0.16824500892796182,
          0.15333541617957724,
          0.13489188165846977,
          0.1371099060029422,
          0.12024092048010296,
          0.12126923960249364,
          0.15711971331207727,
          0.11768150246320708,
          0.14342465441649613,
          0.17512874679555482,
          0.14861176918477262,
          0.1445502190092135,
          0.14573992423129525,
          0.15004976071407145,
          0.12509698683875667,
          0.1338635625360791,
          0.12145545433290642,
          0.11048947576415283,
          0.13463325008845198,
          0.15042012112233688,
          0.15572517188654142,
          0.15404717026026613,
          0.15154154760993394,
          0.12304448669909564,
          0.14174665279022086,
          0.13816305375605456,
          0.12083060045974348,
          0.13686575780084542,
          0.11132951110357057,
          0.15199467012060505,
          0.13422357768154386,
          0.12226445388392199,
          0.13602779151398783,
          0.13921620150916694,
          0.1541692443613145,
          0.14994216998094403,
          0.13910861077603953,
          0.1037919526269726,
          0.15220985158685987,
          0.14009968695234767,
          0.15550999042028665,
          0.1402155538957156,
          0.14918696579649213,
          0.14402881776405765,
          0.15065392406163292,
          0.1497187123044487,
          0.12988477446292568,
          0.14019693242267436,
          0.14310188221711395,
          0.12992822456668868,
          0.14228253740329766,
          0.1519119080181994,
          0.13987416022329213,
          0.13604227488190881,
          0.1275157092815629,
          0.14274186707164924,
          0.12594529838841498,
          0.13618917761367894,
          0.15015735144719883,
          0.16279926258966756,
          0.15252641662856162,
          0.1553444662154753,
          0.11352270681732127,
          0.14907937506336477,
          0.135535357004674,
          0.11712078921940854,
          0.1494890474702729,
          0.14593027706682835,
          0.13110344642084942,
          0.13086964348155336,
          0.14029417789300103,
          0.13249798784638528,
          0.10740865650210113,
          0.10988531241659133,
          0.11928501819731731,
          0.13839271859023036,
          0.1435798333585068,
          0.17099477978039074,
          0.16490555809589233,
          0.14399364387053526,
          0.1847870841462986,
          0.1634323926730711,
          0.13430220167882928,
          0.12965097152362962,
          0.13147380682911491,
          0.12995305319741038,
          0.14770966226855062,
          0.10632654201314677,
          0.15291126040474806,
          0.11826083718004687,
          0.14284325064709621,
          0.12188374821285586,
          0.12980201236052,
          0.12835367556842048,
          0.13472635745365838,
          0.1642765661176091,
          0.12418039655461369,
          0.1256577000825552,
          0.14248737360675173,
          0.1420052843602386,
          0.15059599058994896,
          0.17335970685663332,
          0.16341790930515007,
          0.12292241259804723,
          0.11872430495351874,
          0.14071833366783013,
          0.14001071769226153,
          0.1525367618913623,
          0.1370664558991792,
          0.10747693523658583,
          0.14975181714541094,
          0.10570789529766426,
          0.15374508858648533,
          0.11803737950355153,
          0.11066120712664465,
          0.15471133613207178,
          0.14158112858540944,
          0.125945298388415,
          0.14939594010506646,
          0.15426235172652092,
          0.1267211930984683,
          0.12008987964321259,
          0.13894308657122817,
          0.14978699103893336,
          0.11790082203458215,
          0.12964062626082892,
          0.16028329467653465,
          0.13692989843020983,
          0.13041652097088224,
          0.15069323606027565,
          0.15423752309579922,
          0.15076151479476033,
          0.15960050733168774,
          0.14978699103893336,
          0.1356181191070797,
          0.11727183005629893,
          0.1265598069987772,
          0.1414735378522821,
          0.13561811910707966,
          0.11531243728184426,
          0.11400065795871414,
          0.10282570508138619,
          0.15215605622029615,
          0.17201896079766116,
          0.14992768661302303,
          0.19737519992220362,
          0.14475505521266757,
          0.1476269001661449,
          0.13199106996915044,
          0.14988423650926005,
          0.11179711698216271,
          0.10735486113553742,
          0.12581287902456587,
          0.12687223393535865,
          0.13810512028437058,
          0.13838237332742964,
          0.13677885759331945,
          0.13352630696877593,
          0.12687637204047894,
          0.13207797017667638,
          0.15961499069960874,
          0.1479579485757677,
          0.1537016384827224,
          0.13441393051707692,
          0.1518581126516357,
          0.1118364289808054,
          0.15567137651997773,
          0.1263011754287594,
          0.14805519404609435,
          0.16830294239964577,
          0.14576889096713724,
          0.11474137877524503,
          0.12983097909636201,
          0.14669996461920123,
          0.14346810452025915,
          0.12660325710254022,
          0.15297953913923273,
          0.1529071222996278,
          0.16104884412378728,
          0.1281095273663237,
          0.13733957083711798,
          0.1763867307521213,
          0.12130855160113631,
          0.18072553397073945,
          0.13010823213942102,
          0.1272674229743458,
          0.16299375353032095,
          0.1462282206354888,
          0.12365899530945786,
          0.1651290157723877,
          0.14617856337404542,
          0.13255178321294894,
          0.1428287672791752,
          0.13892860320330716,
          0.12281068375979955,
          0.1494890474702729,
          0.12309828206565931,
          0.13583330057333448,
          0.1265060116322135,
          0.12790055305774933,
          0.14918696579649213,
          0.12218169178151633,
          0.12433143739150407,
          0.155383778214118,
          0.13782166008363111,
          0.1304454877067242,
          0.14476953858058858,
          0.13766648114162047,
          0.11639455177079862,
          0.13430220167882928,
          0.1102080846159735,
          0.14795794857576766,
          0.1260280604908207,
          0.14993803187582375,
          0.13221038954052552,
          0.1474220639626909,
          0.1257508074477616,
          0.138562380900162,
          0.1487234980230203,
          0.1560272535603222,
          0.13637332329153154,
          0.145168865724696,
          0.13784648871435282,
          0.12363416667873614,
          0.16072193381928482,
          0.14699790818786174,
          0.14830968751099183,
          0.13219590617260454,
          0.12999650330117338,
          0.13008961066637978,
          0.18842447854702854,
          0.1511856705695895,
          0.10903286276181273,
          0.13777820997986812,
          0.10584859087175391,
          0.146056489272997,
          0.13680368622404115,
          0.1292847492204844,
          0.1298123576233207,
          0.13208831543947713,
          0.13626159445328392,
          0.1298413243591627,
          0.12331760163703438,
          0.12842195430290518,
          0.13843616869399333,
          0.13549604500603127,
          0.1513615400372016,
          0.13988450548609285,
          0.15626105649961827,
          0.13163933103392625,
          0.16560282880866023,
          0.11482414087765072,
          0.14346810452025915,
          0.12062162615116913,
          0.12753019264948387,
          0.1567638362717328,
          0.1463006374750938,
          0.1103301587170219,
          0.15975154816857812,
          0.13341457813052826,
          0.15329196607581425,
          0.12341070900224077,
          0.14044521872989144,
          0.12453627359495814,
          0.09945108035579428,
          0.14998148197958674,
          0.16582214838003528,
          0.1419701104667162,
          0.1326448905781554,
          0.16071779571416453,
          0.10468371428039387,
          0.1217823646374089,
          0.14409709649854235,
          0.15564654788925605,
          0.14424813733543276,
          0.1091735583359024,
          0.13286834825465074,
          0.14932766137058182,
          0.11118674647692076,
          0.135549840372595,
          0.15220985158685987,
          0.13395666990128552,
          0.1423073660340194,
          0.13959690718023307,
          0.1379830461833222,
          0.1493773186320252,
          0.12995719130253067,
          0.10903700086693302,
          0.12747639728292018,
          0.14545232592543553,
          0.11360960702484725,
          0.1570266059468709,
          0.12616047985466977,
          0.12773502885293794,
          0.1519119080181994,
          0.13367320970054603,
          0.16234614007899642,
          0.14397916050261422,
          0.1340477082139318,
          0.13536983279986264,
          0.13535534943194164,
          0.1511277370979055,
          0.1282171180994511,
          0.13203452007291344,
          0.12870541450364462,
          0.12386383151291194,
          0.1454130139267928,
          0.11463999519979806,
          0.12256653555770279,
          0.17013198486281145,
          0.1379147674488375,
          0.12426315865701937,
          0.16593387721828295,
          0.1175697736249594,
          0.13637332329153157,
          0.10885699329420065,
          0.12627220869291744,
          0.13511120122984485,
          0.1379437341846795,
          0.1571093680492766,
          0.15561758115341404,
          0.12267826439595046,
          0.13509671786192387,
          0.13869480026401113,
          0.15376991721720706,
          0.13118620852325513,
          0.13731474220639625,
          0.12739363518051453,
          0.14850417845164518,
          0.14534473519230806,
          0.1746466575490417,
          0.13363389770190331,
          0.13506775112608188,
          0.154481671297896,
          0.14060660482958248,
          0.15556378578685034,
          0.1265887737346192,
          0.12525837293844777,
          0.1500787274499134,
          0.15620312302793427,
          0.12129406823321534,
          0.13976243138504446,
          0.142185291932971,
          0.1454130139267928,
          0.14381363629780286,
          0.13748026641120767,
          0.1486117691847726,
          0.13751544030473006,
          0.15461822876686537,
          0.1135868474466857,
          0.11741873278806902,
          0.11148469004558123,
          0.1545209832965387,
          0.15709488468135555,
          0.11934915882668165,
          0.11487793624421441,
          0.14338948052297373,
          0.13432082315187055,
          0.122293420619764,
          0.14144457111644004,
          0.1225955022935448,
          0.12791503642567034,
          0.1223616993542487,
          0.09621508215173191,
          0.14965457167508425,
          0.16221372071514734,
          0.1266963644677466,
          0.14333154705128978,
          0.14266324307436382,
          0.15269194083337298,
          0.1450861036222903,
          0.13773475987610512,
          0.12364451194153686,
          0.10353332105695479,
          0.12550665924566481,
          0.12930957785120614,
          0.1718534365928498,
          0.11116812500387947,
          0.11758839509800065,
          0.1364622925516177,
          0.13193727460258675,
          0.13754440704057205,
          0.13218556090980382,
          0.16364757413932587,
          0.13893894846610788,
          0.13396080800640578,
          0.11634075640423493,
          0.13903619393643454,
          0.1381733990188553,
          0.13660298812570737,
          0.14780690773887728,
          0.1395575951815904,
          0.15974741006345783,
          0.12944613532017557,
          0.16213095861274165,
          0.14308739884919297,
          0.1295433807905022,
          0.12873851934460692,
          0.15416924436131454,
          0.15638313060066664,
          0.1543451138289266,
          0.1470268749237037,
          0.13797270092052147,
          0.12644807816052953,
          0.17461769081319972,
          0.13683679106500343,
          0.14054246420021807,
          0.13476566945230115,
          0.14585165306954295,
          0.15445270456205396,
          0.14808002267681605,
          0.12824194673017278,
          0.13359044759814032,
          0.1281343559970454,
          0.14413640849718506,
          0.14659858104375423,
          0.15044494975305858,
          0.09479571209547435,
          0.13679334096124043,
          0.130733086012584,
          0.15185397454651542,
          0.1340290867408905,
          0.12161477138003739,
          0.13728577547055432,
          0.15750455708826372,
          0.15957154059584572,
          0.13470152882293668,
          0.13857272616296273,
          0.12683292193671597,
          0.1503228756520102,
          0.1282998802018568,
          0.13874859563057482,
          0.14224943256233533,
          0.1370664558991792,
          0.17246173804553155,
          0.14407226786782065,
          0.12193754357941955,
          0.1329366269891354,
          0.14350741651890184,
          0.1649779749354973,
          0.14527231835270313,
          0.15021114681376252,
          0.14910420369408645,
          0.13739336620368167,
          0.12920198711807876,
          0.13578364331189108,
          0.14218529193297103,
          0.11873878832143975,
          0.12792538168847103,
          0.14083006250607788,
          0.11118260837180048,
          0.14880212202030568,
          0.09016931057099645,
          0.1339359793756841,
          0.14206321783192258,
          0.1602046706792493,
          0.1371243893708632,
          0.1123619683310815,
          0.14482333394715224,
          0.19048732394949025,
          0.12073335498941683,
          0.13405805347673247,
          0.12459006896152179,
          0.12349760920976677,
          0.12118647750008793,
          0.13362355243910262,
          0.15314092523892384,
          0.12428798728774108,
          0.12790055305774933,
          0.15870874567826648,
          0.12446799486047344,
          0.14029417789300105,
          0.13348285686501296,
          0.15103462973269913,
          0.15181466254787268,
          0.13572984794532736,
          0.12627220869291744,
          0.14022589915851633,
          0.14352189988682282,
          0.14732895659748446,
          0.13378493853879372,
          0.13980174338368717,
          0.129758562256757,
          0.12930957785120617,
          0.13016202750598474,
          0.1454130139267928,
          0.18263733853631084,
          0.12295137933388922,
          0.09861311406893669,
          0.14200528436023863,
          0.11156745214798691,
          0.12460455232944284,
          0.13303387245946208,
          0.13786097208227382,
          0.15001044871542876,
          0.1247121430625702,
          0.15472995760511304,
          0.12697361751080563,
          0.13550639026883202,
          0.11502897708110481,
          0.1347553241895004,
          0.1724472546776106,
          0.1150972558155895,
          0.13201589859987212,
          0.13906516067227653,
          0.11796496266394654,
          0.10180152406411581,
          0.13012892266502246,
          0.1437557028261189,
          0.1333711280267653,
          0.1010421817745436,
          0.1572852375168887,
          0.13409736547537512,
          0.11778909319633447,
          0.1190077651542582,
          0.14988423650926003,
          0.13583743867845477,
          0.13328836592435958,
          0.11233300159523951,
          0.14649512841574713,
          0.16621733741902245,
          0.16697254160347436,
          0.10379609073209287,
          0.1406397096705448,
          0.1241514298187717,
          0.12503905336707272,
          0.11322062514354053,
          0.1250390533670727,
          0.11512622255143148,
          0.13989898885401386,
          0.14822692540858615,
          0.15808389180510357,
          0.14428744933407542,
          0.13684713632780415,
          0.16454968105554785,
          0.14891385085855335,
          0.11859809274735006,
          0.13118207041813484,
          0.14416951333814734,
          0.15266297409753102,
          0.11758839509800069,
          0.1576266311893121,
          0.13205934870363512,
          0.11677525744186479,
          0.12015402027257698,
          0.1438777769271673,
          0.1387630789984958,
          0.11276336452774911,
          0.13251247121430623,
          0.12928061111536415,
          0.13859755479368446,
          0.12358037131217245,
          0.1318731339732223,
          0.1199781508049649,
          0.15869426231034545,
          0.17693296062799882,
          0.14710963702610938,
          0.11942157566628664,
          0.14643719494406318,
          0.16132195906172603,
          0.14672479324992294,
          0.11375650975661736,
          0.13542776627154657,
          0.15673900764101112,
          0.1388851530995442,
          0.14303360348262928,
          0.12402935571772329,
          0.1216644286414808,
          0.14402881776405768,
          0.1438674316643666,
          0.11089914817106099,
          0.1272032823449814,
          0.11060741176008096,
          0.11134813257661184,
          0.15262366209888828,
          0.12990960309364738,
          0.13847961879775633,
          0.14254116897331542,
          0.1409128246084835,
          0.15013252281647713,
          0.10464440228175118,
          0.16817673019347712,
          0.14632960421093577,
          0.13095240558395901,
          0.12580460281432526,
          0.12224997051600103,
          0.14006451305882522,
          0.12820263473153007,
          0.14336051378713172,
          0.11587728863076308,
          0.12698396277360635,
          0.12776399558877993,
          0.11650628060904632,
          0.13643746392089595,
          0.16211647524482067,
          0.13180071713361738,
          0.15075116953195963,
          0.13616848708807752,
          0.14527645645782342,
          0.15295057240339077,
          0.1131813131448978,
          0.13341457813052826,
          0.14483367920995296,
          0.11884637905456714,
          0.11569728105803072,
          0.12094853645567157,
          0.14034797325956472,
          0.16575800775067093,
          0.12128993012809505,
          0.13832443985574566,
          0.13759820240713574,
          0.11721803468973521,
          0.1476310382712652,
          0.16124954222212107,
          0.13190830786674473,
          0.17808335385143786,
          0.12365899530945784,
          0.15447132603509528,
          0.16814776345763513,
          0.12015815837769728,
          0.14260944770780012,
          0.1436729407237132,
          0.1634137712000298,
          0.12126096339225305,
          0.14932352326546153,
          0.13296559372497743,
          0.15728523751688864,
          0.12989925783084666,
          0.12790055305774933,
          0.12804745578951945,
          0.12543838051118014,
          0.17070718147453098,
          0.1521167442216535,
          0.16505659893278268,
          0.13059239043849433,
          0.15970809806481515,
          0.14791863657712495,
          0.1470910155530681,
          0.15951774522928208,
          0.16289650805999425,
          0.14188321025919023,
          0.1536333597482377,
          0.1395286284457484,
          0.13427737304810758,
          0.14888902222783165,
          0.1070382960938357,
          0.14866970265645657,
          0.13542362816642634,
          0.129744078888836,
          0.15895289388036327,
          0.14907937506336474,
          0.1285047164053109,
          0.17013198486281148,
          0.14305843211335098,
          0.1311717251553341,
          0.14397502239749396,
          0.16712358244036474,
          0.13591606267574013,
          0.1336090690711816,
          0.10865215709074658,
          0.12451765212191686,
          0.1462613254764511,
          0.11450757583594898,
          0.1455744000264839,
          0.13911895603884028,
          0.14353638325474383,
          0.12726121581666539,
          0.13359044759814032,
          0.12783227432326463,
          0.1649200414638133,
          0.12558528324295024,
          0.1265742903666982,
          0.12003608427664889,
          0.1313724232536679,
          0.15157051434577593,
          0.137310604101276,
          0.14528680172062414,
          0.13182554576433905,
          0.1216064951697968,
          0.1594101544961547,
          0.13420909431362285,
          0.1336090690711816,
          0.1640324179155123,
          0.12364451194153686,
          0.12864127387428026,
          0.14764138353406592,
          0.12038782321187304,
          0.13917275140540392,
          0.11982710996807452,
          0.13038755423504023,
          0.15402854878722486,
          0.14008934168954693,
          0.12640876616188682,
          0.16877675543591833,
          0.12706672487601206,
          0.1722672471048782,
          0.11400065795871411,
          0.142112875093366,
          0.13917275140540397,
          0.16895676300865073,
          0.12781779095534362,
          0.14400398913333598,
          0.15229261368926555,
          0.16483727936140763,
          0.13738302094088098,
          0.12594529838841495,
          0.1199533221742432,
          0.14217080856505002,
          0.12869506924084395,
          0.1472999898616425,
          0.13934862087301605,
          0.1704092379058705,
          0.13043100433880322,
          0.10547823046348848,
          0.10193394342796491,
          0.15954671196512404,
          0.12546734724702213,
          0.11627247766975024,
          0.1282171180994511,
          0.13433116841467121,
          0.13416564420985988,
          0.1440391630268584,
          0.14935249000130352,
          0.1510491131006201,
          0.1495718095726786,
          0.14825589214442814,
          0.16196543440793024,
          0.13854375942712074,
          0.14051763556949637,
          0.12902197954534642,
          0.1266570524691039,
          0.14890350559575266,
          0.13218142280468348,
          0.13375183369783145,
          0.1740569775694012,
          0.12032368258250864,
          0.14995251524374476,
          0.134618766720531,
          0.13616434898295718,
          0.1411859395464223,
          0.11433170636833687,
          0.12605288912154233,
          0.1159952246266912,
          0.16779602452241096,
          0.13925551350780965,
          0.1599563843720322,
          0.11518001791799519,
          0.17025405896385984,
          0.1313475946229462,
          0.17016095159865344,
          0.1576555979251541,
          0.12958269278914494,
          0.13478015282022207,
          0.1463151208430148,
          0.12029471584666665,
          0.14270255507300653,
          0.1311324131566914,
          0.14835313761475483,
          0.12885645534053503,
          0.12538458514461642,
          0.1581625158023889,
          0.14643719494406315,
          0.11934915882668169,
          0.15927359702718527,
          0.1436439739878712,
          0.14012865368818964,
          0.13479463618814308,
          0.15055667859130623,
          0.1437846695619609,
          0.14803657257305308,
          0.13117172515533415,
          0.13845065206191434,
          0.13244419247982156,
          0.13542776627154662,
          0.13650988076050097,
          0.11894983168257423,
          0.11858774748454937,
          0.13996726758849853,
          0.1200464295394496,
          0.13530155406537794,
          0.12238652798497039,
          0.1272281109757031,
          0.14240461150434605,
          0.15386716268753378,
          0.10951081390320558,
          0.15542309021276068,
          0.15885978651515684,
          0.14871315276021957,
          0.12698396277360635,
          0.13799752955124323,
          0.12631152069156013,
          0.148791776757505,
          0.1308013647470687,
          0.14609580127163968,
          0.13455048798604632,
          0.10590238623831763,
          0.1396941526505598,
          0.1615412786331011,
          0.13061101191153557,
          0.12535975651389475,
          0.1454812926612775,
          0.13836788995950863,
          0.15371198374552308,
          0.1305282498091299,
          0.12868058587292291,
          0.1520339821192478,
          0.14372673609027692,
          0.13489188165846977,
          0.13322008718987488,
          0.1340146033729695,
          0.11935329693180198,
          0.14233219466474106,
          0.1499669986116657,
          0.13937758760885804,
          0.1363009064519266,
          0.18973625787015863,
          0.15446718792997496,
          0.12664256910118288,
          0.14067902166918747,
          0.13694438179813082,
          0.13886032446882246,
          0.13341457813052826,
          0.10026628706449028,
          0.10198773879452858,
          0.1297771837297983,
          0.16137989253341004,
          0.15458926203102336,
          0.13118620852325516,
          0.1140006579587141,
          0.13820236575469724,
          0.14652409515158915,
          0.128885422076377,
          0.1263446255325224,
          0.11760287846592168,
          0.1474903426971755,
          0.14240461150434605,
          0.14732481849236417,
          0.14684686735097133,
          0.13632987318776862,
          0.15282849830234238,
          0.12941716858433353,
          0.1501035560806351,
          0.1436046619892285,
          0.13788993881811581,
          0.09810205808658158,
          0.1514298187716863,
          0.1161069534649389,
          0.1331414631925895,
          0.1409273079764045,
          0.143960539029573,
          0.12723224908082342,
          0.1633061804669024,
          0.18687889628460233,
          0.12731087307810882,
          0.13862652152952643,
          0.136379530449212,
          0.13364838106982432,
          0.14798277720648936,
          0.13108482494780815,
          0.12522940620260578,
          0.15073668616403862,
          0.1533209328116562,
          0.15105945836342077,
          0.12415142981877171,
          0.16268753375141987,
          0.11722837995253595,
          0.15311609660820213,
          0.1192022560949116,
          0.15705143457759257,
          0.13594916751670244,
          0.13583330057333445,
          0.12758398801604756,
          0.1250390533670727,
          0.11867671674463548,
          0.1411176608119376,
          0.1214989044366694,
          0.14742620206781112,
          0.13052824980912991,
          0.12694465077496364,
          0.1470123915557827,
          0.13387390779887978,
          0.15557826915477135,
          0.14017210379195263,
          0.12037333984395206,
          0.14516472761957575,
          0.14013279179330992,
          0.14095213660712627,
          0.15383819595169174,
          0.1316600215595277,
          0.12439971612598873,
          0.14425227544055302,
          0.16677805066282103,
          0.127066724876012,
          0.13493119365711248,
          0.13341457813052826,
          0.12625772532499643,
          0.1101439439866091,
          0.12483835526873889,
          0.1488848841227114,
          0.11875947884704116,
          0.1292164704859998,
          0.16529040187207877,
          0.12853368314115282,
          0.129830979096362,
          0.1256039047159915,
          0.12806193915744044,
          0.1551934253785849,
          0.1257404621849609,
          0.1650276321969407,
          0.1354174210087459,
          0.1224444614566544,
          0.13923068487708798,
          0.14305843211335098,
          0.1421956371957717,
          0.13522293006809252,
          0.16691874623691066,
          0.1393382756102153,
          0.14283911254197593,
          0.13385321727327842,
          0.169805074558309,
          0.11873878832143975,
          0.152634007361689,
          0.13124000388981885,
          0.15623208976377628,
          0.13944586634334272,
          0.1315420855635996,
          0.12599909375497867,
          0.129773045624678,
          0.1280764225253614,
          0.1518684579144364,
          0.12537423988181573,
          0.13840720195815132,
          0.12416591318669266,
          0.12044575668355705,
          0.1308551601136324,
          0.16183922220176158,
          0.12751984738668315,
          0.13501395575951816,
          0.13924103013988864,
          0.13727543020775357,
          0.1326386834204749,
          0.15075116953195963,
          0.1312689706256608,
          0.13747612830608735,
          0.1428287672791752,
          0.1061072224417717,
          0.117462182891832,
          0.17186791996077075,
          0.16851812386590054,
          0.12334243026775608,
          0.1525802119951253,
          0.15550585231516637,
          0.13508637259912318,
          0.13568639784156436,
          0.13603813677678855,
          0.16381309834413724,
          0.15244365452615594,
          0.16723117317349212,
          0.14182941489262652,
          0.12026988721594495,
          0.12364451194153683,
          0.1684208783955739,
          0.15646175459795206,
          0.15989845090034824,
          0.11496069834662012,
          0.16764498368552058,
          0.1134937400814793,
          0.15113187520302582,
          0.148748326653742,
          0.11944640429700837,
          0.1558120720940674,
          0.12692602930192237,
          0.14988009840413977,
          0.12205547957534765,
          0.1534430069127046,
          0.13039169234016054,
          0.15178569581203072,
          0.14571509560057358,
          0.1453985305588718,
          0.14685100545609162,
          0.1519119080181994,
          0.14337499715505275,
          0.18106278953804267,
          0.12172856927084519,
          0.12599909375497864,
          0.10978806694626464,
          0.1280660772625607,
          0.16291099142791524,
          0.13528707069745696,
          0.11884637905456713,
          0.1092811490690298,
          0.127081208243933,
          0.12337139700359809,
          0.13320974192707422,
          0.1569583272123862,
          0.11537037075352825,
          0.11868085484975574,
          0.14954284283683658,
          0.1438136362978029,
          0.13467256208709472,
          0.14462263584881846,
          0.15779215539412347,
          0.1124054184348445,
          0.12101681519015628,
          0.1405672928309398,
          0.17642604275076404,
          0.1314158733574309,
          0.11301578894008645,
          0.15250779515552035,
          0.14632960421093577,
          0.15000631061030845,
          0.18747892152704357,
          0.11973400260286811,
          0.12324932290254971,
          0.1257508074477616,
          0.1389099817302659,
          0.14347224262537941,
          0.12168925727220248,
          0.15650520470171503,
          0.13775338134914641,
          0.12965097152362962,
          0.14879177675750496,
          0.10467336901759315,
          0.1277784789567009,
          0.10551754246213119,
          0.11170400961695628,
          0.1602688113086137,
          0.13690093169436782,
          0.13014340603294347,
          0.13458979998468903,
          0.13312697982466848,
          0.136466430656738,
          0.13058204517569358,
          0.13403322484601077,
          0.09638060635654327,
          0.13162484766600524,
          0.14249771886955245,
          0.14489161268163694,
          0.13494567702503346,
          0.1420342510960806,
          0.12182581474117188,
          0.13463325008845203,
          0.1201002249060133,
          0.13489601976359003,
          0.15025459691752546,
          0.12941716858433358,
          0.14587648170026463,
          0.1381589156509343,
          0.15906462271861094,
          0.12605288912154236,
          0.133716659804309,
          0.1566996956423684,
          0.1289247340750197,
          0.14499920341476435,
          0.13278144804712472,
          0.12286861723148353,
          0.12537010177669541,
          0.13680782432916144,
          0.1387237669998531,
          0.14513576088373376,
          0.12519009420396307,
          0.12527285630636875,
          0.13186899586810202,
          0.14954284283683658,
          0.16847881186725788,
          0.12173270737596549,
          0.1259411602832947,
          0.1320345200729134,
          0.11803737950355153,
          0.10896458402732806,
          0.13593054604366117,
          0.13798718428844248,
          0.13127517778334125,
          0.12847574966946884,
          0.13691541506228885,
          0.12497491273770826,
          0.13786097208227382,
          0.13268834068191834,
          0.1607902125537695,
          0.15125394930407418,
          0.13933413750509505,
          0.14660271914887454,
          0.1322497015391682,
          0.12269895492155186,
          0.1447116051089046,
          0.17200861553486044,
          0.10718933693072605,
          0.1635792954048412,
          0.11359098555180598,
          0.12628669206083842,
          0.1551789420106639,
          0.12527285630636875,
          0.13695472706093154,
          0.15642658070442964,
          0.1378320053464318,
          0.15264849072961004,
          0.12768123348637428,
          0.1479289818399257,
          0.12595564365121567,
          0.1369836937967735,
          0.11785737193081916,
          0.16690426286898966,
          0.14490195794443766,
          0.13964035728399607,
          0.14675375998576493,
          0.14847521171580325,
          0.14812967993825948,
          0.13035238034151783,
          0.13115724178741314,
          0.11531243728184427,
          0.12128993012809505,
          0.10338228022006443,
          0.14182941489262652,
          0.1347263574536584,
          0.14589096506818566,
          0.1542768350944419,
          0.14125421828090703,
          0.12176788126948788,
          0.16918642784282648,
          0.13616434898295723,
          0.15189742465027842,
          0.13018271803158613,
          0.1464951284157472,
          0.13505740586328116,
          0.12448868538607488,
          0.1567824577447741,
          0.11065086186384392,
          0.14136594711915468,
          0.13914378466956198,
          0.1201871251135393,
          0.14102041534161092,
          0.13600296288326613,
          0.1361643489829572,
          0.14056729283093977,
          0.15563206452133505,
          0.14329223505264704,
          0.131591742825043,
          0.11081638606865529,
          0.11560003558770404,
          0.1501904562881611,
          0.1255501093494278,
          0.13704162726845748,
          0.1402155538957156,
          0.11683319091354877,
          0.15159948108161794,
          0.1157903884232371,
          0.1345111759874036,
          0.13962587391607506,
          0.127066724876012,
          0.15288229366890607,
          0.15069323606027565,
          0.17240794267896786,
          0.153507147542069,
          0.14199080099231762,
          0.12375210267466424,
          0.13104965105428573,
          0.12340036373944008,
          0.1533747281782199,
          0.1804875929263231,
          0.14405778449989964,
          0.13606710351263054,
          0.15120015393751043,
          0.13471601219085766,
          0.13206348680875538,
          0.09434258958480321,
          0.1303337588684765,
          0.16129299232588407,
          0.12762330001469027,
          0.15467202413342906,
          0.11555037832626064,
          0.172525878674896,
          0.14359431672642778,
          0.12121544423592993,
          0.15404303215514584,
          0.1584211473724067,
          0.1486552192885356,
          0.13552087363675297,
          0.15373060521856435,
          0.13148829019703587,
          0.12330311826911339,
          0.12282516712772054,
          0.13361941433398233,
          0.13992381748473556,
          0.13531189932817864,
          0.15359404774959498,
          0.13674989085747746,
          0.15528653274379134,
          0.15985913890170553,
          0.1303089302377548,
          0.12939233995361185,
          0.12300517470045291,
          0.11286474810319608,
          0.13780717671571013,
          0.16322341836449672,
          0.14430193270199643,
          0.14115697281058034,
          0.14630477558021404,
          0.11776012646049248,
          0.14221012056369267,
          0.12441419949390972,
          0.1478069077388773,
          0.1342732349429873,
          0.11393237922422943,
          0.11945674955980908,
          0.14750896417021683,
          0.12315621553734328,
          0.1397189812812815,
          0.14717791576059405,
          0.12654118552573593,
          0.11582349326419941,
          0.13264902868327566,
          0.13984519348745017,
          0.11702768185420215,
          0.10669276431629193,
          0.16884917227552332,
          0.10847628762313448,
          0.12713500361049673,
          0.13965484065191708,
          0.12602806049082066,
          0.1142737728966529,
          0.17187205806589106,
          0.15289677703682705,
          0.14230736603401933,
          0.17694744399591983,
          0.17303279655213083,
          0.14101007007881028,
          0.14866970265645657,
          0.1665773525644872,
          0.13642298055297503,
          0.14067902166918747,
          0.13940655434470003,
          0.12170374064012349,
          0.13921620150916694,
          0.152677457465452,
          0.14829934224819113,
          0.12021195374426097,
          0.1533498995474982,
          0.14020107052779462,
          0.13026961823911212,
          0.13104965105428576,
          0.14813381804337977,
          0.12650187352709322,
          0.12848609493226953,
          0.11476620740596673,
          0.1344822092515616,
          0.1398307101195292,
          0.10971978821177995,
          0.18250078106734144,
          0.12800814379087672,
          0.1388417029957812,
          0.12080163372390151,
          0.1115964188838289,
          0.12077680509317981,
          0.13854375942712074,
          0.1458226863337009,
          0.14570061223265257,
          0.15326713744509252,
          0.11056809976143825,
          0.18157384552039776,
          0.14773862900439264,
          0.12917715848735706,
          0.16271650048726186,
          0.12549631398286412,
          0.14910834179920673,
          0.14351155462402213,
          0.12787158632190734,
          0.1471344656568311,
          0.11103570564003039,
          0.15587621272343183,
          0.1085404282524989,
          0.14659237388607385,
          0.16221372071514734,
          0.1512642945668749,
          0.1387092836319321,
          0.12905094628118835,
          0.10991427915243332,
          0.1274226019163565,
          0.13088412684947437,
          0.12906542964910936,
          0.11686215764939079,
          0.14483781731507325,
          0.13855824279504173,
          0.16717737780692843,
          0.14755862143166026,
          0.13743681630744467,
          0.10974461684250167,
          0.1494890474702729,
          0.1515415476099339,
          0.13127931588846153,
          0.14475505521266757,
          0.1418832102591902,
          0.15978672206210057,
          0.1109094934338617,
          0.13487739829054876,
          0.1591473848210166,
          0.12905094628118838,
          0.13746578304328663,
          0.1275591593853259,
          0.1467496218806446,
          0.12692602930192237,
          0.15620726113305458,
          0.15458926203102336,
          0.14805519404609435,
          0.14962560493924226,
          0.11658490460633172,
          0.12680809330599427,
          0.1461061465344404,
          0.14796829383856838,
          0.1284612663015479,
          0.13598434141022486,
          0.12628669206083842,
          0.14940628536786718,
          0.13326353729363788,
          0.1304454877067242,
          0.10888596003004265,
          0.14480471247411092,
          0.14937731863202522,
          0.09598541731755614,
          0.17018991833449548,
          0.1307723980112267,
          0.1314407019881526,
          0.10996393641387674,
          0.13167450492744864,
          0.12607151059458363,
          0.12987442920012496,
          0.12107474866184025,
          0.13351182360085492,
          0.1312006918911761,
          0.17118927072104412,
          0.14150250458812405,
          0.13446772588364064,
          0.12358037131217245,
          0.1315027735649569,
          0.13205934870363514,
          0.1389968819377919,
          0.13253729984502793,
          0.13136207799086722,
          0.12467283106392751,
          0.15983017216586354,
          0.13976243138504446,
          0.14697307955713998,
          0.11861257611527104,
          0.14521852298613944,
          0.1535112856471893,
          0.1404741854657334,
          0.12703775814017004,
          0.1404162519940494,
          0.12668601920494585,
          0.1344428972529189,
          0.1409376532392052,
          0.13450703788228333,
          0.1394603497112637,
          0.13516499659640854,
          0.15802182022829928,
          0.1663973449917548,
          0.1420590797268023,
          0.14989871987718104,
          0.13739336620368167,
          0.12880679807909162,
          0.1493773186320252,
          0.10781832890900928,
          0.14041625199404942,
          0.13821684912261828,
          0.14107421070817464,
          0.12304448669909561,
          0.1216354619056388,
          0.12525837293844774,
          0.1421170131984863,
          0.14973319567236965,
          0.10706312472455737,
          0.12694465077496364,
          0.1313041445191832,
          0.16750842621655118,
          0.15785008886580745,
          0.12052438068084245,
          0.1418832102591902,
          0.14751930943301753,
          0.14038728525820743,
          0.15467616223854935,
          0.13268834068191834,
          0.15129326130271686,
          0.15505272980449522,
          0.15061461206299023,
          0.1386265215295264,
          0.11687250291219148,
          0.12438523275806776,
          0.1485724571861299,
          0.11378133838733906,
          0.16637251636103312,
          0.14237150666338377,
          0.14318464431951963,
          0.11264542853182102,
          0.16374481960965254,
          0.12189409347565659,
          0.13409736547537518,
          0.14712412039403036,
          0.14024038252643733,
          0.12807642252536144,
          0.13949966170990644,
          0.130981372319801,
          0.11573659305667341,
          0.13132897314990497,
          0.1346435953512527,
          0.1273294945511501,
          0.15024011354960454,
          0.13903619393643454,
          0.14054246420021807,
          0.1518932865451581,
          0.10691622199278729,
          0.14909385843128573,
          0.13330698739740082,
          0.11045637092319058,
          0.14750896417021683,
          0.12406866771636602,
          0.1396651859147178,
          0.1314303567253519,
          0.11203091992145876,
          0.12850471640531083,
          0.1411859395464223,
          0.15583690072478912,
          0.15278504819857938,
          0.11892500305185252,
          0.12048506868219973,
          0.13226832301220945,
          0.10763832133627692,
          0.11635523977215594,
          0.15959636922656747,
          0.13019720139950713,
          0.15704108931479185,
          0.13383459580023713,
          0.13862652152952637,
          0.14171768605437887,
          0.10872043582523126,
          0.13830995648782468,
          0.15820182780103165,
          0.12197685557806226,
          0.14488747457651668,
          0.14328809694752676,
          0.1198167647052738,
          0.1462075301098874,
          0.14981595777477538,
          0.1424439235029888,
          0.11627247766975023,
          0.1476269001661449,
          0.1715410096562683,
          0.13274213604848206,
          0.1580259583334195,
          0.12259136418842448,
          0.11940709229836566,
          0.11806220813427323,
          0.11069017386248661,
          0.13263454531535465,
          0.16513936103518836,
          0.1323428089043746,
          0.1639496558131066,
          0.17265209088106465,
          0.1418004481567845,
          0.13743681630744467,
          0.16207716324617796,
          0.150858760265087,
          0.12531630641013175,
          0.14959663820340027,
          0.10324572275109505,
          0.1450033415198846,
          0.14163492395197316,
          0.16396000107590733,
          0.16344273793587177,
          0.15563206452133505,
          0.1374223329395237,
          0.14701652966090303,
          0.11676077407394381,
          0.1266818810998256,
          0.13547742353299,
          0.12464386432808555,
          0.14486678405091524,
          0.13921206340404668,
          0.13356561896741864,
          0.1674898047435099,
          0.15745076172170006,
          0.1431080893747944,
          0.152662974097531,
          0.15820596590615194,
          0.11364478091836966,
          0.13736853757295994,
          0.1411714561785013,
          0.13714921800158492,
          0.09957315445684267,
          0.1421956371957717,
          0.13322422529499517,
          0.13992381748473556,
          0.1357939885746918,
          0.16623182078694346,
          0.13743681630744467,
          0.1559196628271948,
          0.16141920453205272,
          0.11684767428146976,
          0.11071500249320831,
          0.13683679106500343,
          0.1372568087347123,
          0.11085569806729799,
          0.13942103771262102,
          0.12223548714808004,
          0.14271290033580722,
          0.1376954478774624,
          0.14217080856505,
          0.14058177619886078,
          0.11358064028900526,
          0.1885610360159979,
          0.15324851597205125,
          0.1410783488132949,
          0.14099558671088921,
          0.1271205202425757,
          0.13650574265538068,
          0.12765640485565255,
          0.11031981345422118,
          0.1570266059468709,
          0.1362760778212049,
          0.1257404621849609,
          0.1576121478213911,
          0.13371665980430902,
          0.12827091346601474,
          0.13942103771262102,
          0.15646589270307235,
          0.1364622925516177,
          0.1610198773879453,
          0.1256535619774349,
          0.11640903513871963,
          0.11468758340868135,
          0.11674422165346267,
          0.12327828963839169,
          0.13689058643156712,
          0.13434151367747196,
          0.1256328714518335,
          0.1452909398257444,
          0.1224258399836131,
          0.1307434312753847,
          0.10418093450827932,
          0.14159561195333042,
          0.15157051434577598,
          0.14085902924191984,
          0.11453240446667068,
          0.14256599760403713,
          0.13820236575469724,
          0.114493092468028,
          0.16953195962037027,
          0.12030919921458764,
          0.1389679152019499,
          0.1256825287132769,
          0.1290364629132674,
          0.1576845646609961,
          0.11561038085050473,
          0.15575413862238346,
          0.124941807896746,
          0.129859945832204,
          0.11184056708592569,
          0.13157725945712195,
          0.1557975887261464,
          0.1388748078367435,
          0.14483367920995294,
          0.12393211024739662,
          0.1476413835340659,
          0.1732914281221486,
          0.12537010177669544,
          0.13887480783674347,
          0.14541301392679276,
          0.15319472060548753,
          0.1469979081878617,
          0.12821297999433082,
          0.14886005549198966,
          0.15046357122609988,
          0.11118260837180048,
          0.15122912067335245,
          0.1634282545679508,
          0.13164967629672697,
          0.16419794212032368,
          0.10703829609383567,
          0.13006064393053776,
          0.17297486308044685,
          0.14756896669446096,
          0.1151324297091119,
          0.1475772429047015,
          0.1763577640162793,
          0.1377678647170674,
          0.15460374539894436,
          0.16965403372141863,
          0.13260557857951263,
          0.13043514244392354,
          0.16745463084998746,
          0.1325124712143063,
          0.12747639728292015,
          0.1247990432700962,
          0.11374616449381664,
          0.1542664898316412,
          0.1295723475263442,
          0.13369803833126773,
          0.15690039374070222,
          0.12840747093498417,
          0.12795848652943334,
          0.13505326775816087,
          0.12464386432808555,
          0.14954284283683658,
          0.13185451250018104,
          0.15155189287273463,
          0.16229234471243276,
          0.17165273849451596,
          0.12228928251464372,
          0.14018658715987364,
          0.13963001202119538,
          0.12589150302185126,
          0.14183976015542724,
          0.1647731387320432,
          0.14148388311508275,
          0.15313678713380355,
          0.11958296176597773,
          0.17275968161419203,
          0.11635523977215595,
          0.1381733990188553,
          0.12187961010773557,
          0.14930903989754052,
          0.15953222859720306,
          0.1348091195560641,
          0.12387831488083294,
          0.1436046619892285,
          0.16277443395894586,
          0.15073254805891834,
          0.16747945948070922,
          0.15448167129789597,
          0.10994945304595574,
          0.12842195430290518,
          0.16446691895314217,
          0.1494311139985889,
          0.1355994976340384,
          0.15546654031652365,
          0.1658221483800353,
          0.11325579903706294,
          0.14563233349816784,
          0.14679307198440758,
          0.12330311826911339,
          0.18272010063871652,
          0.12129406823321533,
          0.13516913470152883,
          0.13037720897223953,
          0.12535975651389472,
          0.13606710351263054,
          0.15741144972305732,
          0.11112881300523678,
          0.12025540384802395,
          0.14061074293470277,
          0.14846486645300253,
          0.13579812667981203,
          0.1673573853796608,
          0.13640849718505402,
          0.16456416442346883,
          0.1242197085532564,
          0.11543864948801294,
          0.14065005493334545,
          0.15269194083337298,
          0.13587261257197716,
          0.16044468077622576,
          0.13014754413806373,
          0.11707733911564554,
          0.1501511442895184,
          0.13453600461812534,
          0.17217413973967183,
          0.13690093169436782,
          0.14476953858058858,
          0.13448220925156165,
          0.1223120420928053,
          0.15389199131825546,
          0.1266177404704612,
          0.11548209959177594,
          0.14973733377748993,
          0.14217080856505,
          0.16942023078212257,
          0.1397334646492025,
          0.100320082431054,
          0.1259846103870577,
          0.13446772588364064,
          0.14677858861648665,
          0.12739363518051447,
          0.1388603244688225,
          0.1566169335399627,
          0.14043073536197043,
          0.15463271213478638,
          0.13278558615224503,
          0.11528347054600228,
          0.10542443509692477,
          0.15456443340030165,
          0.13952862844574843,
          0.13393184127056382,
          0.1532092039734085,
          0.16452485242482612,
          0.11186539571664739,
          0.1453302518243871,
          0.1200464295394496,
          0.14270669317812681,
          0.1421811538278507,
          0.13444289725291894,
          0.15819148253823095,
          0.1321131440701988,
          0.13033789697359685,
          0.10872043582523128,
          0.14649099031062687,
          0.14160595721613117,
          0.13814857038813358,
          0.13309801308882646,
          0.14950353083819387,
          0.11220678938907085,
          0.10409817240587364,
          0.1280371105267187,
          0.17098443451759007,
          0.12613565122394807,
          0.14268807170508552,
          0.15640175207370793,
          0.14597372717059132,
          0.1453737019281501,
          0.14884557212406868,
          0.16856157396966356,
          0.12733570170883052,
          0.10467336901759314,
          0.1542230397278782,
          0.1406397096705448,
          0.14320947295024136,
          0.11767736435808679,
          0.13044548770672423,
          0.11088052669801972,
          0.13855410468992144,
          0.11558969032490334,
          0.1175697736249594,
          0.15546654031652368,
          0.15242917115823496,
          0.1445109070105708,
          0.12687637204047894,
          0.1610343607558663,
          0.1435467285175445,
          0.1411714561785013,
          0.12891438881221898,
          0.16854295249662227,
          0.13803063439220545,
          0.12209892967911064,
          0.13441393051707692,
          0.13204900344083442,
          0.11191919108321108,
          0.16898572974449272,
          0.1356677763685231,
          0.15486651507408242,
          0.1026105236151314,
          0.11038809218870589,
          0.16460761452723185,
          0.17351074769352365,
          0.13536983279986262,
          0.131635192928806,
          0.1420197677281596,
          0.14792898183992567,
          0.15078013626780165,
          0.12066507625493211,
          0.1395431118136694,
          0.15062081922067067,
          0.15141533540376528,
          0.11737942078942633,
          0.15330644944373525,
          0.12438523275806775,
          0.12505767484011396,
          0.18251112633014216,
          0.1446474644795402,
          0.11363443565556895,
          0.14000657958714127,
          0.14649512841574716,
          0.1501759729202401,
          0.11436688026185929,
          0.13185451250018104,
          0.1300171938267748,
          0.1486117691847726,
          0.14664203114751725,
          0.15058564532714824,
          0.13238625900813758,
          0.14255151423611614,
          0.1389534318340289,
          0.11080190270073431,
          0.16935195204763787,
          0.14402881776405765,
          0.12948958542393854,
          0.12031954447738838,
          0.14054660230533836,
          0.1462861541071728,
          0.12418039655461371,
          0.15220985158685987,
          0.17265209088106465,
          0.14736826859612714,
          0.1371637013695059,
          0.12502456999915165,
          0.1559838034565592,
          0.14523714445918068,
          0.14505299878132802,
          0.1192167394628326,
          0.14141974248571837,
          0.12606737248946337,
          0.118335323072212,
          0.14595924380267034,
          0.1422349491944144,
          0.13768510261466174,
          0.1471489490247521,
          0.10662862368692755,
          0.12721776571290241,
          0.13373114317223003,
          0.1348132576611844,
          0.11398617459079313,
          0.10795488637797865,
          0.10050009000378637,
          0.14996699861166574,
          0.14599855580131302,
          0.13580847194261278,
          0.14736826859612712,
          0.13820650385981756,
          0.12282930523284083,
          0.12937785658569087,
          0.14049901409645507,
          0.1552472207451486,
          0.1281447012598461,
          0.11963675713254143,
          0.12868058587292294,
          0.1329366269891354,
          0.15465133360782768,
          0.11891051968393153,
          0.14989871987718104,
          0.0945474257882573,
          0.13940655434470003,
          0.14850417845164518,
          0.14385294829644557,
          0.14005002969090424,
          0.11489241961213541,
          0.17071752673733173,
          0.13402908674089045,
          0.15455408813750093,
          0.11934915882668168,
          0.14673927661784392,
          0.15526584221818987,
          0.10855904972554019,
          0.13769544787746243,
          0.1325621284757497,
          0.137397504308802,
          0.1797758388456342,
          0.15459340013614367,
          0.15629002323546026,
          0.1734962643256027,
          0.1706533861079673,
          0.1372423253667913,
          0.16388137707862194,
          0.1771915921980166,
          0.13025513487119114,
          0.14430193270199643,
          0.14025900399947858,
          0.136714716963955,
          0.13331733266020154,
          0.11935950408948237,
          0.13348699497013325,
          0.16324203983753804,
          0.12108923202976124,
          0.14986354598365864,
          0.1043174919772487,
          0.13111792978877043,
          0.13011443929710145,
          0.15111739183510478,
          0.15686521984717977,
          0.1407328170357512,
          0.14010382505746793,
          0.13900722720059258,
          0.12367347867737882,
          0.13220625143540518,
          0.145212315828459,
          0.13821684912261828,
          0.15013252281647713,
          0.13493119365711245,
          0.15162017160721933,
          0.13200141523195116,
          0.136437463920896,
          0.13351182360085492,
          0.12089474108910789,
          0.1339359793756841,
          0.0944398350551299,
          0.16946368088588554,
          0.11482000277253043,
          0.12840747093498414,
          0.14267358833716454,
          0.14468677647818287,
          0.2092432854071792,
          0.11051016628975426,
          0.13910447267091924,
          0.1333131945550813,
          0.14535921856022907,
          0.10312364865004667,
          0.1525802119951253,
          0.1511463585709468,
          0.12707707013881273,
          0.13170347166329063,
          0.13343940676124996,
          0.13534086606402063,
          0.14564681686608885,
          0.10862319035490459,
          0.1429508413802236,
          0.13527258732953593,
          0.11227920622867582,
          0.16228199944963198,
          0.12736880654979277,
          0.11961606660694,
          0.14533025182438705,
          0.14933800663338254,
          0.12623289669427473,
          0.13657402138986538,
          0.14117145617850133,
          0.12211341304703163,
          0.1558762127234318,
          0.13496016039295447,
          0.12666739773190458,
          0.13806994639084816,
          0.11641938040152033,
          0.1361540037201565,
          0.14651995704646886,
          0.15798664633477685,
          0.12401901045492258,
          0.11500001034526282,
          0.13929896361157262,
          0.1296799382594716,
          0.15960050733168776,
          0.14527231835270313,
          0.13732508746919694,
          0.14020107052779465,
          0.10732589439969542,
          0.11011911535588738,
          0.10656034495244285,
          0.1425804809719581,
          0.14102041534161092,
          0.15238985915959224,
          0.14396467713469324,
          0.1389430865712282,
          0.14370190745955522,
          0.16834225439828848,
          0.11819876560324262,
          0.13769130977234217,
          0.14875246475886228,
          0.1625116642838078,
          0.16322341836449672,
          0.10149944239033504,
          0.14472608847682558,
          0.11798358413698784,
          0.1280371105267187,
          0.11259577127037759,
          0.19239292135738123,
          0.12291827449292694,
          0.1413183589102714,
          0.13712438937086321,
          0.12412660118804998,
          0.14883108875614767,
          0.12631152069156013,
          0.12945027342529583,
          0.14563233349816787,
          0.12058231415252642,
          0.13188347923602303,
          0.1409769652378479,
          0.1674939428486302,
          0.11973814070798838,
          0.11229368959659683,
          0.1242052251853354,
          0.10734037776761643,
          0.17333487822591157,
          0.12348312584184576,
          0.1229658627018102,
          0.14021555389571563,
          0.16110263949035097,
          0.13524775869881422,
          0.15901082735204725,
          0.1143813636297803,
          0.14311222747991467,
          0.14864073592061464,
          0.14025486589435834,
          0.11393237922422944,
          0.1557975887261464,
          0.12877369323812934,
          0.1821552492897977,
          0.13947483307918473,
          0.14928007316169853,
          0.1836511742907805,
          0.1339359793756841,
          0.1101439439866091,
          0.1271598322412184,
          0.1722237970011152,
          0.17191137006453375,
          0.12211755115215193,
          0.14984492451061732,
          0.13028410160703313,
          0.16939540215140084,
          0.14239012813642504,
          0.12102095329527658,
          0.13500361049671744,
          0.13519396333225053,
          0.13804097965500617,
          0.1132640752473035,
          0.13311663456186779,
          0.08718573677927138,
          0.12207410104838895,
          0.1224796353501768,
          0.1232493229025497,
          0.1323034969057319,
          0.12806607726256072,
          0.1299385698294894,
          0.12208858441630993,
          0.12353692120840948,
          0.10693070536070827,
          0.12345415910600374,
          0.10847628762313449,
          0.14589096506818564,
          0.1345401427232456,
          0.13436013515051323,
          0.13223521817124723,
          0.15446718792997496,
          0.1510098011019774,
          0.1379727009205215,
          0.15881633641139387,
          0.13166415966464798,
          0.13750923314704963,
          0.11938847082532439,
          0.12391141972179517,
          0.10801281984966266,
          0.12144097096498543,
          0.13850444742847806,
          0.14741171869989014,
          0.12317069890526432,
          0.11845119001557998,
          0.15559275252269236,
          0.13917688951052423,
          0.12060714278324813,
          0.16365791940212657,
          0.12303414143629489,
          0.1446329811116192,
          0.130660669172979,
          0.14505299878132807,
          0.15064978595651263,
          0.10374643347064948,
          0.1459778652757116,
          0.1403914233633277,
          0.14593027706682832,
          0.14702273681858338,
          0.14006037495370494,
          0.12500387947355027,
          0.1586694336796238,
          0.14236116140058305,
          0.1655345500741755,
          0.13114689652461242,
          0.12847988777458913,
          0.1509415223674927,
          0.1300751272984588,
          0.1216602905363605,
          0.12886059344565529,
          0.13226418490708922,
          0.13984105538232985,
          0.14616408000612444,
          0.13209866070227783,
          0.15560309778549303,
          0.13760234051225606,
          0.17017543496657445,
          0.1388748078367435,
          0.16047364751206775,
          0.15715281815303955,
          0.12865161913708092,
          0.15692936047654418,
          0.14713446565683108,
          0.13889963646746517,
          0.12390728161667491,
          0.1274619139149992,
          0.1235224378404885,
          0.12242583998361309,
          0.1518250078106734,
          0.12532665167293244,
          0.15050288322474256,
          0.15471547423719204,
          0.1051120081603433,
          0.12078715035598049,
          0.1559341461951158,
          0.13736853757295997,
          0.16065365508480012,
          0.1430046367467873,
          0.13458979998468903,
          0.15542309021276066,
          0.18324150188387237,
          0.1639062057093436,
          0.17106305851487544,
          0.14824140877650716,
          0.140265211157159,
          0.1373788828357607,
          0.14054246420021807,
          0.1239714222460393,
          0.15218502295613814,
          0.14472608847682558,
          0.13688644832644684,
          0.11290819820695908,
          0.1274226019163565,
          0.13459393808980932,
          0.17156997639211027,
          0.11366960954909139,
          0.11169987151183602,
          0.1428825626457389,
          0.11004669851628242,
          0.15145878550752828,
          0.14850004034652492,
          0.13835340659158765,
          0.11305923904384944,
          0.13773475987610515,
          0.14704135829162468,
          0.11210333676106375,
          0.1484358997171605,
          0.1230775915400579,
          0.14895316285719606,
          0.15141533540376528,
          0.1366567834922711,
          0.179438583278331,
          0.13292214362121443,
          0.1552223921144269,
          0.1586797789424245,
          0.12303000333117464,
          0.11866223337671447,
          0.14248323550163142,
          0.15035184238785215,
          0.09350876140306594,
          0.12283965049564154,
          0.13754854514569234,
          0.14252254750027415,
          0.13902584867363388,
          0.13680368622404118,
          0.1748908057511385,
          0.14091903176616397,
          0.11447860910010699,
          0.0996766070848498,
          0.14005002969090427,
          0.11752632352119642,
          0.13234694700949487,
          0.16039502351478235,
          0.1247555931663332,
          0.14959250009828,
          0.10880319792763696,
          0.13929482550645234,
          0.15218502295613814,
          0.11786151003593945,
          0.14840693298131852,
          0.14979112914405363,
          0.13645194728881702,
          0.18084346996666759,
          0.1523070970571865,
          0.12019747037633996,
          0.1516532764481816,
          0.16178956494031818,
          0.13683265295988314,
          0.1445791857450555,
          0.12797296989735432,
          0.1616923194699915,
          0.14292187464438158,
          0.123210010903907,
          0.12686602677767825,
          0.11557520695698234,
          0.16303306552896366,
          0.14188321025919023,
          0.16963955035349762,
          0.14098110334296823,
          0.13794373418467948,
          0.1427066931781268,
          0.1420487344640016,
          0.1749880512214652,
          0.1608729746561752,
          0.1232782896383917,
          0.12299069133253193,
          0.1390361939364346,
          0.1108805266980197,
          0.1158338385270001,
          0.13533052080121988,
          0.14174665279022083,
          0.12141614233426372,
          0.14155216184956745,
          0.13914792277468227,
          0.12156718317115409,
          0.12997788182813208,
          0.1306068738064153,
          0.1393672423460573,
          0.16106332749170826,
          0.1331559465605105,
          0.12357623320705216,
          0.12573011692216016,
          0.14299015337886625,
          0.12842195430290515,
          0.14907937506336472,
          0.1406355715654245,
          0.12282516712772057,
          0.13084067674571137,
          0.13695886516605185,
          0.1404597020978124,
          0.1261108225932263,
          0.12021609184938126,
          0.11546761622385493,
          0.15780663876204445,
          0.10393264820106224,
          0.13895756993914918,
          0.11434618973625787,
          0.14536956382302982,
          0.11288957673391778,
          0.11877810032008243,
          0.13087378158667365,
          0.14126456354370773,
          0.13730025883847527,
          0.15926945892206498,
          0.14568612886473153,
          0.18722442806214606,
          0.12437074939014676,
          0.11852981401286539,
          0.1273791518125935,
          0.11455102593971193,
          0.12987442920012496,
          0.155383778214118,
          0.15482306497031945,
          0.1353305208012199,
          0.1397624313850445,
          0.13164967629672697,
          0.15337059007309964,
          0.1182277323390846,
          0.10508304142450131,
          0.1314448400932729,
          0.13608158688055152,
          0.10802316511246335,
          0.12451765212191687,
          0.1549492771764881,
          0.16474417199620123,
          0.1174228708931893,
          0.10728658240105274,
          0.13368769306846703,
          0.14276048854469053,
          0.12555010934942779,
          0.1232638062704707,
          0.1815800526780782,
          0.15794319623101385,
          0.13848996406055705,
          0.13781752197851085,
          0.12419487992253467,
          0.14473022658194584,
          0.13892860320330716,
          0.1483283089840331,
          0.15920118018758028,
          0.12710603687465474,
          0.1339173579026428,
          0.15468650750135007,
          0.10434232060797041,
          0.1201002249060133,
          0.15259469536304632,
          0.12751984738668315,
          0.11632627303631393,
          0.1512001539375105,
          0.13175726702985435,
          0.12186926484493485,
          0.12104578192599826,
          0.15930877092070772,
          0.1692981566810742,
          0.17362247653177135,
          0.16316962299793303,
          0.14545232592543547,
          0.13348285686501296,
          0.11461930467419665,
          0.14110317744401663,
          0.12649152826429252,
          0.12688671730327966,
          0.18068208386697646,
          0.17131134482209254,
          0.1377451051389058,
          0.12474110979841221,
          0.13338561139468627,
          0.17497356785354418,
          0.15309747513516087,
          0.161336442429647,
          0.14501368678268534,
          0.13433116841467124,
          0.18334909261699978,
          0.18819481371285277,
          0.12119682276288865,
          0.14468677647818287,
          0.15702660594687085,
          0.1716920504931587,
          0.14433089943783842,
          0.12699844614152736,
          0.153579564381674,
          0.15185811265163568,
          0.13011443929710145,
          0.1159559126280485,
          0.14755862143166024,
          0.15035184238785218,
          0.12061128088836841,
          0.09896899110928116,
          0.15217053958821716,
          0.1281736679956881,
          0.1306792906460203,
          0.10560030456453688,
          0.1328973149904927,
          0.18575746979700525,
          0.1330442177222628,
          0.11478069077388775,
          0.1347367027164591,
          0.11381030512318104,
          0.14946421883955122,
          0.1253018230422107,
          0.1479579485757677,
          0.1640324179155123,
          0.14168871931853683,
          0.16652355719792353,
          0.14003968442810355,
          0.1517856958120307,
          0.15783146739276618,
          0.1257011501863182,
          0.12438109465294747,
          0.14312671084783568,
          0.11803324139843124,
          0.10312364865004665,
          0.1392596516129299,
          0.14351155462402215,
          0.13434151367747194,
          0.12694465077496367,
          0.14115697281058034,
          0.17845371425970333,
          0.10958323074281058,
          0.1608584912882542,
          0.12520457757188405,
          0.15478375297167676,
          0.10957909263769028,
          0.19124666623906247,
          0.1321710775418828,
          0.15917635155685858,
          0.1696685170893396,
          0.16521177787479338,
          0.13114275841949213,
          0.14126456354370767,
          0.16285305795623123,
          0.1347553241895004,
          0.13103516768636475,
          0.13654505465402342,
          0.1356181191070797,
          0.11318752030257824,
          0.1476124167982239,
          0.15709488468135555,
          0.15667072890652642,
          0.14586199833234367,
          0.15816251580238894,
          0.15165327644818163,
          0.14511093225301203,
          0.12971511215299403,
          0.12036299458115134,
          0.15616381102929158,
          0.13650574265538068,
          0.14162457868917247,
          0.10872043582523126,
          0.11668215007665839,
          0.14312671084783565,
          0.13512154649264552,
          0.13609193214335225,
          0.14241495676714677,
          0.1518394911785944,
          0.13743681630744467,
          0.12170374064012347,
          0.10868112382658855,
          0.12404383908564429,
          0.151731900445467,
          0.1315669141943213,
          0.1116212475145506,
          0.14341430915369544,
          0.11445378046938526,
          0.1167462907060228,
          0.1495283594689156,
          0.12557493798014951,
          0.17663087895421806,
          0.1479579485757677,
          0.14244392350298876,
          0.1347263574536584,
          0.11613592020078088,
          0.16482693409860688,
          0.13356561896741864,
          0.13509257975680358,
          0.14242944013506778,
          0.13256626658086995,
          0.13497464376087545,
          0.13929896361157265,
          0.1264232495298078,
          0.15865495031170276,
          0.14673927661784394,
          0.1250825034708357,
          0.13217107754188281,
          0.12868058587292294,
          0.13929896361157262,
          0.10703829609383568,
          0.16940574741420156,
          0.17397835357211577,
          0.10725347756009046,
          0.11830014917868958,
          0.11490276487493611,
          0.15718799204656198,
          0.15349680227926832,
          0.1239900437190806,
          0.12676464320223127,
          0.11890017442113082,
          0.14419434196886904,
          0.15888875325099883,
          0.17107754188279645,
          0.12691982214424194,
          0.16727462327725512,
          0.15589069609135284,
          0.13544224963946758,
          0.14823106351370643,
          0.1810669276431629,
          0.1313227659922245,
          0.1413183589102714,
          0.1302075466623079,
          0.13752992367265104,
          0.14929869463473983,
          0.14526197308990238,
          0.12179684800532989,
          0.17131134482209254,
          0.14163906205709345,
          0.10883216466347898,
          0.1661097466858951,
          0.1429901533788663,
          0.14609580127163965,
          0.13590571741293947,
          0.14727102312580043,
          0.14349707125610112,
          0.12687223393535868,
          0.12434178265430476,
          0.14191217699503222,
          0.14241495676714672,
          0.13944586634334272,
          0.13508637259912315,
          0.12736466844467248,
          0.10786798617045268,
          0.11537037075352824,
          0.16416897538448172,
          0.13117172515533412,
          0.1436088000943488,
          0.14894281759439532,
          0.14008934168954698,
          0.12959717615706592,
          0.14420882533679005,
          0.15836735200584298,
          0.15325265407717154,
          0.13431668504675026,
          0.130733086012584,
          0.15466167887062832,
          0.1559486295630368,
          0.14708480839538768,
          0.11413721542768351,
          0.13826029922638125,
          0.13754440704057205,
          0.1356429477378014,
          0.12973373362603527,
          0.1069017386248663,
          0.13118207041813484,
          0.12924129911672147,
          0.13624297298024263,
          0.132785586152245,
          0.13610641551127323,
          0.15962533596240946,
          0.12659911899741988,
          0.12326380627047069,
          0.1390403320415549,
          0.14386329355924626,
          0.13634021845056932,
          0.11103570564003036,
          0.13257661184367067,
          0.10333883011630145,
          0.11778909319633446,
          0.12430247065566205,
          0.12888542207637702,
          0.13673540748955645,
          0.13467256208709472,
          0.12249411871809779,
          0.146013039169234,
          0.1575914572957897,
          0.10658931168828482,
          0.14521852298613944,
          0.13782166008363111,
          0.14256599760403715,
          0.1381878823867763,
          0.14523300635406042,
          0.15938118776031268,
          0.13519396333225053,
          0.13009995592918047,
          0.13004616056261678,
          0.13833892322366667,
          0.11564348569146701,
          0.11033843492726245,
          0.11929950156523828,
          0.14599855580131305,
          0.12058231415252643,
          0.11070465723040762,
          0.15148361413824998,
          0.13184416723738035,
          0.12763157622493085,
          0.13077239801122667,
          0.14025486589435832,
          0.14713446565683108,
          0.14055694756813908,
          0.13619331571879922,
          0.12962614289290794,
          0.1265742903666982,
          0.1287778313432496,
          0.11699457701323986,
          0.14516472761957572,
          0.11967606913118416,
          0.13442427577987764,
          0.13364838106982432,
          0.13658436665266607,
          0.15951774522928208,
          0.1567969411126951,
          0.17163825512659497,
          0.1528388435651431,
          0.12096301982359257,
          0.13447807114644134,
          0.11822773233908461,
          0.14604200590507602,
          0.15231744231998726,
          0.11523381328455888,
          0.13869480026401115,
          0.13274627415360235,
          0.1419225222578329,
          0.13907964404019757,
          0.140337627996764,
          0.16049847614278948,
          0.1567679743768531,
          0.09732202527140796,
          0.1314158733574309,
          0.15888875325099883,
          0.12765640485565255,
          0.15314092523892386,
          0.13378080043367344,
          0.1246624858011268,
          0.13995692232569787,
          0.12615013459186905,
          0.14184389826054752,
          0.14809450604473706,
          0.12653084026293523,
          0.1541154489947508,
          0.1354960450060313,
          0.13077653611634696,
          0.12459006896152183,
          0.15319885871060784,
          0.11010463198796641,
          0.13379528380159444,
          0.13153794745847927,
          0.12109337013488156,
          0.13284972678160942,
          0.12028437058386597,
          0.13812374175741185,
          0.1478069077388773,
          0.15336024481029892,
          0.15807975369998326,
          0.14258048097195816,
          0.12777847895670094,
          0.11875947884704116,
          0.15061461206299026,
          0.1135516735531633,
          0.1435756952533865,
          0.13710990600294218,
          0.16857191923246426,
          0.1307579146433057,
          0.1110170841669891,
          0.1230734534349376,
          0.16825535419076254,
          0.14337085904993244,
          0.1127137072663057,
          0.14108869407609562,
          0.13925551350780963,
          0.14004589158578395,
          0.13935275897813632,
          0.14492057941747893,
          0.1334000947626073,
          0.13472635745365838,
          0.16967886235214036,
          0.12051403541804175,
          0.13664230012435005,
          0.13837823522230933,
          0.15416924436131454,
          0.13334629939604356,
          0.1314841520919156,
          0.15827424464063658,
          0.1508049648985233,
          0.17213068963590883,
          0.14283911254197587,
          0.13264902868327566,
          0.1617709434672769,
          0.15435959719684758,
          0.14650133557342757,
          0.12805159389463971,
          0.12634462553252243,
          0.14303360348262928,
          0.12359071657497316,
          0.13942103771262102,
          0.13372700506710972,
          0.11959744513389874,
          0.15373060521856438,
          0.12999236519605306,
          0.11785737193081919,
          0.15616381102929155,
          0.17802955848487417,
          0.13516499659640854,
          0.13493119365711248,
          0.14843589971716048,
          0.17300796792140907,
          0.12590598638977224,
          0.10119736071655426,
          0.14257013570915741,
          0.12798331516015504,
          0.12519423230908336,
          0.1452723183527031,
          0.14196183425647566,
          0.11131916584076985,
          0.11913397736042688,
          0.15865495031170276,
          0.1421025298305653,
          0.1413762923819554,
          0.11779323130145478,
          0.13740784957160265,
          0.1370416272684575,
          0.14816278477922176,
          0.16365171224444616,
          0.1649490081996553,
          0.13152760219567858,
          0.12712052024257572,
          0.15814803243446793,
          0.15757283582274842,
          0.13716370136950587,
          0.1454378425575145,
          0.1149565602414998,
          0.14968353841092624,
          0.11736493742150532,
          0.15281401493442137,
          0.16414414675376,
          0.11141641131109653,
          0.12346864247392478,
          0.14401847250125696,
          0.1435550047277851,
          0.15764111455723306,
          0.14126870164882802,
          0.14611028463956072,
          0.1483965877185178,
          0.17841026415594033,
          0.17176032922764337,
          0.11196264118697408,
          0.15457477866310237,
          0.1708685675742221,
          0.15148361413824998,
          0.1286909311357237,
          0.12459420706664212,
          0.1410742107081746,
          0.12610668448810605,
          0.14725653975787947,
          0.15644106407235064,
          0.13154208556359961,
          0.14379915292988188,
          0.1324152257439796,
          0.15850390947481235,
          0.13178623376569637,
          0.14131835891027142,
          0.14549577602919847,
          0.1287095526087649,
          0.1173690755266256,
          0.12180098611045018,
          0.12972338836323458,
          0.11219644412627014,
          0.13241522574397957,
          0.15550585231516637,
          0.10064078557787602,
          0.17497770595866446,
          0.13602365340886755,
          0.12602392238570037,
          0.10806661521622635,
          0.11635523977215592,
          0.1076672880721189,
          0.11652076397696731,
          0.13176140513497464,
          0.13995692232569784,
          0.15768042655587577,
          0.1715410096562683,
          0.14171768605437884,
          0.1168973315429132,
          0.13706645589917923,
          0.12405418434844502,
          0.12935302795496914,
          0.10778936217316729,
          0.13251247121430626,
          0.16297927016239994,
          0.12631152069156015,
          0.11458619983323436,
          0.1068334598903816,
          0.1224692900873761,
          0.12293275786084795,
          0.15501755591097283,
          0.16259856449133378,
          0.09390395044205307,
          0.1299675365653314,
          0.14543784255751446,
          0.13037307086711925,
          0.15057116195922726,
          0.12359071657497316,
          0.10980255031418565,
          0.12134786359977903,
          0.12918750375015778,
          0.16519729450687234,
          0.12211341304703163,
          0.14724619449507875,
          0.15194087475404136,
          0.137267153997513,
          0.12238652798497043,
          0.1372568087347123,
          0.15535894958339627,
          0.10234775393999333,
          0.12266378102802945,
          0.1722920757355999,
          0.130660669172979,
          0.1124405923283669,
          0.16901055837521442,
          0.16125368032724136,
          0.145125415620933,
          0.12228928251464372,
          0.124083151084287,
          0.1379582175526005,
          0.13283938151880872,
          0.13742647104464395,
          0.13607124161775083,
          0.10494648395553194,
          0.12620392995843274,
          0.14732481849236415,
          0.10641964937835316,
          0.12785710295398636,
          0.1224444614566544,
          0.1193201920908397,
          0.13471187408573737,
          0.16195095104000926,
          0.13529120880257722,
          0.134618766720531,
          0.15145878550752825,
          0.16693322960483165,
          0.13777820997986812,
          0.11218196075834913,
          0.14674962188064467,
          0.13856858805784245,
          0.15000631061030845,
          0.13374148843503073,
          0.1335945857032606,
          0.13656367612706466,
          0.1385872095308837,
          0.13599882477814582,
          0.11657455934353102,
          0.15323817070925055,
          0.12769571685429523,
          0.13757337377641404,
          0.11117847026668018,
          0.14560336676232585,
          0.12025540384802395,
          0.13785683397715354,
          0.13901136530571287,
          0.15097669626101512,
          0.1553444662154753,
          0.12677912657015225,
          0.1356822597364441,
          0.11713113448220926,
          0.14355086662266484,
          0.13905067730435555,
          0.1329117983584137,
          0.1280805606304817,
          0.12887093870845603,
          0.12330311826911339,
          0.15140499014096456,
          0.13936724234605732,
          0.14821658014578548,
          0.12488180537250186,
          0.14177561952606282,
          0.13186899586810205,
          0.11441033036562227,
          0.16467175515659627,
          0.12438523275806776,
          0.12512181546947837,
          0.13405805347673247,
          0.11714975595525053,
          0.16001017973859588,
          0.1562465731316973,
          0.1559444914579165,
          0.14593441517194863,
          0.14074730040367217,
          0.09745858274037736,
          0.1541547609933935,
          0.14312671084783565,
          0.12250860208601883,
          0.13886032446882246,
          0.11795461740114585,
          0.1246190356973638,
          0.1443846948044021,
          0.12763778338261125,
          0.12022643711218196,
          0.15979086016722083,
          0.17604119897457757,
          0.16862571459902795,
          0.1437308741953972,
          0.14012865368818964,
          0.13727129210263325,
          0.1289826675467037,
          0.13848996406055702,
          0.12431695402358306,
          0.15535894958339627,
          0.15802595833341956,
          0.13037720897223953,
          0.15571482662374075,
          0.13928034213853133,
          0.13093792221603806,
          0.1239362483525169,
          0.12980615046564029,
          0.15334576144237794,
          0.1027574263469015,
          0.13423806104946487,
          0.1496690550430053,
          0.1198705600718375,
          0.15049874511962227,
          0.12590598638977227,
          0.14110317744401663,
          0.1453199065615864,
          0.1323076350108522,
          0.14160595721613117,
          0.11587728863076308,
          0.10679000978661861,
          0.1379147674488375,
          0.16765946705344156,
          0.15960050733168774,
          0.10905769139253445,
          0.10872043582523129,
          0.16697667970859467,
          0.16521177787479338,
          0.12321001090390699,
          0.15905427745581022,
          0.11564348569146703,
          0.16775257441864797,
          0.1396217358109548,
          0.15394992478993944,
          0.16801120598866573,
          0.14158112858540947,
          0.1566996956423684,
          0.12974407888883602,
          0.13541328290362561,
          0.13129379925638252,
          0.11156331404286665,
          0.11943192092908735,
          0.14237564476850406,
          0.15894254861756252,
          0.12288310059940452,
          0.14913730853504872,
          0.1322393562763675,
          0.1123185182273185,
          0.12042092805283533,
          0.12171822400804447,
          0.14794346520784668,
          0.13572570984020707,
          0.11654559260768903,
          0.16924436131451048,
          0.13712025126574293,
          0.12956407131610367,
          0.12673567646638928,
          0.14595924380267034,
          0.12357623320705215,
          0.1278902077949486,
          0.12714948697841771,
          0.1290654296491094,
          0.12047058531427873,
          0.13509257975680358,
          0.1509415223674927,
          0.12364451194153685,
          0.15791836760029218,
          0.13586226730917647,
          0.13674989085747746,
          0.1606640003476008,
          0.10272432150593923,
          0.14998148197958672,
          0.13439944714915592,
          0.13326353729363788,
          0.13939207097677903,
          0.16219923734722633,
          0.12079128846110077,
          0.12843229956570593,
          0.14254116897331542,
          0.12725707771154512,
          0.17295003444972515,
          0.16312617289417006,
          0.14060660482958248,
          0.12967993825947163,
          0.15363749785335795,
          0.13104551294916544,
          0.15063530258859162,
          0.1402300372636366,
          0.12008574153809232,
          0.15076151479476033,
          0.13997761285129928,
          0.14190803888991194,
          0.12673567646638928,
          0.12086577435326587,
          0.15976189343137884,
          0.12979166709771928,
          0.12066093814981182,
          0.13260971668463295,
          0.14166802879293539,
          0.10094907440933722,
          0.1390403320415549,
          0.14145905448436108,
          0.13441393051707695,
          0.14182941489262654,
          0.11966158576326313,
          0.13314560129770978,
          0.14192252225783292,
          0.15349680227926832,
          0.15426235172652092,
          0.1656897290161862,
          0.14189769362711124,
          0.16065365508480012,
          0.1520050153834058,
          0.11372754302077535,
          0.10739417313418013,
          0.1469834248199407,
          0.1349705056557552,
          0.13044548770672423,
          0.12292241259804725,
          0.13976243138504446,
          0.16233579481619573,
          0.13170760976841095,
          0.1690540084789774,
          0.10201670553037061,
          0.1350532677581609,
          0.14869453128717827,
          0.14233633276986138,
          0.15145878550752825,
          0.15641209733650868,
          0.1494497354716302,
          0.13584778394125546,
          0.14845038308508152,
          0.14084040776887854,
          0.1182711824428476,
          0.14189769362711122,
          0.14296118664302432,
          0.13390701263984212,
          0.1391334394067613,
          0.1324007423760586,
          0.15866943367962374,
          0.11044602566038984,
          0.1571238514171976,
          0.17288175571524045,
          0.13092757695323737,
          0.14657375241303255,
          0.13418012757778086,
          0.13453600461812534,
          0.1314696687239946,
          0.142156325197129,
          0.11282543610455337,
          0.1363009064519266,
          0.14566130023400986,
          0.1290757749119101,
          0.12379555277842723,
          0.10988117431147104,
          0.10585893613455462,
          0.131649676296727,
          0.16690426286898966,
          0.12623289669427473,
          0.13865135016024815,
          0.13598847951534515,
          0.12136234696770001,
          0.1134647733456373,
          0.1404700473606131,
          0.1330731844581048,
          0.14127904691162868,
          0.1861671422039134,
          0.15082565542412474,
          0.12465834769600653,
          0.12672533120358856,
          0.14037693999540668,
          0.16423725411896642,
          0.15050288322474256,
          0.12712052024257572,
          0.15843563074032768,
          0.16766981231624228,
          0.11092397680178269,
          0.15064978595651266,
          0.12970476689019328,
          0.14930903989754052,
          0.14723171112715777,
          0.1400603749537049,
          0.13911481793371996,
          0.13481946481886478,
          0.1542913184623629,
          0.12635497079532312,
          0.12052851878596274,
          0.14295084138022357,
          0.11813462497387821,
          0.13242970911190055,
          0.14222874203673397,
          0.13033789697359682,
          0.10878871455971598,
          0.14664203114751725,
          0.1411424894426593,
          0.15550999042028665,
          0.14327775168472603,
          0.15478375297167674,
          0.13185451250018104,
          0.1487876386523847,
          0.13263868342047494,
          0.1377388979812254,
          0.1519760486475638,
          0.14876281002166297,
          0.12675429793943058,
          0.11497104360942081,
          0.17560255983182743,
          0.12691568403912165,
          0.12791503642567034,
          0.146056489272997,
          0.1460171772743543,
          0.12870541450364464,
          0.13524775869881425,
          0.12905094628118838,
          0.13676437422539844,
          0.13059652854361462,
          0.17363695989969233,
          0.1696685170893396,
          0.14698756292506102,
          0.1665339024607242,
          0.14794346520784668,
          0.13640849718505402,
          0.13191865312954545,
          0.14025486589435832,
          0.12784675769118564,
          0.1698878366607147,
          0.15524722074514863,
          0.13162484766600527,
          0.1510491131006201,
          0.13395046274360506,
          0.16812293482691337,
          0.13342906149844927,
          0.157187992046562,
          0.1657973197493136,
          0.11418066553144648,
          0.15052771185546424,
          0.135462940165069,
          0.15275608146273742,
          0.1636082621406832,
          0.1364767759195387,
          0.1223182492504857,
          0.11275301926494838,
          0.09316736773064246,
          0.11726769195117864,
          0.15415476099339354,
          0.11706285574772458,
          0.1551251466441002,
          0.11118260837180047,
          0.1410928321812159,
          0.165933877218283,
          0.13913343940676123,
          0.1504449497530586,
          0.13949966170990644,
          0.160171565838287,
          0.14973319567236967,
          0.12739363518051447,
          0.15491617233552582,
          0.11483448614045146,
          0.17259415740938067,
          0.14321981821304205,
          0.11811600350083692,
          0.11761322372872239,
          0.1355560475302754,
          0.14102041534161094,
          0.10280087645066449,
          0.13268834068191834,
          0.11565796905938802,
          0.14130387554235038,
          0.14452125227337148,
          0.11817393697252092,
          0.134647733456373,
          0.128012281895997,
          0.150844276897166,
          0.13079101948426794,
          0.13429185641602853,
          0.14570061223265254,
          0.12951441405466024,
          0.12127544676017404,
          0.13263454531535462,
          0.1594784332306394,
          0.1208409457225442,
          0.11770633109392878,
          0.14905040832752275,
          0.15624657313169726,
          0.126208068063553,
          0.1378361434515521,
          0.1330980130888265,
          0.1591370395582159,
          0.12914405364639478,
          0.15658796680412074,
          0.1577528433954808,
          0.1297192502581143,
          0.13988450548609285,
          0.14401847250125696,
          0.12803711052671873,
          0.1503373590199312,
          0.14232184940194037,
          0.15043046638513755,
          0.1223865279849704,
          0.1291295702784738,
          0.12602806049082063,
          0.13819202049189658,
          0.13992795558985585,
          0.14756275953678052,
          0.1590253107199682,
          0.16155576200102215,
          0.12345415910600377,
          0.12695913414288462,
          0.11761736183384268,
          0.1338635625360791,
          0.14646616167990514,
          0.12189823158077687,
          0.13522293006809252,
          0.14984492451061734,
          0.16589042711452,
          0.11710630585148755,
          0.1415480237444472,
          0.13443875914779865,
          0.13837823522230938,
          0.1247949051649759,
          0.12286447912636327,
          0.14032314462884296,
          0.13300076761849983,
          0.1471241203940304,
          0.1388851530995442,
          0.13608158688055152,
          0.14014313705611064,
          0.17390593673251079,
          0.12043127331563604,
          0.1415231951137255,
          0.16043433551342506,
          0.10853008298969818,
          0.13568639784156436,
          0.12474110979841221,
          0.11522967517943859,
          0.13231798027365288,
          0.1533312780744569,
          0.15623208976377628,
          0.13800166765636349,
          0.11128399194724745,
          0.13507188923120217,
          0.15451063803373802,
          0.12048920678732002,
          0.14340396389089474,
          0.14994216998094403,
          0.12314173216942231,
          0.15715902531071999,
          0.1282812587288155,
          0.11133364920869088,
          0.12181546947837116,
          0.11009014862004542,
          0.1256142499787922,
          0.14100179386856965,
          0.142141841829208,
          0.14604200590507602,
          0.1464765069427059,
          0.13337112802676526,
          0.16265235985789747,
          0.14086937450472056,
          0.1290219795453464,
          0.15229675179438584,
          0.1445460809040932,
          0.14516472761957572,
          0.1289640460736624,
          0.1372712921026333,
          0.13958242381231212,
          0.14227839929817737,
          0.1381196036522916,
          0.14159561195333048,
          0.1395865619174324,
          0.11716010121805126,
          0.12751570928156286,
          0.1448233339471523,
          0.13579812667981206,
          0.12602806049082066,
          0.1329076602532934,
          0.1141413535328038,
          0.154438221194133,
          0.12532665167293244,
          0.12245480671945508,
          0.14529714698342483,
          0.11928088009219698,
          0.13447807114644134,
          0.15566103125717703,
          0.1461351132702824,
          0.13513602986056658,
          0.16484141746652792,
          0.13795407944748023,
          0.12614599648674876,
          0.12201616757670494,
          0.15044494975305855,
          0.1585866715772181,
          0.1616923194699915,
          0.12924129911672147,
          0.1396693240198381,
          0.18266630527215283,
          0.14980147440685435,
          0.1383637518543884,
          0.13346837349709195,
          0.12855437366675426,
          0.14224943256233535,
          0.11631178966839295,
          0.13116758705021384,
          0.12474110979841221,
          0.17308659191869452,
          0.12943165195225453,
          0.15276021956785768,
          0.15229261368926553,
          0.11872016684839845,
          0.13689058643156712,
          0.14723584923227806,
          0.11723251805765623,
          0.14100593197368994,
          0.13523327533089327,
          0.1635544667741195,
          0.13597399614742414,
          0.13547742353299003,
          0.11378547649245935,
          0.10706312472455741,
          0.1364478091836967,
          0.16516832777103038,
          0.12558942134807052,
          0.10802316511246335,
          0.13115724178741314,
          0.13579398857469177,
          0.11740838752526832,
          0.13917688951052426,
          0.13365872633262502,
          0.1404452187298914,
          0.14014727516123093,
          0.1412004229143433,
          0.1533209328116562,
          0.16326686846825972,
          0.1190512152580212,
          0.13267385731399733,
          0.1354670782701893,
          0.14058177619886078,
          0.13553535700467398,
          0.1474406854357321,
          0.1405672928309398,
          0.1337414884350307,
          0.12299069133253193,
          0.1302841016070331,
          0.13180071713361735,
          0.13093792221603806,
          0.14530542319366538,
          0.12998201993325237,
          0.13040203760296126,
          0.11405445332527782,
          0.1576700812930751,
          0.1628240912203893,
          0.09189490040615503,
          0.15292160566754878,
          0.1551644586427429,
          0.15278504819857938,
          0.16980507455830904,
          0.1309379222160381,
          0.1379395960795592,
          0.11976296933871011,
          0.11013359872380839,
          0.15652382617475633,
          0.1976296933871011,
          0.13105999631708645,
          0.14919110390161242,
          0.12695913414288462,
          0.11807669150219421,
          0.09719995117035957,
          0.13311249645674753,
          0.14655306188743114,
          0.14998148197958674,
          0.1374906116740083,
          0.12270309302667218,
          0.15304781787371743,
          0.13599882477814584,
          0.11884224094944684,
          0.11878844558288315,
          0.1656462789124232,
          0.15435959719684758,
          0.12219617514943731,
          0.13890377457258546,
          0.14000657958714127,
          0.13248350447846427,
          0.16474417199620123,
          0.16545178797176985,
          0.14248737360675173,
          0.17613844444490423,
          0.17757229786908274,
          0.16160955736758584,
          0.14522266109125972,
          0.13360493096606132,
          0.14402881776405765,
          0.1191877727269906,
          0.14827037551234915,
          0.12954338079050223,
          0.14930903989754052,
          0.09190938377407604,
          0.13676437422539844,
          0.1157407311617937,
          0.14095213660712624,
          0.15612449903064887,
          0.1657538696455506,
          0.16055640961447343,
          0.134633250088452,
          0.14297567001094527,
          0.13817339901885528,
          0.12811987262912441,
          0.14558888339440484,
          0.14757310479958122,
          0.1323717756402166,
          0.13806994639084816,
          0.1125812879024566,
          0.11244473043348721,
          0.14203425109608062,
          0.1370809392671002,
          0.08837958010647344,
          0.15840666400448572,
          0.13566156921084266,
          0.09987109802550315,
          0.13494981513015375,
          0.1158338385270001,
          0.12724259434362412,
          0.1518684579144364,
          0.140294177893001,
          0.12301551996325362,
          0.14178596478886354,
          0.14278531717541224,
          0.13096275084675976,
          0.14508196551717004,
          0.13538017806266334,
          0.15787491749652915,
          0.12664256910118288,
          0.11052878776279554,
          0.15967913132897316,
          0.14472608847682558,
          0.12621841332635372,
          0.11428825626457388,
          0.127081208243933,
          0.15722109688752425,
          0.13439530904403565,
          0.09735099200724995,
          0.15934187576166997,
          0.14334603041921076,
          0.14088385787264154,
          0.1062292965428201,
          0.17438802597902398,
          0.15653417143755705,
          0.1537161218506434,
          0.12324932290254971,
          0.12831022546465748,
          0.13082619337779036,
          0.17035544253930684,
          0.16116057296203495,
          0.13835340659158762,
          0.13895756993914918,
          0.10521959889347071,
          0.10090976241069449,
          0.14270255507300653,
          0.1327173074177603,
          0.11154262351726521,
          0.13915826803748296,
          0.14150871174580448,
          0.13925551350780965,
          0.1477386290043926,
          0.1415625071123682,
          0.17883441993076948,
          0.12122578949873064,
          0.11920225609491157,
          0.1207043882535748,
          0.1284612663015479,
          0.11041705892454787,
          0.15780663876204448,
          0.12683292193671597,
          0.14798277720648936,
          0.1589322033547618,
          0.14021555389571563,
          0.13599882477814584,
          0.1339649461115261,
          0.12419487992253467,
          0.17537289499765166,
          0.1608481460254535,
          0.1265453236308562,
          0.1390651606722766,
          0.14099558671088924,
          0.12412660118804997,
          0.13770993124538347,
          0.13691541506228885,
          0.13739750430880196,
          0.14863039065781386,
          0.14535921856022913,
          0.14318050621439937,
          0.13188347923602303,
          0.14967940030580595,
          0.14839658771851777,
          0.12447834012327416,
          0.13611055361639354,
          0.14363362872507054,
          0.14950353083819387,
          0.1075886640748335,
          0.12283551239052128,
          0.13581261004773304,
          0.1338925292719211,
          0.15028356365336745,
          0.14155629995468774,
          0.135520873636753,
          0.1460813179037187,
          0.10084148367620982,
          0.12435626602222576,
          0.12626186343011672,
          0.133673209700546,
          0.13861203816160542,
          0.1493276613705818,
          0.13368769306846703,
          0.15093738426237238,
          0.11223989423003315,
          0.1264915282642925,
          0.15150223561129125,
          0.1389679152019499,
          0.12607151059458363,
          0.13511120122984485,
          0.1093059776997515,
          0.11464413330491835,
          0.15301471303275518,
          0.12758812612116785,
          0.11048533765903257,
          0.12753433075460413,
          0.1423321946647411,
          0.11572624779387272,
          0.13038755423504023,
          0.11166055951319331,
          0.16221372071514734,
          0.09274321195581331,
          0.12906129154398907,
          0.13690093169436787,
          0.12721776571290241,
          0.12754467601740485,
          0.15204432738204848,
          0.14152733321884578,
          0.14154181658676673,
          0.14481919584203196,
          0.13490636502639078,
          0.14118180144130202,
          0.1266529143639836,
          0.16197991777585125,
          0.17017543496657445,
          0.1462861541071728,
          0.13653470939122267,
          0.14255151423611612,
          0.16462209789515284,
          0.135506390268832,
          0.1299240864615684,
          0.14991320324510204,
          0.1476703502699079,
          0.14611028463956066,
          0.14099144860576898,
          0.13601330814606685,
          0.13938172571397833,
          0.1495035308381939,
          0.1493628352641042,
          0.14178596478886352,
          0.1215423545404324,
          0.13616434898295723,
          0.1224154947208124,
          0.1578211221299655,
          0.11502897708110481,
          0.14126456354370773,
          0.12129406823321534,
          0.14365845735579222,
          0.12422384665837666,
          0.13884997920602177,
          0.12851506166811155,
          0.1446288430064989,
          0.13640849718505396,
          0.16623182078694346,
          0.12255205218978178,
          0.1683381162931682,
          0.1254921758777438,
          0.13602779151398783,
          0.14620753010988738,
          0.12104992003111856,
          0.1199822889100852,
          0.14083006250607785,
          0.11779323130145476,
          0.15801147496549856,
          0.11933881356388094,
          0.12828539683393578,
          0.14547094739847677,
          0.15371612185064337,
          0.143975022397494,
          0.1467972100895279,
          0.11714975595525054,
          0.130747569380505,
          0.11391375775118813,
          0.14648064504782612,
          0.14013279179330995,
          0.12182995284629217,
          0.143072915481272,
          0.1198560767039165,
          0.10773556680660358,
          0.1578604341286082,
          0.14538404719095077,
          0.13020133950462748,
          0.1231127654335803,
          0.13359044759814034,
          0.14546680929335648,
          0.15441753066853156,
          0.12490249589810329,
          0.1294213066894538,
          0.11659938797425272,
          0.12420522518533539,
          0.14813795614850003,
          0.1461206299023614,
          0.1632379017324177,
          0.14016175852915194,
          0.13507188923120214,
          0.15827010653551632,
          0.14118180144130202,
          0.12059679752044739,
          0.1410493820774529,
          0.12771020022221624,
          0.1453157684564661,
          0.11774564309257148,
          0.11639455177079865,
          0.13669609549091377,
          0.13553535700467398,
          0.13084481485083166,
          0.14756275953678052,
          0.10971978821177995,
          0.14225357066745567,
          0.13743681630744461,
          0.1190077651542582,
          0.13284972678160947,
          0.10947564000968318,
          0.14349707125610114,
          0.12173270737596545,
          0.16314065626209104,
          0.15665624553860544,
          0.12120716802568937,
          0.17344246895903898,
          0.13585192204637575,
          0.14675375998576493,
          0.1375485451456923,
          0.14657375241303258,
          0.13840720195815137,
          0.16274546722310387,
          0.14969388367372696,
          0.16497383683037703,
          0.15644106407235064,
          0.1304351424439235,
          0.13773889798122543,
          0.13692576032508955,
          0.16499245830341827,
          0.12152373306739112,
          0.12785710295398633,
          0.1464268496812625,
          0.13443875914779865,
          0.15079048153060232,
          0.13817339901885528,
          0.12857299513979556,
          0.1527022860961737,
          0.12778882421950166,
          0.15829907327135834,
          0.15442787593133228,
          0.12217755367639604,
          0.10364504989520248,
          0.13358010233533962,
          0.14593027706682832,
          0.14518955625029742,
          0.13793959607955922,
          0.1446474644795402,
          0.16364757413932585,
          0.1398307101195292,
          0.17671364105662377,
          0.14832417087891284,
          0.13605675824982982,
          0.16437381158793576,
          0.15073668616403862,
          0.17161342649587327,
          0.12983097909636201,
          0.14847521171580322,
          0.15123946593615317,
          0.129787528992599,
          0.12783641242838492,
          0.1548768603368831,
          0.13524775869881422,
          0.16109229422755028,
          0.12083060045974348,
          0.14417985860094804,
          0.13326353729363788,
          0.1190325937849799,
          0.13845685921959477,
          0.14765172879686664,
          0.16879537690895963,
          0.13021582287254846,
          0.1597618934313788,
          0.1438136362978029,
          0.1534285235447836,
          0.13239039711325787,
          0.1304992830732879,
          0.14019693242267434,
          0.11643386376944133,
          0.12215272504567434,
          0.1182960110735693,
          0.16763050031759957,
          0.13274627415360235,
          0.12907991301703034,
          0.13490636502639075,
          0.12262033092426645,
          0.1238576243552315,
          0.12285413386356253,
          0.15556378578685037,
          0.14922627779513484,
          0.11606764146629615,
          0.13411184884329616,
          0.12951855215978053,
          0.14170734079157812,
          0.1282026347315301,
          0.10584445276663362,
          0.1461640800061244,
          0.11494621497869911,
          0.156563138173399,
          0.13511120122984485,
          0.1550423845416945,
          0.11390755059350774,
          0.12961165952498688,
          0.14201976772815963,
          0.1299240864615684,
          0.12393624835251692,
          0.10259604024721042,
          0.1469979081878617,
          0.11024118945693577,
          0.14744689259341257,
          0.1395286284457484,
          0.14323843968608335,
          0.1388748078367435,
          0.11172883824767801,
          0.13343940676124996,
          0.11370271439005364,
          0.13424840631226556,
          0.11534554212280654,
          0.13285800299185,
          0.1446516025846605,
          0.16040536877758305,
          0.14855797381820893,
          0.1448523006829943,
          0.13254143795014828,
          0.13211314407019883,
          0.12691568403912165,
          0.13002133193189508,
          0.13435599704539294,
          0.14047418546573337,
          0.1315379474584793,
          0.1401472751612309,
          0.139129301301641,
          0.1470806702902674,
          0.16690426286898966,
          0.1520732941178905,
          0.15014700618439808,
          0.15684659837413853,
          0.14898626769815834,
          0.12535975651389472,
          0.1452619730899024,
          0.14278531717541224,
          0.12542389714325913,
          0.13542776627154657,
          0.12356588794425144,
          0.1513801615102429,
          0.14752965469581825,
          0.16206267987825698,
          0.1272032823449814,
          0.1282667753608945,
          0.14884557212406868,
          0.1381444322830133,
          0.13326353729363785,
          0.11137709931245382,
          0.12214237978287364,
          0.1657828363813926,
          0.1293819946908111,
          0.13039169234016051,
          0.13847548069263602,
          0.12391348877435533,
          0.12157132127627437,
          0.1557831053582254,
          0.13649125928745967,
          0.13870928363193208,
          0.11491311013773683,
          0.1394313829754217,
          0.15203812022436802,
          0.14346810452025915,
          0.12549217587774383,
          0.14167837405573613,
          0.1526381454668093,
          0.12714948697841771,
          0.11256680453453562,
          0.12082646235462319,
          0.1389286032033072,
          0.15502790117377355,
          0.132829036256008,
          0.13967966928263878,
          0.1119088458204104,
          0.1332242252949952,
          0.1102908467183792,
          0.10967633810801695,
          0.11746632099695228,
          0.13142001146255117,
          0.1379437341846795,
          0.14602752253715506,
          0.13162484766600527,
          0.16207716324617796,
          0.1297482169939563,
          0.1331124964567475,
          0.14880212202030568,
          0.13673954559467677,
          0.14468677647818287,
          0.12620392995843274,
          0.14417985860094806,
          0.13355113559949763,
          0.1435508666226648,
          0.14002106295506225,
          0.12272792165739389,
          0.15273125283201572,
          0.1430480868505503,
          0.13692989843020986,
          0.14071833366783018,
          0.14344327588953742,
          0.12018712511353928,
          0.15704108931479188,
          0.14703722018650442,
          0.1405279808322971,
          0.14237150666338375,
          0.13685127443292444,
          0.11154883067494564,
          0.1408259244009576,
          0.14568612886473156,
          0.1299385698294894,
          0.14572544086337424,
          0.12275688839323586,
          0.15809423706790424,
          0.1424728902388307,
          0.15553481905100838,
          0.13027996350191284,
          0.12301965806837392,
          0.10611756770457242,
          0.12327828963839169,
          0.10179324785387524,
          0.1500642440819924,
          0.1609267700227389,
          0.1356181191070797,
          0.1502297682868038,
          0.16864433607206925,
          0.12654946173597648,
          0.15938118776031265,
          0.12849023303738985,
          0.13276075752152333,
          0.15166362171098233,
          0.14845038308508152,
          0.1248776672673816,
          0.1378506268194731,
          0.11979814323223253,
          0.150844276897166,
          0.12523354430772607,
          0.1550568679096155,
          0.12854402840395357,
          0.14599855580131302,
          0.1486117691847726,
          0.1586549503117028,
          0.1363402184505693,
          0.12309828206565931,
          0.11691595301595446,
          0.15969361469689416,
          0.14145905448436105,
          0.18094071543699425,
          0.13891411983538618,
          0.15130774467063787,
          0.14249771886955243,
          0.12980201236052,
          0.13582295531053373,
          0.1317965790284971,
          0.13187934113090274,
          0.15416924436131452,
          0.1551499752748219,
          0.15049874511962227,
          0.14543784255751446,
          0.11858774748454934,
          0.14423365396751175,
          0.1438632935592463,
          0.13572570984020707,
          0.11875947884704115,
          0.13660298812570737,
          0.12301551996325363,
          0.12981649572844098,
          0.13502843912743917,
          0.12741846381123623,
          0.15545205694860265,
          0.12692602930192237,
          0.15806527033206227,
          0.14852900708236694,
          0.13430220167882925,
          0.12028437058386596,
          0.15873771241410845,
          0.14880626012542597,
          0.13868031689609014,
          0.14829520414307085,
          0.14639788294542044,
          0.11940709229836566,
          0.12840747093498417,
          0.13188761734114335,
          0.15532998284755425,
          0.154467187929975,
          0.11200609129073706,
          0.14808002267681605,
          0.1403769399954067,
          0.13639815192225327,
          0.1334145781305283,
          0.12312724880150132,
          0.1469192841905763,
          0.13708093926710022,
          0.1133323539817882,
          0.13017237276878546,
          0.12174305263876618,
          0.11752011636351599,
          0.12587288154881,
          0.13792925081675847,
          0.12617910132771104,
          0.14545232592543553,
          0.16145851653069543,
          0.1159414292601275,
          0.12104992003111854,
          0.1498552697734181,
          0.13601330814606682,
          0.11880292895080413,
          0.16704082033795906,
          0.15102014636477812,
          0.16478348399484394,
          0.13195175797050776,
          0.15056702385410695,
          0.12203478904974624,
          0.10890044339796365,
          0.1395575951815904,
          0.16217027061138434,
          0.15375957195440637,
          0.10230430383623035,
          0.11341925418931417,
          0.1294895854239385,
          0.15321334207852882,
          0.15549550705236567,
          0.1299137411987677,
          0.13710990600294223,
          0.1578211221299655,
          0.15685073647925876,
          0.13174692176705366,
          0.1568072863754958,
          0.15079048153060232,
          0.13486291492262778,
          0.14953249757403586,
          0.1460813179037187,
          0.1214595924380267,
          0.157173508678641,
          0.19743934055156798,
          0.15803630359622026,
          0.15233606379302853,
          0.15102014636477812,
          0.11066534523176494,
          0.1681477634576351,
          0.1373002588384753,
          0.1380658082857279,
          0.146056489272997,
          0.10802316511246335,
          0.14171768605437884,
          0.12636945416324413,
          0.11823807760188533,
          0.10876388592899426,
          0.14334189231409047,
          0.14349707125610114,
          0.12457972369872114,
          0.13654505465402336,
          0.14845038308508152,
          0.149693883673727,
          0.1521415728523752,
          0.11186539571664736,
          0.11672560018042138,
          0.12471214306257022,
          0.1662897542586274,
          0.12366313341457813,
          0.1428246291740549,
          0.16525108987343604,
          0.1100653199893237,
          0.14869866939229856,
          0.13098137231980103,
          0.11457585457043365,
          0.10688725525694528,
          0.13553121889955372,
          0.1299240864615684,
          0.1360712416177508,
          0.15632933523410295,
          0.14385294829644557,
          0.15410096562682982,
          0.10825282994663912,
          0.11386410048974473,
          0.12462938096016453,
          0.1453302518243871,
          0.1340828821074542,
          0.10692656725558798,
          0.14973733377748996,
          0.1619219843041673,
          0.12683292193671597,
          0.15383819595169176,
          0.10550719719933045,
          0.1461785633740454,
          0.12654532363085622,
          0.13790028408091648,
          0.11471241203940304,
          0.1357505384709288,
          0.1281736679956881,
          0.1315379474584793,
          0.14784621973752,
          0.13614986561503625,
          0.14143008774851906,
          0.15035184238785218,
          0.13082619337779036,
          0.16386689371070093,
          0.12495629126466701,
          0.1691905659479468,
          0.12573011692216016,
          0.15036632575577316,
          0.12934888984984885,
          0.1469192841905763,
          0.14858280244893063,
          0.1223906660900907,
          0.1306792906460203,
          0.12764192148773157,
          0.1140979034290408,
          0.11612557493798016,
          0.12431695402358305,
          0.15590517945927382,
          0.12714534887329743,
          0.13589123404501843,
          0.14328809694752678,
          0.12051403541804173,
          0.13096275084675976,
          0.10553616393517243,
          0.12194788884222026,
          0.14576889096713724,
          0.11484896950837242,
          0.14131215175259096,
          0.1354525949022683,
          0.13631538981984762,
          0.11245921380140819,
          0.1379292508167585,
          0.11438550173490056,
          0.13361941433398236,
          0.09912623910385196,
          0.16957540972413324,
          0.12523354430772607,
          0.14218115382785068,
          0.15322368734132955,
          0.16017570394340727,
          0.11181573845520398,
          0.09955867108892168,
          0.14585165306954292,
          0.1453405970871878,
          0.1132247632486608,
          0.13657815949498567,
          0.12270309302667216,
          0.15079668868828275,
          0.1257942575515246,
          0.15669969564236844,
          0.11483448614045143,
          0.13140138998950993,
          0.14750482606509654,
          0.13709542263502117,
          0.15468650750135007,
          0.1310641344222067,
          0.10494648395553194,
          0.13764165251089874,
          0.1232596681653504,
          0.14230736603401936,
          0.11683319091354878,
          0.13692989843020983,
          0.11946088766492936,
          0.15374095048136507,
          0.12892887218014001,
          0.15343266164990388,
          0.15295057240339077,
          0.12828539683393578,
          0.14131215175259096,
          0.15351128564718933,
          0.12519009420396307,
          0.12561424997879223,
          0.13925551350780965,
          0.12998201993325237,
          0.12274240502531486,
          0.13769544787746243,
          0.15458926203102338,
          0.12821711809945108,
          0.1568755651099805,
          0.12730052781530812,
          0.16910780384554108,
          0.12102095329527657,
          0.13731060410127596,
          0.1603081233072564,
          0.13910447267091924,
          0.10908665812837645,
          0.14729585175652216,
          0.1673573853796608,
          0.13445324251571963,
          0.13275661941640304,
          0.15479823633959777,
          0.1578211221299655,
          0.125014224736351,
          0.13281455288808702,
          0.14799726057441037,
          0.15193673664892107,
          0.12409763445220799,
          0.12855851177187452,
          0.19207635631567954,
          0.12495629126466701,
          0.1476020715354232,
          0.14708067029026736,
          0.1348091195560641,
          0.12424867528909839,
          0.13772441461330442,
          0.11560417369282432,
          0.14668548125128023,
          0.131883479236023,
          0.11452205920386996,
          0.1215568379083534,
          0.11935329693180197,
          0.14983457924781665,
          0.13829961122502396,
          0.10571203340278454,
          0.13695886516605185,
          0.12360933804801444,
          0.11644213997968192,
          0.16180404830823916,
          0.15868391704754475,
          0.14579371959785892,
          0.12932406121912715,
          0.11007566525212441,
          0.10701346746311396,
          0.14172182415949916,
          0.1601467372075653,
          0.14923041590025513,
          0.14667099788335927,
          0.14678272672160694,
          0.12424867528909837,
          0.12639842089908612,
          0.12973373362603532,
          0.15042012112233685,
          0.14728550649372146,
          0.1371885300002276,
          0.15331679470653595,
          0.14675375998576493,
          0.16616354205245876,
          0.12836402083122114,
          0.14570061223265254,
          0.1434287925216164,
          0.10895423876452734,
          0.15988810563754752,
          0.11536002549072755,
          0.10598514834072331,
          0.1305820451756936,
          0.12043127331563604,
          0.11542416612009196,
          0.15709074657623529,
          0.12680809330599427,
          0.16133644242964704,
          0.13682230769708248,
          0.1486014239219719,
          0.147904153209204,
          0.11644834713736231,
          0.13032341360567587,
          0.11893948641977352,
          0.15430580183028392,
          0.13489188165846974,
          0.15472581949999278,
          0.1397913981208865,
          0.15078634342548203,
          0.15245813789407692,
          0.17797162501319017,
          0.14415502997022633,
          0.13003581529981606,
          0.12114302739632496,
          0.155354811478276,
          0.10614653444041439,
          0.1370416272684575,
          0.12062576425628942,
          0.12214237978287365,
          0.1503621876506529,
          0.13815891565093427,
          0.13643746392089598,
          0.17966824811250678,
          0.12524388957052676,
          0.15213122758957448,
          0.1724575999404113,
          0.14140525911779736,
          0.15054219522338527,
          0.16217027061138434,
          0.1390361939364346,
          0.14961112157132128,
          0.11776426456561276,
          0.12898266754670368,
          0.1291730203822368,
          0.14120456101946358,
          0.15633968049690367,
          0.13746578304328666,
          0.12691154593400136,
          0.13097723421468077,
          0.1316745049274487,
          0.10869560719450957,
          0.12847988777458916,
          0.13591606267574013,
          0.10491751721968995,
          0.12453627359495811,
          0.11149503530838195,
          0.129859945832204,
          0.12865161913708095,
          0.14198045572951692,
          0.12786124105910662,
          0.128041248631839,
          0.13601330814606685,
          0.1785282001518685,
          0.1264811830014918,
          0.12956820942122393,
          0.10428438713628643,
          0.13943552108054202,
          0.15315540860684485,
          0.14608545600883902,
          0.14075764566647284,
          0.1765046667480494,
          0.1274474305470782,
          0.1731010752866155,
          0.13653057128610238,
          0.12309828206565931,
          0.1256039047159915,
          0.1471054989209891,
          0.14380949819268257,
          0.15697281058030715,
          0.1455744000264839,
          0.13618917761367896,
          0.14930903989754052,
          0.13384907916815814,
          0.13502843912743914,
          0.14542749729471377,
          0.1357008812094854,
          0.13437048041331395,
          0.1314448400932729,
          0.1436481120929915,
          0.1676842956841633,
          0.14300463674678726,
          0.1602543279406927,
          0.12446799486047344,
          0.14187907215406995,
          0.1510346297326991,
          0.15534446621547526,
          0.1386451430025677,
          0.17032647580346483,
          0.1544568426671743,
          0.1229617245966899,
          0.13263454531535465,
          0.10603894370728702,
          0.1382313324905393,
          0.14058177619886078,
          0.1394748330791847,
          0.15601690829752146,
          0.13771406935050373,
          0.14248737360675176,
          0.17434457587526095,
          0.14905040832752273,
          0.1100218698855607,
          0.15578310535822545,
          0.14264875970644283,
          0.12732949455115009,
          0.13371665980430902,
          0.12153821643531212,
          0.1653441972386425,
          0.15635416386482467,
          0.14727102312580045,
          0.12745156865219845,
          0.15321334207852882,
          0.13775338134914641,
          0.11313372493601455,
          0.16155576200102212,
          0.1412790469116287,
          0.15630036849826096,
          0.13315594656051047,
          0.1323469470094949,
          0.15223881832270184,
          0.14643719494406318,
          0.15088358889580872,
          0.13834926848646736,
          0.1568072863754958,
          0.13542776627154662,
          0.14459366911297653,
          0.13319525855915318,
          0.1183394611773323,
          0.12414108455597098,
          0.15914738482101662,
          0.13443875914779863,
          0.10409403430075334,
          0.14964008830716327,
          0.14333154705128978,
          0.12628669206083842,
          0.15983017216586357,
          0.13772441461330442,
          0.11601384609973248,
          0.11794427213834513,
          0.13708093926710022,
          0.12587701965393028,
          0.1741397396718069,
          0.13264489057815537,
          0.11970089776190584,
          0.1715844597600313,
          0.13229315164293118,
          0.10172910722451085,
          0.14417985860094804,
          0.15898186061620526,
          0.12976270036187731,
          0.11887120768528883,
          0.12381003614634824,
          0.16957127161901292,
          0.12304034859397533,
          0.1485765952912502,
          0.1362429729802426,
          0.15489134370480415,
          0.1232927730063127,
          0.13242970911190055,
          0.1447591933177879,
          0.1512394659361532,
          0.16603112268860967,
          0.14441779964536441,
          0.1664552784634388,
          0.1191981179897913,
          0.1339173579026428,
          0.15073254805891834,
          0.12606737248946337,
          0.13059652854361462,
          0.1541402776254725,
          0.12492732452882502,
          0.13605262014470956,
          0.13946034971126373,
          0.136466430656738,
          0.13839685669535065,
          0.13069377401394128,
          0.10790109101141497,
          0.13337526613188555,
          0.13648091402465898,
          0.1134937400814793,
          0.15798664633477688,
          0.14167423595061585,
          0.13751544030473006,
          0.12494594600186629,
          0.135491906900911,
          0.16527591850415776,
          0.13565743110572237,
          0.12037747794907236,
          0.13203038196779315,
          0.12786537916422694,
          0.12274240502531486,
          0.136408497185054,
          0.13141587335743088,
          0.1444674569068078,
          0.12129406823321531,
          0.1274081185484355,
          0.12587701965393028,
          0.1330442177222628,
          0.14725653975787945,
          0.11292888873256049,
          0.12598461038705766,
          0.14000657958714127,
          0.16505659893278268,
          0.12773916695805826,
          0.15400372015650315,
          0.13929896361157265,
          0.14496402952124193,
          0.13906516067227653,
          0.16298961542520063,
          0.14897799148791777,
          0.13781752197851083,
          0.11702354374908187,
          0.10952529727112657,
          0.14401847250125696,
          0.1371388727387842,
          0.11548209959177592,
          0.13020133950462742,
          0.13859755479368444,
          0.1231562155373433,
          0.16047364751206775,
          0.13637953044921197,
          0.15911841808517463,
          0.12442454475671046,
          0.11918363462187032,
          0.14156664521748846,
          0.14296532474814458,
          0.112688878635584,
          0.13177175039777536,
          0.1433998257857744,
          0.15118567056958948,
          0.17563152656766937,
          0.1305965285436146,
          0.128856455340535,
          0.16222406597794806,
          0.12527699441148904,
          0.14237150666338377,
          0.1383389232236667,
          0.107872124275573,
          0.14845038308508152,
          0.15995224626691193,
          0.13505740586328113,
          0.14663168588471653,
          0.13490636502639075,
          0.13158553566736259,
          0.1286557572422012,
          0.12818815136360912,
          0.12283965049564155,
          0.12104578192599827,
          0.12870955260876493,
          0.15600242492960048,
          0.16981955792623,
          0.13654505465402342,
          0.12702327477224906,
          0.13272144552288062,
          0.10945701853664186,
          0.12638393753116509,
          0.14645167831198416,
          0.15081531016132405,
          0.1389244650981869,
          0.14932352326546153,
          0.11543864948801294,
          0.11301578894008646,
          0.1658945652196403,
          0.12978752899259902,
          0.15181466254787268,
          0.14594476043474933,
          0.11412687016488281,
          0.14442400680304482,
          0.158352868637922,
          0.12205961768046794,
          0.16150196663445843,
          0.12870955260876488,
          0.1559051794592738,
          0.124083151084287,
          0.13936724234605732,
          0.14144457111644007,
          0.13628642308400565,
          0.1372278419988703,
          0.14315153947855735,
          0.13907964404019757,
          0.14902557969680102,
          0.13453600461812532,
          0.15225330169062287,
          0.1434287925216164,
          0.1583921806365647,
          0.13327802066155886,
          0.10699898409519297,
          0.16353998340619846,
          0.15201949875132678,
          0.12549631398286412,
          0.1463544328416575,
          0.1420445963588813,
          0.12642324952980782,
          0.15260917873096733,
          0.12878817660605033,
          0.1233858803715191,
          0.12053886404876342,
          0.14245840687090974,
          0.1468758340868133,
          0.14074316229855185,
          0.13029444686983385,
          0.1257508074477616,
          0.15352163090999002,
          0.1486117691847726,
          0.1378071767157101,
          0.14865108118341533,
          0.13698369379677353,
          0.1593087709207077,
          0.1494207687357882,
          0.14163492395197314,
          0.13956173328671068,
          0.1364622925516177,
          0.14174665279022083,
          0.1592301469234223,
          0.16114608959411394,
          0.14489161268163692,
          0.13984519348745017,
          0.15583690072478912,
          0.13414081557913818,
          0.14824554688162747,
          0.12465834769600653,
          0.1166966334445794,
          0.14788553173616267,
          0.14799726057441037,
          0.13960104528535336,
          0.12337139700359807,
          0.16353998340619846,
          0.10951495200832588,
          0.10876388592899426,
          0.16419794212032368,
          0.1363009064519266,
          0.15401406541930387,
          0.11299096030936474,
          0.14234667803266207,
          0.12781779095534365,
          0.13442841388499793,
          0.13582295531053373,
          0.14497437478404265,
          0.14102041534161094,
          0.13483808629190608,
          0.12149890443666941,
          0.12104578192599827,
          0.1405031522015754,
          0.15623208976377626,
          0.14641236631334145,
          0.16727462327725512,
          0.14936697336922453,
          0.14006037495370496,
          0.12977304562467798,
          0.13560777384427897,
          0.15234640905582925,
          0.16207716324617796,
          0.10547823046348848,
          0.1396548406519171,
          0.11681870754562776,
          0.12011470827393429,
          0.11471241203940302,
          0.11145158520461897,
          0.13194761986538747,
          0.1265308402629352,
          0.14562819539304755,
          0.14494540804820066,
          0.1143172230004159,
          0.1691326324762628,
          0.13732922557431726,
          0.13408288210745417,
          0.1206754215177328,
          0.14560750486744617,
          0.17526530426452427,
          0.1281984966264098,
          0.12441419949390974,
          0.1436915621967545,
          0.1420590797268023,
          0.15096221289309414,
          0.14471574321402483,
          0.1363195279249679,
          0.1491766205336914,
          0.130689635908821,
          0.14438469480440214,
          0.11708147722076585,
          0.13504292249536018,
          0.11040257555662686,
          0.13208831543947713,
          0.13363389770190334,
          0.13776372661194713,
          0.14803657257305308,
          0.14594889853986964,
          0.14052798083229712,
          0.13340009476260728,
          0.1297482169939563,
          0.13816305375605456,
          0.13367320970054603,
          0.15096635099821443,
          0.1261108225932263,
          0.11931398493315926,
          0.12266378102802947,
          0.1347408408215794,
          0.1347408408215794,
          0.12650601163221348,
          0.1182277323390846,
          0.15236089242375025,
          0.1378071767157101,
          0.12762743811981056,
          0.12390728161667493,
          0.14481919584203196,
          0.14779242437095633,
          0.10974875494762194,
          0.13966932401983811,
          0.14692962945337704,
          0.13896791520194987,
          0.12063197141396982,
          0.12549217587774383,
          0.14706618692234635,
          0.14821658014578543,
          0.13923068487708792,
          0.15989224374266778,
          0.13742647104464395,
          0.14880626012542594,
          0.11933467545876068,
          0.13498912712879646,
          0.138212711017498,
          0.14025486589435832,
          0.13196210323330845,
          0.15084013879204572,
          0.12182995284629218,
          0.14246875213371046,
          0.14171768605437884,
          0.11868499295487604,
          0.13736853757295994,
          0.12634048742740214,
          0.13756923567129375,
          0.12279620039187857,
          0.139450004448463,
          0.1722672471048782,
          0.14919110390161242,
          0.0929087361606247,
          0.121376830335621,
          0.1404059067312487,
          0.15597345819375852,
          0.15468650750135007,
          0.10075872157380417,
          0.1011145986141486,
          0.13363389770190334,
          0.14223908729953466,
          0.12061128088836841,
          0.14829934224819116,
          0.13177175039777536,
          0.17006370612832675,
          0.14268807170508555,
          0.16522212313759405,
          0.13411184884329622,
          0.1238927982487539,
          0.13438496378123493,
          0.15724592551824593,
          0.13248350447846427,
          0.13282076004576743,
          0.1387196288947328,
          0.12202030568182523,
          0.10775005017452458,
          0.1430480868505503,
          0.14662754777959625,
          0.13768510261466171,
          0.14186872689126923,
          0.16897124637657168,
          0.09866690943550038,
          0.13683265295988312,
          0.1542768350944419,
          0.12891025070709874,
          0.1456468168660888,
          0.12334656837287641,
          0.1511960158323902,
          0.12858334040259625,
          0.16051295951071046,
          0.14677858861648665,
          0.11944226619188808,
          0.1812676257414967,
          0.143029465377509,
          0.13839685669535062,
          0.12652049500013451,
          0.12992408646156842,
          0.11459447604347496,
          0.13493119365711248,
          0.12672533120358856,
          0.1493276613705818,
          0.13286421014953043,
          0.1208016337239015,
          0.13953276655086871,
          0.1561100156627279,
          0.14164940731989412,
          0.11549244485457663,
          0.16985886992487267,
          0.14527231835270316,
          0.13687610306364614,
          0.16021501594205,
          0.13422357768154383,
          0.1835146168218111,
          0.139392070976779,
          0.1337414884350307,
          0.1264666996335708,
          0.13701266053261552,
          0.12606737248946337,
          0.12141614233426372,
          0.16820155882419882,
          0.16167783610207048,
          0.12459006896152183,
          0.1757536006687178,
          0.16622147552414274,
          0.11928088009219699,
          0.15970809806481515,
          0.13585192204637578,
          0.15285332693306408,
          0.11955399503013577,
          0.1846215599414872,
          0.13460428335261,
          0.11310268914761243,
          0.1362181443495209,
          0.12680809330599427,
          0.12705224150809105,
          0.13534500416914091,
          0.14502817015060634,
          0.1300213319318951,
          0.14087351260984085,
          0.15136154003720154,
          0.1445750476399352,
          0.09823861555555094,
          0.1443164160699174,
          0.13914378466956198,
          0.14211701319848627,
          0.16082952455241217,
          0.1317965790284971,
          0.10851559962177718,
          0.14836762098267584,
          0.11797944603186755,
          0.1786875171989994,
          0.13569674310436508,
          0.13323457055779586,
          0.11586280526284211,
          0.11116812500387946,
          0.12412660118805,
          0.10866664045866758,
          0.15555964768173006,
          0.1468365220881706,
          0.09663923792656104,
          0.16325238510033874,
          0.1266136023653409,
          0.12093819119287087,
          0.142141841829208,
          0.13215245606884152,
          0.12690533877632096,
          0.1501221775536764,
          0.13412219410609685,
          0.132551783212949,
          0.17029337096250252,
          0.13098137231980106,
          0.14158112858540947,
          0.15943498312687637,
          0.12368796204529983,
          0.13276075752152333,
          0.15717764678376128,
          0.12851919977323187,
          0.14319498958232035,
          0.13110344642084945,
          0.12168925727220248,
          0.14573992423129525,
          0.14097696523784792,
          0.1444674569068078,
          0.12478042179705492,
          0.14591579369890734,
          0.15512514664410018,
          0.14166389068781512,
          0.17180377933140634,
          0.1422639159302564,
          0.11667180481385772,
          0.1289392174429407,
          0.16017156583828698,
          0.14499920341476435,
          0.12244446145665437,
          0.11706699385284483,
          0.13182968386945934,
          0.13203452007291339,
          0.13586640541429676,
          0.13689058643156712,
          0.16524695176831575,
          0.1615557620010221,
          0.14498885815196363,
          0.14468677647818293,
          0.10517614878970771,
          0.15556378578685034,
          0.13921620150916694,
          0.10977772168346392,
          0.13571122647228606,
          0.14071833366783018,
          0.13848582595543674,
          0.13117172515533415,
          0.15124981119895387,
          0.13122552052189784,
          0.1527850481985794,
          0.12022643711218199,
          0.13755889040849306,
          0.15554930241892936,
          0.14266324307436384,
          0.13159588093016328,
          0.11343994471491559,
          0.11910501062458488,
          0.12448247822839446,
          0.12636531605812382,
          0.12735018507675153,
          0.12094232929799115,
          0.14247289023883075,
          0.16531523050280048,
          0.1540182035244241,
          0.12806193915744044,
          0.14232184940194037,
          0.12227479914672275,
          0.1712285827196868,
          0.1386554882653684,
          0.15340369491406192,
          0.12721362760778213,
          0.152677457465452,
          0.15548102368444466,
          0.12644807816052953,
          0.1283640208312212,
          0.13757337377641402,
          0.13667126686019204,
          0.16691874623691064,
          0.13738302094088095,
          0.1280909058932824,
          0.13340423286772754,
          0.15375543384928608,
          0.14164526921477388,
          0.12241549472081241,
          0.1587190909410672,
          0.1036595332631235,
          0.14397916050261422,
          0.153550597645832,
          0.15144430213960727,
          0.12791503642567034,
          0.1438281196657239,
          0.12613565122394804,
          0.1134254613469946,
          0.12956820942122393,
          0.11316682977697684,
          0.13747612830608738,
          0.12736880654979277,
          0.13079101948426794,
          0.11442481373354327,
          0.17497356785354418,
          0.12047472341939902,
          0.1455785381316042,
          0.13389252927192113,
          0.14213149656640728,
          0.1615661072638228,
          0.12829574209673647,
          0.13168898829536968,
          0.10281535981858547,
          0.13221038954052552,
          0.144920579417479,
          0.14657375241303255,
          0.12524802767564702,
          0.1509270389995717,
          0.14799726057441037,
          0.1700202560245638,
          0.12883162670981332,
          0.14663168588471656,
          0.12146993770082742,
          0.14148388311508278,
          0.15160982634441866,
          0.12390728161667493,
          0.1265204950001345,
          0.15183949117859444,
          0.10716037019488409,
          0.12400038898188132,
          0.15456443340030168,
          0.12912957027847377,
          0.14482747205227256,
          0.11917328935906957,
          0.14103489870953193,
          0.11671111681250038,
          0.12870541450364464,
          0.141268701648828,
          0.17030785433042356,
          0.16453519768762687,
          0.13866583352816914,
          0.15857632631441737,
          0.14630477558021407,
          0.13677885759331945,
          0.14531576845646613,
          0.13122138241677755,
          0.1524291711582349,
          0.13100620095052276,
          0.13913343940676126,
          0.1479579485757677,
          0.15981982690306282,
          0.12917715848735709,
          0.15556792389197063,
          0.14588682696306535,
          0.1181884203404419,
          0.1699809440259211,
          0.13502843912743914,
          0.1566707289065264,
          0.15831355663927932,
          0.11818842034044191,
          0.12308379869773833,
          0.13520844670017151,
          0.1198995268076795,
          0.13595951277950316,
          0.15289677703682708,
          0.14889936749063237,
          0.14063970967054476,
          0.13860169289880472,
          0.16738221401038253,
          0.1534140401768626,
          0.13783200534643184,
          0.09821378692482925,
          0.14065419303846574,
          0.14151284985092477,
          0.13936310424093706,
          0.0920211126123237,
          0.15136154003720154,
          0.10557133782869485,
          0.13546707827018933,
          0.1313082826243035,
          0.13758785714433505,
          0.13364838106982432,
          0.14243978539786847,
          0.12976270036187731,
          0.11959744513389872,
          0.11503932234390551,
          0.13723198010399057,
          0.15615346576649086,
          0.1068231146275809,
          0.13095240558395907,
          0.15334989954749825,
          0.13980174338368717,
          0.14456470237713448,
          0.13942103771262102,
          0.15292160566754878,
          0.13283938151880872,
          0.16489521283309158,
          0.13174692176705366,
          0.1503911543864949,
          0.1380409796550062,
          0.12809090589328243,
          0.16111712285827196,
          0.09158247346957356,
          0.13652022602330166,
          0.14651995704646886,
          0.14059625956678176,
          0.14264462160132255,
          0.14416951333814731,
          0.1133137325087469,
          0.11624351093390822,
          0.1542085563599572,
          0.11615040356870186,
          0.11560417369282433,
          0.13215245606884152,
          0.1538133673209701,
          0.13116758705021386,
          0.1436336287250705,
          0.12088439582630718,
          0.14828485888027015,
          0.12011470827393429,
          0.15159534297649763,
          0.13237591374533686,
          0.13518982522713024,
          0.1315234640905583,
          0.12181133137325088,
          0.12378520751562652,
          0.16278891732686687,
          0.14642684968126246,
          0.15166362171098233,
          0.12505767484011396,
          0.14260530960267984,
          0.15974741006345786,
          0.1676056716868779,
          0.16745049274486723,
          0.1321317655432401,
          0.15715281815303955,
          0.10783281227693028,
          0.14723171112715774,
          0.13134759462294623,
          0.1175842569928804,
          0.1315131188277576,
          0.15782526023508575,
          0.1476020715354232,
          0.12218582988663661,
          0.14404330113197863,
          0.1289392174429407,
          0.13445324251571963,
          0.12582322428736661,
          0.16277029585382558,
          0.11267439526766299,
          0.13103516768636472,
          0.13254143795014822,
          0.1501863181830408,
          0.1453343899295074,
          0.1732624613863066,
          0.15141533540376526,
          0.14446745690680782,
          0.14894281759439537,
          0.1272715610794661,
          0.15188294128235738,
          0.1739245582055521,
          0.15375543384928608,
          0.12835367556842045,
          0.1329759389877781,
          0.14709101555306808,
          0.14237564476850403,
          0.11744769952391101,
          0.11587315052564282,
          0.1467537599857649,
          0.1465240951515891,
          0.11788633866666115,
          0.1259411602832947,
          0.12937785658569087,
          0.1291295702784738,
          0.12337553510871836,
          0.15375957195440637,
          0.12754881412252514,
          0.14170320268645784,
          0.13980588148880743,
          0.16047364751206777,
          0.12357623320705216,
          0.130733086012584,
          0.11962641186974075,
          0.13052824980912991,
          0.12400038898188132,
          0.15973706480065716,
          0.14819175151506372,
          0.12322035616670769,
          0.1370126605326155,
          0.13759820240713574,
          0.14636891620957848,
          0.14201562962303932,
          0.1344284138849979,
          0.13868031689609012,
          0.1396651859147178,
          0.12292241259804722,
          0.1362077990867202,
          0.1305282498091299,
          0.12917302038223677,
          0.13147380682911483,
          0.07709289839089781,
          0.1423321946647411,
          0.1471241203940304,
          0.13788993881811581,
          0.14028383263020033,
          0.13741198767672297,
          0.1371595632643856,
          0.15140499014096456,
          0.15550999042028665,
          0.12220031325455759,
          0.13174692176705366,
          0.12025126574290367,
          0.13288283162257172,
          0.12517974894116235,
          0.11497104360942079,
          0.14892833422647436,
          0.14000657958714127,
          0.11033843492726245,
          0.16768429568416326,
          0.1230837986977383,
          0.09982764792174018,
          0.14166389068781515,
          0.13428771831090824,
          0.1220409962074267,
          0.12074783835733782,
          0.14916213716577045,
          0.1175987403608014,
          0.14033348989164374,
          0.12800814379087672,
          0.16806913946034974,
          0.14570061223265254,
          0.15241882589543423,
          0.12453627359495813,
          0.13123586578469854,
          0.13534500416914091,
          0.12117199413216692,
          0.1493524900013035,
          0.17122858271968683,
          0.16333100909762413,
          0.13791890555395778,
          0.11169987151183602,
          0.13782166008363111,
          0.15630036849826096,
          0.12215272504567434,
          0.13263454531535465,
          0.15541274494996,
          0.14497437478404265,
          0.11763805235944408,
          0.12137683033562101,
          0.12185478147701385,
          0.14125008017578672,
          0.14152733321884578,
          0.17835646878937667,
          0.12576529081568258,
          0.1419949390974379,
          0.11775391930281204,
          0.11794013403322484,
          0.16998508213104138,
          0.13144484009327287,
          0.11748701152255371,
          0.11472689540732404,
          0.12787158632190734,
          0.15479823633959777,
          0.10929563243695078,
          0.1329904223556991,
          0.1379830461833222,
          0.16057089298239444,
          0.1569045318458225,
          0.13260557857951266,
          0.1240293557177233,
          0.16786430325689566,
          0.14089420313544226,
          0.1599522462669119,
          0.15158085960857665,
          0.11554624022114032,
          0.15954671196512404,
          0.1278757244270276,
          0.13482360292398507,
          0.17353971442936564,
          0.14277083380749123,
          0.12078715035598049,
          0.13571122647228606,
          0.13918723477332492,
          0.16688977950106867,
          0.123181044168065,
          0.1590935894544529,
          0.1510242844698984,
          0.13929896361157262,
          0.1150144937131838,
          0.14735792333332645,
          0.13862652152952643,
          0.12130441349601606,
          0.1713796235565772,
          0.1419370056257539,
          0.1356326024750007,
          0.1681519015627554,
          0.15629002323546026,
          0.14554957139576216,
          0.12660325710254017,
          0.14096661997504725,
          0.12197685557806225,
          0.14481298868435155,
          0.14769517890062964,
          0.12699430803640707,
          0.1446184977436982,
          0.14099558671088924,
          0.15525135885026886,
          0.11698836985555942,
          0.1521457109574955,
          0.14724619449507875,
          0.16503177030206098,
          0.15565689315205672,
          0.10577617403214895,
          0.12163546190563879,
          0.14488126741883625,
          0.10593549107927988,
          0.12979166709771928,
          0.14461849774369823,
          0.13334629939604356,
          0.13584778394125543,
          0.143072915481272,
          0.14673927661784392,
          0.1249169792660243,
          0.16597318921692567,
          0.14819175151506375,
          0.13125034915261952,
          0.1838704938621556,
          0.12690120067120064,
          0.09409844138270644,
          0.14595924380267036,
          0.1302013395046274,
          0.13501395575951816,
          0.1434681045202591,
          0.17435905924318196,
          0.14075764566647286,
          0.1437701861940399,
          0.15038080912369417,
          0.1387382503677741,
          0.1371637013695059,
          0.11967606913118414,
          0.1166283547100947,
          0.12134786359977903,
          0.10543891846484577,
          0.1362864230840056,
          0.12575080744776163,
          0.12310862732846002,
          0.14569647412753226,
          0.14462884300649892,
          0.17521150889796056,
          0.13028410160703316,
          0.11497104360942081,
          0.1110460509028311,
          0.13936310424093704,
          0.14976630051333198,
          0.1771522801993739,
          0.1815303954166348,
          0.13601330814606682,
          0.1332490539257169,
          0.13782166008363111,
          0.15615346576649086,
          0.13984519348745017,
          0.1199636674370439,
          0.11921260135771229,
          0.16119988496067764,
          0.1348339481867858,
          0.1321710775418828,
          0.14235081613778236,
          0.11248404243212987,
          0.10820937984287615,
          0.11342546134699459,
          0.16414414675376,
          0.15570034325581972,
          0.14544198066263478,
          0.1408342006111981,
          0.13013306077014278,
          0.13280006952016601,
          0.15790388423237114,
          0.14349707125610114,
          0.12470179779976952,
          0.12218582988663661,
          0.11904707715290092,
          0.14156664521748846,
          0.12135820886257973,
          0.15726040888616694,
          0.1495035308381939,
          0.10988117431147104,
          0.13412633221121717,
          0.13455462609116658,
          0.1314158733574309,
          0.12414108455597098,
          0.15567137651997773,
          0.13259109521159168,
          0.11145986141485952,
          0.13776372661194713,
          0.12557907608526983,
          0.14490609604955798,
          0.11108536290147379,
          0.14709929176330866,
          0.12580874091944558,
          0.13751957840985035,
          0.13446772588364062,
          0.13914792277468224,
          0.12901163428254567,
          0.1479393271027264,
          0.10070906431236074,
          0.13164967629672697,
          0.14909385843128573,
          0.14396053902957295,
          0.11965124050046243,
          0.1550816965403372,
          0.15058150722202795,
          0.1418583816284685,
          0.13988450548609288,
          0.14690066271753505,
          0.1474655140664538,
          0.1265308402629352,
          0.1470558416595457,
          0.11978779796943181,
          0.1437412194581979,
          0.12507215820803497,
          0.13705197253125823,
          0.12283965049564155,
          0.13024065150327013,
          0.10501476269001661,
          0.1353946614305843,
          0.1373788828357607,
          0.11580487179115813,
          0.12610668448810605,
          0.15323817070925053,
          0.1273150111832291,
          0.1356822597364441,
          0.1641979421203237,
          0.12134786359977903,
          0.13277110278432402,
          0.12868472397804323,
          0.12058231415252642,
          0.11904293904778065,
          0.12873438123948663,
          0.16319858973377502,
          0.13901136530571287,
          0.13971898128128146,
          0.15327748270789326,
          0.12308379869773833,
          0.13710576789782186,
          0.143116365585035,
          0.13965070254679682,
          0.12335691363567708,
          0.14866556455133628,
          0.11970917397214641,
          0.17531909963108794,
          0.135462940165069,
          0.12606737248946337,
          0.17515357542627658,
          0.12383486477706995,
          0.1257073573439986,
          0.14158112858540944,
          0.12814470125984612,
          0.16841053313277318,
          0.15981568879794253,
          0.14396467713469327,
          0.1357795052067708,
          0.13286834825465071,
          0.1298558077270837,
          0.12965097152362964,
          0.12351209257768776,
          0.14016175852915194,
          0.12519423230908336,
          0.11810565823803623,
          0.11439998510282157,
          0.13322422529499517,
          0.1389244650981869,
          0.12148442106874843,
          0.11892500305185252,
          0.14173216942229983,
          0.14335637568201146,
          0.12854402840395354,
          0.11127985384212716,
          0.14417985860094806,
          0.11698009364531887,
          0.128986805651824,
          0.12579425755152457,
          0.119295363460118,
          0.1542085563599572,
          0.13189382449882375,
          0.16290685332279498,
          0.13742647104464395,
          0.10178290259107454,
          0.1395969071802331,
          0.11802703424075082,
          0.1314738068291149,
          0.15937704965519242,
          0.13605675824982985,
          0.14211701319848632,
          0.09725788464204359,
          0.12533078977805273,
          0.13576915994397004,
          0.14167837405573616,
          0.1320490034408344,
          0.13348699497013322,
          0.13664230012435005,
          0.08776507149611122,
          0.10416231303523804,
          0.11687664101731177,
          0.1412935302795497,
          0.1339463246384848,
          0.12783641242838492,
          0.17924823044279795,
          0.12608185585738435,
          0.16459313115931085,
          0.1375050950419294,
          0.14396467713469327,
          0.16961472172277592,
          0.09341151593273925,
          0.12401487234980232,
          0.13419047284058158,
          0.1330980130888265,
          0.1331807751912322,
          0.12764192148773157,
          0.1274039804433152,
          0.13045997107464524,
          0.13192692933978606,
          0.14571095749545326,
          0.15813354906654695,
          0.13144484009327284,
          0.11056809976143825,
          0.14692962945337704,
          0.1298992578308467,
          0.13695886516605182,
          0.1339173579026428,
          0.13205934870363514,
          0.14640822820822114,
          0.13277524088944434,
          0.13520844670017154,
          0.13026548013399183,
          0.15705557268271286,
          0.12735432318187181,
          0.12540527567021784,
          0.11938847082532437,
          0.1150248389759845,
          0.151702933709625,
          0.1402052086329149,
          0.11596005073316877,
          0.15357956438167397,
          0.14598821053851233,
          0.15404303215514586,
          0.12200996041902454,
          0.1378464887143528,
          0.11412687016488278,
          0.16222820408306832,
          0.14314119421575666,
          0.14753379280093853,
          0.13882101247017978,
          0.15963981933033045,
          0.13231798027365288,
          0.12949579258161895,
          0.15895289388036324,
          0.14676824335368588,
          0.11650628060904632,
          0.13356148086229833,
          0.12457972369872111,
          0.15061047395786994,
          0.13754440704057208,
          0.1363257350826483,
          0.10402989367138896,
          0.13878790762921753,
          0.15478375297167674,
          0.1463399494737365,
          0.14163906205709342,
          0.10475199301487856,
          0.1447985053164306,
          0.14333568515641007,
          0.12164580716843951,
          0.10864801898562629,
          0.12404797719076459,
          0.1111391582680375,
          0.11070051912528737,
          0.147860703105441,
          0.13013306077014272,
          0.15085876026508702,
          0.1447157432140249,
          0.14279980054333322,
          0.13343940676124993,
          0.15483754833824045,
          0.14200528436023863,
          0.13207797017667638,
          0.11843670664765896,
          0.15452512140165897,
          0.13289317688537242,
          0.14631512084301476,
          0.11527312528320156,
          0.13830995648782468,
          0.1087990598225167,
          0.16374481960965254,
          0.16773809105072696,
          0.14586613643746393
         ],
         "xaxis": "x",
         "yaxis": "y"
        }
       ],
       "layout": {
        "barmode": "relative",
        "legend": {
         "title": {
          "text": "variable"
         },
         "tracegroupgap": 0
        },
        "margin": {
         "t": 60
        },
        "shapes": [
         {
          "line": {
           "color": "red",
           "width": 2
          },
          "type": "line",
          "x0": 0.3791869864870177,
          "x1": 0.3791869864870177,
          "y0": 0,
          "y1": 1
         }
        ],
        "template": {
         "data": {
          "bar": [
           {
            "error_x": {
             "color": "#2a3f5f"
            },
            "error_y": {
             "color": "#2a3f5f"
            },
            "marker": {
             "line": {
              "color": "#E5ECF6",
              "width": 0.5
             },
             "pattern": {
              "fillmode": "overlay",
              "size": 10,
              "solidity": 0.2
             }
            },
            "type": "bar"
           }
          ],
          "barpolar": [
           {
            "marker": {
             "line": {
              "color": "#E5ECF6",
              "width": 0.5
             },
             "pattern": {
              "fillmode": "overlay",
              "size": 10,
              "solidity": 0.2
             }
            },
            "type": "barpolar"
           }
          ],
          "carpet": [
           {
            "aaxis": {
             "endlinecolor": "#2a3f5f",
             "gridcolor": "white",
             "linecolor": "white",
             "minorgridcolor": "white",
             "startlinecolor": "#2a3f5f"
            },
            "baxis": {
             "endlinecolor": "#2a3f5f",
             "gridcolor": "white",
             "linecolor": "white",
             "minorgridcolor": "white",
             "startlinecolor": "#2a3f5f"
            },
            "type": "carpet"
           }
          ],
          "choropleth": [
           {
            "colorbar": {
             "outlinewidth": 0,
             "ticks": ""
            },
            "type": "choropleth"
           }
          ],
          "contour": [
           {
            "colorbar": {
             "outlinewidth": 0,
             "ticks": ""
            },
            "colorscale": [
             [
              0,
              "#0d0887"
             ],
             [
              0.1111111111111111,
              "#46039f"
             ],
             [
              0.2222222222222222,
              "#7201a8"
             ],
             [
              0.3333333333333333,
              "#9c179e"
             ],
             [
              0.4444444444444444,
              "#bd3786"
             ],
             [
              0.5555555555555556,
              "#d8576b"
             ],
             [
              0.6666666666666666,
              "#ed7953"
             ],
             [
              0.7777777777777778,
              "#fb9f3a"
             ],
             [
              0.8888888888888888,
              "#fdca26"
             ],
             [
              1,
              "#f0f921"
             ]
            ],
            "type": "contour"
           }
          ],
          "contourcarpet": [
           {
            "colorbar": {
             "outlinewidth": 0,
             "ticks": ""
            },
            "type": "contourcarpet"
           }
          ],
          "heatmap": [
           {
            "colorbar": {
             "outlinewidth": 0,
             "ticks": ""
            },
            "colorscale": [
             [
              0,
              "#0d0887"
             ],
             [
              0.1111111111111111,
              "#46039f"
             ],
             [
              0.2222222222222222,
              "#7201a8"
             ],
             [
              0.3333333333333333,
              "#9c179e"
             ],
             [
              0.4444444444444444,
              "#bd3786"
             ],
             [
              0.5555555555555556,
              "#d8576b"
             ],
             [
              0.6666666666666666,
              "#ed7953"
             ],
             [
              0.7777777777777778,
              "#fb9f3a"
             ],
             [
              0.8888888888888888,
              "#fdca26"
             ],
             [
              1,
              "#f0f921"
             ]
            ],
            "type": "heatmap"
           }
          ],
          "heatmapgl": [
           {
            "colorbar": {
             "outlinewidth": 0,
             "ticks": ""
            },
            "colorscale": [
             [
              0,
              "#0d0887"
             ],
             [
              0.1111111111111111,
              "#46039f"
             ],
             [
              0.2222222222222222,
              "#7201a8"
             ],
             [
              0.3333333333333333,
              "#9c179e"
             ],
             [
              0.4444444444444444,
              "#bd3786"
             ],
             [
              0.5555555555555556,
              "#d8576b"
             ],
             [
              0.6666666666666666,
              "#ed7953"
             ],
             [
              0.7777777777777778,
              "#fb9f3a"
             ],
             [
              0.8888888888888888,
              "#fdca26"
             ],
             [
              1,
              "#f0f921"
             ]
            ],
            "type": "heatmapgl"
           }
          ],
          "histogram": [
           {
            "marker": {
             "pattern": {
              "fillmode": "overlay",
              "size": 10,
              "solidity": 0.2
             }
            },
            "type": "histogram"
           }
          ],
          "histogram2d": [
           {
            "colorbar": {
             "outlinewidth": 0,
             "ticks": ""
            },
            "colorscale": [
             [
              0,
              "#0d0887"
             ],
             [
              0.1111111111111111,
              "#46039f"
             ],
             [
              0.2222222222222222,
              "#7201a8"
             ],
             [
              0.3333333333333333,
              "#9c179e"
             ],
             [
              0.4444444444444444,
              "#bd3786"
             ],
             [
              0.5555555555555556,
              "#d8576b"
             ],
             [
              0.6666666666666666,
              "#ed7953"
             ],
             [
              0.7777777777777778,
              "#fb9f3a"
             ],
             [
              0.8888888888888888,
              "#fdca26"
             ],
             [
              1,
              "#f0f921"
             ]
            ],
            "type": "histogram2d"
           }
          ],
          "histogram2dcontour": [
           {
            "colorbar": {
             "outlinewidth": 0,
             "ticks": ""
            },
            "colorscale": [
             [
              0,
              "#0d0887"
             ],
             [
              0.1111111111111111,
              "#46039f"
             ],
             [
              0.2222222222222222,
              "#7201a8"
             ],
             [
              0.3333333333333333,
              "#9c179e"
             ],
             [
              0.4444444444444444,
              "#bd3786"
             ],
             [
              0.5555555555555556,
              "#d8576b"
             ],
             [
              0.6666666666666666,
              "#ed7953"
             ],
             [
              0.7777777777777778,
              "#fb9f3a"
             ],
             [
              0.8888888888888888,
              "#fdca26"
             ],
             [
              1,
              "#f0f921"
             ]
            ],
            "type": "histogram2dcontour"
           }
          ],
          "mesh3d": [
           {
            "colorbar": {
             "outlinewidth": 0,
             "ticks": ""
            },
            "type": "mesh3d"
           }
          ],
          "parcoords": [
           {
            "line": {
             "colorbar": {
              "outlinewidth": 0,
              "ticks": ""
             }
            },
            "type": "parcoords"
           }
          ],
          "pie": [
           {
            "automargin": true,
            "type": "pie"
           }
          ],
          "scatter": [
           {
            "fillpattern": {
             "fillmode": "overlay",
             "size": 10,
             "solidity": 0.2
            },
            "type": "scatter"
           }
          ],
          "scatter3d": [
           {
            "line": {
             "colorbar": {
              "outlinewidth": 0,
              "ticks": ""
             }
            },
            "marker": {
             "colorbar": {
              "outlinewidth": 0,
              "ticks": ""
             }
            },
            "type": "scatter3d"
           }
          ],
          "scattercarpet": [
           {
            "marker": {
             "colorbar": {
              "outlinewidth": 0,
              "ticks": ""
             }
            },
            "type": "scattercarpet"
           }
          ],
          "scattergeo": [
           {
            "marker": {
             "colorbar": {
              "outlinewidth": 0,
              "ticks": ""
             }
            },
            "type": "scattergeo"
           }
          ],
          "scattergl": [
           {
            "marker": {
             "colorbar": {
              "outlinewidth": 0,
              "ticks": ""
             }
            },
            "type": "scattergl"
           }
          ],
          "scattermapbox": [
           {
            "marker": {
             "colorbar": {
              "outlinewidth": 0,
              "ticks": ""
             }
            },
            "type": "scattermapbox"
           }
          ],
          "scatterpolar": [
           {
            "marker": {
             "colorbar": {
              "outlinewidth": 0,
              "ticks": ""
             }
            },
            "type": "scatterpolar"
           }
          ],
          "scatterpolargl": [
           {
            "marker": {
             "colorbar": {
              "outlinewidth": 0,
              "ticks": ""
             }
            },
            "type": "scatterpolargl"
           }
          ],
          "scatterternary": [
           {
            "marker": {
             "colorbar": {
              "outlinewidth": 0,
              "ticks": ""
             }
            },
            "type": "scatterternary"
           }
          ],
          "surface": [
           {
            "colorbar": {
             "outlinewidth": 0,
             "ticks": ""
            },
            "colorscale": [
             [
              0,
              "#0d0887"
             ],
             [
              0.1111111111111111,
              "#46039f"
             ],
             [
              0.2222222222222222,
              "#7201a8"
             ],
             [
              0.3333333333333333,
              "#9c179e"
             ],
             [
              0.4444444444444444,
              "#bd3786"
             ],
             [
              0.5555555555555556,
              "#d8576b"
             ],
             [
              0.6666666666666666,
              "#ed7953"
             ],
             [
              0.7777777777777778,
              "#fb9f3a"
             ],
             [
              0.8888888888888888,
              "#fdca26"
             ],
             [
              1,
              "#f0f921"
             ]
            ],
            "type": "surface"
           }
          ],
          "table": [
           {
            "cells": {
             "fill": {
              "color": "#EBF0F8"
             },
             "line": {
              "color": "white"
             }
            },
            "header": {
             "fill": {
              "color": "#C8D4E3"
             },
             "line": {
              "color": "white"
             }
            },
            "type": "table"
           }
          ]
         },
         "layout": {
          "annotationdefaults": {
           "arrowcolor": "#2a3f5f",
           "arrowhead": 0,
           "arrowwidth": 1
          },
          "autotypenumbers": "strict",
          "coloraxis": {
           "colorbar": {
            "outlinewidth": 0,
            "ticks": ""
           }
          },
          "colorscale": {
           "diverging": [
            [
             0,
             "#8e0152"
            ],
            [
             0.1,
             "#c51b7d"
            ],
            [
             0.2,
             "#de77ae"
            ],
            [
             0.3,
             "#f1b6da"
            ],
            [
             0.4,
             "#fde0ef"
            ],
            [
             0.5,
             "#f7f7f7"
            ],
            [
             0.6,
             "#e6f5d0"
            ],
            [
             0.7,
             "#b8e186"
            ],
            [
             0.8,
             "#7fbc41"
            ],
            [
             0.9,
             "#4d9221"
            ],
            [
             1,
             "#276419"
            ]
           ],
           "sequential": [
            [
             0,
             "#0d0887"
            ],
            [
             0.1111111111111111,
             "#46039f"
            ],
            [
             0.2222222222222222,
             "#7201a8"
            ],
            [
             0.3333333333333333,
             "#9c179e"
            ],
            [
             0.4444444444444444,
             "#bd3786"
            ],
            [
             0.5555555555555556,
             "#d8576b"
            ],
            [
             0.6666666666666666,
             "#ed7953"
            ],
            [
             0.7777777777777778,
             "#fb9f3a"
            ],
            [
             0.8888888888888888,
             "#fdca26"
            ],
            [
             1,
             "#f0f921"
            ]
           ],
           "sequentialminus": [
            [
             0,
             "#0d0887"
            ],
            [
             0.1111111111111111,
             "#46039f"
            ],
            [
             0.2222222222222222,
             "#7201a8"
            ],
            [
             0.3333333333333333,
             "#9c179e"
            ],
            [
             0.4444444444444444,
             "#bd3786"
            ],
            [
             0.5555555555555556,
             "#d8576b"
            ],
            [
             0.6666666666666666,
             "#ed7953"
            ],
            [
             0.7777777777777778,
             "#fb9f3a"
            ],
            [
             0.8888888888888888,
             "#fdca26"
            ],
            [
             1,
             "#f0f921"
            ]
           ]
          },
          "colorway": [
           "#636efa",
           "#EF553B",
           "#00cc96",
           "#ab63fa",
           "#FFA15A",
           "#19d3f3",
           "#FF6692",
           "#B6E880",
           "#FF97FF",
           "#FECB52"
          ],
          "font": {
           "color": "#2a3f5f"
          },
          "geo": {
           "bgcolor": "white",
           "lakecolor": "white",
           "landcolor": "#E5ECF6",
           "showlakes": true,
           "showland": true,
           "subunitcolor": "white"
          },
          "hoverlabel": {
           "align": "left"
          },
          "hovermode": "closest",
          "mapbox": {
           "style": "light"
          },
          "paper_bgcolor": "white",
          "plot_bgcolor": "#E5ECF6",
          "polar": {
           "angularaxis": {
            "gridcolor": "white",
            "linecolor": "white",
            "ticks": ""
           },
           "bgcolor": "#E5ECF6",
           "radialaxis": {
            "gridcolor": "white",
            "linecolor": "white",
            "ticks": ""
           }
          },
          "scene": {
           "xaxis": {
            "backgroundcolor": "#E5ECF6",
            "gridcolor": "white",
            "gridwidth": 2,
            "linecolor": "white",
            "showbackground": true,
            "ticks": "",
            "zerolinecolor": "white"
           },
           "yaxis": {
            "backgroundcolor": "#E5ECF6",
            "gridcolor": "white",
            "gridwidth": 2,
            "linecolor": "white",
            "showbackground": true,
            "ticks": "",
            "zerolinecolor": "white"
           },
           "zaxis": {
            "backgroundcolor": "#E5ECF6",
            "gridcolor": "white",
            "gridwidth": 2,
            "linecolor": "white",
            "showbackground": true,
            "ticks": "",
            "zerolinecolor": "white"
           }
          },
          "shapedefaults": {
           "line": {
            "color": "#2a3f5f"
           }
          },
          "ternary": {
           "aaxis": {
            "gridcolor": "white",
            "linecolor": "white",
            "ticks": ""
           },
           "baxis": {
            "gridcolor": "white",
            "linecolor": "white",
            "ticks": ""
           },
           "bgcolor": "#E5ECF6",
           "caxis": {
            "gridcolor": "white",
            "linecolor": "white",
            "ticks": ""
           }
          },
          "title": {
           "x": 0.05
          },
          "xaxis": {
           "automargin": true,
           "gridcolor": "white",
           "linecolor": "white",
           "ticks": "",
           "title": {
            "standoff": 15
           },
           "zerolinecolor": "white",
           "zerolinewidth": 2
          },
          "yaxis": {
           "automargin": true,
           "gridcolor": "white",
           "linecolor": "white",
           "ticks": "",
           "title": {
            "standoff": 15
           },
           "zerolinecolor": "white",
           "zerolinewidth": 2
          }
         }
        },
        "xaxis": {
         "anchor": "y",
         "domain": [
          0,
          1
         ],
         "title": {
          "text": "value"
         }
        },
        "yaxis": {
         "anchor": "x",
         "domain": [
          0,
          1
         ],
         "title": {
          "text": "count"
         }
        }
       }
      }
     },
     "metadata": {},
     "output_type": "display_data"
    }
   ],
   "source": [
    "fig = px.histogram(tvds)\n",
    "if fig.data:\n",
    "    fig.update_layout(\n",
    "        shapes=[\n",
    "            dict(\n",
    "                type='line',\n",
    "                x0=observed_tvd,\n",
    "                x1=observed_tvd,\n",
    "                y0=0,\n",
    "                y1 = 1,\n",
    "                line=dict(color='red', width=2)\n",
    "            )\n",
    "        ]\n",
    "    )\n",
    "fig.show()"
   ]
  },
  {
   "cell_type": "code",
   "execution_count": 111,
   "metadata": {},
   "outputs": [],
   "source": [
    "fig.write_html('assets/plot_mar_2.html', include_plotlyjs='cdn')"
   ]
  },
  {
   "cell_type": "markdown",
   "metadata": {},
   "source": [
    "Note: Red hash is the observed test statistic."
   ]
  },
  {
   "cell_type": "markdown",
   "metadata": {},
   "source": [
    "### MAR Analysis Conclusion\n",
    "\n",
    "Working with a significance level of 5% ($\\alpha$ = 0.05), we can reject the null hypothesis because the p_value above is signifcantly lower than $\\alpha$. As a result, we can conclude that the missingness of ``CUSTOMERS.AFFECTED`` is dependent on ``U.S._STATE``."
   ]
  },
  {
   "cell_type": "markdown",
   "metadata": {},
   "source": [
    "# Hypothesis Testing"
   ]
  },
  {
   "cell_type": "markdown",
   "metadata": {},
   "source": [
    "**Question**: Are power outages worse during the summer compared to the rest of year?\n",
    "\n",
    "To more specifically explore our question, we define the severity of power outages by how many customers are being affected and the summer consitutes of July, August, and September.\n",
    "\n",
    "**Null Hypothesis:** The summer months of July, August, and September have the same average number of customers affected as the rest of the year.\n",
    "\n",
    "**Alternative Hypothesis:** The summer months of July, August, and September have a greater average number of customers affected versus the rest of the year.\n",
    "\n",
    "**Test Statistic:** The mean of ``CUSTOMERS.AFFECTED`` for the whole year subtracted from the mean of ``CUSTOMERS.AFFECTED`` in the summer months.\n",
    "\n",
    "This is a good test statistic as a large test statistic means that there is a significance difference between the severity of outages in the summer vs the rest of the year. Under the null, this test statistic should also be zero. Additionally, since we are only finding if power outages are **worse** during the summer, we only need to compare if the simulated test statistics are larger than the observed.\n",
    "\n",
    "**Significance Level:** 5% ($\\alpha$ = 0.05)"
   ]
  },
  {
   "cell_type": "code",
   "execution_count": 93,
   "metadata": {},
   "outputs": [
    {
     "data": {
      "text/plain": [
       "0.008154995770863809"
      ]
     },
     "execution_count": 93,
     "metadata": {},
     "output_type": "execute_result"
    }
   ],
   "source": [
    "observed_diff = outage_cleaned[(outage_cleaned['MONTH'] == 7) | (outage_cleaned['MONTH'] == 8) | (outage_cleaned['MONTH'] == 9)]['CUSTOMERS.AFFECTED'].mean() - outage_cleaned['CUSTOMERS.AFFECTED'].mean()\n",
    "\n",
    "outage_copy = outage_cleaned.copy()\n",
    "p_vals = []\n",
    "diffs_list = []\n",
    "for __ in range(100):\n",
    "    for _ in range(1000):\n",
    "        outage_copy['MONTH'] = np.random.permutation(outage_copy['MONTH'])\n",
    "        perm_diff = outage_copy[(outage_copy['MONTH'] == 7) | (outage_copy['MONTH'] == 8) | (outage_copy['MONTH'] == 9)]['CUSTOMERS.AFFECTED'].mean() - outage_copy['CUSTOMERS.AFFECTED'].mean()\n",
    "        diffs_list.append(perm_diff)\n",
    "    p_vals.append(np.mean(diffs_list > observed_diff))\n",
    "np.mean(p_vals)"
   ]
  },
  {
   "cell_type": "markdown",
   "metadata": {},
   "source": [
    "### Hypothesis Testing Conclusion\n",
    "\n",
    "Since the p-value above is significantly less than the significance level of 5%, we can reject the null hypothesis and conclude that it is likely power outages are worse during the summer compared to the rest of the year. This makes sense, as customers are more likely to turn on their AC during the hotter summer months, putting a greater strain on the electrical grid."
   ]
  },
  {
   "cell_type": "markdown",
   "metadata": {},
   "source": [
    "i think might have to write more for paragraph above"
   ]
  },
  {
   "cell_type": "code",
   "execution_count": null,
   "metadata": {},
   "outputs": [],
   "source": []
  },
  {
   "cell_type": "code",
   "execution_count": null,
   "metadata": {},
   "outputs": [],
   "source": []
  },
  {
   "cell_type": "code",
   "execution_count": null,
   "metadata": {},
   "outputs": [],
   "source": []
  },
  {
   "cell_type": "code",
   "execution_count": null,
   "metadata": {},
   "outputs": [],
   "source": []
  },
  {
   "cell_type": "code",
   "execution_count": null,
   "metadata": {},
   "outputs": [],
   "source": []
  },
  {
   "cell_type": "code",
   "execution_count": null,
   "metadata": {},
   "outputs": [],
   "source": []
  },
  {
   "cell_type": "code",
   "execution_count": null,
   "metadata": {},
   "outputs": [],
   "source": []
  },
  {
   "cell_type": "markdown",
   "metadata": {},
   "source": [
    "Number of missing values per column"
   ]
  },
  {
   "cell_type": "code",
   "execution_count": null,
   "metadata": {},
   "outputs": [],
   "source": [
    "a = dict(zip(list(pd.DataFrame(outage_df.iloc[5:, 1:]).columns), outage_df.iloc[4].tolist()[1:]))\n",
    "outage_cleaned = pd.DataFrame(outage_df.iloc[6:, 1:]).rename(columns=a).reset_index().drop(['index'], axis='columns')\n",
    "outage_cleaned[outage_cleaned.isna().any(axis=1)]\n",
    "outage_cleaned.T.isna().sum(axis=1).sort_values(ascending=False)\n"
   ]
  },
  {
   "cell_type": "code",
   "execution_count": null,
   "metadata": {},
   "outputs": [],
   "source": []
  },
  {
   "cell_type": "code",
   "execution_count": null,
   "metadata": {},
   "outputs": [],
   "source": [
    "outage_cleaned[outage_cleaned['IND.PRICE'].isna()]"
   ]
  },
  {
   "cell_type": "markdown",
   "metadata": {},
   "source": [
    "Combined start date and time into one column 'start'"
   ]
  },
  {
   "cell_type": "code",
   "execution_count": null,
   "metadata": {},
   "outputs": [],
   "source": [
    "# to delete\n",
    "#  outage_cleaned['OUTAGE.START.TIME'][0] + outage_cleaned['OUTAGE.START.DATE'][0]\n",
    "# outage_cleaned['OUTAGE.START.DATE'][0].date()\n",
    "# outage_cleaned['OUTAGE.START.DATE'].transform(lambda x: x.replace(hour=1, minute=10))\n",
    "# outage_cleaned['OUTAGE.START.TIME'][0].hour\n",
    "\n",
    "test_copy = outage_cleaned.copy()\n",
    "# test_copy['OUTAGE.START.DATE'].dt.date + pd.to_timedelta(test_copy['OUTAGE.START.TIME'].dt.strftime('%H:%M:%S'))\n",
    "test_copy['OUTAGE.START.TIME'][0].hour\n",
    "# new_date = pd.datetime(test_copy['OUTAGE.START.DATE'][0].year, test_copy['OUTAGE.START.DATE'][0].month, test_copy['OUTAGE.START.DATE'][0].day, test_copy['OUTAGE.START.TIME'][0].hour, test_copy['OUTAGE.START.TIME'][0].minute, 0)\n",
    "\n",
    "# test_copy['test_date'] = test_copy.apply(lambda x, y: pd.datetime(x.year, x.month, x.date, y.hour, y.minute, 0), test_copy['OUTAGE.START.DATE'], test_copy['OUTAGE.START.TIME'])\n",
    "# pd.to_datetime(test_copy['OUTAGE.START.TIME'][0])\n",
    "# datetime_object = datetime.combine(datetime.date.today(), time)\n",
    "\n",
    "pd.datetime.combine(pd.datetime.today().date(), test_copy['OUTAGE.START.TIME'][0])\n",
    "test_copy['OUTAGE.START.TIME'] = test_copy['OUTAGE.START.TIME'].apply(lambda x: pd.datetime.combine(pd.datetime.today().date(), x) if type(x) != float else pd.datetime(2023, 1, 1, 0, 0, 0))\n",
    "test_copy['OUTAGE.START.TIME'][0]\n",
    "test_copy['OUTAGE.START.DATE'].dt.date + pd.to_timedelta(test_copy['OUTAGE.START.TIME'])#.dt.strftime('%H:%M:%S'))\n"
   ]
  },
  {
   "cell_type": "markdown",
   "metadata": {},
   "source": [
    "Combined restoration date and time into one column 'restoration start'"
   ]
  },
  {
   "cell_type": "code",
   "execution_count": null,
   "metadata": {},
   "outputs": [],
   "source": [
    "# to delete\n",
    "test_copy = outage_cleaned.copy()\n",
    "# test_copy['OUTAGE.START.DATE'][0].hour = 1\n",
    "# test_copy['test_date'] = test_copy.apply(lambda x: pd.datetime(x.loc['OUTAGE.START.DATE'].year, x.loc['OUTAGE.START.DATE'].month, x.loc['OUTAGE.START.DATE'].date, x.loc['OUTAGE.START.TIME'].hour, x.loc['OUTAGE.START.TIME'].minute, 0))\n",
    "# pd.datetime.combine(test_copy['OUTAGE.START.DATE'][0].date(), test_copy['OUTAGE.START.TIME'][0])\n",
    "# test_copy['test_date'] = test_copy.apply(lambda x: True if x['U.S._STATE']=='Minnesota' else False)\n",
    "# test_copy\n",
    "# test_copy['OUTAGE.START.DATE'][0] = pd.to_datetime(str(test_copy['OUTAGE.START.DATE'][0]).split(' ')[0] + ' ' + str(test_copy['OUTAGE.START.TIME'][0]))\n",
    "\n",
    "test_copy['OUTAGE.START'] = (test_copy['OUTAGE.START.DATE'].transform(lambda x: str(x).split(' ')[0]) + ' ' +  test_copy['OUTAGE.START.TIME'].apply(str)).apply(lambda x: np.NAN if 'nan' in x else pd.to_datetime(x).to_pydatetime())\n",
    "test_copy['OUTAGE.RESTORATION'] = (test_copy['OUTAGE.RESTORATION.DATE'].transform(lambda x: str(x).split(' ')[0]) + ' ' +  test_copy['OUTAGE.RESTORATION.TIME'].apply(str)).apply(lambda x: np.NAN if 'nan' in x else pd.to_datetime(x).to_pydatetime())\n",
    "test_copy = test_copy.drop(['OUTAGE.START.DATE', 'OUTAGE.START.TIME', 'OUTAGE.RESTORATION.DATE', 'OUTAGE.RESTORATION.TIME'], axis='columns')"
   ]
  },
  {
   "cell_type": "code",
   "execution_count": null,
   "metadata": {},
   "outputs": [],
   "source": [
    "# type(test_copy.iloc[-1]['OUTAGE.START.DATE'])\n",
    "test_copy.tail(5)"
   ]
  },
  {
   "cell_type": "code",
   "execution_count": null,
   "metadata": {},
   "outputs": [],
   "source": [
    "outage_cleaned"
   ]
  },
  {
   "cell_type": "code",
   "execution_count": null,
   "metadata": {},
   "outputs": [],
   "source": [
    "pd.set_option('max_column', None)\n",
    "# outage_cleaned[outage_cleaned['IND.PRICE'].isna()]\n",
    "# outage_cleaned[outage_cleaned['OUTAGE.DURATION'].isna()]"
   ]
  },
  {
   "cell_type": "markdown",
   "metadata": {},
   "source": [
    " MAR: state vs customers missing\n",
    "\n",
    " NMAR: demand loss, cause category detail\n",
    " \n",
    " just do cause category, missing because cannot properly fit into "
   ]
  },
  {
   "cell_type": "code",
   "execution_count": null,
   "metadata": {},
   "outputs": [],
   "source": [
    "#MAR test\n",
    "#take states\n",
    "#make columns missing=True and missing=False for customers_affected missing or not\n",
    "#groupby, take counts of true/false columns fuck pivot table\n",
    "mar_test = outage_cleaned.copy()\n",
    "mar_test['missingTrue'] = mar_test['CUSTOMERS.AFFECTED'].isna()\n",
    "mar_test['missingFalse'] = mar_test['CUSTOMERS.AFFECTED'].notna()\n",
    "observed_tvd = (mar_test.groupby('U.S._STATE')['missingTrue', 'missingFalse'].sum() / mar_test.groupby('U.S._STATE')['missingTrue', 'missingFalse'].sum().sum()).T.diff().iloc[-1].abs().sum()/2\n",
    "\n",
    "tvds = []\n",
    "for _ in range(100):\n",
    "    mar_test['U.S._STATE'] = np.random.permutation(mar_test['U.S._STATE'])\n",
    "    perm_tvd = (mar_test.groupby('U.S._STATE')['missingTrue', 'missingFalse'].sum() / mar_test.groupby('U.S._STATE')['missingTrue', 'missingFalse'].sum().sum()).T.diff().iloc[-1].abs().sum()/2\n",
    "    tvds.append(perm_tvd)\n",
    "np.mean(tvds > observed_tvd)\n",
    "# tvds"
   ]
  },
  {
   "cell_type": "markdown",
   "metadata": {},
   "source": [
    "Find observed statistic, which is mean of customers affected of 7,8,9 minus mean of all months\n",
    "\n",
    "Then shuffle 'month' column 1000 times, find the difference, find percentage of those that had higher difference than observed"
   ]
  },
  {
   "cell_type": "code",
   "execution_count": null,
   "metadata": {},
   "outputs": [],
   "source": [
    "#question: does month have an effect on the severity of power outages?\n",
    "#null hypothesis: The summer months (7, 8, 9) have the same average number of customers affected as the rest of the year.\n",
    "#alternate hypothesis: the summer months have greater power outages than rest of the year\n",
    "#note: use mean to do permutation test\n",
    "#accounting for outliers of both sets, but outliers are often urban centers which are important\n",
    "\n",
    "#find observed statistic, which is mean of customers affected of 7,8,9 minus mean of all months\n",
    "# shuffle month column 1000 times, find diff, find percentage of those that had higher diff than observed\n",
    "outage_cleaned[(outage_cleaned['MONTH'] == 7) | (outage_cleaned['MONTH'] == 8) | (outage_cleaned['MONTH'] == 9)]['CUSTOMERS.AFFECTED'].median()"
   ]
  },
  {
   "cell_type": "code",
   "execution_count": null,
   "metadata": {},
   "outputs": [],
   "source": [
    "observed_diff = outage_cleaned[(outage_cleaned['MONTH'] == 7) | (outage_cleaned['MONTH'] == 8) | (outage_cleaned['MONTH'] == 9)]['CUSTOMERS.AFFECTED'].median() - outage_cleaned['CUSTOMERS.AFFECTED'].median()\n",
    "\n",
    "outage_copy = outage_cleaned.copy()\n",
    "p_vals = []\n",
    "diffs_list = []\n",
    "for __ in range(100):\n",
    "    for _ in range(1000):\n",
    "        outage_copy['MONTH'] = np.random.permutation(outage_copy['MONTH'])\n",
    "        perm_diff = outage_copy[(outage_copy['MONTH'] == 7) | (outage_copy['MONTH'] == 8) | (outage_copy['MONTH'] == 9)]['CUSTOMERS.AFFECTED'].median() - outage_copy['CUSTOMERS.AFFECTED'].median()\n",
    "        diffs_list.append(perm_diff)\n",
    "    p_vals.append(np.mean(diffs_list > observed_diff))\n",
    "np.mean(p_vals)"
   ]
  },
  {
   "cell_type": "code",
   "execution_count": null,
   "metadata": {},
   "outputs": [],
   "source": []
  },
  {
   "cell_type": "code",
   "execution_count": null,
   "metadata": {},
   "outputs": [],
   "source": [
    "#question: does month have an effect on the severity of power outages?\n",
    "#null hypothesis: The summer months (7, 8, 9) have the same average number of customers affected as the rest of the year.\n",
    "#alternate hypothesis: the summer months have greater power outages than rest of the year\n",
    "#note: use mean to do permutation test\n",
    "#accounting for outliers of both sets, but outliers are often urban centers which are important\n",
    "\n",
    "#find observed statistic, which is mean of customers affected of 7,8,9 minus mean of all months\n",
    "# shuffle month column 1000 times, find diff, find percentage of those that had higher diff than observed\n",
    "\n",
    "observed_diff = outage_cleaned[(outage_cleaned['MONTH'] == 7) | (outage_cleaned['MONTH'] == 8) | (outage_cleaned['MONTH'] == 9)]['CUSTOMERS.AFFECTED'].mean() - outage_cleaned['CUSTOMERS.AFFECTED'].mean()\n",
    "\n",
    "outage_copy = outage_cleaned.copy()\n",
    "p_vals = []\n",
    "diffs_list = []\n",
    "for __ in range(100):\n",
    "    for _ in range(1000):\n",
    "        outage_copy['MONTH'] = np.random.permutation(outage_copy['MONTH'])\n",
    "        perm_diff = outage_copy[(outage_copy['MONTH'] == 7) | (outage_copy['MONTH'] == 8) | (outage_copy['MONTH'] == 9)]['CUSTOMERS.AFFECTED'].mean() - outage_copy['CUSTOMERS.AFFECTED'].mean()\n",
    "        diffs_list.append(perm_diff)\n",
    "    p_vals.append(np.mean(diffs_list > observed_diff))\n",
    "np.mean(p_vals)"
   ]
  },
  {
   "cell_type": "code",
   "execution_count": null,
   "metadata": {},
   "outputs": [],
   "source": []
  },
  {
   "cell_type": "markdown",
   "metadata": {},
   "source": [
    "### Cleaning and EDA"
   ]
  },
  {
   "cell_type": "code",
   "execution_count": null,
   "metadata": {
    "ExecuteTime": {
     "end_time": "2019-10-31T23:36:28.657068Z",
     "start_time": "2019-10-31T23:36:28.654650Z"
    }
   },
   "outputs": [],
   "source": []
  },
  {
   "cell_type": "code",
   "execution_count": null,
   "metadata": {},
   "outputs": [],
   "source": []
  },
  {
   "cell_type": "markdown",
   "metadata": {},
   "source": [
    "### Assessment of Missingness"
   ]
  },
  {
   "cell_type": "code",
   "execution_count": null,
   "metadata": {
    "ExecuteTime": {
     "end_time": "2019-10-31T23:36:28.662099Z",
     "start_time": "2019-10-31T23:36:28.660016Z"
    }
   },
   "outputs": [],
   "source": [
    "# TODO"
   ]
  },
  {
   "cell_type": "code",
   "execution_count": null,
   "metadata": {},
   "outputs": [
    {
     "data": {
      "application/vnd.plotly.v1+json": {
       "config": {
        "plotlyServerURL": "https://plot.ly"
       },
       "data": [
        {
         "alignmentgroup": "True",
         "hovertemplate": "variable=OBS<br>U.S._STATE=%{x}<br>value=%{y}<extra></extra>",
         "legendgroup": "OBS",
         "marker": {
          "color": "#636efa",
          "pattern": {
           "shape": ""
          }
         },
         "name": "OBS",
         "offsetgroup": "OBS",
         "orientation": "v",
         "showlegend": true,
         "textposition": "auto",
         "type": "bar",
         "x": [
          "Alabama",
          "Arizona",
          "Arkansas",
          "California",
          "Colorado",
          "Connecticut",
          "Delaware",
          "District of Columbia",
          "Florida",
          "Georgia",
          "Idaho",
          "Illinois",
          "Indiana",
          "Iowa",
          "Kansas",
          "Kentucky",
          "Louisiana",
          "Maine",
          "Maryland",
          "Massachusetts",
          "Michigan",
          "Minnesota",
          "Mississippi",
          "Missouri",
          "Montana",
          "Nebraska",
          "Nevada",
          "New Hampshire",
          "New Jersey",
          "New Mexico",
          "New York",
          "North Carolina",
          "North Dakota",
          "Ohio",
          "Oklahoma",
          "Oregon",
          "Pennsylvania",
          "South Dakota",
          "Tennessee",
          "Texas",
          "Utah",
          "Vermont",
          "Virginia",
          "Washington",
          "West Virginia",
          "Wisconsin",
          "Wyoming"
         ],
         "xaxis": "x",
         "y": [
          1,
          19,
          12,
          83,
          4,
          5,
          17,
          1,
          1,
          1,
          3,
          2,
          9,
          4,
          2,
          3,
          20,
          2,
          13,
          3,
          5,
          1,
          2,
          4,
          3,
          1,
          2,
          3,
          4,
          5,
          26,
          4,
          1,
          7,
          5,
          14,
          6,
          2,
          17,
          33,
          19,
          4,
          3,
          53,
          1,
          10,
          3
         ],
         "yaxis": "y"
        }
       ],
       "layout": {
        "barmode": "relative",
        "legend": {
         "title": {
          "text": "variable"
         },
         "tracegroupgap": 0
        },
        "margin": {
         "t": 60
        },
        "template": {
         "data": {
          "bar": [
           {
            "error_x": {
             "color": "#2a3f5f"
            },
            "error_y": {
             "color": "#2a3f5f"
            },
            "marker": {
             "line": {
              "color": "#E5ECF6",
              "width": 0.5
             },
             "pattern": {
              "fillmode": "overlay",
              "size": 10,
              "solidity": 0.2
             }
            },
            "type": "bar"
           }
          ],
          "barpolar": [
           {
            "marker": {
             "line": {
              "color": "#E5ECF6",
              "width": 0.5
             },
             "pattern": {
              "fillmode": "overlay",
              "size": 10,
              "solidity": 0.2
             }
            },
            "type": "barpolar"
           }
          ],
          "carpet": [
           {
            "aaxis": {
             "endlinecolor": "#2a3f5f",
             "gridcolor": "white",
             "linecolor": "white",
             "minorgridcolor": "white",
             "startlinecolor": "#2a3f5f"
            },
            "baxis": {
             "endlinecolor": "#2a3f5f",
             "gridcolor": "white",
             "linecolor": "white",
             "minorgridcolor": "white",
             "startlinecolor": "#2a3f5f"
            },
            "type": "carpet"
           }
          ],
          "choropleth": [
           {
            "colorbar": {
             "outlinewidth": 0,
             "ticks": ""
            },
            "type": "choropleth"
           }
          ],
          "contour": [
           {
            "colorbar": {
             "outlinewidth": 0,
             "ticks": ""
            },
            "colorscale": [
             [
              0,
              "#0d0887"
             ],
             [
              0.1111111111111111,
              "#46039f"
             ],
             [
              0.2222222222222222,
              "#7201a8"
             ],
             [
              0.3333333333333333,
              "#9c179e"
             ],
             [
              0.4444444444444444,
              "#bd3786"
             ],
             [
              0.5555555555555556,
              "#d8576b"
             ],
             [
              0.6666666666666666,
              "#ed7953"
             ],
             [
              0.7777777777777778,
              "#fb9f3a"
             ],
             [
              0.8888888888888888,
              "#fdca26"
             ],
             [
              1,
              "#f0f921"
             ]
            ],
            "type": "contour"
           }
          ],
          "contourcarpet": [
           {
            "colorbar": {
             "outlinewidth": 0,
             "ticks": ""
            },
            "type": "contourcarpet"
           }
          ],
          "heatmap": [
           {
            "colorbar": {
             "outlinewidth": 0,
             "ticks": ""
            },
            "colorscale": [
             [
              0,
              "#0d0887"
             ],
             [
              0.1111111111111111,
              "#46039f"
             ],
             [
              0.2222222222222222,
              "#7201a8"
             ],
             [
              0.3333333333333333,
              "#9c179e"
             ],
             [
              0.4444444444444444,
              "#bd3786"
             ],
             [
              0.5555555555555556,
              "#d8576b"
             ],
             [
              0.6666666666666666,
              "#ed7953"
             ],
             [
              0.7777777777777778,
              "#fb9f3a"
             ],
             [
              0.8888888888888888,
              "#fdca26"
             ],
             [
              1,
              "#f0f921"
             ]
            ],
            "type": "heatmap"
           }
          ],
          "heatmapgl": [
           {
            "colorbar": {
             "outlinewidth": 0,
             "ticks": ""
            },
            "colorscale": [
             [
              0,
              "#0d0887"
             ],
             [
              0.1111111111111111,
              "#46039f"
             ],
             [
              0.2222222222222222,
              "#7201a8"
             ],
             [
              0.3333333333333333,
              "#9c179e"
             ],
             [
              0.4444444444444444,
              "#bd3786"
             ],
             [
              0.5555555555555556,
              "#d8576b"
             ],
             [
              0.6666666666666666,
              "#ed7953"
             ],
             [
              0.7777777777777778,
              "#fb9f3a"
             ],
             [
              0.8888888888888888,
              "#fdca26"
             ],
             [
              1,
              "#f0f921"
             ]
            ],
            "type": "heatmapgl"
           }
          ],
          "histogram": [
           {
            "marker": {
             "pattern": {
              "fillmode": "overlay",
              "size": 10,
              "solidity": 0.2
             }
            },
            "type": "histogram"
           }
          ],
          "histogram2d": [
           {
            "colorbar": {
             "outlinewidth": 0,
             "ticks": ""
            },
            "colorscale": [
             [
              0,
              "#0d0887"
             ],
             [
              0.1111111111111111,
              "#46039f"
             ],
             [
              0.2222222222222222,
              "#7201a8"
             ],
             [
              0.3333333333333333,
              "#9c179e"
             ],
             [
              0.4444444444444444,
              "#bd3786"
             ],
             [
              0.5555555555555556,
              "#d8576b"
             ],
             [
              0.6666666666666666,
              "#ed7953"
             ],
             [
              0.7777777777777778,
              "#fb9f3a"
             ],
             [
              0.8888888888888888,
              "#fdca26"
             ],
             [
              1,
              "#f0f921"
             ]
            ],
            "type": "histogram2d"
           }
          ],
          "histogram2dcontour": [
           {
            "colorbar": {
             "outlinewidth": 0,
             "ticks": ""
            },
            "colorscale": [
             [
              0,
              "#0d0887"
             ],
             [
              0.1111111111111111,
              "#46039f"
             ],
             [
              0.2222222222222222,
              "#7201a8"
             ],
             [
              0.3333333333333333,
              "#9c179e"
             ],
             [
              0.4444444444444444,
              "#bd3786"
             ],
             [
              0.5555555555555556,
              "#d8576b"
             ],
             [
              0.6666666666666666,
              "#ed7953"
             ],
             [
              0.7777777777777778,
              "#fb9f3a"
             ],
             [
              0.8888888888888888,
              "#fdca26"
             ],
             [
              1,
              "#f0f921"
             ]
            ],
            "type": "histogram2dcontour"
           }
          ],
          "mesh3d": [
           {
            "colorbar": {
             "outlinewidth": 0,
             "ticks": ""
            },
            "type": "mesh3d"
           }
          ],
          "parcoords": [
           {
            "line": {
             "colorbar": {
              "outlinewidth": 0,
              "ticks": ""
             }
            },
            "type": "parcoords"
           }
          ],
          "pie": [
           {
            "automargin": true,
            "type": "pie"
           }
          ],
          "scatter": [
           {
            "fillpattern": {
             "fillmode": "overlay",
             "size": 10,
             "solidity": 0.2
            },
            "type": "scatter"
           }
          ],
          "scatter3d": [
           {
            "line": {
             "colorbar": {
              "outlinewidth": 0,
              "ticks": ""
             }
            },
            "marker": {
             "colorbar": {
              "outlinewidth": 0,
              "ticks": ""
             }
            },
            "type": "scatter3d"
           }
          ],
          "scattercarpet": [
           {
            "marker": {
             "colorbar": {
              "outlinewidth": 0,
              "ticks": ""
             }
            },
            "type": "scattercarpet"
           }
          ],
          "scattergeo": [
           {
            "marker": {
             "colorbar": {
              "outlinewidth": 0,
              "ticks": ""
             }
            },
            "type": "scattergeo"
           }
          ],
          "scattergl": [
           {
            "marker": {
             "colorbar": {
              "outlinewidth": 0,
              "ticks": ""
             }
            },
            "type": "scattergl"
           }
          ],
          "scattermapbox": [
           {
            "marker": {
             "colorbar": {
              "outlinewidth": 0,
              "ticks": ""
             }
            },
            "type": "scattermapbox"
           }
          ],
          "scatterpolar": [
           {
            "marker": {
             "colorbar": {
              "outlinewidth": 0,
              "ticks": ""
             }
            },
            "type": "scatterpolar"
           }
          ],
          "scatterpolargl": [
           {
            "marker": {
             "colorbar": {
              "outlinewidth": 0,
              "ticks": ""
             }
            },
            "type": "scatterpolargl"
           }
          ],
          "scatterternary": [
           {
            "marker": {
             "colorbar": {
              "outlinewidth": 0,
              "ticks": ""
             }
            },
            "type": "scatterternary"
           }
          ],
          "surface": [
           {
            "colorbar": {
             "outlinewidth": 0,
             "ticks": ""
            },
            "colorscale": [
             [
              0,
              "#0d0887"
             ],
             [
              0.1111111111111111,
              "#46039f"
             ],
             [
              0.2222222222222222,
              "#7201a8"
             ],
             [
              0.3333333333333333,
              "#9c179e"
             ],
             [
              0.4444444444444444,
              "#bd3786"
             ],
             [
              0.5555555555555556,
              "#d8576b"
             ],
             [
              0.6666666666666666,
              "#ed7953"
             ],
             [
              0.7777777777777778,
              "#fb9f3a"
             ],
             [
              0.8888888888888888,
              "#fdca26"
             ],
             [
              1,
              "#f0f921"
             ]
            ],
            "type": "surface"
           }
          ],
          "table": [
           {
            "cells": {
             "fill": {
              "color": "#EBF0F8"
             },
             "line": {
              "color": "white"
             }
            },
            "header": {
             "fill": {
              "color": "#C8D4E3"
             },
             "line": {
              "color": "white"
             }
            },
            "type": "table"
           }
          ]
         },
         "layout": {
          "annotationdefaults": {
           "arrowcolor": "#2a3f5f",
           "arrowhead": 0,
           "arrowwidth": 1
          },
          "autotypenumbers": "strict",
          "coloraxis": {
           "colorbar": {
            "outlinewidth": 0,
            "ticks": ""
           }
          },
          "colorscale": {
           "diverging": [
            [
             0,
             "#8e0152"
            ],
            [
             0.1,
             "#c51b7d"
            ],
            [
             0.2,
             "#de77ae"
            ],
            [
             0.3,
             "#f1b6da"
            ],
            [
             0.4,
             "#fde0ef"
            ],
            [
             0.5,
             "#f7f7f7"
            ],
            [
             0.6,
             "#e6f5d0"
            ],
            [
             0.7,
             "#b8e186"
            ],
            [
             0.8,
             "#7fbc41"
            ],
            [
             0.9,
             "#4d9221"
            ],
            [
             1,
             "#276419"
            ]
           ],
           "sequential": [
            [
             0,
             "#0d0887"
            ],
            [
             0.1111111111111111,
             "#46039f"
            ],
            [
             0.2222222222222222,
             "#7201a8"
            ],
            [
             0.3333333333333333,
             "#9c179e"
            ],
            [
             0.4444444444444444,
             "#bd3786"
            ],
            [
             0.5555555555555556,
             "#d8576b"
            ],
            [
             0.6666666666666666,
             "#ed7953"
            ],
            [
             0.7777777777777778,
             "#fb9f3a"
            ],
            [
             0.8888888888888888,
             "#fdca26"
            ],
            [
             1,
             "#f0f921"
            ]
           ],
           "sequentialminus": [
            [
             0,
             "#0d0887"
            ],
            [
             0.1111111111111111,
             "#46039f"
            ],
            [
             0.2222222222222222,
             "#7201a8"
            ],
            [
             0.3333333333333333,
             "#9c179e"
            ],
            [
             0.4444444444444444,
             "#bd3786"
            ],
            [
             0.5555555555555556,
             "#d8576b"
            ],
            [
             0.6666666666666666,
             "#ed7953"
            ],
            [
             0.7777777777777778,
             "#fb9f3a"
            ],
            [
             0.8888888888888888,
             "#fdca26"
            ],
            [
             1,
             "#f0f921"
            ]
           ]
          },
          "colorway": [
           "#636efa",
           "#EF553B",
           "#00cc96",
           "#ab63fa",
           "#FFA15A",
           "#19d3f3",
           "#FF6692",
           "#B6E880",
           "#FF97FF",
           "#FECB52"
          ],
          "font": {
           "color": "#2a3f5f"
          },
          "geo": {
           "bgcolor": "white",
           "lakecolor": "white",
           "landcolor": "#E5ECF6",
           "showlakes": true,
           "showland": true,
           "subunitcolor": "white"
          },
          "hoverlabel": {
           "align": "left"
          },
          "hovermode": "closest",
          "mapbox": {
           "style": "light"
          },
          "paper_bgcolor": "white",
          "plot_bgcolor": "#E5ECF6",
          "polar": {
           "angularaxis": {
            "gridcolor": "white",
            "linecolor": "white",
            "ticks": ""
           },
           "bgcolor": "#E5ECF6",
           "radialaxis": {
            "gridcolor": "white",
            "linecolor": "white",
            "ticks": ""
           }
          },
          "scene": {
           "xaxis": {
            "backgroundcolor": "#E5ECF6",
            "gridcolor": "white",
            "gridwidth": 2,
            "linecolor": "white",
            "showbackground": true,
            "ticks": "",
            "zerolinecolor": "white"
           },
           "yaxis": {
            "backgroundcolor": "#E5ECF6",
            "gridcolor": "white",
            "gridwidth": 2,
            "linecolor": "white",
            "showbackground": true,
            "ticks": "",
            "zerolinecolor": "white"
           },
           "zaxis": {
            "backgroundcolor": "#E5ECF6",
            "gridcolor": "white",
            "gridwidth": 2,
            "linecolor": "white",
            "showbackground": true,
            "ticks": "",
            "zerolinecolor": "white"
           }
          },
          "shapedefaults": {
           "line": {
            "color": "#2a3f5f"
           }
          },
          "ternary": {
           "aaxis": {
            "gridcolor": "white",
            "linecolor": "white",
            "ticks": ""
           },
           "baxis": {
            "gridcolor": "white",
            "linecolor": "white",
            "ticks": ""
           },
           "bgcolor": "#E5ECF6",
           "caxis": {
            "gridcolor": "white",
            "linecolor": "white",
            "ticks": ""
           }
          },
          "title": {
           "x": 0.05
          },
          "xaxis": {
           "automargin": true,
           "gridcolor": "white",
           "linecolor": "white",
           "ticks": "",
           "title": {
            "standoff": 15
           },
           "zerolinecolor": "white",
           "zerolinewidth": 2
          },
          "yaxis": {
           "automargin": true,
           "gridcolor": "white",
           "linecolor": "white",
           "ticks": "",
           "title": {
            "standoff": 15
           },
           "zerolinecolor": "white",
           "zerolinewidth": 2
          }
         }
        },
        "xaxis": {
         "anchor": "y",
         "domain": [
          0,
          1
         ],
         "title": {
          "text": "U.S._STATE"
         }
        },
        "yaxis": {
         "anchor": "x",
         "domain": [
          0,
          1
         ],
         "title": {
          "text": "value"
         }
        }
       }
      }
     },
     "metadata": {},
     "output_type": "display_data"
    }
   ],
   "source": [
    "px.bar(outage_cleaned[outage_cleaned['CUSTOMERS.AFFECTED'].isna()].groupby('U.S._STATE')['OBS'].count())"
   ]
  },
  {
   "cell_type": "code",
   "execution_count": null,
   "metadata": {},
   "outputs": [
    {
     "data": {
      "application/vnd.plotly.v1+json": {
       "config": {
        "plotlyServerURL": "https://plot.ly"
       },
       "data": [
        {
         "alignmentgroup": "True",
         "hovertemplate": "variable=OBS<br>U.S._STATE=%{x}<br>value=%{y}<extra></extra>",
         "legendgroup": "OBS",
         "marker": {
          "color": "#636efa",
          "pattern": {
           "shape": ""
          }
         },
         "name": "OBS",
         "offsetgroup": "OBS",
         "orientation": "v",
         "showlegend": true,
         "textposition": "auto",
         "type": "bar",
         "x": [
          "Alabama",
          "Alaska",
          "Arizona",
          "Arkansas",
          "California",
          "Colorado",
          "Connecticut",
          "Delaware",
          "District of Columbia",
          "Florida",
          "Georgia",
          "Hawaii",
          "Idaho",
          "Illinois",
          "Indiana",
          "Iowa",
          "Kansas",
          "Kentucky",
          "Louisiana",
          "Maine",
          "Maryland",
          "Massachusetts",
          "Michigan",
          "Minnesota",
          "Mississippi",
          "Missouri",
          "Nebraska",
          "Nevada",
          "New Hampshire",
          "New Jersey",
          "New Mexico",
          "New York",
          "North Carolina",
          "North Dakota",
          "Ohio",
          "Oklahoma",
          "Oregon",
          "Pennsylvania",
          "South Carolina",
          "Tennessee",
          "Texas",
          "Utah",
          "Vermont",
          "Virginia",
          "Washington",
          "West Virginia",
          "Wisconsin",
          "Wyoming"
         ],
         "xaxis": "x",
         "y": [
          5,
          1,
          9,
          13,
          127,
          11,
          13,
          24,
          9,
          44,
          16,
          5,
          6,
          44,
          34,
          4,
          7,
          10,
          20,
          17,
          45,
          15,
          90,
          14,
          2,
          13,
          3,
          5,
          11,
          31,
          3,
          45,
          36,
          1,
          36,
          19,
          12,
          51,
          8,
          17,
          94,
          22,
          5,
          34,
          44,
          3,
          10,
          3
         ],
         "yaxis": "y"
        }
       ],
       "layout": {
        "barmode": "relative",
        "legend": {
         "title": {
          "text": "variable"
         },
         "tracegroupgap": 0
        },
        "margin": {
         "t": 60
        },
        "template": {
         "data": {
          "bar": [
           {
            "error_x": {
             "color": "#2a3f5f"
            },
            "error_y": {
             "color": "#2a3f5f"
            },
            "marker": {
             "line": {
              "color": "#E5ECF6",
              "width": 0.5
             },
             "pattern": {
              "fillmode": "overlay",
              "size": 10,
              "solidity": 0.2
             }
            },
            "type": "bar"
           }
          ],
          "barpolar": [
           {
            "marker": {
             "line": {
              "color": "#E5ECF6",
              "width": 0.5
             },
             "pattern": {
              "fillmode": "overlay",
              "size": 10,
              "solidity": 0.2
             }
            },
            "type": "barpolar"
           }
          ],
          "carpet": [
           {
            "aaxis": {
             "endlinecolor": "#2a3f5f",
             "gridcolor": "white",
             "linecolor": "white",
             "minorgridcolor": "white",
             "startlinecolor": "#2a3f5f"
            },
            "baxis": {
             "endlinecolor": "#2a3f5f",
             "gridcolor": "white",
             "linecolor": "white",
             "minorgridcolor": "white",
             "startlinecolor": "#2a3f5f"
            },
            "type": "carpet"
           }
          ],
          "choropleth": [
           {
            "colorbar": {
             "outlinewidth": 0,
             "ticks": ""
            },
            "type": "choropleth"
           }
          ],
          "contour": [
           {
            "colorbar": {
             "outlinewidth": 0,
             "ticks": ""
            },
            "colorscale": [
             [
              0,
              "#0d0887"
             ],
             [
              0.1111111111111111,
              "#46039f"
             ],
             [
              0.2222222222222222,
              "#7201a8"
             ],
             [
              0.3333333333333333,
              "#9c179e"
             ],
             [
              0.4444444444444444,
              "#bd3786"
             ],
             [
              0.5555555555555556,
              "#d8576b"
             ],
             [
              0.6666666666666666,
              "#ed7953"
             ],
             [
              0.7777777777777778,
              "#fb9f3a"
             ],
             [
              0.8888888888888888,
              "#fdca26"
             ],
             [
              1,
              "#f0f921"
             ]
            ],
            "type": "contour"
           }
          ],
          "contourcarpet": [
           {
            "colorbar": {
             "outlinewidth": 0,
             "ticks": ""
            },
            "type": "contourcarpet"
           }
          ],
          "heatmap": [
           {
            "colorbar": {
             "outlinewidth": 0,
             "ticks": ""
            },
            "colorscale": [
             [
              0,
              "#0d0887"
             ],
             [
              0.1111111111111111,
              "#46039f"
             ],
             [
              0.2222222222222222,
              "#7201a8"
             ],
             [
              0.3333333333333333,
              "#9c179e"
             ],
             [
              0.4444444444444444,
              "#bd3786"
             ],
             [
              0.5555555555555556,
              "#d8576b"
             ],
             [
              0.6666666666666666,
              "#ed7953"
             ],
             [
              0.7777777777777778,
              "#fb9f3a"
             ],
             [
              0.8888888888888888,
              "#fdca26"
             ],
             [
              1,
              "#f0f921"
             ]
            ],
            "type": "heatmap"
           }
          ],
          "heatmapgl": [
           {
            "colorbar": {
             "outlinewidth": 0,
             "ticks": ""
            },
            "colorscale": [
             [
              0,
              "#0d0887"
             ],
             [
              0.1111111111111111,
              "#46039f"
             ],
             [
              0.2222222222222222,
              "#7201a8"
             ],
             [
              0.3333333333333333,
              "#9c179e"
             ],
             [
              0.4444444444444444,
              "#bd3786"
             ],
             [
              0.5555555555555556,
              "#d8576b"
             ],
             [
              0.6666666666666666,
              "#ed7953"
             ],
             [
              0.7777777777777778,
              "#fb9f3a"
             ],
             [
              0.8888888888888888,
              "#fdca26"
             ],
             [
              1,
              "#f0f921"
             ]
            ],
            "type": "heatmapgl"
           }
          ],
          "histogram": [
           {
            "marker": {
             "pattern": {
              "fillmode": "overlay",
              "size": 10,
              "solidity": 0.2
             }
            },
            "type": "histogram"
           }
          ],
          "histogram2d": [
           {
            "colorbar": {
             "outlinewidth": 0,
             "ticks": ""
            },
            "colorscale": [
             [
              0,
              "#0d0887"
             ],
             [
              0.1111111111111111,
              "#46039f"
             ],
             [
              0.2222222222222222,
              "#7201a8"
             ],
             [
              0.3333333333333333,
              "#9c179e"
             ],
             [
              0.4444444444444444,
              "#bd3786"
             ],
             [
              0.5555555555555556,
              "#d8576b"
             ],
             [
              0.6666666666666666,
              "#ed7953"
             ],
             [
              0.7777777777777778,
              "#fb9f3a"
             ],
             [
              0.8888888888888888,
              "#fdca26"
             ],
             [
              1,
              "#f0f921"
             ]
            ],
            "type": "histogram2d"
           }
          ],
          "histogram2dcontour": [
           {
            "colorbar": {
             "outlinewidth": 0,
             "ticks": ""
            },
            "colorscale": [
             [
              0,
              "#0d0887"
             ],
             [
              0.1111111111111111,
              "#46039f"
             ],
             [
              0.2222222222222222,
              "#7201a8"
             ],
             [
              0.3333333333333333,
              "#9c179e"
             ],
             [
              0.4444444444444444,
              "#bd3786"
             ],
             [
              0.5555555555555556,
              "#d8576b"
             ],
             [
              0.6666666666666666,
              "#ed7953"
             ],
             [
              0.7777777777777778,
              "#fb9f3a"
             ],
             [
              0.8888888888888888,
              "#fdca26"
             ],
             [
              1,
              "#f0f921"
             ]
            ],
            "type": "histogram2dcontour"
           }
          ],
          "mesh3d": [
           {
            "colorbar": {
             "outlinewidth": 0,
             "ticks": ""
            },
            "type": "mesh3d"
           }
          ],
          "parcoords": [
           {
            "line": {
             "colorbar": {
              "outlinewidth": 0,
              "ticks": ""
             }
            },
            "type": "parcoords"
           }
          ],
          "pie": [
           {
            "automargin": true,
            "type": "pie"
           }
          ],
          "scatter": [
           {
            "fillpattern": {
             "fillmode": "overlay",
             "size": 10,
             "solidity": 0.2
            },
            "type": "scatter"
           }
          ],
          "scatter3d": [
           {
            "line": {
             "colorbar": {
              "outlinewidth": 0,
              "ticks": ""
             }
            },
            "marker": {
             "colorbar": {
              "outlinewidth": 0,
              "ticks": ""
             }
            },
            "type": "scatter3d"
           }
          ],
          "scattercarpet": [
           {
            "marker": {
             "colorbar": {
              "outlinewidth": 0,
              "ticks": ""
             }
            },
            "type": "scattercarpet"
           }
          ],
          "scattergeo": [
           {
            "marker": {
             "colorbar": {
              "outlinewidth": 0,
              "ticks": ""
             }
            },
            "type": "scattergeo"
           }
          ],
          "scattergl": [
           {
            "marker": {
             "colorbar": {
              "outlinewidth": 0,
              "ticks": ""
             }
            },
            "type": "scattergl"
           }
          ],
          "scattermapbox": [
           {
            "marker": {
             "colorbar": {
              "outlinewidth": 0,
              "ticks": ""
             }
            },
            "type": "scattermapbox"
           }
          ],
          "scatterpolar": [
           {
            "marker": {
             "colorbar": {
              "outlinewidth": 0,
              "ticks": ""
             }
            },
            "type": "scatterpolar"
           }
          ],
          "scatterpolargl": [
           {
            "marker": {
             "colorbar": {
              "outlinewidth": 0,
              "ticks": ""
             }
            },
            "type": "scatterpolargl"
           }
          ],
          "scatterternary": [
           {
            "marker": {
             "colorbar": {
              "outlinewidth": 0,
              "ticks": ""
             }
            },
            "type": "scatterternary"
           }
          ],
          "surface": [
           {
            "colorbar": {
             "outlinewidth": 0,
             "ticks": ""
            },
            "colorscale": [
             [
              0,
              "#0d0887"
             ],
             [
              0.1111111111111111,
              "#46039f"
             ],
             [
              0.2222222222222222,
              "#7201a8"
             ],
             [
              0.3333333333333333,
              "#9c179e"
             ],
             [
              0.4444444444444444,
              "#bd3786"
             ],
             [
              0.5555555555555556,
              "#d8576b"
             ],
             [
              0.6666666666666666,
              "#ed7953"
             ],
             [
              0.7777777777777778,
              "#fb9f3a"
             ],
             [
              0.8888888888888888,
              "#fdca26"
             ],
             [
              1,
              "#f0f921"
             ]
            ],
            "type": "surface"
           }
          ],
          "table": [
           {
            "cells": {
             "fill": {
              "color": "#EBF0F8"
             },
             "line": {
              "color": "white"
             }
            },
            "header": {
             "fill": {
              "color": "#C8D4E3"
             },
             "line": {
              "color": "white"
             }
            },
            "type": "table"
           }
          ]
         },
         "layout": {
          "annotationdefaults": {
           "arrowcolor": "#2a3f5f",
           "arrowhead": 0,
           "arrowwidth": 1
          },
          "autotypenumbers": "strict",
          "coloraxis": {
           "colorbar": {
            "outlinewidth": 0,
            "ticks": ""
           }
          },
          "colorscale": {
           "diverging": [
            [
             0,
             "#8e0152"
            ],
            [
             0.1,
             "#c51b7d"
            ],
            [
             0.2,
             "#de77ae"
            ],
            [
             0.3,
             "#f1b6da"
            ],
            [
             0.4,
             "#fde0ef"
            ],
            [
             0.5,
             "#f7f7f7"
            ],
            [
             0.6,
             "#e6f5d0"
            ],
            [
             0.7,
             "#b8e186"
            ],
            [
             0.8,
             "#7fbc41"
            ],
            [
             0.9,
             "#4d9221"
            ],
            [
             1,
             "#276419"
            ]
           ],
           "sequential": [
            [
             0,
             "#0d0887"
            ],
            [
             0.1111111111111111,
             "#46039f"
            ],
            [
             0.2222222222222222,
             "#7201a8"
            ],
            [
             0.3333333333333333,
             "#9c179e"
            ],
            [
             0.4444444444444444,
             "#bd3786"
            ],
            [
             0.5555555555555556,
             "#d8576b"
            ],
            [
             0.6666666666666666,
             "#ed7953"
            ],
            [
             0.7777777777777778,
             "#fb9f3a"
            ],
            [
             0.8888888888888888,
             "#fdca26"
            ],
            [
             1,
             "#f0f921"
            ]
           ],
           "sequentialminus": [
            [
             0,
             "#0d0887"
            ],
            [
             0.1111111111111111,
             "#46039f"
            ],
            [
             0.2222222222222222,
             "#7201a8"
            ],
            [
             0.3333333333333333,
             "#9c179e"
            ],
            [
             0.4444444444444444,
             "#bd3786"
            ],
            [
             0.5555555555555556,
             "#d8576b"
            ],
            [
             0.6666666666666666,
             "#ed7953"
            ],
            [
             0.7777777777777778,
             "#fb9f3a"
            ],
            [
             0.8888888888888888,
             "#fdca26"
            ],
            [
             1,
             "#f0f921"
            ]
           ]
          },
          "colorway": [
           "#636efa",
           "#EF553B",
           "#00cc96",
           "#ab63fa",
           "#FFA15A",
           "#19d3f3",
           "#FF6692",
           "#B6E880",
           "#FF97FF",
           "#FECB52"
          ],
          "font": {
           "color": "#2a3f5f"
          },
          "geo": {
           "bgcolor": "white",
           "lakecolor": "white",
           "landcolor": "#E5ECF6",
           "showlakes": true,
           "showland": true,
           "subunitcolor": "white"
          },
          "hoverlabel": {
           "align": "left"
          },
          "hovermode": "closest",
          "mapbox": {
           "style": "light"
          },
          "paper_bgcolor": "white",
          "plot_bgcolor": "#E5ECF6",
          "polar": {
           "angularaxis": {
            "gridcolor": "white",
            "linecolor": "white",
            "ticks": ""
           },
           "bgcolor": "#E5ECF6",
           "radialaxis": {
            "gridcolor": "white",
            "linecolor": "white",
            "ticks": ""
           }
          },
          "scene": {
           "xaxis": {
            "backgroundcolor": "#E5ECF6",
            "gridcolor": "white",
            "gridwidth": 2,
            "linecolor": "white",
            "showbackground": true,
            "ticks": "",
            "zerolinecolor": "white"
           },
           "yaxis": {
            "backgroundcolor": "#E5ECF6",
            "gridcolor": "white",
            "gridwidth": 2,
            "linecolor": "white",
            "showbackground": true,
            "ticks": "",
            "zerolinecolor": "white"
           },
           "zaxis": {
            "backgroundcolor": "#E5ECF6",
            "gridcolor": "white",
            "gridwidth": 2,
            "linecolor": "white",
            "showbackground": true,
            "ticks": "",
            "zerolinecolor": "white"
           }
          },
          "shapedefaults": {
           "line": {
            "color": "#2a3f5f"
           }
          },
          "ternary": {
           "aaxis": {
            "gridcolor": "white",
            "linecolor": "white",
            "ticks": ""
           },
           "baxis": {
            "gridcolor": "white",
            "linecolor": "white",
            "ticks": ""
           },
           "bgcolor": "#E5ECF6",
           "caxis": {
            "gridcolor": "white",
            "linecolor": "white",
            "ticks": ""
           }
          },
          "title": {
           "x": 0.05
          },
          "xaxis": {
           "automargin": true,
           "gridcolor": "white",
           "linecolor": "white",
           "ticks": "",
           "title": {
            "standoff": 15
           },
           "zerolinecolor": "white",
           "zerolinewidth": 2
          },
          "yaxis": {
           "automargin": true,
           "gridcolor": "white",
           "linecolor": "white",
           "ticks": "",
           "title": {
            "standoff": 15
           },
           "zerolinecolor": "white",
           "zerolinewidth": 2
          }
         }
        },
        "xaxis": {
         "anchor": "y",
         "domain": [
          0,
          1
         ],
         "title": {
          "text": "U.S._STATE"
         }
        },
        "yaxis": {
         "anchor": "x",
         "domain": [
          0,
          1
         ],
         "title": {
          "text": "value"
         }
        }
       }
      }
     },
     "metadata": {},
     "output_type": "display_data"
    }
   ],
   "source": [
    "px.bar(outage_cleaned[outage_cleaned['CUSTOMERS.AFFECTED'].notna()].groupby('U.S._STATE')['OBS'].count())"
   ]
  },
  {
   "cell_type": "markdown",
   "metadata": {},
   "source": [
    "### Hypothesis Testing"
   ]
  },
  {
   "cell_type": "code",
   "execution_count": null,
   "metadata": {
    "ExecuteTime": {
     "end_time": "2019-10-31T23:36:28.666489Z",
     "start_time": "2019-10-31T23:36:28.664381Z"
    }
   },
   "outputs": [],
   "source": [
    "# the time of the year has no effect on the severity of power outages (how many customers affected)"
   ]
  }
 ],
 "metadata": {
  "kernelspec": {
   "display_name": "Python 3.8.18 ('dsc80')",
   "language": "python",
   "name": "python3"
  },
  "language_info": {
   "codemirror_mode": {
    "name": "ipython",
    "version": 3
   },
   "file_extension": ".py",
   "mimetype": "text/x-python",
   "name": "python",
   "nbconvert_exporter": "python",
   "pygments_lexer": "ipython3",
   "version": "3.8.18"
  },
  "vscode": {
   "interpreter": {
    "hash": "792802a59b927c6a9c7f9d30a3a30b8d00b51b910961ce625c5caa31a5bd4aff"
   }
  }
 },
 "nbformat": 4,
 "nbformat_minor": 2
}
